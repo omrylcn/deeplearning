{
  "nbformat": 4,
  "nbformat_minor": 0,
  "metadata": {
    "colab": {
      "name": "Image_Classifier_Algorithms_Comparision.pynb",
      "version": "0.3.2",
      "views": {},
      "default_view": {},
      "provenance": [],
      "collapsed_sections": [
        "qOYC4MkRrDrI",
        "s1RXKKwvS0S2",
        "iIRM7tN9S0T7"
      ]
    },
    "kernelspec": {
      "display_name": "Python 3",
      "language": "python",
      "name": "python3"
    },
    "accelerator": "GPU"
  },
  "cells": [
    {
      "metadata": {
        "id": "qOYC4MkRrDrI",
        "colab_type": "text"
      },
      "cell_type": "markdown",
      "source": [
        "#  First Colab Tuning (İf  using)\n"
      ]
    },
    {
      "metadata": {
        "id": "TQEIg9SXZ1l0",
        "colab_type": "code",
        "colab": {
          "autoexec": {
            "startup": false,
            "wait_interval": 0
          }
        }
      },
      "cell_type": "code",
      "source": [
        "# Control for directory\n",
        "!ls"
      ],
      "execution_count": 0,
      "outputs": []
    },
    {
      "metadata": {
        "id": "wfrho6eqrAX1",
        "colab_type": "code",
        "colab": {
          "autoexec": {
            "startup": false,
            "wait_interval": 0
          },
          "base_uri": "https://localhost:8080/",
          "height": 109
        },
        "outputId": "6535ea09-03a6-4b94-b5c2-6a54ae6ede92",
        "executionInfo": {
          "status": "ok",
          "timestamp": 1531649095727,
          "user_tz": -180,
          "elapsed": 16078,
          "user": {
            "displayName": "Ömer Yalçın",
            "photoUrl": "//lh6.googleusercontent.com/-KYS0k8F_jss/AAAAAAAAAAI/AAAAAAAABGM/XoQZ3tR-BuA/s50-c-k-no/photo.jpg",
            "userId": "107209192184149810541"
          }
        }
      },
      "cell_type": "code",
      "source": [
        "!apt-get install -y -qq software-properties-common python-software-properties module-init-tools\n",
        "!add-apt-repository -y ppa:alessandro-strada/ppa 2>&1 > /dev/null\n",
        "!apt-get update -qq 2>&1 > /dev/null\n",
        "!apt-get -y install -qq google-drive-ocamlfuse fuse\n",
        "from google.colab import auth\n",
        "auth.authenticate_user()\n",
        "from oauth2client.client import GoogleCredentials\n",
        "creds = GoogleCredentials.get_application_default()\n",
        "import getpass\n",
        "!google-drive-ocamlfuse -headless -id={creds.client_id} -secret={creds.client_secret} < /dev/null 2>&1 | grep URL\n",
        "vcode = getpass.getpass()\n",
        "!echo {vcode} | google-drive-ocamlfuse -headless -id={creds.client_id} -secret={creds.client_secret}"
      ],
      "execution_count": 2,
      "outputs": [
        {
          "output_type": "stream",
          "text": [
            "Please, open the following URL in a web browser: https://accounts.google.com/o/oauth2/auth?client_id=32555940559.apps.googleusercontent.com&redirect_uri=urn%3Aietf%3Awg%3Aoauth%3A2.0%3Aoob&scope=https%3A%2F%2Fwww.googleapis.com%2Fauth%2Fdrive&response_type=code&access_type=offline&approval_prompt=force\r\n",
            "··········\n",
            "Please, open the following URL in a web browser: https://accounts.google.com/o/oauth2/auth?client_id=32555940559.apps.googleusercontent.com&redirect_uri=urn%3Aietf%3Awg%3Aoauth%3A2.0%3Aoob&scope=https%3A%2F%2Fwww.googleapis.com%2Fauth%2Fdrive&response_type=code&access_type=offline&approval_prompt=force\n",
            "Please enter the verification code: Access token retrieved correctly.\n"
          ],
          "name": "stdout"
        }
      ]
    },
    {
      "metadata": {
        "id": "GjqKVWPFrAHj",
        "colab_type": "code",
        "colab": {
          "autoexec": {
            "startup": false,
            "wait_interval": 0
          }
        }
      },
      "cell_type": "code",
      "source": [
        "!mkdir -p drive\n",
        "!google-drive-ocamlfuse drive"
      ],
      "execution_count": 0,
      "outputs": []
    },
    {
      "metadata": {
        "id": "D-CHgbX9q_4f",
        "colab_type": "code",
        "colab": {
          "autoexec": {
            "startup": false,
            "wait_interval": 0
          }
        }
      },
      "cell_type": "code",
      "source": [
        "import sys\n",
        "sys.path.insert(0, 'drive/app')"
      ],
      "execution_count": 0,
      "outputs": []
    },
    {
      "metadata": {
        "id": "Rtevw_8-q_or",
        "colab_type": "code",
        "colab": {
          "autoexec": {
            "startup": false,
            "wait_interval": 0
          }
        }
      },
      "cell_type": "code",
      "source": [
        "import os\n",
        "os.chdir(\"drive/app\")"
      ],
      "execution_count": 0,
      "outputs": []
    },
    {
      "metadata": {
        "id": "nX-osaSaq486",
        "colab_type": "code",
        "colab": {
          "autoexec": {
            "startup": false,
            "wait_interval": 0
          },
          "base_uri": "https://localhost:8080/",
          "height": 107
        },
        "outputId": "ba11eef1-5f07-4c8e-fede-b755cae69e63",
        "executionInfo": {
          "status": "ok",
          "timestamp": 1531649111478,
          "user_tz": -180,
          "elapsed": 1836,
          "user": {
            "displayName": "Ömer Yalçın",
            "photoUrl": "//lh6.googleusercontent.com/-KYS0k8F_jss/AAAAAAAAAAI/AAAAAAAABGM/XoQZ3tR-BuA/s50-c-k-no/photo.jpg",
            "userId": "107209192184149810541"
          }
        }
      },
      "cell_type": "code",
      "source": [
        "!ls"
      ],
      "execution_count": 6,
      "outputs": [
        {
          "output_type": "stream",
          "text": [
            "128out.csv     5.1-introduction-to-convnets.ipynb\t    images.png\r\n",
            "16out.csv      64out.csv\t\t\t\t    simplenet_relu.h5\r\n",
            "1.png\t       C_Algoritihms_Comparison\t\t\t    Untitled1.ipynb\r\n",
            "32out.csv      deneme.py\r\n",
            "32out.csv.ods  Image_Classifier_Algorithms_Comparing.ipynb\r\n"
          ],
          "name": "stdout"
        }
      ]
    },
    {
      "metadata": {
        "id": "XZ-2FzwpS0Sg",
        "colab_type": "text"
      },
      "cell_type": "markdown",
      "source": [
        "# Contents\n",
        "- Starting\n",
        "- Description Data\n",
        "- Classic Machine Learning applications\n",
        "    \n",
        "    - Logistic Regression\n",
        "    - SVM\n",
        "    \n",
        "- Deep & Neural Network\n",
        "    \n",
        "    - Multilayer Perceptron\n",
        "    - Deep  Neural Networks\n",
        "    - Convolutional Nueral Networks\n",
        "    - Convolutional Nueral Networks with data augmentation\n",
        "- Advanced Models\n",
        "    - SimleNetV1\n",
        "    - Resnet\n",
        "    "
      ]
    },
    {
      "metadata": {
        "id": "f2hX9CQCeakv",
        "colab_type": "text"
      },
      "cell_type": "markdown",
      "source": [
        "## Starting - Main Idea"
      ]
    },
    {
      "metadata": {
        "id": "xow8faabejh2",
        "colab_type": "code",
        "colab": {
          "autoexec": {
            "startup": false,
            "wait_interval": 0
          },
          "base_uri": "https://localhost:8080/",
          "height": 468
        },
        "outputId": "116ab497-4ab3-4405-ad08-ce0487229fc4",
        "executionInfo": {
          "status": "ok",
          "timestamp": 1531668876574,
          "user_tz": -180,
          "elapsed": 1361,
          "user": {
            "displayName": "Ömer Yalçın",
            "photoUrl": "//lh6.googleusercontent.com/-KYS0k8F_jss/AAAAAAAAAAI/AAAAAAAABGM/XoQZ3tR-BuA/s50-c-k-no/photo.jpg",
            "userId": "107209192184149810541"
          }
        }
      },
      "cell_type": "code",
      "source": [
        "from IPython.display import Image\n",
        "Image(\"1.png\")"
      ],
      "execution_count": 122,
      "outputs": [
        {
          "output_type": "execute_result",
          "data": {
            "image/png": "[encoded data removed]",
            "text/plain": [
              "<IPython.core.display.Image object>"
            ]
          },
          "metadata": {
            "tags": []
          },
          "execution_count": 122
        }
      ]
    },
    {
      "metadata": {
        "id": "3mLmqQnhfIWP",
        "colab_type": "text"
      },
      "cell_type": "markdown",
      "source": [
        "**Reference** :\n",
        "-  http://cs229.stanford.edu/materials/CS229-DeepLearning.pdf"
      ]
    },
    {
      "metadata": {
        "id": "yqZkZ7LgdjsK",
        "colab_type": "code",
        "colab": {
          "autoexec": {
            "startup": false,
            "wait_interval": 0
          }
        }
      },
      "cell_type": "code",
      "source": [
        "# Common Libraries\n",
        "import numpy as np\n",
        "import matplotlib.pyplot as plt \n",
        "from sklearn.datasets import fetch_lfw_people\n",
        "from sklearn.model_selection import train_test_split"
      ],
      "execution_count": 0,
      "outputs": []
    },
    {
      "metadata": {
        "id": "bimUr_s-S0Si",
        "colab_type": "text"
      },
      "cell_type": "markdown",
      "source": [
        "## Description Data\n",
        "\n",
        "**Reference**:\n",
        "- http://scikit-learn.org/stable/datasets/labeled_faces.html"
      ]
    },
    {
      "metadata": {
        "id": "wtu7KFVbS0Sj",
        "colab_type": "code",
        "colab": {
          "autoexec": {
            "startup": false,
            "wait_interval": 0
          },
          "base_uri": "https://localhost:8080/",
          "height": 89
        },
        "outputId": "8c50e46e-73df-4f01-c436-bf922ab22446",
        "executionInfo": {
          "status": "ok",
          "timestamp": 1531668881509,
          "user_tz": -180,
          "elapsed": 632,
          "user": {
            "displayName": "Ömer Yalçın",
            "photoUrl": "//lh6.googleusercontent.com/-KYS0k8F_jss/AAAAAAAAAAI/AAAAAAAABGM/XoQZ3tR-BuA/s50-c-k-no/photo.jpg",
            "userId": "107209192184149810541"
          }
        }
      },
      "cell_type": "code",
      "source": [
        "face=fetch_lfw_people(min_faces_per_person=80)\n",
        "print(face.data.shape)\n",
        "print(face.target_names)\n",
        "print(face.images.shape)"
      ],
      "execution_count": 124,
      "outputs": [
        {
          "output_type": "stream",
          "text": [
            "(1140, 2914)\n",
            "['Colin Powell' 'Donald Rumsfeld' 'George W Bush' 'Gerhard Schroeder'\n",
            " 'Tony Blair']\n",
            "(1140, 62, 47)\n"
          ],
          "name": "stdout"
        }
      ]
    },
    {
      "metadata": {
        "id": "dPM8iEYfS0Sq",
        "colab_type": "code",
        "colab": {
          "autoexec": {
            "startup": false,
            "wait_interval": 0
          },
          "base_uri": "https://localhost:8080/",
          "height": 35
        },
        "outputId": "187b26bf-0758-4283-c09f-d228dca346dc",
        "executionInfo": {
          "status": "ok",
          "timestamp": 1531668883562,
          "user_tz": -180,
          "elapsed": 610,
          "user": {
            "displayName": "Ömer Yalçın",
            "photoUrl": "//lh6.googleusercontent.com/-KYS0k8F_jss/AAAAAAAAAAI/AAAAAAAABGM/XoQZ3tR-BuA/s50-c-k-no/photo.jpg",
            "userId": "107209192184149810541"
          }
        }
      },
      "cell_type": "code",
      "source": [
        "x=face.data/255\n",
        "y=face.target\n",
        "x_tr,x_ts,y_tr,y_ts=train_test_split(x,y)\n",
        "x_tr.shape"
      ],
      "execution_count": 125,
      "outputs": [
        {
          "output_type": "execute_result",
          "data": {
            "text/plain": [
              "(855, 2914)"
            ]
          },
          "metadata": {
            "tags": []
          },
          "execution_count": 125
        }
      ]
    },
    {
      "metadata": {
        "id": "YH7q6QFaS0Sw",
        "colab_type": "code",
        "colab": {
          "autoexec": {
            "startup": false,
            "wait_interval": 0
          },
          "base_uri": "https://localhost:8080/",
          "height": 540
        },
        "outputId": "d40a9157-c199-430c-8d03-b4a98c466acf",
        "executionInfo": {
          "status": "ok",
          "timestamp": 1531668886015,
          "user_tz": -180,
          "elapsed": 1608,
          "user": {
            "displayName": "Ömer Yalçın",
            "photoUrl": "//lh6.googleusercontent.com/-KYS0k8F_jss/AAAAAAAAAAI/AAAAAAAABGM/XoQZ3tR-BuA/s50-c-k-no/photo.jpg",
            "userId": "107209192184149810541"
          }
        }
      },
      "cell_type": "code",
      "source": [
        "# Show data images\n",
        "plt.figure(figsize=(9,9))\n",
        "\n",
        "for i in range(9):\n",
        "    plt.subplot(330+i+1)\n",
        "    plt.imshow(face.images[i],cmap=\"viridis\")\n",
        "    plt.axis(\"off\") \n",
        "   \n"
      ],
      "execution_count": 126,
      "outputs": [
        {
          "output_type": "display_data",
          "data": {
            "image/png": "[encoded data removed]",
            "text/plain": [
              "<matplotlib.figure.Figure at 0x7f404d32c8d0>"
            ]
          },
          "metadata": {
            "tags": []
          }
        }
      ]
    },
    {
      "metadata": {
        "id": "s1RXKKwvS0S2",
        "colab_type": "text"
      },
      "cell_type": "markdown",
      "source": [
        "## Classic Machine Learning Applications\n",
        "\n",
        "**Reference**:\n",
        "- http://scikit-learn.org/stable/supervised_learning.html"
      ]
    },
    {
      "metadata": {
        "id": "jFLlwH5DS0S4",
        "colab_type": "text"
      },
      "cell_type": "markdown",
      "source": [
        "### Logistic Regression"
      ]
    },
    {
      "metadata": {
        "id": "l4sLMsW6S0S5",
        "colab_type": "code",
        "colab": {
          "autoexec": {
            "startup": false,
            "wait_interval": 0
          }
        }
      },
      "cell_type": "code",
      "source": [
        "from sklearn.linear_model import LogisticRegression"
      ],
      "execution_count": 0,
      "outputs": []
    },
    {
      "metadata": {
        "id": "Kp3rqAtYS0S9",
        "colab_type": "code",
        "colab": {
          "autoexec": {
            "startup": false,
            "wait_interval": 0
          }
        }
      },
      "cell_type": "code",
      "source": [
        "log_model=LogisticRegression()"
      ],
      "execution_count": 0,
      "outputs": []
    },
    {
      "metadata": {
        "id": "V0WbYYwcS0TC",
        "colab_type": "code",
        "colab": {
          "autoexec": {
            "startup": false,
            "wait_interval": 0
          },
          "base_uri": "https://localhost:8080/",
          "height": 89
        },
        "outputId": "877bddc8-c4ae-4538-9c40-85dd55152a27",
        "executionInfo": {
          "status": "ok",
          "timestamp": 1531668905633,
          "user_tz": -180,
          "elapsed": 4512,
          "user": {
            "displayName": "Ömer Yalçın",
            "photoUrl": "//lh6.googleusercontent.com/-KYS0k8F_jss/AAAAAAAAAAI/AAAAAAAABGM/XoQZ3tR-BuA/s50-c-k-no/photo.jpg",
            "userId": "107209192184149810541"
          }
        }
      },
      "cell_type": "code",
      "source": [
        "log_model.fit(x_tr,y_tr)"
      ],
      "execution_count": 129,
      "outputs": [
        {
          "output_type": "execute_result",
          "data": {
            "text/plain": [
              "LogisticRegression(C=1.0, class_weight=None, dual=False, fit_intercept=True,\n",
              "          intercept_scaling=1, max_iter=100, multi_class='ovr', n_jobs=1,\n",
              "          penalty='l2', random_state=None, solver='liblinear', tol=0.0001,\n",
              "          verbose=0, warm_start=False)"
            ]
          },
          "metadata": {
            "tags": []
          },
          "execution_count": 129
        }
      ]
    },
    {
      "metadata": {
        "id": "lcem-ObaS0TL",
        "colab_type": "code",
        "colab": {
          "autoexec": {
            "startup": false,
            "wait_interval": 0
          },
          "base_uri": "https://localhost:8080/",
          "height": 35
        },
        "outputId": "1cedd3a9-0bf1-4173-b22c-0b1ed0b0f534",
        "executionInfo": {
          "status": "ok",
          "timestamp": 1531668907259,
          "user_tz": -180,
          "elapsed": 815,
          "user": {
            "displayName": "Ömer Yalçın",
            "photoUrl": "//lh6.googleusercontent.com/-KYS0k8F_jss/AAAAAAAAAAI/AAAAAAAABGM/XoQZ3tR-BuA/s50-c-k-no/photo.jpg",
            "userId": "107209192184149810541"
          }
        }
      },
      "cell_type": "code",
      "source": [
        "log_model.score(x_ts,y_ts)"
      ],
      "execution_count": 130,
      "outputs": [
        {
          "output_type": "execute_result",
          "data": {
            "text/plain": [
              "0.8526315789473684"
            ]
          },
          "metadata": {
            "tags": []
          },
          "execution_count": 130
        }
      ]
    },
    {
      "metadata": {
        "id": "666CJX3xS0TV",
        "colab_type": "text"
      },
      "cell_type": "markdown",
      "source": [
        "### SVM (Support Vector Machine)"
      ]
    },
    {
      "metadata": {
        "id": "tA6K95LaS0TW",
        "colab_type": "code",
        "colab": {
          "autoexec": {
            "startup": false,
            "wait_interval": 0
          }
        }
      },
      "cell_type": "code",
      "source": [
        "from sklearn.svm import SVC,LinearSVC"
      ],
      "execution_count": 0,
      "outputs": []
    },
    {
      "metadata": {
        "id": "2cu_j3ewS0Tb",
        "colab_type": "code",
        "colab": {
          "autoexec": {
            "startup": false,
            "wait_interval": 0
          }
        }
      },
      "cell_type": "code",
      "source": [
        "# TRY => [\"poly\",\"linear\",\"sigmoid\"]\n",
        "svm_model=SVC(kernel=\"rbf\")"
      ],
      "execution_count": 0,
      "outputs": []
    },
    {
      "metadata": {
        "id": "aeL2ShzzS0Tg",
        "colab_type": "code",
        "colab": {
          "autoexec": {
            "startup": false,
            "wait_interval": 0
          },
          "base_uri": "https://localhost:8080/",
          "height": 89
        },
        "outputId": "1bcbf454-4b4d-45fb-ec6f-04e938dcbd8c",
        "executionInfo": {
          "status": "ok",
          "timestamp": 1531668914953,
          "user_tz": -180,
          "elapsed": 3399,
          "user": {
            "displayName": "Ömer Yalçın",
            "photoUrl": "//lh6.googleusercontent.com/-KYS0k8F_jss/AAAAAAAAAAI/AAAAAAAABGM/XoQZ3tR-BuA/s50-c-k-no/photo.jpg",
            "userId": "107209192184149810541"
          }
        }
      },
      "cell_type": "code",
      "source": [
        "svm_model.fit(x_tr,y_tr)"
      ],
      "execution_count": 133,
      "outputs": [
        {
          "output_type": "execute_result",
          "data": {
            "text/plain": [
              "SVC(C=1.0, cache_size=200, class_weight=None, coef0=0.0,\n",
              "  decision_function_shape='ovr', degree=3, gamma='auto', kernel='rbf',\n",
              "  max_iter=-1, probability=False, random_state=None, shrinking=True,\n",
              "  tol=0.001, verbose=False)"
            ]
          },
          "metadata": {
            "tags": []
          },
          "execution_count": 133
        }
      ]
    },
    {
      "metadata": {
        "id": "jipxDtkWS0Tm",
        "colab_type": "code",
        "colab": {
          "autoexec": {
            "startup": false,
            "wait_interval": 0
          },
          "base_uri": "https://localhost:8080/",
          "height": 35
        },
        "outputId": "695fb40f-ef71-4ba0-aae9-fc3426cf63dc",
        "executionInfo": {
          "status": "ok",
          "timestamp": 1531668916876,
          "user_tz": -180,
          "elapsed": 1072,
          "user": {
            "displayName": "Ömer Yalçın",
            "photoUrl": "//lh6.googleusercontent.com/-KYS0k8F_jss/AAAAAAAAAAI/AAAAAAAABGM/XoQZ3tR-BuA/s50-c-k-no/photo.jpg",
            "userId": "107209192184149810541"
          }
        }
      },
      "cell_type": "code",
      "source": [
        "svm_model.score(x_ts,y_ts)"
      ],
      "execution_count": 134,
      "outputs": [
        {
          "output_type": "execute_result",
          "data": {
            "text/plain": [
              "0.44912280701754387"
            ]
          },
          "metadata": {
            "tags": []
          },
          "execution_count": 134
        }
      ]
    },
    {
      "metadata": {
        "id": "ePKT6-F_S0Tr",
        "colab_type": "code",
        "colab": {
          "autoexec": {
            "startup": false,
            "wait_interval": 0
          }
        }
      },
      "cell_type": "code",
      "source": [
        "# Linear SVM\n",
        "lsvm_model=LinearSVC()"
      ],
      "execution_count": 0,
      "outputs": []
    },
    {
      "metadata": {
        "id": "GOS1zDF2S0Tw",
        "colab_type": "code",
        "colab": {
          "autoexec": {
            "startup": false,
            "wait_interval": 0
          },
          "base_uri": "https://localhost:8080/",
          "height": 89
        },
        "outputId": "4143eb24-1197-4603-f53f-73ed7b65a152",
        "executionInfo": {
          "status": "ok",
          "timestamp": 1531668928971,
          "user_tz": -180,
          "elapsed": 10735,
          "user": {
            "displayName": "Ömer Yalçın",
            "photoUrl": "//lh6.googleusercontent.com/-KYS0k8F_jss/AAAAAAAAAAI/AAAAAAAABGM/XoQZ3tR-BuA/s50-c-k-no/photo.jpg",
            "userId": "107209192184149810541"
          }
        }
      },
      "cell_type": "code",
      "source": [
        "lsvm_model.fit(x_tr,y_tr)"
      ],
      "execution_count": 136,
      "outputs": [
        {
          "output_type": "execute_result",
          "data": {
            "text/plain": [
              "LinearSVC(C=1.0, class_weight=None, dual=True, fit_intercept=True,\n",
              "     intercept_scaling=1, loss='squared_hinge', max_iter=1000,\n",
              "     multi_class='ovr', penalty='l2', random_state=None, tol=0.0001,\n",
              "     verbose=0)"
            ]
          },
          "metadata": {
            "tags": []
          },
          "execution_count": 136
        }
      ]
    },
    {
      "metadata": {
        "id": "2FroZB9HS0T1",
        "colab_type": "code",
        "colab": {
          "autoexec": {
            "startup": false,
            "wait_interval": 0
          },
          "base_uri": "https://localhost:8080/",
          "height": 35
        },
        "outputId": "822cc90f-cdfa-45f3-b31b-457bd8ff8d57",
        "executionInfo": {
          "status": "ok",
          "timestamp": 1531668929760,
          "user_tz": -180,
          "elapsed": 699,
          "user": {
            "displayName": "Ömer Yalçın",
            "photoUrl": "//lh6.googleusercontent.com/-KYS0k8F_jss/AAAAAAAAAAI/AAAAAAAABGM/XoQZ3tR-BuA/s50-c-k-no/photo.jpg",
            "userId": "107209192184149810541"
          }
        }
      },
      "cell_type": "code",
      "source": [
        "lsvm_model.score(x_ts,y_ts)"
      ],
      "execution_count": 137,
      "outputs": [
        {
          "output_type": "execute_result",
          "data": {
            "text/plain": [
              "0.8421052631578947"
            ]
          },
          "metadata": {
            "tags": []
          },
          "execution_count": 137
        }
      ]
    },
    {
      "metadata": {
        "id": "LBcp4p95S0T7",
        "colab_type": "text"
      },
      "cell_type": "markdown",
      "source": [
        "## Deep & Neural Network"
      ]
    },
    {
      "metadata": {
        "id": "iIRM7tN9S0T7",
        "colab_type": "text"
      },
      "cell_type": "markdown",
      "source": [
        "### Multilayer Perceptron\n"
      ]
    },
    {
      "metadata": {
        "id": "rPcr5FvuS0T9",
        "colab_type": "code",
        "colab": {
          "autoexec": {
            "startup": false,
            "wait_interval": 0
          }
        }
      },
      "cell_type": "code",
      "source": [
        "from sklearn.neural_network import MLPClassifier"
      ],
      "execution_count": 0,
      "outputs": []
    },
    {
      "metadata": {
        "id": "7ORpr0eXS0UA",
        "colab_type": "text"
      },
      "cell_type": "markdown",
      "source": [
        "Multi-layer Perceptron classifier.\n",
        "\n",
        "This model optimizes the log-loss function using LBFGS or stochastic\n",
        "gradient descent."
      ]
    },
    {
      "metadata": {
        "id": "Y3ODp4ngS0UB",
        "colab_type": "code",
        "colab": {
          "autoexec": {
            "startup": false,
            "wait_interval": 0
          }
        }
      },
      "cell_type": "code",
      "source": [
        "mlp_model=MLPClassifier()"
      ],
      "execution_count": 0,
      "outputs": []
    },
    {
      "metadata": {
        "id": "h0sy0fEVS0UH",
        "colab_type": "code",
        "colab": {
          "autoexec": {
            "startup": false,
            "wait_interval": 0
          },
          "base_uri": "https://localhost:8080/",
          "height": 143
        },
        "outputId": "3c035717-0cac-48ee-b70c-035bb36673ff",
        "executionInfo": {
          "status": "ok",
          "timestamp": 1531669008105,
          "user_tz": -180,
          "elapsed": 12199,
          "user": {
            "displayName": "Ömer Yalçın",
            "photoUrl": "//lh6.googleusercontent.com/-KYS0k8F_jss/AAAAAAAAAAI/AAAAAAAABGM/XoQZ3tR-BuA/s50-c-k-no/photo.jpg",
            "userId": "107209192184149810541"
          }
        }
      },
      "cell_type": "code",
      "source": [
        "mlp_model.fit(x_tr,y_tr)"
      ],
      "execution_count": 148,
      "outputs": [
        {
          "output_type": "execute_result",
          "data": {
            "text/plain": [
              "MLPClassifier(activation='relu', alpha=0.0001, batch_size='auto', beta_1=0.9,\n",
              "       beta_2=0.999, early_stopping=False, epsilon=1e-08,\n",
              "       hidden_layer_sizes=(100,), learning_rate='constant',\n",
              "       learning_rate_init=0.001, max_iter=200, momentum=0.9,\n",
              "       nesterovs_momentum=True, power_t=0.5, random_state=None,\n",
              "       shuffle=True, solver='adam', tol=0.0001, validation_fraction=0.1,\n",
              "       verbose=False, warm_start=False)"
            ]
          },
          "metadata": {
            "tags": []
          },
          "execution_count": 148
        }
      ]
    },
    {
      "metadata": {
        "id": "xexmethbS0UK",
        "colab_type": "code",
        "colab": {
          "autoexec": {
            "startup": false,
            "wait_interval": 0
          },
          "base_uri": "https://localhost:8080/",
          "height": 35
        },
        "outputId": "90559ac3-2f3e-4d9f-8b40-bf4ea8c764a8",
        "executionInfo": {
          "status": "ok",
          "timestamp": 1531669008880,
          "user_tz": -180,
          "elapsed": 689,
          "user": {
            "displayName": "Ömer Yalçın",
            "photoUrl": "//lh6.googleusercontent.com/-KYS0k8F_jss/AAAAAAAAAAI/AAAAAAAABGM/XoQZ3tR-BuA/s50-c-k-no/photo.jpg",
            "userId": "107209192184149810541"
          }
        }
      },
      "cell_type": "code",
      "source": [
        "mlp_model.score(x_ts,y_ts)"
      ],
      "execution_count": 149,
      "outputs": [
        {
          "output_type": "execute_result",
          "data": {
            "text/plain": [
              "0.8385964912280702"
            ]
          },
          "metadata": {
            "tags": []
          },
          "execution_count": 149
        }
      ]
    },
    {
      "metadata": {
        "id": "136WjMpYS0UO",
        "colab_type": "text"
      },
      "cell_type": "markdown",
      "source": [
        "### Deep Neural Network\n",
        "\n",
        "**Reference:**\n",
        "- http://cs231n.github.io/\n",
        "- https://github.com/fchollet/deep-learning-with-python-notebooks"
      ]
    },
    {
      "metadata": {
        "id": "ARBfd6pmS0UQ",
        "colab_type": "code",
        "colab": {
          "autoexec": {
            "startup": false,
            "wait_interval": 0
          }
        }
      },
      "cell_type": "code",
      "source": [
        "from keras import models\n",
        "from keras import layers\n",
        "from keras import optimizers\n",
        "from keras.utils import to_categorical"
      ],
      "execution_count": 0,
      "outputs": []
    },
    {
      "metadata": {
        "id": "dpyTrpKtS0UU",
        "colab_type": "code",
        "colab": {
          "autoexec": {
            "startup": false,
            "wait_interval": 0
          },
          "base_uri": "https://localhost:8080/",
          "height": 35
        },
        "outputId": "9a44a3a2-0536-4cd7-8032-f9f767ca84cf",
        "executionInfo": {
          "status": "ok",
          "timestamp": 1531669016187,
          "user_tz": -180,
          "elapsed": 705,
          "user": {
            "displayName": "Ömer Yalçın",
            "photoUrl": "//lh6.googleusercontent.com/-KYS0k8F_jss/AAAAAAAAAAI/AAAAAAAABGM/XoQZ3tR-BuA/s50-c-k-no/photo.jpg",
            "userId": "107209192184149810541"
          }
        }
      },
      "cell_type": "code",
      "source": [
        "# Preproceses Data\n",
        "y_tr=to_categorical(y_tr)\n",
        "y_ts=to_categorical(y_ts)\n",
        "y_ts.shape"
      ],
      "execution_count": 151,
      "outputs": [
        {
          "output_type": "execute_result",
          "data": {
            "text/plain": [
              "(285, 5)"
            ]
          },
          "metadata": {
            "tags": []
          },
          "execution_count": 151
        }
      ]
    },
    {
      "metadata": {
        "id": "-FoxUw_KS0UX",
        "colab_type": "code",
        "colab": {
          "autoexec": {
            "startup": false,
            "wait_interval": 0
          },
          "base_uri": "https://localhost:8080/",
          "height": 503
        },
        "outputId": "cc445b63-f130-447b-cc31-4d4dc2592074",
        "executionInfo": {
          "status": "ok",
          "timestamp": 1531669022883,
          "user_tz": -180,
          "elapsed": 628,
          "user": {
            "displayName": "Ömer Yalçın",
            "photoUrl": "//lh6.googleusercontent.com/-KYS0k8F_jss/AAAAAAAAAAI/AAAAAAAABGM/XoQZ3tR-BuA/s50-c-k-no/photo.jpg",
            "userId": "107209192184149810541"
          }
        }
      },
      "cell_type": "code",
      "source": [
        "model=models.Sequential()\n",
        "model.add(layers.Dense(1024,activation=\"relu\",input_shape=[2914,]))\n",
        "model.add(layers.Dense(512,activation=\"relu\"))\n",
        "model.add(layers.Dropout(0.4))\n",
        "model.add(layers.Dense(512,activation=\"relu\"))\n",
        "model.add(layers.Dropout(0.4))\n",
        "model.add(layers.Dense(256,activation=\"relu\"))\n",
        "model.add(layers.Dropout(0.4))\n",
        "model.add(layers.Dense(64,activation=\"relu\"))\n",
        "model.add(layers.Dropout(0.3))\n",
        "model.add(layers.Dense(5,activation=\"softmax\"))\n",
        "\n",
        "model.compile(optimizer=optimizers.Adam(lr=0.0001),\n",
        "              loss=\"categorical_crossentropy\",metrics=[\"accuracy\"])\n",
        "model.summary()"
      ],
      "execution_count": 152,
      "outputs": [
        {
          "output_type": "stream",
          "text": [
            "_________________________________________________________________\n",
            "Layer (type)                 Output Shape              Param #   \n",
            "=================================================================\n",
            "dense_6 (Dense)              (None, 1024)              2984960   \n",
            "_________________________________________________________________\n",
            "dense_7 (Dense)              (None, 512)               524800    \n",
            "_________________________________________________________________\n",
            "dropout_61 (Dropout)         (None, 512)               0         \n",
            "_________________________________________________________________\n",
            "dense_8 (Dense)              (None, 512)               262656    \n",
            "_________________________________________________________________\n",
            "dropout_62 (Dropout)         (None, 512)               0         \n",
            "_________________________________________________________________\n",
            "dense_9 (Dense)              (None, 256)               131328    \n",
            "_________________________________________________________________\n",
            "dropout_63 (Dropout)         (None, 256)               0         \n",
            "_________________________________________________________________\n",
            "dense_10 (Dense)             (None, 64)                16448     \n",
            "_________________________________________________________________\n",
            "dropout_64 (Dropout)         (None, 64)                0         \n",
            "_________________________________________________________________\n",
            "dense_11 (Dense)             (None, 5)                 325       \n",
            "=================================================================\n",
            "Total params: 3,920,517\n",
            "Trainable params: 3,920,517\n",
            "Non-trainable params: 0\n",
            "_________________________________________________________________\n"
          ],
          "name": "stdout"
        }
      ]
    },
    {
      "metadata": {
        "id": "_f8lfs5rS0Ud",
        "colab_type": "code",
        "colab": {
          "autoexec": {
            "startup": false,
            "wait_interval": 0
          },
          "base_uri": "https://localhost:8080/",
          "height": 7235
        },
        "outputId": "51627cea-c202-4814-aa64-8542c1274c22",
        "executionInfo": {
          "status": "ok",
          "timestamp": 1531669158033,
          "user_tz": -180,
          "elapsed": 128131,
          "user": {
            "displayName": "Ömer Yalçın",
            "photoUrl": "//lh6.googleusercontent.com/-KYS0k8F_jss/AAAAAAAAAAI/AAAAAAAABGM/XoQZ3tR-BuA/s50-c-k-no/photo.jpg",
            "userId": "107209192184149810541"
          }
        }
      },
      "cell_type": "code",
      "source": [
        "model_history=model.fit(x_tr,y_tr,batch_size=24,epochs=200,verbose=1,\n",
        "\n",
        "                        validation_data=[x_ts,y_ts])"
      ],
      "execution_count": 153,
      "outputs": [
        {
          "output_type": "stream",
          "text": [
            "Train on 855 samples, validate on 285 samples\n",
            "Epoch 1/200\n",
            "855/855 [==============================] - 11s 13ms/step - loss: 1.5937 - acc: 0.3509 - val_loss: 1.4610 - val_acc: 0.4491\n",
            "Epoch 2/200\n",
            "855/855 [==============================] - 1s 679us/step - loss: 1.5114 - acc: 0.3988 - val_loss: 1.4296 - val_acc: 0.4491\n",
            "Epoch 3/200\n",
            "855/855 [==============================] - 1s 674us/step - loss: 1.4894 - acc: 0.4374 - val_loss: 1.4210 - val_acc: 0.4491\n",
            "Epoch 4/200\n",
            "855/855 [==============================] - 1s 689us/step - loss: 1.4327 - acc: 0.4480 - val_loss: 1.4199 - val_acc: 0.4491\n",
            "Epoch 5/200\n",
            "855/855 [==============================] - 1s 681us/step - loss: 1.4442 - acc: 0.4561 - val_loss: 1.4155 - val_acc: 0.4491\n",
            "Epoch 6/200\n",
            "855/855 [==============================] - 1s 679us/step - loss: 1.4454 - acc: 0.4515 - val_loss: 1.4211 - val_acc: 0.4491\n",
            "Epoch 7/200\n",
            "855/855 [==============================] - 1s 676us/step - loss: 1.4285 - acc: 0.4608 - val_loss: 1.4179 - val_acc: 0.4491\n",
            "Epoch 8/200\n",
            "855/855 [==============================] - 1s 687us/step - loss: 1.4219 - acc: 0.4561 - val_loss: 1.3985 - val_acc: 0.4491\n",
            "Epoch 9/200\n",
            "855/855 [==============================] - 1s 681us/step - loss: 1.4078 - acc: 0.4596 - val_loss: 1.3911 - val_acc: 0.5123\n",
            "Epoch 10/200\n",
            "855/855 [==============================] - 1s 692us/step - loss: 1.3744 - acc: 0.4667 - val_loss: 1.3938 - val_acc: 0.4491\n",
            "Epoch 11/200\n",
            "855/855 [==============================] - 1s 686us/step - loss: 1.3789 - acc: 0.4795 - val_loss: 1.3332 - val_acc: 0.5193\n",
            "Epoch 12/200\n",
            "504/855 [================>.............] - ETA: 0s - loss: 1.3175 - acc: 0.5099"
          ],
          "name": "stdout"
        },
        {
          "output_type": "stream",
          "text": [
            "855/855 [==============================] - 1s 678us/step - loss: 1.3326 - acc: 0.4994 - val_loss: 1.2916 - val_acc: 0.5053\n",
            "Epoch 13/200\n",
            "855/855 [==============================] - 1s 663us/step - loss: 1.2982 - acc: 0.5076 - val_loss: 1.2615 - val_acc: 0.5298\n",
            "Epoch 14/200\n",
            "855/855 [==============================] - 1s 682us/step - loss: 1.2670 - acc: 0.5275 - val_loss: 1.2137 - val_acc: 0.5368\n",
            "Epoch 15/200\n",
            "855/855 [==============================] - 1s 685us/step - loss: 1.2396 - acc: 0.5368 - val_loss: 1.3787 - val_acc: 0.4807\n",
            "Epoch 16/200\n",
            "855/855 [==============================] - 1s 683us/step - loss: 1.2448 - acc: 0.5251 - val_loss: 1.1767 - val_acc: 0.5333\n",
            "Epoch 17/200\n",
            "855/855 [==============================] - 1s 680us/step - loss: 1.1953 - acc: 0.5556 - val_loss: 1.1805 - val_acc: 0.5439\n",
            "Epoch 18/200\n",
            "855/855 [==============================] - 1s 676us/step - loss: 1.1384 - acc: 0.5836 - val_loss: 1.2107 - val_acc: 0.5368\n",
            "Epoch 19/200\n",
            "855/855 [==============================] - 1s 667us/step - loss: 1.1439 - acc: 0.5684 - val_loss: 1.1201 - val_acc: 0.5614\n",
            "Epoch 20/200\n",
            "855/855 [==============================] - 1s 675us/step - loss: 1.0798 - acc: 0.5942 - val_loss: 1.0883 - val_acc: 0.5754\n",
            "Epoch 21/200\n",
            "855/855 [==============================] - 1s 684us/step - loss: 1.0570 - acc: 0.5953 - val_loss: 1.0742 - val_acc: 0.5789\n",
            "Epoch 22/200\n",
            "855/855 [==============================] - 1s 685us/step - loss: 1.0599 - acc: 0.6000 - val_loss: 1.0656 - val_acc: 0.5860\n",
            "Epoch 23/200\n",
            "855/855 [==============================] - 1s 681us/step - loss: 1.0563 - acc: 0.6000 - val_loss: 1.1297 - val_acc: 0.5719\n"
          ],
          "name": "stdout"
        },
        {
          "output_type": "stream",
          "text": [
            "Epoch 24/200\n",
            "855/855 [==============================] - 1s 679us/step - loss: 1.0299 - acc: 0.6082 - val_loss: 1.0618 - val_acc: 0.5754\n",
            "Epoch 25/200\n",
            "855/855 [==============================] - 1s 680us/step - loss: 0.9939 - acc: 0.6129 - val_loss: 1.1037 - val_acc: 0.5684\n",
            "Epoch 26/200\n",
            "855/855 [==============================] - 1s 684us/step - loss: 0.9958 - acc: 0.6211 - val_loss: 1.0713 - val_acc: 0.5649\n",
            "Epoch 27/200\n",
            "855/855 [==============================] - 1s 678us/step - loss: 1.0410 - acc: 0.5988 - val_loss: 1.0223 - val_acc: 0.6175\n",
            "Epoch 28/200\n",
            "855/855 [==============================] - 1s 672us/step - loss: 0.9899 - acc: 0.6105 - val_loss: 1.0856 - val_acc: 0.6035\n",
            "Epoch 29/200\n",
            "855/855 [==============================] - 1s 678us/step - loss: 1.0160 - acc: 0.6094 - val_loss: 1.0907 - val_acc: 0.6070\n",
            "Epoch 30/200\n",
            "855/855 [==============================] - 1s 685us/step - loss: 0.9418 - acc: 0.6386 - val_loss: 1.0510 - val_acc: 0.5895\n",
            "Epoch 31/200\n",
            "855/855 [==============================] - 1s 678us/step - loss: 0.9266 - acc: 0.6327 - val_loss: 0.9693 - val_acc: 0.6105\n",
            "Epoch 32/200\n",
            "855/855 [==============================] - 1s 675us/step - loss: 0.9275 - acc: 0.6292 - val_loss: 0.9917 - val_acc: 0.6316\n",
            "Epoch 33/200\n",
            "855/855 [==============================] - 1s 691us/step - loss: 0.8727 - acc: 0.6561 - val_loss: 0.9813 - val_acc: 0.6316\n",
            "Epoch 34/200\n",
            "855/855 [==============================] - 1s 682us/step - loss: 0.8262 - acc: 0.6596 - val_loss: 0.9154 - val_acc: 0.6632\n",
            "Epoch 35/200\n",
            "768/855 [=========================>....] - ETA: 0s - loss: 0.8486 - acc: 0.6589"
          ],
          "name": "stdout"
        },
        {
          "output_type": "stream",
          "text": [
            "855/855 [==============================] - 1s 672us/step - loss: 0.8360 - acc: 0.6643 - val_loss: 0.9196 - val_acc: 0.6491\n",
            "Epoch 36/200\n",
            "855/855 [==============================] - 1s 666us/step - loss: 0.7978 - acc: 0.6936 - val_loss: 0.9414 - val_acc: 0.6807\n",
            "Epoch 37/200\n",
            "855/855 [==============================] - 1s 690us/step - loss: 0.7832 - acc: 0.6901 - val_loss: 1.0532 - val_acc: 0.6386\n",
            "Epoch 38/200\n",
            "855/855 [==============================] - 1s 680us/step - loss: 0.7932 - acc: 0.7064 - val_loss: 0.8994 - val_acc: 0.6702\n",
            "Epoch 39/200\n",
            "855/855 [==============================] - 1s 678us/step - loss: 0.7996 - acc: 0.6678 - val_loss: 0.8700 - val_acc: 0.6877\n",
            "Epoch 40/200\n",
            "855/855 [==============================] - 1s 679us/step - loss: 0.7163 - acc: 0.7181 - val_loss: 0.9390 - val_acc: 0.6737\n",
            "Epoch 41/200\n",
            "855/855 [==============================] - 1s 680us/step - loss: 0.7809 - acc: 0.6924 - val_loss: 0.9091 - val_acc: 0.6807\n",
            "Epoch 42/200\n",
            "855/855 [==============================] - 1s 667us/step - loss: 0.6922 - acc: 0.7193 - val_loss: 0.9273 - val_acc: 0.6842\n",
            "Epoch 43/200\n",
            "855/855 [==============================] - 1s 670us/step - loss: 0.6748 - acc: 0.7450 - val_loss: 0.8080 - val_acc: 0.7298\n",
            "Epoch 44/200\n",
            "855/855 [==============================] - 1s 676us/step - loss: 0.6480 - acc: 0.7509 - val_loss: 0.8620 - val_acc: 0.7228\n",
            "Epoch 45/200\n",
            "855/855 [==============================] - 1s 675us/step - loss: 0.6417 - acc: 0.7462 - val_loss: 0.7967 - val_acc: 0.7333\n",
            "Epoch 46/200\n",
            "855/855 [==============================] - 1s 674us/step - loss: 0.6155 - acc: 0.7532 - val_loss: 0.7829 - val_acc: 0.7263\n"
          ],
          "name": "stdout"
        },
        {
          "output_type": "stream",
          "text": [
            "Epoch 47/200\n",
            "855/855 [==============================] - 1s 666us/step - loss: 0.6354 - acc: 0.7439 - val_loss: 0.7957 - val_acc: 0.7263\n",
            "Epoch 48/200\n",
            "855/855 [==============================] - 1s 663us/step - loss: 0.5909 - acc: 0.7626 - val_loss: 0.7618 - val_acc: 0.7333\n",
            "Epoch 49/200\n",
            "855/855 [==============================] - 1s 661us/step - loss: 0.5914 - acc: 0.7883 - val_loss: 0.7531 - val_acc: 0.7684\n",
            "Epoch 50/200\n",
            "855/855 [==============================] - 1s 709us/step - loss: 0.5657 - acc: 0.7801 - val_loss: 0.8673 - val_acc: 0.7404\n",
            "Epoch 51/200\n",
            "855/855 [==============================] - 1s 678us/step - loss: 0.5333 - acc: 0.7988 - val_loss: 0.7746 - val_acc: 0.7404\n",
            "Epoch 52/200\n",
            "855/855 [==============================] - 1s 674us/step - loss: 0.5579 - acc: 0.7895 - val_loss: 0.8538 - val_acc: 0.7018\n",
            "Epoch 53/200\n",
            "855/855 [==============================] - 1s 687us/step - loss: 0.5551 - acc: 0.7953 - val_loss: 0.7835 - val_acc: 0.7298\n",
            "Epoch 54/200\n",
            "855/855 [==============================] - 1s 682us/step - loss: 0.5413 - acc: 0.7871 - val_loss: 0.8202 - val_acc: 0.7088\n",
            "Epoch 55/200\n",
            "855/855 [==============================] - 1s 676us/step - loss: 0.5349 - acc: 0.8140 - val_loss: 0.7944 - val_acc: 0.7053\n",
            "Epoch 56/200\n",
            "855/855 [==============================] - 1s 678us/step - loss: 0.4580 - acc: 0.8456 - val_loss: 0.7436 - val_acc: 0.7439\n",
            "Epoch 57/200\n",
            "855/855 [==============================] - 1s 674us/step - loss: 0.4272 - acc: 0.8456 - val_loss: 0.7924 - val_acc: 0.7368\n",
            "Epoch 58/200\n",
            "696/855 [=======================>......] - ETA: 0s - loss: 0.4077 - acc: 0.8563"
          ],
          "name": "stdout"
        },
        {
          "output_type": "stream",
          "text": [
            "855/855 [==============================] - 1s 666us/step - loss: 0.4124 - acc: 0.8561 - val_loss: 0.7541 - val_acc: 0.7544\n",
            "Epoch 59/200\n",
            "855/855 [==============================] - 1s 674us/step - loss: 0.4392 - acc: 0.8351 - val_loss: 0.8517 - val_acc: 0.7298\n",
            "Epoch 60/200\n",
            "855/855 [==============================] - 1s 685us/step - loss: 0.5176 - acc: 0.8187 - val_loss: 0.7450 - val_acc: 0.7789\n",
            "Epoch 61/200\n",
            "855/855 [==============================] - 1s 680us/step - loss: 0.4235 - acc: 0.8468 - val_loss: 0.7342 - val_acc: 0.7965\n",
            "Epoch 62/200\n",
            "855/855 [==============================] - 1s 676us/step - loss: 0.4140 - acc: 0.8480 - val_loss: 0.6839 - val_acc: 0.8000\n",
            "Epoch 63/200\n",
            "855/855 [==============================] - 1s 663us/step - loss: 0.4168 - acc: 0.8655 - val_loss: 0.6923 - val_acc: 0.7754\n",
            "Epoch 64/200\n",
            "855/855 [==============================] - 1s 662us/step - loss: 0.4766 - acc: 0.8281 - val_loss: 0.7809 - val_acc: 0.7474\n",
            "Epoch 65/200\n",
            "855/855 [==============================] - 1s 670us/step - loss: 0.4258 - acc: 0.8491 - val_loss: 0.6681 - val_acc: 0.7860\n",
            "Epoch 66/200\n",
            "855/855 [==============================] - 1s 686us/step - loss: 0.3641 - acc: 0.8713 - val_loss: 0.6410 - val_acc: 0.8351\n",
            "Epoch 67/200\n",
            "855/855 [==============================] - 1s 680us/step - loss: 0.3588 - acc: 0.8760 - val_loss: 0.7135 - val_acc: 0.7509\n",
            "Epoch 68/200\n",
            "855/855 [==============================] - 1s 665us/step - loss: 0.3364 - acc: 0.8901 - val_loss: 0.6650 - val_acc: 0.8211\n",
            "Epoch 69/200\n",
            "768/855 [=========================>....] - ETA: 0s - loss: 0.3121 - acc: 0.8971"
          ],
          "name": "stdout"
        },
        {
          "output_type": "stream",
          "text": [
            "855/855 [==============================] - 1s 668us/step - loss: 0.3186 - acc: 0.8924 - val_loss: 0.6535 - val_acc: 0.8105\n",
            "Epoch 70/200\n",
            "855/855 [==============================] - 1s 686us/step - loss: 0.3400 - acc: 0.8795 - val_loss: 0.6521 - val_acc: 0.7965\n",
            "Epoch 71/200\n",
            "855/855 [==============================] - 1s 675us/step - loss: 0.3079 - acc: 0.9018 - val_loss: 0.7584 - val_acc: 0.7368\n",
            "Epoch 72/200\n",
            "855/855 [==============================] - 1s 682us/step - loss: 0.3691 - acc: 0.8690 - val_loss: 0.7299 - val_acc: 0.8105\n",
            "Epoch 73/200\n",
            "855/855 [==============================] - 1s 673us/step - loss: 0.2876 - acc: 0.9006 - val_loss: 0.7262 - val_acc: 0.8035\n",
            "Epoch 74/200\n",
            "855/855 [==============================] - 1s 672us/step - loss: 0.2825 - acc: 0.9088 - val_loss: 0.8559 - val_acc: 0.7754\n",
            "Epoch 75/200\n",
            "855/855 [==============================] - 1s 667us/step - loss: 0.3268 - acc: 0.9006 - val_loss: 0.7109 - val_acc: 0.8175\n",
            "Epoch 76/200\n",
            "855/855 [==============================] - 1s 682us/step - loss: 0.3018 - acc: 0.8912 - val_loss: 0.8752 - val_acc: 0.7018\n",
            "Epoch 77/200\n",
            "855/855 [==============================] - 1s 678us/step - loss: 0.5179 - acc: 0.8327 - val_loss: 0.7137 - val_acc: 0.7825\n",
            "Epoch 78/200\n",
            "855/855 [==============================] - 1s 693us/step - loss: 0.2843 - acc: 0.9006 - val_loss: 0.6996 - val_acc: 0.8246\n",
            "Epoch 79/200\n",
            "855/855 [==============================] - 1s 680us/step - loss: 0.2529 - acc: 0.9228 - val_loss: 0.6403 - val_acc: 0.8351\n",
            "Epoch 80/200\n",
            "840/855 [============================>.] - ETA: 0s - loss: 0.2426 - acc: 0.9190"
          ],
          "name": "stdout"
        },
        {
          "output_type": "stream",
          "text": [
            "855/855 [==============================] - 1s 691us/step - loss: 0.2421 - acc: 0.9193 - val_loss: 0.6922 - val_acc: 0.8070\n",
            "Epoch 81/200\n",
            "855/855 [==============================] - 1s 672us/step - loss: 0.2475 - acc: 0.9193 - val_loss: 0.7318 - val_acc: 0.8211\n",
            "Epoch 82/200\n",
            "855/855 [==============================] - 1s 671us/step - loss: 0.2486 - acc: 0.9181 - val_loss: 0.8584 - val_acc: 0.7474\n",
            "Epoch 83/200\n",
            "855/855 [==============================] - 1s 680us/step - loss: 0.2233 - acc: 0.9251 - val_loss: 0.6734 - val_acc: 0.8281\n",
            "Epoch 84/200\n",
            "855/855 [==============================] - 1s 679us/step - loss: 0.1958 - acc: 0.9345 - val_loss: 0.6683 - val_acc: 0.8175\n",
            "Epoch 85/200\n",
            "855/855 [==============================] - 1s 679us/step - loss: 0.2340 - acc: 0.9228 - val_loss: 0.7557 - val_acc: 0.8035\n",
            "Epoch 86/200\n",
            "855/855 [==============================] - 1s 684us/step - loss: 0.3204 - acc: 0.8854 - val_loss: 0.7207 - val_acc: 0.7965\n",
            "Epoch 87/200\n",
            "855/855 [==============================] - 1s 669us/step - loss: 0.2097 - acc: 0.9415 - val_loss: 0.6360 - val_acc: 0.8491\n",
            "Epoch 88/200\n",
            "855/855 [==============================] - 1s 667us/step - loss: 0.1940 - acc: 0.9380 - val_loss: 0.6865 - val_acc: 0.8491\n",
            "Epoch 89/200\n",
            "855/855 [==============================] - 1s 661us/step - loss: 0.2579 - acc: 0.9135 - val_loss: 0.8935 - val_acc: 0.7579\n",
            "Epoch 90/200\n",
            "855/855 [==============================] - 1s 675us/step - loss: 0.3141 - acc: 0.8912 - val_loss: 0.6126 - val_acc: 0.8316\n",
            "Epoch 91/200\n",
            "855/855 [==============================] - 1s 665us/step - loss: 0.2315 - acc: 0.9263 - val_loss: 0.6627 - val_acc: 0.8526\n"
          ],
          "name": "stdout"
        },
        {
          "output_type": "stream",
          "text": [
            "Epoch 92/200\n",
            "855/855 [==============================] - 1s 665us/step - loss: 0.1755 - acc: 0.9310 - val_loss: 0.8395 - val_acc: 0.7719\n",
            "Epoch 93/200\n",
            "855/855 [==============================] - 1s 672us/step - loss: 0.1835 - acc: 0.9345 - val_loss: 0.6872 - val_acc: 0.8526\n",
            "Epoch 94/200\n",
            "855/855 [==============================] - 1s 670us/step - loss: 0.2149 - acc: 0.9310 - val_loss: 0.6664 - val_acc: 0.8316\n",
            "Epoch 95/200\n",
            "855/855 [==============================] - 1s 675us/step - loss: 0.2481 - acc: 0.9029 - val_loss: 0.8292 - val_acc: 0.7754\n",
            "Epoch 96/200\n",
            "855/855 [==============================] - 1s 664us/step - loss: 0.2096 - acc: 0.9333 - val_loss: 0.7596 - val_acc: 0.8175\n",
            "Epoch 97/200\n",
            "855/855 [==============================] - 1s 674us/step - loss: 0.1793 - acc: 0.9357 - val_loss: 0.7527 - val_acc: 0.8386\n",
            "Epoch 98/200\n",
            "855/855 [==============================] - 1s 684us/step - loss: 0.1671 - acc: 0.9462 - val_loss: 0.7565 - val_acc: 0.8246\n",
            "Epoch 99/200\n",
            "855/855 [==============================] - 1s 668us/step - loss: 0.1423 - acc: 0.9520 - val_loss: 0.7277 - val_acc: 0.8140\n",
            "Epoch 100/200\n",
            "855/855 [==============================] - 1s 680us/step - loss: 0.1743 - acc: 0.9485 - val_loss: 0.7136 - val_acc: 0.8281\n",
            "Epoch 101/200\n",
            "855/855 [==============================] - 1s 676us/step - loss: 0.3152 - acc: 0.8936 - val_loss: 0.6242 - val_acc: 0.8351\n",
            "Epoch 102/200\n",
            "855/855 [==============================] - 1s 689us/step - loss: 0.2046 - acc: 0.9357 - val_loss: 0.6873 - val_acc: 0.8491\n",
            "Epoch 103/200\n",
            "768/855 [=========================>....] - ETA: 0s - loss: 0.1956 - acc: 0.9271"
          ],
          "name": "stdout"
        },
        {
          "output_type": "stream",
          "text": [
            "855/855 [==============================] - 1s 696us/step - loss: 0.1896 - acc: 0.9287 - val_loss: 0.7363 - val_acc: 0.8281\n",
            "Epoch 104/200\n",
            "855/855 [==============================] - 1s 680us/step - loss: 0.1818 - acc: 0.9415 - val_loss: 0.9648 - val_acc: 0.8070\n",
            "Epoch 105/200\n",
            "855/855 [==============================] - 1s 669us/step - loss: 0.1851 - acc: 0.9357 - val_loss: 0.9775 - val_acc: 0.7754\n",
            "Epoch 106/200\n",
            "855/855 [==============================] - 1s 686us/step - loss: 0.1572 - acc: 0.9520 - val_loss: 0.7096 - val_acc: 0.8281\n",
            "Epoch 107/200\n",
            "855/855 [==============================] - 1s 687us/step - loss: 0.1315 - acc: 0.9544 - val_loss: 0.9907 - val_acc: 0.8000\n",
            "Epoch 108/200\n",
            "855/855 [==============================] - 1s 684us/step - loss: 0.1602 - acc: 0.9450 - val_loss: 0.7221 - val_acc: 0.8351\n",
            "Epoch 109/200\n",
            "855/855 [==============================] - 1s 671us/step - loss: 0.1224 - acc: 0.9684 - val_loss: 0.7203 - val_acc: 0.8175\n",
            "Epoch 110/200\n",
            "855/855 [==============================] - 1s 683us/step - loss: 0.1676 - acc: 0.9404 - val_loss: 0.8480 - val_acc: 0.8175\n",
            "Epoch 111/200\n",
            "855/855 [==============================] - 1s 685us/step - loss: 0.1698 - acc: 0.9380 - val_loss: 0.8170 - val_acc: 0.8175\n",
            "Epoch 112/200\n",
            "855/855 [==============================] - 1s 673us/step - loss: 0.1729 - acc: 0.9392 - val_loss: 0.6794 - val_acc: 0.8561\n",
            "Epoch 113/200\n",
            "855/855 [==============================] - 1s 695us/step - loss: 0.1432 - acc: 0.9485 - val_loss: 0.8074 - val_acc: 0.8070\n",
            "Epoch 114/200\n",
            "768/855 [=========================>....] - ETA: 0s - loss: 0.1239 - acc: 0.9596"
          ],
          "name": "stdout"
        },
        {
          "output_type": "stream",
          "text": [
            "855/855 [==============================] - 1s 699us/step - loss: 0.1400 - acc: 0.9520 - val_loss: 0.7430 - val_acc: 0.8561\n",
            "Epoch 115/200\n",
            "855/855 [==============================] - 1s 684us/step - loss: 0.1375 - acc: 0.9532 - val_loss: 0.8606 - val_acc: 0.8351\n",
            "Epoch 116/200\n",
            "855/855 [==============================] - 1s 678us/step - loss: 0.2288 - acc: 0.9193 - val_loss: 0.7412 - val_acc: 0.8070\n",
            "Epoch 117/200\n",
            "855/855 [==============================] - 1s 679us/step - loss: 0.2235 - acc: 0.9193 - val_loss: 0.7197 - val_acc: 0.8316\n",
            "Epoch 118/200\n",
            "855/855 [==============================] - 1s 677us/step - loss: 0.1197 - acc: 0.9614 - val_loss: 0.7944 - val_acc: 0.8281\n",
            "Epoch 119/200\n",
            "855/855 [==============================] - 1s 694us/step - loss: 0.1296 - acc: 0.9626 - val_loss: 0.6426 - val_acc: 0.8491\n",
            "Epoch 120/200\n",
            "855/855 [==============================] - 1s 680us/step - loss: 0.1178 - acc: 0.9602 - val_loss: 0.7250 - val_acc: 0.8351\n",
            "Epoch 121/200\n",
            "855/855 [==============================] - 1s 670us/step - loss: 0.1306 - acc: 0.9567 - val_loss: 0.7847 - val_acc: 0.8421\n",
            "Epoch 122/200\n",
            "855/855 [==============================] - 1s 668us/step - loss: 0.1230 - acc: 0.9591 - val_loss: 0.9007 - val_acc: 0.8140\n",
            "Epoch 123/200\n",
            "855/855 [==============================] - 1s 678us/step - loss: 0.1288 - acc: 0.9614 - val_loss: 0.7240 - val_acc: 0.8386\n",
            "Epoch 124/200\n",
            "855/855 [==============================] - 1s 680us/step - loss: 0.1050 - acc: 0.9673 - val_loss: 0.7769 - val_acc: 0.8561\n",
            "Epoch 125/200\n",
            "855/855 [==============================] - 1s 669us/step - loss: 0.1293 - acc: 0.9544 - val_loss: 0.6845 - val_acc: 0.8596\n"
          ],
          "name": "stdout"
        },
        {
          "output_type": "stream",
          "text": [
            "Epoch 126/200\n",
            "855/855 [==============================] - 1s 686us/step - loss: 0.1097 - acc: 0.9673 - val_loss: 0.6935 - val_acc: 0.8632\n",
            "Epoch 127/200\n",
            "855/855 [==============================] - 1s 679us/step - loss: 0.0857 - acc: 0.9754 - val_loss: 1.0718 - val_acc: 0.7649\n",
            "Epoch 128/200\n",
            "855/855 [==============================] - 1s 678us/step - loss: 0.1541 - acc: 0.9497 - val_loss: 0.8087 - val_acc: 0.8246\n",
            "Epoch 129/200\n",
            "855/855 [==============================] - 1s 677us/step - loss: 0.1454 - acc: 0.9462 - val_loss: 0.8217 - val_acc: 0.8351\n",
            "Epoch 130/200\n",
            "855/855 [==============================] - 1s 679us/step - loss: 0.1008 - acc: 0.9673 - val_loss: 0.8219 - val_acc: 0.8211\n",
            "Epoch 131/200\n",
            "855/855 [==============================] - 1s 688us/step - loss: 0.0781 - acc: 0.9743 - val_loss: 0.7161 - val_acc: 0.8596\n",
            "Epoch 132/200\n",
            "855/855 [==============================] - 1s 687us/step - loss: 0.1276 - acc: 0.9556 - val_loss: 0.7684 - val_acc: 0.8105\n",
            "Epoch 133/200\n",
            "855/855 [==============================] - 1s 686us/step - loss: 0.1028 - acc: 0.9556 - val_loss: 0.8061 - val_acc: 0.8421\n",
            "Epoch 134/200\n",
            "855/855 [==============================] - 1s 691us/step - loss: 0.1306 - acc: 0.9614 - val_loss: 0.8706 - val_acc: 0.8175\n",
            "Epoch 135/200\n",
            "855/855 [==============================] - 1s 683us/step - loss: 0.1088 - acc: 0.9649 - val_loss: 0.7589 - val_acc: 0.8316\n",
            "Epoch 136/200\n",
            "855/855 [==============================] - 1s 722us/step - loss: 0.1079 - acc: 0.9637 - val_loss: 0.7343 - val_acc: 0.8386\n",
            "Epoch 137/200\n",
            "480/855 [===============>..............] - ETA: 0s - loss: 0.1012 - acc: 0.9667"
          ],
          "name": "stdout"
        },
        {
          "output_type": "stream",
          "text": [
            "855/855 [==============================] - 1s 729us/step - loss: 0.0964 - acc: 0.9661 - val_loss: 0.8377 - val_acc: 0.8281\n",
            "Epoch 138/200\n",
            "855/855 [==============================] - 1s 699us/step - loss: 0.0884 - acc: 0.9684 - val_loss: 0.7002 - val_acc: 0.8702\n",
            "Epoch 139/200\n",
            "855/855 [==============================] - 1s 709us/step - loss: 0.1295 - acc: 0.9520 - val_loss: 0.8447 - val_acc: 0.8105\n",
            "Epoch 140/200\n",
            "855/855 [==============================] - 1s 716us/step - loss: 0.1868 - acc: 0.9427 - val_loss: 0.8360 - val_acc: 0.8351\n",
            "Epoch 141/200\n",
            "855/855 [==============================] - 1s 690us/step - loss: 0.0965 - acc: 0.9696 - val_loss: 0.8900 - val_acc: 0.8386\n",
            "Epoch 142/200\n",
            "855/855 [==============================] - 1s 683us/step - loss: 0.0932 - acc: 0.9731 - val_loss: 0.7908 - val_acc: 0.8667\n",
            "Epoch 143/200\n",
            "855/855 [==============================] - 1s 685us/step - loss: 0.0855 - acc: 0.9743 - val_loss: 0.7732 - val_acc: 0.8526\n",
            "Epoch 144/200\n",
            "855/855 [==============================] - 1s 676us/step - loss: 0.0731 - acc: 0.9789 - val_loss: 0.8019 - val_acc: 0.8316\n",
            "Epoch 145/200\n",
            "855/855 [==============================] - 1s 678us/step - loss: 0.0814 - acc: 0.9731 - val_loss: 0.8152 - val_acc: 0.8386\n",
            "Epoch 146/200\n",
            "855/855 [==============================] - 1s 673us/step - loss: 0.1080 - acc: 0.9637 - val_loss: 0.8341 - val_acc: 0.8421\n",
            "Epoch 147/200\n",
            "855/855 [==============================] - 1s 672us/step - loss: 0.1131 - acc: 0.9591 - val_loss: 0.7884 - val_acc: 0.8211\n",
            "Epoch 148/200\n",
            "792/855 [==========================>...] - ETA: 0s - loss: 0.0977 - acc: 0.9646"
          ],
          "name": "stdout"
        },
        {
          "output_type": "stream",
          "text": [
            "855/855 [==============================] - 1s 684us/step - loss: 0.0943 - acc: 0.9673 - val_loss: 0.9416 - val_acc: 0.8421\n",
            "Epoch 149/200\n",
            "855/855 [==============================] - 1s 679us/step - loss: 0.0951 - acc: 0.9696 - val_loss: 1.1143 - val_acc: 0.8175\n",
            "Epoch 150/200\n",
            "855/855 [==============================] - 1s 670us/step - loss: 0.1528 - acc: 0.9450 - val_loss: 1.0066 - val_acc: 0.8211\n",
            "Epoch 151/200\n",
            "855/855 [==============================] - 1s 687us/step - loss: 0.2839 - acc: 0.9064 - val_loss: 0.8470 - val_acc: 0.8351\n",
            "Epoch 152/200\n",
            "855/855 [==============================] - 1s 684us/step - loss: 0.2344 - acc: 0.9123 - val_loss: 1.0762 - val_acc: 0.7684\n",
            "Epoch 153/200\n",
            "855/855 [==============================] - 1s 674us/step - loss: 0.1591 - acc: 0.9532 - val_loss: 0.7451 - val_acc: 0.8316\n",
            "Epoch 154/200\n",
            "855/855 [==============================] - 1s 688us/step - loss: 0.0732 - acc: 0.9789 - val_loss: 0.8232 - val_acc: 0.8175\n",
            "Epoch 155/200\n",
            "855/855 [==============================] - 1s 678us/step - loss: 0.0678 - acc: 0.9754 - val_loss: 0.9190 - val_acc: 0.8140\n",
            "Epoch 156/200\n",
            "855/855 [==============================] - 1s 682us/step - loss: 0.0818 - acc: 0.9719 - val_loss: 0.8076 - val_acc: 0.8526\n",
            "Epoch 157/200\n",
            "855/855 [==============================] - 1s 677us/step - loss: 0.0658 - acc: 0.9801 - val_loss: 0.8121 - val_acc: 0.8351\n",
            "Epoch 158/200\n",
            "855/855 [==============================] - 1s 679us/step - loss: 0.0882 - acc: 0.9708 - val_loss: 0.8287 - val_acc: 0.8246\n",
            "Epoch 159/200\n",
            "855/855 [==============================] - 1s 690us/step - loss: 0.0791 - acc: 0.9719 - val_loss: 0.7805 - val_acc: 0.8421\n"
          ],
          "name": "stdout"
        },
        {
          "output_type": "stream",
          "text": [
            "Epoch 160/200\n",
            "855/855 [==============================] - 1s 684us/step - loss: 0.0555 - acc: 0.9836 - val_loss: 0.8168 - val_acc: 0.8491\n",
            "Epoch 161/200\n",
            "855/855 [==============================] - 1s 679us/step - loss: 0.0565 - acc: 0.9848 - val_loss: 0.9248 - val_acc: 0.8491\n",
            "Epoch 162/200\n",
            "855/855 [==============================] - 1s 665us/step - loss: 0.0385 - acc: 0.9883 - val_loss: 0.8635 - val_acc: 0.8281\n",
            "Epoch 163/200\n",
            "855/855 [==============================] - 1s 684us/step - loss: 0.0466 - acc: 0.9860 - val_loss: 1.0437 - val_acc: 0.8070\n",
            "Epoch 164/200\n",
            "855/855 [==============================] - 1s 671us/step - loss: 0.0775 - acc: 0.9731 - val_loss: 1.3750 - val_acc: 0.7754\n",
            "Epoch 165/200\n",
            "855/855 [==============================] - 1s 685us/step - loss: 0.1962 - acc: 0.9380 - val_loss: 0.7420 - val_acc: 0.8561\n",
            "Epoch 166/200\n",
            "855/855 [==============================] - 1s 673us/step - loss: 0.2083 - acc: 0.9287 - val_loss: 0.8581 - val_acc: 0.8175\n",
            "Epoch 167/200\n",
            "855/855 [==============================] - 1s 675us/step - loss: 0.1499 - acc: 0.9485 - val_loss: 0.8579 - val_acc: 0.8211\n",
            "Epoch 168/200\n",
            "855/855 [==============================] - 1s 680us/step - loss: 0.0636 - acc: 0.9789 - val_loss: 0.8169 - val_acc: 0.8491\n",
            "Epoch 169/200\n",
            "855/855 [==============================] - 1s 678us/step - loss: 0.0943 - acc: 0.9754 - val_loss: 0.8641 - val_acc: 0.8000\n",
            "Epoch 170/200\n",
            "855/855 [==============================] - 1s 673us/step - loss: 0.0957 - acc: 0.9673 - val_loss: 0.8516 - val_acc: 0.8035\n",
            "Epoch 171/200\n",
            "696/855 [=======================>......] - ETA: 0s - loss: 0.1000 - acc: 0.9670"
          ],
          "name": "stdout"
        },
        {
          "output_type": "stream",
          "text": [
            "855/855 [==============================] - 1s 681us/step - loss: 0.1283 - acc: 0.9591 - val_loss: 0.8023 - val_acc: 0.8456\n",
            "Epoch 172/200\n",
            "855/855 [==============================] - 1s 684us/step - loss: 0.1271 - acc: 0.9532 - val_loss: 0.8742 - val_acc: 0.8070\n",
            "Epoch 173/200\n",
            "855/855 [==============================] - 1s 710us/step - loss: 0.0809 - acc: 0.9673 - val_loss: 0.8298 - val_acc: 0.8491\n",
            "Epoch 174/200\n",
            "855/855 [==============================] - 1s 710us/step - loss: 0.0516 - acc: 0.9825 - val_loss: 0.8000 - val_acc: 0.8421\n",
            "Epoch 175/200\n",
            "855/855 [==============================] - 1s 701us/step - loss: 0.0456 - acc: 0.9848 - val_loss: 1.0871 - val_acc: 0.7965\n",
            "Epoch 176/200\n",
            "855/855 [==============================] - 1s 673us/step - loss: 0.0463 - acc: 0.9825 - val_loss: 0.9099 - val_acc: 0.8596\n",
            "Epoch 177/200\n",
            "855/855 [==============================] - 1s 683us/step - loss: 0.0954 - acc: 0.9626 - val_loss: 0.8810 - val_acc: 0.8351\n",
            "Epoch 178/200\n",
            "855/855 [==============================] - 1s 676us/step - loss: 0.0658 - acc: 0.9743 - val_loss: 0.9720 - val_acc: 0.8246\n",
            "Epoch 179/200\n",
            "855/855 [==============================] - 1s 682us/step - loss: 0.0369 - acc: 0.9883 - val_loss: 0.9259 - val_acc: 0.8667\n",
            "Epoch 180/200\n",
            "855/855 [==============================] - 1s 668us/step - loss: 0.1945 - acc: 0.9333 - val_loss: 0.9156 - val_acc: 0.8281\n",
            "Epoch 181/200\n",
            "855/855 [==============================] - 1s 671us/step - loss: 0.1389 - acc: 0.9544 - val_loss: 1.4690 - val_acc: 0.7053\n",
            "Epoch 182/200\n",
            "792/855 [==========================>...] - ETA: 0s - loss: 0.1237 - acc: 0.9609"
          ],
          "name": "stdout"
        },
        {
          "output_type": "stream",
          "text": [
            "855/855 [==============================] - 1s 666us/step - loss: 0.1212 - acc: 0.9626 - val_loss: 0.8243 - val_acc: 0.8351\n",
            "Epoch 183/200\n",
            "855/855 [==============================] - 1s 667us/step - loss: 0.0377 - acc: 0.9918 - val_loss: 0.8718 - val_acc: 0.8421\n",
            "Epoch 184/200\n",
            "855/855 [==============================] - 1s 690us/step - loss: 0.0484 - acc: 0.9848 - val_loss: 0.9257 - val_acc: 0.8561\n",
            "Epoch 185/200\n",
            "855/855 [==============================] - 1s 687us/step - loss: 0.0433 - acc: 0.9871 - val_loss: 0.9792 - val_acc: 0.8316\n",
            "Epoch 186/200\n",
            "855/855 [==============================] - 1s 684us/step - loss: 0.0482 - acc: 0.9860 - val_loss: 1.0829 - val_acc: 0.8316\n",
            "Epoch 187/200\n",
            "855/855 [==============================] - 1s 676us/step - loss: 0.1439 - acc: 0.9509 - val_loss: 1.0271 - val_acc: 0.7754\n",
            "Epoch 188/200\n",
            "855/855 [==============================] - 1s 708us/step - loss: 0.2225 - acc: 0.9380 - val_loss: 0.7024 - val_acc: 0.8561\n",
            "Epoch 189/200\n",
            "855/855 [==============================] - 1s 695us/step - loss: 0.0875 - acc: 0.9731 - val_loss: 0.6962 - val_acc: 0.8632\n",
            "Epoch 190/200\n",
            "855/855 [==============================] - 1s 677us/step - loss: 0.0894 - acc: 0.9754 - val_loss: 0.8803 - val_acc: 0.8386\n",
            "Epoch 191/200\n",
            "855/855 [==============================] - 1s 669us/step - loss: 0.0417 - acc: 0.9883 - val_loss: 0.8503 - val_acc: 0.8561\n",
            "Epoch 192/200\n",
            "855/855 [==============================] - 1s 689us/step - loss: 0.0390 - acc: 0.9871 - val_loss: 0.9742 - val_acc: 0.8281\n",
            "Epoch 193/200\n",
            "792/855 [==========================>...] - ETA: 0s - loss: 0.0345 - acc: 0.9912"
          ],
          "name": "stdout"
        },
        {
          "output_type": "stream",
          "text": [
            "855/855 [==============================] - 1s 680us/step - loss: 0.0339 - acc: 0.9918 - val_loss: 0.8672 - val_acc: 0.8491\n",
            "Epoch 194/200\n",
            "855/855 [==============================] - 1s 666us/step - loss: 0.0278 - acc: 0.9930 - val_loss: 0.8579 - val_acc: 0.8491\n",
            "Epoch 195/200\n",
            "855/855 [==============================] - 1s 680us/step - loss: 0.0524 - acc: 0.9836 - val_loss: 1.3294 - val_acc: 0.8175\n",
            "Epoch 196/200\n",
            "855/855 [==============================] - 1s 682us/step - loss: 0.0894 - acc: 0.9778 - val_loss: 0.9151 - val_acc: 0.8351\n",
            "Epoch 197/200\n",
            "855/855 [==============================] - 1s 687us/step - loss: 0.2883 - acc: 0.9018 - val_loss: 0.7313 - val_acc: 0.8070\n",
            "Epoch 198/200\n",
            "855/855 [==============================] - 1s 695us/step - loss: 0.1160 - acc: 0.9626 - val_loss: 0.8836 - val_acc: 0.8386\n",
            "Epoch 199/200\n",
            "855/855 [==============================] - 1s 675us/step - loss: 0.0634 - acc: 0.9778 - val_loss: 0.8907 - val_acc: 0.8281\n",
            "Epoch 200/200\n",
            "855/855 [==============================] - 1s 682us/step - loss: 0.0569 - acc: 0.9836 - val_loss: 0.9568 - val_acc: 0.8351\n"
          ],
          "name": "stdout"
        }
      ]
    },
    {
      "metadata": {
        "id": "ydawObFaS0Uu",
        "colab_type": "code",
        "colab": {
          "autoexec": {
            "startup": false,
            "wait_interval": 0
          },
          "base_uri": "https://localhost:8080/",
          "height": 392
        },
        "outputId": "471787fa-1511-4ac3-fe8d-d00de00f39e5",
        "executionInfo": {
          "status": "ok",
          "timestamp": 1531670420284,
          "user_tz": -180,
          "elapsed": 2928,
          "user": {
            "displayName": "Ömer Yalçın",
            "photoUrl": "//lh6.googleusercontent.com/-KYS0k8F_jss/AAAAAAAAAAI/AAAAAAAABGM/XoQZ3tR-BuA/s50-c-k-no/photo.jpg",
            "userId": "107209192184149810541"
          }
        }
      },
      "cell_type": "code",
      "source": [
        "plt.figure(figsize=(10,6))\n",
        "plt.plot(model_history.history[\"acc\"])\n",
        "plt.plot(model_history.history[\"val_acc\"])\n",
        "plt.legend([\"train\",\"validation\"])"
      ],
      "execution_count": 154,
      "outputs": [
        {
          "output_type": "execute_result",
          "data": {
            "text/plain": [
              "<matplotlib.legend.Legend at 0x7f4048e6d048>"
            ]
          },
          "metadata": {
            "tags": []
          },
          "execution_count": 154
        },
        {
          "output_type": "display_data",
          "data": {
            "image/png": "[encoded data removed]",
            "text/plain": [
              "<matplotlib.figure.Figure at 0x7f4048e95ba8>"
            ]
          },
          "metadata": {
            "tags": []
          }
        }
      ]
    },
    {
      "metadata": {
        "id": "YugT2z-6S0U0",
        "colab_type": "code",
        "colab": {
          "autoexec": {
            "startup": false,
            "wait_interval": 0
          },
          "base_uri": "https://localhost:8080/",
          "height": 53
        },
        "outputId": "a290dba0-c626-4651-e28d-b30fe323d474",
        "executionInfo": {
          "status": "ok",
          "timestamp": 1531670436304,
          "user_tz": -180,
          "elapsed": 1032,
          "user": {
            "displayName": "Ömer Yalçın",
            "photoUrl": "//lh6.googleusercontent.com/-KYS0k8F_jss/AAAAAAAAAAI/AAAAAAAABGM/XoQZ3tR-BuA/s50-c-k-no/photo.jpg",
            "userId": "107209192184149810541"
          }
        }
      },
      "cell_type": "code",
      "source": [
        "model.evaluate(x_ts,y_ts)"
      ],
      "execution_count": 155,
      "outputs": [
        {
          "output_type": "stream",
          "text": [
            "285/285 [==============================] - 0s 139us/step\n"
          ],
          "name": "stdout"
        },
        {
          "output_type": "execute_result",
          "data": {
            "text/plain": [
              "[0.9568404726814805, 0.8350877182525501]"
            ]
          },
          "metadata": {
            "tags": []
          },
          "execution_count": 155
        }
      ]
    },
    {
      "metadata": {
        "id": "Y3A1qHPYS0U4",
        "colab_type": "code",
        "colab": {
          "autoexec": {
            "startup": false,
            "wait_interval": 0
          },
          "base_uri": "https://localhost:8080/",
          "height": 35
        },
        "outputId": "f943ea01-dd38-41a3-a95a-730c6da43101",
        "executionInfo": {
          "status": "ok",
          "timestamp": 1531670438615,
          "user_tz": -180,
          "elapsed": 638,
          "user": {
            "displayName": "Ömer Yalçın",
            "photoUrl": "//lh6.googleusercontent.com/-KYS0k8F_jss/AAAAAAAAAAI/AAAAAAAABGM/XoQZ3tR-BuA/s50-c-k-no/photo.jpg",
            "userId": "107209192184149810541"
          }
        }
      },
      "cell_type": "code",
      "source": [
        "np.array(model_history.history[\"val_acc\"][-15:]).mean()"
      ],
      "execution_count": 156,
      "outputs": [
        {
          "output_type": "execute_result",
          "data": {
            "text/plain": [
              "0.8339181275535048"
            ]
          },
          "metadata": {
            "tags": []
          },
          "execution_count": 156
        }
      ]
    },
    {
      "metadata": {
        "id": "Zgjsh-i2S0U-",
        "colab_type": "code",
        "colab": {
          "autoexec": {
            "startup": false,
            "wait_interval": 0
          },
          "base_uri": "https://localhost:8080/",
          "height": 35
        },
        "outputId": "d3de99a6-25dc-4927-b879-289ec6adbdc5",
        "executionInfo": {
          "status": "ok",
          "timestamp": 1531670440421,
          "user_tz": -180,
          "elapsed": 693,
          "user": {
            "displayName": "Ömer Yalçın",
            "photoUrl": "//lh6.googleusercontent.com/-KYS0k8F_jss/AAAAAAAAAAI/AAAAAAAABGM/XoQZ3tR-BuA/s50-c-k-no/photo.jpg",
            "userId": "107209192184149810541"
          }
        }
      },
      "cell_type": "code",
      "source": [
        "np.array(model_history.history[\"acc\"][-15:]).mean()"
      ],
      "execution_count": 157,
      "outputs": [
        {
          "output_type": "execute_result",
          "data": {
            "text/plain": [
              "0.9713840116255466"
            ]
          },
          "metadata": {
            "tags": []
          },
          "execution_count": 157
        }
      ]
    },
    {
      "metadata": {
        "id": "E17zQWqqS0VE",
        "colab_type": "text"
      },
      "cell_type": "markdown",
      "source": [
        "### Convnet Part"
      ]
    },
    {
      "metadata": {
        "id": "Ev6GOTvNV1g0",
        "colab_type": "code",
        "colab": {
          "autoexec": {
            "startup": false,
            "wait_interval": 0
          }
        }
      },
      "cell_type": "code",
      "source": [
        "x_tr,x_ts,y_tr,y_ts=train_test_split(face.data.reshape([1140,62,47,1]),\n",
        "                                                            face.target)"
      ],
      "execution_count": 0,
      "outputs": []
    },
    {
      "metadata": {
        "id": "GOcgOk81WHxH",
        "colab_type": "code",
        "colab": {
          "autoexec": {
            "startup": false,
            "wait_interval": 0
          },
          "base_uri": "https://localhost:8080/",
          "height": 35
        },
        "outputId": "33746ef9-64b0-4171-9370-04e2d5d2bef0",
        "executionInfo": {
          "status": "ok",
          "timestamp": 1531670458294,
          "user_tz": -180,
          "elapsed": 626,
          "user": {
            "displayName": "Ömer Yalçın",
            "photoUrl": "//lh6.googleusercontent.com/-KYS0k8F_jss/AAAAAAAAAAI/AAAAAAAABGM/XoQZ3tR-BuA/s50-c-k-no/photo.jpg",
            "userId": "107209192184149810541"
          }
        }
      },
      "cell_type": "code",
      "source": [
        "x_tr=x_tr/255\n",
        "x_ts=x_ts/255\n",
        "y_tr=to_categorical(y_tr)\n",
        "y_ts=to_categorical(y_ts)\n",
        "y_ts.shape"
      ],
      "execution_count": 159,
      "outputs": [
        {
          "output_type": "execute_result",
          "data": {
            "text/plain": [
              "(285, 5)"
            ]
          },
          "metadata": {
            "tags": []
          },
          "execution_count": 159
        }
      ]
    },
    {
      "metadata": {
        "id": "OGwBHRPGWPYG",
        "colab_type": "code",
        "colab": {
          "autoexec": {
            "startup": false,
            "wait_interval": 0
          },
          "base_uri": "https://localhost:8080/",
          "height": 611
        },
        "outputId": "c7c079ed-fba3-426c-f26b-6e59abd97505",
        "executionInfo": {
          "status": "ok",
          "timestamp": 1531670460002,
          "user_tz": -180,
          "elapsed": 621,
          "user": {
            "displayName": "Ömer Yalçın",
            "photoUrl": "//lh6.googleusercontent.com/-KYS0k8F_jss/AAAAAAAAAAI/AAAAAAAABGM/XoQZ3tR-BuA/s50-c-k-no/photo.jpg",
            "userId": "107209192184149810541"
          }
        }
      },
      "cell_type": "code",
      "source": [
        "model=models.Sequential()\n",
        "model.add(layers.Conv2D(32,(3,3),activation=\"elu\",input_shape=(62,47,1)))\n",
        "model.add(layers.MaxPooling2D((2,2)))\n",
        "model.add(layers.Dropout(0.3))\n",
        "model.add(layers.Conv2D(64,(3,3),activation=\"elu\"))\n",
        "model.add(layers.MaxPooling2D((2,2)))\n",
        "model.add(layers.Dropout(0.3))\n",
        "model.add(layers.Conv2D(128,(3,3),activation=\"elu\"))\n",
        "model.add(layers.MaxPooling2D((2,2)))\n",
        "model.add(layers.Flatten())\n",
        "model.add(layers.Dropout(0.3))\n",
        "model.add(layers.Dense(512,activation=\"elu\"))\n",
        "model.add(layers.Dropout(0.4))\n",
        "model.add(layers.Dense(5,activation=\"softmax\"))\n",
        "\n",
        "model.summary()"
      ],
      "execution_count": 160,
      "outputs": [
        {
          "output_type": "stream",
          "text": [
            "_________________________________________________________________\n",
            "Layer (type)                 Output Shape              Param #   \n",
            "=================================================================\n",
            "conv2d_66 (Conv2D)           (None, 60, 45, 32)        320       \n",
            "_________________________________________________________________\n",
            "max_pooling2d_26 (MaxPooling (None, 30, 22, 32)        0         \n",
            "_________________________________________________________________\n",
            "dropout_65 (Dropout)         (None, 30, 22, 32)        0         \n",
            "_________________________________________________________________\n",
            "conv2d_67 (Conv2D)           (None, 28, 20, 64)        18496     \n",
            "_________________________________________________________________\n",
            "max_pooling2d_27 (MaxPooling (None, 14, 10, 64)        0         \n",
            "_________________________________________________________________\n",
            "dropout_66 (Dropout)         (None, 14, 10, 64)        0         \n",
            "_________________________________________________________________\n",
            "conv2d_68 (Conv2D)           (None, 12, 8, 128)        73856     \n",
            "_________________________________________________________________\n",
            "max_pooling2d_28 (MaxPooling (None, 6, 4, 128)         0         \n",
            "_________________________________________________________________\n",
            "flatten_6 (Flatten)          (None, 3072)              0         \n",
            "_________________________________________________________________\n",
            "dropout_67 (Dropout)         (None, 3072)              0         \n",
            "_________________________________________________________________\n",
            "dense_12 (Dense)             (None, 512)               1573376   \n",
            "_________________________________________________________________\n",
            "dropout_68 (Dropout)         (None, 512)               0         \n",
            "_________________________________________________________________\n",
            "dense_13 (Dense)             (None, 5)                 2565      \n",
            "=================================================================\n",
            "Total params: 1,668,613\n",
            "Trainable params: 1,668,613\n",
            "Non-trainable params: 0\n",
            "_________________________________________________________________\n"
          ],
          "name": "stdout"
        }
      ]
    },
    {
      "metadata": {
        "id": "hm5grITHXfxo",
        "colab_type": "code",
        "colab": {
          "autoexec": {
            "startup": false,
            "wait_interval": 0
          }
        }
      },
      "cell_type": "code",
      "source": [
        "model.compile(optimizer=\"adam\",loss=\"categorical_crossentropy\",metrics=[\"accuracy\"])\n"
      ],
      "execution_count": 0,
      "outputs": []
    },
    {
      "metadata": {
        "id": "X-0PILnpXsck",
        "colab_type": "code",
        "colab": {
          "autoexec": {
            "startup": false,
            "wait_interval": 0
          },
          "base_uri": "https://localhost:8080/",
          "height": 4355
        },
        "outputId": "eb9781ca-2cd4-424c-be84-7e602b69e8f3",
        "executionInfo": {
          "status": "ok",
          "timestamp": 1531670521987,
          "user_tz": -180,
          "elapsed": 57624,
          "user": {
            "displayName": "Ömer Yalçın",
            "photoUrl": "//lh6.googleusercontent.com/-KYS0k8F_jss/AAAAAAAAAAI/AAAAAAAABGM/XoQZ3tR-BuA/s50-c-k-no/photo.jpg",
            "userId": "107209192184149810541"
          }
        }
      },
      "cell_type": "code",
      "source": [
        "\n",
        "train_history=model.fit(x_tr,y_tr,batch_size=64,epochs=120,\n",
        "                        validation_data=(x_ts,y_ts))"
      ],
      "execution_count": 162,
      "outputs": [
        {
          "output_type": "stream",
          "text": [
            "Train on 855 samples, validate on 285 samples\n",
            "Epoch 1/120\n",
            "855/855 [==============================] - 10s 12ms/step - loss: 1.6974 - acc: 0.3673 - val_loss: 1.6029 - val_acc: 0.1930\n",
            "Epoch 2/120\n",
            "855/855 [==============================] - 0s 482us/step - loss: 1.4332 - acc: 0.4620 - val_loss: 1.4409 - val_acc: 0.4667\n",
            "Epoch 3/120\n",
            "855/855 [==============================] - 0s 468us/step - loss: 1.3513 - acc: 0.4713 - val_loss: 1.4849 - val_acc: 0.5228\n",
            "Epoch 4/120\n",
            "855/855 [==============================] - 0s 475us/step - loss: 1.3360 - acc: 0.4854 - val_loss: 1.3661 - val_acc: 0.4596\n",
            "Epoch 5/120\n",
            "855/855 [==============================] - 0s 463us/step - loss: 1.1930 - acc: 0.5170 - val_loss: 1.1246 - val_acc: 0.5614\n",
            "Epoch 6/120\n",
            "855/855 [==============================] - 0s 461us/step - loss: 1.0416 - acc: 0.6246 - val_loss: 0.9946 - val_acc: 0.5895\n",
            "Epoch 7/120\n",
            "855/855 [==============================] - 0s 467us/step - loss: 0.8404 - acc: 0.7053 - val_loss: 0.7747 - val_acc: 0.7298\n",
            "Epoch 8/120\n",
            "855/855 [==============================] - 0s 462us/step - loss: 0.7206 - acc: 0.7404 - val_loss: 0.7333 - val_acc: 0.7439\n",
            "Epoch 9/120\n",
            "855/855 [==============================] - 0s 463us/step - loss: 0.5782 - acc: 0.8000 - val_loss: 0.6083 - val_acc: 0.7895\n",
            "Epoch 10/120\n",
            "855/855 [==============================] - 0s 465us/step - loss: 0.5214 - acc: 0.8199 - val_loss: 0.5629 - val_acc: 0.8070\n",
            "Epoch 11/120\n",
            "855/855 [==============================] - 0s 467us/step - loss: 0.4534 - acc: 0.8491 - val_loss: 0.5470 - val_acc: 0.8070\n",
            "Epoch 12/120\n",
            "855/855 [==============================] - 0s 470us/step - loss: 0.4137 - acc: 0.8643 - val_loss: 0.4673 - val_acc: 0.8632\n",
            "Epoch 13/120\n",
            "855/855 [==============================] - 0s 468us/step - loss: 0.3555 - acc: 0.8842 - val_loss: 0.5012 - val_acc: 0.8105\n"
          ],
          "name": "stdout"
        },
        {
          "output_type": "stream",
          "text": [
            "Epoch 14/120\n",
            "855/855 [==============================] - 0s 463us/step - loss: 0.3527 - acc: 0.8737 - val_loss: 0.4670 - val_acc: 0.8561\n",
            "Epoch 15/120\n",
            "855/855 [==============================] - 0s 456us/step - loss: 0.2662 - acc: 0.9111 - val_loss: 0.4458 - val_acc: 0.8456\n",
            "Epoch 16/120\n",
            "855/855 [==============================] - 0s 467us/step - loss: 0.2523 - acc: 0.9158 - val_loss: 0.4816 - val_acc: 0.8667\n",
            "Epoch 17/120\n",
            "855/855 [==============================] - 0s 460us/step - loss: 0.2338 - acc: 0.9123 - val_loss: 0.4475 - val_acc: 0.8526\n",
            "Epoch 18/120\n",
            "855/855 [==============================] - 0s 463us/step - loss: 0.2166 - acc: 0.9216 - val_loss: 0.4079 - val_acc: 0.8491\n",
            "Epoch 19/120\n",
            "855/855 [==============================] - 0s 450us/step - loss: 0.1892 - acc: 0.9322 - val_loss: 0.4370 - val_acc: 0.8632\n",
            "Epoch 20/120\n",
            "855/855 [==============================] - 0s 450us/step - loss: 0.1754 - acc: 0.9427 - val_loss: 0.3584 - val_acc: 0.8807\n",
            "Epoch 21/120\n",
            "855/855 [==============================] - 0s 453us/step - loss: 0.1490 - acc: 0.9474 - val_loss: 0.4001 - val_acc: 0.8632\n",
            "Epoch 22/120\n",
            "855/855 [==============================] - 0s 432us/step - loss: 0.1321 - acc: 0.9462 - val_loss: 0.4821 - val_acc: 0.8667\n",
            "Epoch 23/120\n",
            "855/855 [==============================] - 0s 445us/step - loss: 0.1143 - acc: 0.9602 - val_loss: 0.4135 - val_acc: 0.8877\n",
            "Epoch 24/120\n",
            "855/855 [==============================] - 0s 445us/step - loss: 0.1256 - acc: 0.9544 - val_loss: 0.3149 - val_acc: 0.9228\n",
            "Epoch 25/120\n",
            "855/855 [==============================] - 0s 448us/step - loss: 0.1062 - acc: 0.9602 - val_loss: 0.3429 - val_acc: 0.8947\n",
            "Epoch 26/120\n",
            "855/855 [==============================] - 0s 463us/step - loss: 0.1028 - acc: 0.9661 - val_loss: 0.3595 - val_acc: 0.8947\n",
            "Epoch 27/120\n",
            "512/855 [================>.............] - ETA: 0s - loss: 0.0638 - acc: 0.9844"
          ],
          "name": "stdout"
        },
        {
          "output_type": "stream",
          "text": [
            "855/855 [==============================] - 0s 451us/step - loss: 0.0618 - acc: 0.9836 - val_loss: 0.3155 - val_acc: 0.9123\n",
            "Epoch 28/120\n",
            "855/855 [==============================] - 0s 455us/step - loss: 0.0566 - acc: 0.9848 - val_loss: 0.2843 - val_acc: 0.9228\n",
            "Epoch 29/120\n",
            "855/855 [==============================] - 0s 453us/step - loss: 0.0597 - acc: 0.9813 - val_loss: 0.3144 - val_acc: 0.9123\n",
            "Epoch 30/120\n",
            "855/855 [==============================] - 0s 459us/step - loss: 0.0369 - acc: 0.9965 - val_loss: 0.3226 - val_acc: 0.9158\n",
            "Epoch 31/120\n",
            "855/855 [==============================] - 0s 457us/step - loss: 0.0366 - acc: 0.9895 - val_loss: 0.2995 - val_acc: 0.9193\n",
            "Epoch 32/120\n",
            "855/855 [==============================] - 0s 448us/step - loss: 0.0503 - acc: 0.9836 - val_loss: 0.3021 - val_acc: 0.9228\n",
            "Epoch 33/120\n",
            "855/855 [==============================] - 0s 451us/step - loss: 0.0536 - acc: 0.9801 - val_loss: 0.3584 - val_acc: 0.9053\n",
            "Epoch 34/120\n",
            "855/855 [==============================] - 0s 440us/step - loss: 0.0595 - acc: 0.9801 - val_loss: 0.3638 - val_acc: 0.9123\n",
            "Epoch 35/120\n",
            "855/855 [==============================] - 0s 451us/step - loss: 0.0455 - acc: 0.9883 - val_loss: 0.3075 - val_acc: 0.9263\n",
            "Epoch 36/120\n",
            "855/855 [==============================] - 0s 458us/step - loss: 0.0502 - acc: 0.9789 - val_loss: 0.3750 - val_acc: 0.8947\n",
            "Epoch 37/120\n",
            "855/855 [==============================] - 0s 450us/step - loss: 0.0473 - acc: 0.9766 - val_loss: 0.3287 - val_acc: 0.9228\n",
            "Epoch 38/120\n",
            "855/855 [==============================] - 0s 458us/step - loss: 0.0379 - acc: 0.9871 - val_loss: 0.3094 - val_acc: 0.9088\n",
            "Epoch 39/120\n",
            "855/855 [==============================] - 0s 467us/step - loss: 0.0246 - acc: 0.9918 - val_loss: 0.3292 - val_acc: 0.9193\n",
            "Epoch 40/120\n",
            "576/855 [===================>..........] - ETA: 0s - loss: 0.0425 - acc: 0.9913"
          ],
          "name": "stdout"
        },
        {
          "output_type": "stream",
          "text": [
            "855/855 [==============================] - 0s 458us/step - loss: 0.0356 - acc: 0.9918 - val_loss: 0.3449 - val_acc: 0.9088\n",
            "Epoch 41/120\n",
            "855/855 [==============================] - 0s 443us/step - loss: 0.0275 - acc: 0.9930 - val_loss: 0.3707 - val_acc: 0.8982\n",
            "Epoch 42/120\n",
            "855/855 [==============================] - 0s 442us/step - loss: 0.0397 - acc: 0.9871 - val_loss: 0.3121 - val_acc: 0.9158\n",
            "Epoch 43/120\n",
            "855/855 [==============================] - 0s 442us/step - loss: 0.0399 - acc: 0.9836 - val_loss: 0.3455 - val_acc: 0.9123\n",
            "Epoch 44/120\n",
            "855/855 [==============================] - 0s 456us/step - loss: 0.0395 - acc: 0.9848 - val_loss: 0.3655 - val_acc: 0.9088\n",
            "Epoch 45/120\n",
            "855/855 [==============================] - 0s 445us/step - loss: 0.0304 - acc: 0.9930 - val_loss: 0.3415 - val_acc: 0.9123\n",
            "Epoch 46/120\n",
            "855/855 [==============================] - 0s 445us/step - loss: 0.0277 - acc: 0.9918 - val_loss: 0.3112 - val_acc: 0.9263\n",
            "Epoch 47/120\n",
            "855/855 [==============================] - 0s 444us/step - loss: 0.0353 - acc: 0.9871 - val_loss: 0.3547 - val_acc: 0.9193\n",
            "Epoch 48/120\n",
            "855/855 [==============================] - 0s 456us/step - loss: 0.0229 - acc: 0.9930 - val_loss: 0.3055 - val_acc: 0.9193\n",
            "Epoch 49/120\n",
            "855/855 [==============================] - 0s 441us/step - loss: 0.0257 - acc: 0.9848 - val_loss: 0.2981 - val_acc: 0.9368\n",
            "Epoch 50/120\n",
            "855/855 [==============================] - 0s 453us/step - loss: 0.0228 - acc: 0.9883 - val_loss: 0.3105 - val_acc: 0.9263\n",
            "Epoch 51/120\n",
            "855/855 [==============================] - 0s 446us/step - loss: 0.0212 - acc: 0.9930 - val_loss: 0.3164 - val_acc: 0.9228\n",
            "Epoch 52/120\n",
            "855/855 [==============================] - 0s 447us/step - loss: 0.0139 - acc: 0.9977 - val_loss: 0.3392 - val_acc: 0.9158\n",
            "Epoch 53/120\n",
            "704/855 [=======================>......] - ETA: 0s - loss: 0.0167 - acc: 0.9957"
          ],
          "name": "stdout"
        },
        {
          "output_type": "stream",
          "text": [
            "855/855 [==============================] - 0s 449us/step - loss: 0.0153 - acc: 0.9965 - val_loss: 0.3466 - val_acc: 0.9088\n",
            "Epoch 54/120\n",
            "855/855 [==============================] - 0s 451us/step - loss: 0.0174 - acc: 0.9942 - val_loss: 0.3137 - val_acc: 0.9228\n",
            "Epoch 55/120\n",
            "855/855 [==============================] - 0s 453us/step - loss: 0.0051 - acc: 0.9988 - val_loss: 0.3107 - val_acc: 0.9193\n",
            "Epoch 56/120\n",
            "855/855 [==============================] - 0s 457us/step - loss: 0.0103 - acc: 0.9953 - val_loss: 0.2800 - val_acc: 0.9298\n",
            "Epoch 57/120\n",
            "855/855 [==============================] - 0s 453us/step - loss: 0.0055 - acc: 0.9977 - val_loss: 0.2865 - val_acc: 0.9263\n",
            "Epoch 58/120\n",
            "855/855 [==============================] - 0s 453us/step - loss: 0.0147 - acc: 0.9930 - val_loss: 0.3409 - val_acc: 0.9088\n",
            "Epoch 59/120\n",
            "855/855 [==============================] - 0s 439us/step - loss: 0.0210 - acc: 0.9942 - val_loss: 0.3266 - val_acc: 0.9263\n",
            "Epoch 60/120\n",
            "855/855 [==============================] - 0s 430us/step - loss: 0.0258 - acc: 0.9883 - val_loss: 0.3947 - val_acc: 0.9088\n",
            "Epoch 61/120\n",
            "855/855 [==============================] - 0s 439us/step - loss: 0.0268 - acc: 0.9906 - val_loss: 0.3202 - val_acc: 0.9228\n",
            "Epoch 62/120\n",
            "855/855 [==============================] - 0s 441us/step - loss: 0.0209 - acc: 0.9930 - val_loss: 0.2976 - val_acc: 0.9333\n",
            "Epoch 63/120\n",
            "855/855 [==============================] - 0s 446us/step - loss: 0.0282 - acc: 0.9895 - val_loss: 0.2716 - val_acc: 0.9368\n",
            "Epoch 64/120\n",
            "855/855 [==============================] - 0s 448us/step - loss: 0.0274 - acc: 0.9895 - val_loss: 0.3497 - val_acc: 0.9228\n",
            "Epoch 65/120\n",
            "855/855 [==============================] - 0s 442us/step - loss: 0.0356 - acc: 0.9906 - val_loss: 0.3912 - val_acc: 0.9193\n",
            "Epoch 66/120\n",
            "832/855 [============================>.] - ETA: 0s - loss: 0.0479 - acc: 0.9844"
          ],
          "name": "stdout"
        },
        {
          "output_type": "stream",
          "text": [
            "855/855 [==============================] - 0s 447us/step - loss: 0.0471 - acc: 0.9848 - val_loss: 0.4112 - val_acc: 0.9088\n",
            "Epoch 67/120\n",
            "855/855 [==============================] - 0s 446us/step - loss: 0.0504 - acc: 0.9848 - val_loss: 0.3434 - val_acc: 0.9228\n",
            "Epoch 68/120\n",
            "855/855 [==============================] - 0s 438us/step - loss: 0.0361 - acc: 0.9860 - val_loss: 0.4341 - val_acc: 0.9053\n",
            "Epoch 69/120\n",
            "855/855 [==============================] - 0s 458us/step - loss: 0.0328 - acc: 0.9883 - val_loss: 0.3566 - val_acc: 0.9158\n",
            "Epoch 70/120\n",
            "855/855 [==============================] - 0s 454us/step - loss: 0.0235 - acc: 0.9906 - val_loss: 0.2739 - val_acc: 0.9333\n",
            "Epoch 71/120\n",
            "855/855 [==============================] - 0s 440us/step - loss: 0.0188 - acc: 0.9895 - val_loss: 0.2951 - val_acc: 0.9368\n",
            "Epoch 72/120\n",
            "855/855 [==============================] - 0s 435us/step - loss: 0.0090 - acc: 0.9977 - val_loss: 0.2810 - val_acc: 0.9333\n",
            "Epoch 73/120\n",
            "855/855 [==============================] - 0s 435us/step - loss: 0.0153 - acc: 0.9942 - val_loss: 0.3089 - val_acc: 0.9263\n",
            "Epoch 74/120\n",
            "855/855 [==============================] - 0s 444us/step - loss: 0.0095 - acc: 0.9965 - val_loss: 0.3253 - val_acc: 0.9298\n",
            "Epoch 75/120\n",
            "855/855 [==============================] - 0s 440us/step - loss: 0.0074 - acc: 0.9977 - val_loss: 0.3523 - val_acc: 0.9298\n",
            "Epoch 76/120\n",
            "855/855 [==============================] - 0s 442us/step - loss: 0.0032 - acc: 1.0000 - val_loss: 0.3855 - val_acc: 0.9228\n",
            "Epoch 77/120\n",
            "855/855 [==============================] - 0s 442us/step - loss: 0.0047 - acc: 0.9988 - val_loss: 0.3240 - val_acc: 0.9368\n",
            "Epoch 78/120\n",
            "855/855 [==============================] - 0s 449us/step - loss: 0.0051 - acc: 0.9988 - val_loss: 0.3111 - val_acc: 0.9298\n",
            "Epoch 79/120\n",
            "512/855 [================>.............] - ETA: 0s - loss: 0.0061 - acc: 0.9980"
          ],
          "name": "stdout"
        },
        {
          "output_type": "stream",
          "text": [
            "855/855 [==============================] - 0s 442us/step - loss: 0.0068 - acc: 0.9977 - val_loss: 0.2838 - val_acc: 0.9404\n",
            "Epoch 80/120\n",
            "855/855 [==============================] - 0s 450us/step - loss: 0.0078 - acc: 0.9977 - val_loss: 0.3177 - val_acc: 0.9368\n",
            "Epoch 81/120\n",
            "855/855 [==============================] - 0s 433us/step - loss: 0.0069 - acc: 0.9988 - val_loss: 0.3029 - val_acc: 0.9263\n",
            "Epoch 82/120\n",
            "855/855 [==============================] - 0s 439us/step - loss: 0.0088 - acc: 0.9953 - val_loss: 0.3216 - val_acc: 0.9298\n",
            "Epoch 83/120\n",
            "855/855 [==============================] - 0s 447us/step - loss: 0.0229 - acc: 0.9930 - val_loss: 0.3552 - val_acc: 0.9263\n",
            "Epoch 84/120\n",
            "855/855 [==============================] - 0s 444us/step - loss: 0.0086 - acc: 0.9953 - val_loss: 0.3996 - val_acc: 0.9298\n",
            "Epoch 85/120\n",
            "855/855 [==============================] - 0s 440us/step - loss: 0.0655 - acc: 0.9848 - val_loss: 0.4205 - val_acc: 0.9123\n",
            "Epoch 86/120\n",
            "855/855 [==============================] - 0s 442us/step - loss: 0.0382 - acc: 0.9860 - val_loss: 0.4354 - val_acc: 0.9053\n",
            "Epoch 87/120\n",
            "855/855 [==============================] - 0s 434us/step - loss: 0.0366 - acc: 0.9871 - val_loss: 0.3370 - val_acc: 0.9333\n",
            "Epoch 88/120\n",
            "855/855 [==============================] - 0s 448us/step - loss: 0.0371 - acc: 0.9860 - val_loss: 0.4010 - val_acc: 0.9123\n",
            "Epoch 89/120\n",
            "855/855 [==============================] - 0s 460us/step - loss: 0.0510 - acc: 0.9860 - val_loss: 0.5650 - val_acc: 0.9018\n",
            "Epoch 90/120\n",
            "855/855 [==============================] - 0s 460us/step - loss: 0.0262 - acc: 0.9895 - val_loss: 0.4281 - val_acc: 0.9228\n",
            "Epoch 91/120\n",
            "855/855 [==============================] - 0s 460us/step - loss: 0.0101 - acc: 0.9942 - val_loss: 0.4386 - val_acc: 0.9193\n",
            "Epoch 92/120\n",
            "640/855 [=====================>........] - ETA: 0s - loss: 0.0180 - acc: 0.9906"
          ],
          "name": "stdout"
        },
        {
          "output_type": "stream",
          "text": [
            "855/855 [==============================] - 0s 448us/step - loss: 0.0145 - acc: 0.9930 - val_loss: 0.3610 - val_acc: 0.9298\n",
            "Epoch 93/120\n",
            "855/855 [==============================] - 0s 447us/step - loss: 0.0061 - acc: 0.9977 - val_loss: 0.3402 - val_acc: 0.9333\n",
            "Epoch 94/120\n",
            "855/855 [==============================] - 0s 432us/step - loss: 0.0032 - acc: 0.9988 - val_loss: 0.3920 - val_acc: 0.9193\n",
            "Epoch 95/120\n",
            "855/855 [==============================] - 0s 441us/step - loss: 0.0228 - acc: 0.9930 - val_loss: 0.3414 - val_acc: 0.9193\n",
            "Epoch 96/120\n",
            "855/855 [==============================] - 0s 449us/step - loss: 0.0111 - acc: 0.9953 - val_loss: 0.3254 - val_acc: 0.9298\n",
            "Epoch 97/120\n",
            "855/855 [==============================] - 0s 442us/step - loss: 0.0110 - acc: 0.9965 - val_loss: 0.4224 - val_acc: 0.9158\n",
            "Epoch 98/120\n",
            "855/855 [==============================] - 0s 445us/step - loss: 0.0053 - acc: 0.9977 - val_loss: 0.3952 - val_acc: 0.9263\n",
            "Epoch 99/120\n",
            "855/855 [==============================] - 0s 446us/step - loss: 0.0090 - acc: 0.9965 - val_loss: 0.3807 - val_acc: 0.9333\n",
            "Epoch 100/120\n",
            "855/855 [==============================] - 0s 442us/step - loss: 0.0160 - acc: 0.9977 - val_loss: 0.3995 - val_acc: 0.9158\n",
            "Epoch 101/120\n",
            "855/855 [==============================] - 0s 445us/step - loss: 0.0107 - acc: 0.9965 - val_loss: 0.3413 - val_acc: 0.9263\n",
            "Epoch 102/120\n",
            "855/855 [==============================] - 0s 442us/step - loss: 0.0259 - acc: 0.9918 - val_loss: 0.4649 - val_acc: 0.9123\n",
            "Epoch 103/120\n",
            "855/855 [==============================] - 0s 443us/step - loss: 0.0315 - acc: 0.9918 - val_loss: 0.4168 - val_acc: 0.9228\n",
            "Epoch 104/120\n",
            "855/855 [==============================] - 0s 439us/step - loss: 0.0431 - acc: 0.9906 - val_loss: 0.5772 - val_acc: 0.9123\n",
            "Epoch 105/120\n",
            "384/855 [============>.................] - ETA: 0s - loss: 0.0083 - acc: 0.9974"
          ],
          "name": "stdout"
        },
        {
          "output_type": "stream",
          "text": [
            "855/855 [==============================] - 0s 455us/step - loss: 0.0301 - acc: 0.9906 - val_loss: 0.4717 - val_acc: 0.9088\n",
            "Epoch 106/120\n",
            "855/855 [==============================] - 0s 454us/step - loss: 0.0183 - acc: 0.9918 - val_loss: 0.4959 - val_acc: 0.8947\n",
            "Epoch 107/120\n",
            "855/855 [==============================] - 0s 448us/step - loss: 0.1060 - acc: 0.9825 - val_loss: 0.7839 - val_acc: 0.8561\n",
            "Epoch 108/120\n",
            "855/855 [==============================] - 0s 451us/step - loss: 0.0703 - acc: 0.9754 - val_loss: 0.4105 - val_acc: 0.9123\n",
            "Epoch 109/120\n",
            "855/855 [==============================] - 0s 435us/step - loss: 0.0885 - acc: 0.9754 - val_loss: 0.5220 - val_acc: 0.8807\n",
            "Epoch 110/120\n",
            "855/855 [==============================] - 0s 463us/step - loss: 0.0706 - acc: 0.9801 - val_loss: 0.4164 - val_acc: 0.9158\n",
            "Epoch 111/120\n",
            "855/855 [==============================] - 0s 445us/step - loss: 0.0411 - acc: 0.9860 - val_loss: 0.4441 - val_acc: 0.9333\n",
            "Epoch 112/120\n",
            "855/855 [==============================] - 0s 440us/step - loss: 0.0291 - acc: 0.9906 - val_loss: 0.4223 - val_acc: 0.9368\n",
            "Epoch 113/120\n",
            "855/855 [==============================] - 0s 457us/step - loss: 0.0313 - acc: 0.9906 - val_loss: 0.3647 - val_acc: 0.9368\n",
            "Epoch 114/120\n",
            "855/855 [==============================] - 0s 457us/step - loss: 0.0209 - acc: 0.9918 - val_loss: 0.3992 - val_acc: 0.9158\n",
            "Epoch 115/120\n",
            "855/855 [==============================] - 0s 451us/step - loss: 0.0097 - acc: 0.9942 - val_loss: 0.3396 - val_acc: 0.9298\n",
            "Epoch 116/120\n",
            "855/855 [==============================] - 0s 451us/step - loss: 0.0214 - acc: 0.9918 - val_loss: 0.3051 - val_acc: 0.9298\n",
            "Epoch 117/120\n",
            "855/855 [==============================] - 0s 457us/step - loss: 0.0034 - acc: 0.9988 - val_loss: 0.3077 - val_acc: 0.9404\n",
            "Epoch 118/120\n",
            "448/855 [==============>...............] - ETA: 0s - loss: 0.0050 - acc: 1.0000"
          ],
          "name": "stdout"
        },
        {
          "output_type": "stream",
          "text": [
            "855/855 [==============================] - 0s 461us/step - loss: 0.0195 - acc: 0.9942 - val_loss: 0.3215 - val_acc: 0.9368\n",
            "Epoch 119/120\n",
            "855/855 [==============================] - 0s 441us/step - loss: 0.0442 - acc: 0.9883 - val_loss: 0.3767 - val_acc: 0.9439\n",
            "Epoch 120/120\n",
            "855/855 [==============================] - 0s 474us/step - loss: 0.0269 - acc: 0.9942 - val_loss: 0.3580 - val_acc: 0.9368\n"
          ],
          "name": "stdout"
        }
      ]
    },
    {
      "metadata": {
        "id": "Rz25KGRyX9Ny",
        "colab_type": "code",
        "colab": {
          "autoexec": {
            "startup": false,
            "wait_interval": 0
          },
          "base_uri": "https://localhost:8080/",
          "height": 392
        },
        "outputId": "d1b97419-41ca-47d8-9e81-f8ba5e73aa0c",
        "executionInfo": {
          "status": "ok",
          "timestamp": 1531672347041,
          "user_tz": -180,
          "elapsed": 708,
          "user": {
            "displayName": "Ömer Yalçın",
            "photoUrl": "//lh6.googleusercontent.com/-KYS0k8F_jss/AAAAAAAAAAI/AAAAAAAABGM/XoQZ3tR-BuA/s50-c-k-no/photo.jpg",
            "userId": "107209192184149810541"
          }
        }
      },
      "cell_type": "code",
      "source": [
        "plt.figure(figsize=(10,6))\n",
        "plt.plot(train_history.history[\"acc\"])\n",
        "plt.plot(train_history.history[\"val_acc\"])\n",
        "plt.legend([\"train\",\"validation\"])"
      ],
      "execution_count": 163,
      "outputs": [
        {
          "output_type": "execute_result",
          "data": {
            "text/plain": [
              "<matplotlib.legend.Legend at 0x7f4042296c88>"
            ]
          },
          "metadata": {
            "tags": []
          },
          "execution_count": 163
        },
        {
          "output_type": "display_data",
          "data": {
            "image/png": "[encoded data removed]",
            "text/plain": [
              "<matplotlib.figure.Figure at 0x7f4042222b00>"
            ]
          },
          "metadata": {
            "tags": []
          }
        }
      ]
    },
    {
      "metadata": {
        "id": "9mhZpJqyc4KY",
        "colab_type": "code",
        "colab": {
          "autoexec": {
            "startup": false,
            "wait_interval": 0
          },
          "base_uri": "https://localhost:8080/",
          "height": 53
        },
        "outputId": "fe011e0a-2a51-4a70-a5bd-b53f498cc366",
        "executionInfo": {
          "status": "ok",
          "timestamp": 1531672355045,
          "user_tz": -180,
          "elapsed": 587,
          "user": {
            "displayName": "Ömer Yalçın",
            "photoUrl": "//lh6.googleusercontent.com/-KYS0k8F_jss/AAAAAAAAAAI/AAAAAAAABGM/XoQZ3tR-BuA/s50-c-k-no/photo.jpg",
            "userId": "107209192184149810541"
          }
        }
      },
      "cell_type": "code",
      "source": [
        "model.evaluate(x_ts,y_ts)"
      ],
      "execution_count": 164,
      "outputs": [
        {
          "output_type": "stream",
          "text": [
            "285/285 [==============================] - 0s 273us/step\n"
          ],
          "name": "stdout"
        },
        {
          "output_type": "execute_result",
          "data": {
            "text/plain": [
              "[0.3579756162668529, 0.9368421056814361]"
            ]
          },
          "metadata": {
            "tags": []
          },
          "execution_count": 164
        }
      ]
    },
    {
      "metadata": {
        "id": "ERp5i6h6dQH-",
        "colab_type": "code",
        "colab": {
          "autoexec": {
            "startup": false,
            "wait_interval": 0
          },
          "base_uri": "https://localhost:8080/",
          "height": 35
        },
        "outputId": "4354cfab-4817-4634-b251-1ff98af29ca3",
        "executionInfo": {
          "status": "ok",
          "timestamp": 1531672358870,
          "user_tz": -180,
          "elapsed": 643,
          "user": {
            "displayName": "Ömer Yalçın",
            "photoUrl": "//lh6.googleusercontent.com/-KYS0k8F_jss/AAAAAAAAAAI/AAAAAAAABGM/XoQZ3tR-BuA/s50-c-k-no/photo.jpg",
            "userId": "107209192184149810541"
          }
        }
      },
      "cell_type": "code",
      "source": [
        "np.array(train_history.history[\"val_acc\"][-15:]).mean()"
      ],
      "execution_count": 165,
      "outputs": [
        {
          "output_type": "execute_result",
          "data": {
            "text/plain": [
              "0.920000000097598"
            ]
          },
          "metadata": {
            "tags": []
          },
          "execution_count": 165
        }
      ]
    },
    {
      "metadata": {
        "id": "X28K3twVdYk8",
        "colab_type": "code",
        "colab": {
          "autoexec": {
            "startup": false,
            "wait_interval": 0
          },
          "base_uri": "https://localhost:8080/",
          "height": 35
        },
        "outputId": "afab7705-5cc8-42be-be3c-9f7e74d2ebf9",
        "executionInfo": {
          "status": "ok",
          "timestamp": 1531672360299,
          "user_tz": -180,
          "elapsed": 627,
          "user": {
            "displayName": "Ömer Yalçın",
            "photoUrl": "//lh6.googleusercontent.com/-KYS0k8F_jss/AAAAAAAAAAI/AAAAAAAABGM/XoQZ3tR-BuA/s50-c-k-no/photo.jpg",
            "userId": "107209192184149810541"
          }
        }
      },
      "cell_type": "code",
      "source": [
        "np.array(train_history.history[\"acc\"][-15:]).mean()"
      ],
      "execution_count": 166,
      "outputs": [
        {
          "output_type": "execute_result",
          "data": {
            "text/plain": [
              "0.9883820663697538"
            ]
          },
          "metadata": {
            "tags": []
          },
          "execution_count": 166
        }
      ]
    },
    {
      "metadata": {
        "id": "nRkwodCJjZ6G",
        "colab_type": "text"
      },
      "cell_type": "markdown",
      "source": [
        "### With Data Augmentation\n",
        "\n",
        "**Reference:**\n",
        "-  https://keras.io/preprocessing/image/\n",
        "-  https://blog.keras.io/building-powerful-image-classification-models-using-very-little-data.html"
      ]
    },
    {
      "metadata": {
        "id": "XkFW_q8TjX54",
        "colab_type": "code",
        "colab": {
          "autoexec": {
            "startup": false,
            "wait_interval": 0
          }
        }
      },
      "cell_type": "code",
      "source": [
        "from keras.preprocessing.image import ImageDataGenerator\n",
        "from keras.utils.np_utils import to_categorical"
      ],
      "execution_count": 0,
      "outputs": []
    },
    {
      "metadata": {
        "id": "72oSfuYtmK0I",
        "colab_type": "code",
        "colab": {
          "autoexec": {
            "startup": false,
            "wait_interval": 0
          }
        }
      },
      "cell_type": "code",
      "source": [
        "train_datagen = ImageDataGenerator(\n",
        "    rescale=1./255,\n",
        "    rotation_range=30,\n",
        "    width_shift_range=0.1,\n",
        "    height_shift_range=0.1,\n",
        "    shear_range=0.1,\n",
        "    zoom_range=0.1,\n",
        "    horizontal_flip=True)\n",
        "\n",
        "test_datagen = ImageDataGenerator(rescale=1./255)"
      ],
      "execution_count": 0,
      "outputs": []
    },
    {
      "metadata": {
        "id": "NVvoSAitmLXN",
        "colab_type": "code",
        "colab": {
          "autoexec": {
            "startup": false,
            "wait_interval": 0
          },
          "base_uri": "https://localhost:8080/",
          "height": 35
        },
        "outputId": "924a07a1-1b83-4bc7-8fba-da19fe96be6f",
        "executionInfo": {
          "status": "ok",
          "timestamp": 1531672369452,
          "user_tz": -180,
          "elapsed": 643,
          "user": {
            "displayName": "Ömer Yalçın",
            "photoUrl": "//lh6.googleusercontent.com/-KYS0k8F_jss/AAAAAAAAAAI/AAAAAAAABGM/XoQZ3tR-BuA/s50-c-k-no/photo.jpg",
            "userId": "107209192184149810541"
          }
        }
      },
      "cell_type": "code",
      "source": [
        "x=face.data.reshape((1140,62,47,1))\n",
        "y=to_categorical(face.target)\n",
        "y.shape"
      ],
      "execution_count": 169,
      "outputs": [
        {
          "output_type": "execute_result",
          "data": {
            "text/plain": [
              "(1140, 5)"
            ]
          },
          "metadata": {
            "tags": []
          },
          "execution_count": 169
        }
      ]
    },
    {
      "metadata": {
        "id": "kBHW6lRymOzj",
        "colab_type": "code",
        "colab": {
          "autoexec": {
            "startup": false,
            "wait_interval": 0
          }
        }
      },
      "cell_type": "code",
      "source": [
        "x_tr,x_ts,y_tr,y_ts=train_test_split(x,y)\n",
        "train_datagen.fit(x_tr)\n",
        "test_datagen.fit(x_ts)"
      ],
      "execution_count": 0,
      "outputs": []
    },
    {
      "metadata": {
        "id": "ITz0c4E8dbot",
        "colab_type": "code",
        "colab": {
          "autoexec": {
            "startup": false,
            "wait_interval": 0
          },
          "base_uri": "https://localhost:8080/",
          "height": 953
        },
        "outputId": "4467a127-e8e0-4da6-f3c0-015ae7da4ad3",
        "executionInfo": {
          "status": "ok",
          "timestamp": 1531672373304,
          "user_tz": -180,
          "elapsed": 846,
          "user": {
            "displayName": "Ömer Yalçın",
            "photoUrl": "//lh6.googleusercontent.com/-KYS0k8F_jss/AAAAAAAAAAI/AAAAAAAABGM/XoQZ3tR-BuA/s50-c-k-no/photo.jpg",
            "userId": "107209192184149810541"
          }
        }
      },
      "cell_type": "code",
      "source": [
        "model=models.Sequential()\n",
        "\n",
        "model.add(layers.Conv2D(32,(3,3),activation=\"elu\",input_shape=(62,47,1),border_mode=\"same\"))\n",
        "model.add(layers.Conv2D(32,(3,3),activation=\"elu\"))\n",
        "model.add(layers.MaxPooling2D((2,2)))\n",
        "model.add(layers.Dropout(0.1))\n",
        "\n",
        "model.add(layers.Conv2D(64,(3,3),activation=\"elu\",border_mode=\"same\"))\n",
        "model.add(layers.Conv2D(64,(3,3),activation=\"elu\"))\n",
        "model.add(layers.MaxPooling2D((2,2)))\n",
        "model.add(layers.Dropout(0.1))\n",
        "\n",
        "model.add(layers.Conv2D(128,(3,3),activation=\"elu\",border_mode=\"same\"))\n",
        "model.add(layers.Conv2D(128,(3,3),activation=\"elu\"))\n",
        "model.add(layers.MaxPooling2D((2,2)))\n",
        "model.add(layers.Dropout(0.1))\n",
        "\n",
        "model.add(layers.Conv2D(192,(3,3),activation=\"elu\",border_mode=\"same\"))\n",
        "model.add(layers.Conv2D(192,(3,3),activation=\"elu\"))\n",
        "\n",
        "model.add(layers.Flatten())\n",
        "model.add(layers.Dropout(0.1))\n",
        "model.add(layers.Dense(512,activation=\"elu\"))\n",
        "model.add(layers.Dropout(0.1))\n",
        "model.add(layers.Dense(5,activation=\"softmax\"))\n",
        "\n",
        "model.compile(optimizer=\"adam\",loss=\"categorical_crossentropy\",\n",
        "             metrics=[\"accuracy\"])\n",
        "\n",
        "model.summary()"
      ],
      "execution_count": 171,
      "outputs": [
        {
          "output_type": "stream",
          "text": [
            "/usr/local/lib/python3.6/dist-packages/ipykernel_launcher.py:3: UserWarning: Update your `Conv2D` call to the Keras 2 API: `Conv2D(32, (3, 3), activation=\"elu\", input_shape=(62, 47, 1..., padding=\"same\")`\n",
            "  This is separate from the ipykernel package so we can avoid doing imports until\n",
            "/usr/local/lib/python3.6/dist-packages/ipykernel_launcher.py:8: UserWarning: Update your `Conv2D` call to the Keras 2 API: `Conv2D(64, (3, 3), activation=\"elu\", padding=\"same\")`\n",
            "  \n",
            "/usr/local/lib/python3.6/dist-packages/ipykernel_launcher.py:13: UserWarning: Update your `Conv2D` call to the Keras 2 API: `Conv2D(128, (3, 3), activation=\"elu\", padding=\"same\")`\n",
            "  del sys.path[0]\n",
            "/usr/local/lib/python3.6/dist-packages/ipykernel_launcher.py:18: UserWarning: Update your `Conv2D` call to the Keras 2 API: `Conv2D(192, (3, 3), activation=\"elu\", padding=\"same\")`\n"
          ],
          "name": "stderr"
        },
        {
          "output_type": "stream",
          "text": [
            "_________________________________________________________________\n",
            "Layer (type)                 Output Shape              Param #   \n",
            "=================================================================\n",
            "conv2d_69 (Conv2D)           (None, 62, 47, 32)        320       \n",
            "_________________________________________________________________\n",
            "conv2d_70 (Conv2D)           (None, 60, 45, 32)        9248      \n",
            "_________________________________________________________________\n",
            "max_pooling2d_29 (MaxPooling (None, 30, 22, 32)        0         \n",
            "_________________________________________________________________\n",
            "dropout_69 (Dropout)         (None, 30, 22, 32)        0         \n",
            "_________________________________________________________________\n",
            "conv2d_71 (Conv2D)           (None, 30, 22, 64)        18496     \n",
            "_________________________________________________________________\n",
            "conv2d_72 (Conv2D)           (None, 28, 20, 64)        36928     \n",
            "_________________________________________________________________\n",
            "max_pooling2d_30 (MaxPooling (None, 14, 10, 64)        0         \n",
            "_________________________________________________________________\n",
            "dropout_70 (Dropout)         (None, 14, 10, 64)        0         \n",
            "_________________________________________________________________\n",
            "conv2d_73 (Conv2D)           (None, 14, 10, 128)       73856     \n",
            "_________________________________________________________________\n",
            "conv2d_74 (Conv2D)           (None, 12, 8, 128)        147584    \n",
            "_________________________________________________________________\n",
            "max_pooling2d_31 (MaxPooling (None, 6, 4, 128)         0         \n",
            "_________________________________________________________________\n",
            "dropout_71 (Dropout)         (None, 6, 4, 128)         0         \n",
            "_________________________________________________________________\n",
            "conv2d_75 (Conv2D)           (None, 6, 4, 192)         221376    \n",
            "_________________________________________________________________\n",
            "conv2d_76 (Conv2D)           (None, 4, 2, 192)         331968    \n",
            "_________________________________________________________________\n",
            "flatten_7 (Flatten)          (None, 1536)              0         \n",
            "_________________________________________________________________\n",
            "dropout_72 (Dropout)         (None, 1536)              0         \n",
            "_________________________________________________________________\n",
            "dense_14 (Dense)             (None, 512)               786944    \n",
            "_________________________________________________________________\n",
            "dropout_73 (Dropout)         (None, 512)               0         \n",
            "_________________________________________________________________\n",
            "dense_15 (Dense)             (None, 5)                 2565      \n",
            "=================================================================\n",
            "Total params: 1,629,285\n",
            "Trainable params: 1,629,285\n",
            "Non-trainable params: 0\n",
            "_________________________________________________________________\n"
          ],
          "name": "stdout"
        }
      ]
    },
    {
      "metadata": {
        "id": "d-EfCQrzjx5Y",
        "colab_type": "code",
        "colab": {
          "autoexec": {
            "startup": false,
            "wait_interval": 0
          },
          "base_uri": "https://localhost:8080/",
          "height": 9017
        },
        "outputId": "8ac9fd18-ad5a-45d3-f8c5-1808b15219ce",
        "executionInfo": {
          "status": "ok",
          "timestamp": 1531672704863,
          "user_tz": -180,
          "elapsed": 329406,
          "user": {
            "displayName": "Ömer Yalçın",
            "photoUrl": "//lh6.googleusercontent.com/-KYS0k8F_jss/AAAAAAAAAAI/AAAAAAAABGM/XoQZ3tR-BuA/s50-c-k-no/photo.jpg",
            "userId": "107209192184149810541"
          }
        }
      },
      "cell_type": "code",
      "source": [
        "aug_history = model.fit_generator(\n",
        "      train_datagen.flow(x_tr,y_tr,batch_size=32),\n",
        "      steps_per_epoch=len(x_tr)/32,\n",
        "      epochs=250,\n",
        "      validation_data=test_datagen.flow(x_ts,y_ts,batch_size=128),\n",
        "      validation_steps=len(x_ts)/128)"
      ],
      "execution_count": 172,
      "outputs": [
        {
          "output_type": "stream",
          "text": [
            "Epoch 1/250\n",
            "27/26 [==============================] - 13s 472ms/step - loss: 1.6274 - acc: 0.3678 - val_loss: 1.4371 - val_acc: 0.4807\n",
            "Epoch 2/250\n",
            "27/26 [==============================] - 1s 46ms/step - loss: 1.4331 - acc: 0.4656 - val_loss: 1.3851 - val_acc: 0.4807\n",
            "Epoch 3/250\n",
            "27/26 [==============================] - 1s 48ms/step - loss: 1.4204 - acc: 0.4351 - val_loss: 1.3088 - val_acc: 0.4596\n",
            "Epoch 4/250\n",
            "27/26 [==============================] - 1s 47ms/step - loss: 1.3298 - acc: 0.4943 - val_loss: 1.1295 - val_acc: 0.5684\n",
            "Epoch 5/250\n",
            "27/26 [==============================] - 1s 47ms/step - loss: 1.1993 - acc: 0.5446 - val_loss: 0.9910 - val_acc: 0.6175\n",
            "Epoch 6/250\n",
            "27/26 [==============================] - 1s 47ms/step - loss: 1.1943 - acc: 0.5376 - val_loss: 0.8293 - val_acc: 0.6596\n",
            "Epoch 7/250\n",
            "27/26 [==============================] - 1s 46ms/step - loss: 1.0373 - acc: 0.6091 - val_loss: 0.7888 - val_acc: 0.7228\n",
            "Epoch 8/250\n",
            "27/26 [==============================] - 1s 47ms/step - loss: 0.9479 - acc: 0.6748 - val_loss: 0.6280 - val_acc: 0.7965\n",
            "Epoch 9/250\n",
            "27/26 [==============================] - 1s 46ms/step - loss: 0.8587 - acc: 0.6824 - val_loss: 0.4936 - val_acc: 0.8246\n",
            "Epoch 10/250\n",
            "21/26 [======================>.......] - ETA: 0s - loss: 0.7973 - acc: 0.7007"
          ],
          "name": "stdout"
        },
        {
          "output_type": "stream",
          "text": [
            "27/26 [==============================] - 1s 47ms/step - loss: 0.8020 - acc: 0.7013 - val_loss: 0.4075 - val_acc: 0.8351\n",
            "Epoch 11/250\n",
            "27/26 [==============================] - 1s 47ms/step - loss: 0.7527 - acc: 0.7288 - val_loss: 0.6021 - val_acc: 0.7860\n",
            "Epoch 12/250\n",
            "27/26 [==============================] - 1s 46ms/step - loss: 0.7813 - acc: 0.7279 - val_loss: 0.6171 - val_acc: 0.7825\n",
            "Epoch 13/250\n",
            "27/26 [==============================] - 1s 46ms/step - loss: 0.7035 - acc: 0.7397 - val_loss: 0.3655 - val_acc: 0.8596\n",
            "Epoch 14/250\n",
            "27/26 [==============================] - 1s 47ms/step - loss: 0.6418 - acc: 0.7820 - val_loss: 0.3323 - val_acc: 0.8807\n",
            "Epoch 15/250\n",
            "27/26 [==============================] - 1s 47ms/step - loss: 0.6247 - acc: 0.7764 - val_loss: 0.3114 - val_acc: 0.8912\n",
            "Epoch 16/250\n",
            "27/26 [==============================] - 1s 47ms/step - loss: 0.5748 - acc: 0.7906 - val_loss: 0.3128 - val_acc: 0.9053\n",
            "Epoch 17/250\n",
            "27/26 [==============================] - 1s 47ms/step - loss: 0.5802 - acc: 0.8058 - val_loss: 0.3574 - val_acc: 0.8596\n",
            "Epoch 18/250\n",
            "27/26 [==============================] - 1s 47ms/step - loss: 0.5797 - acc: 0.8089 - val_loss: 0.2918 - val_acc: 0.9018\n",
            "Epoch 19/250\n",
            "24/26 [=========================>....] - ETA: 0s - loss: 0.4412 - acc: 0.8346"
          ],
          "name": "stdout"
        },
        {
          "output_type": "stream",
          "text": [
            "27/26 [==============================] - 1s 47ms/step - loss: 0.4604 - acc: 0.8267 - val_loss: 0.2336 - val_acc: 0.9123\n",
            "Epoch 20/250\n",
            "27/26 [==============================] - 1s 47ms/step - loss: 0.4678 - acc: 0.8440 - val_loss: 0.3047 - val_acc: 0.9018\n",
            "Epoch 21/250\n",
            "27/26 [==============================] - 1s 46ms/step - loss: 0.4129 - acc: 0.8580 - val_loss: 0.2608 - val_acc: 0.9088\n",
            "Epoch 22/250\n",
            "27/26 [==============================] - 1s 47ms/step - loss: 0.4309 - acc: 0.8582 - val_loss: 0.2482 - val_acc: 0.9193\n",
            "Epoch 23/250\n",
            "27/26 [==============================] - 1s 47ms/step - loss: 0.3766 - acc: 0.8651 - val_loss: 0.2104 - val_acc: 0.9228\n",
            "Epoch 24/250\n",
            "27/26 [==============================] - 1s 47ms/step - loss: 0.3331 - acc: 0.8786 - val_loss: 0.1959 - val_acc: 0.9228\n",
            "Epoch 25/250\n",
            "27/26 [==============================] - 1s 46ms/step - loss: 0.3541 - acc: 0.8689 - val_loss: 0.2524 - val_acc: 0.9263\n",
            "Epoch 26/250\n",
            "27/26 [==============================] - 1s 47ms/step - loss: 0.3638 - acc: 0.8723 - val_loss: 0.2593 - val_acc: 0.8982\n",
            "Epoch 27/250\n",
            "27/26 [==============================] - 1s 46ms/step - loss: 0.2922 - acc: 0.8980 - val_loss: 0.1911 - val_acc: 0.9228\n",
            "Epoch 28/250\n",
            "24/26 [=========================>....] - ETA: 0s - loss: 0.3265 - acc: 0.8896"
          ],
          "name": "stdout"
        },
        {
          "output_type": "stream",
          "text": [
            "27/26 [==============================] - 1s 47ms/step - loss: 0.3501 - acc: 0.8845 - val_loss: 0.4568 - val_acc: 0.8702\n",
            "Epoch 29/250\n",
            "27/26 [==============================] - 1s 47ms/step - loss: 0.3671 - acc: 0.8718 - val_loss: 0.1785 - val_acc: 0.9544\n",
            "Epoch 30/250\n",
            "27/26 [==============================] - 1s 47ms/step - loss: 0.3023 - acc: 0.9033 - val_loss: 0.1381 - val_acc: 0.9579\n",
            "Epoch 31/250\n",
            "27/26 [==============================] - 1s 47ms/step - loss: 0.2643 - acc: 0.9153 - val_loss: 0.1652 - val_acc: 0.9439\n",
            "Epoch 32/250\n",
            "27/26 [==============================] - 1s 46ms/step - loss: 0.3050 - acc: 0.9035 - val_loss: 0.2961 - val_acc: 0.9158\n",
            "Epoch 33/250\n",
            "27/26 [==============================] - 1s 47ms/step - loss: 0.3480 - acc: 0.8799 - val_loss: 0.2228 - val_acc: 0.9404\n",
            "Epoch 34/250\n",
            "27/26 [==============================] - 1s 47ms/step - loss: 0.3942 - acc: 0.8776 - val_loss: 0.2141 - val_acc: 0.9088\n",
            "Epoch 35/250\n",
            "27/26 [==============================] - 1s 47ms/step - loss: 0.3497 - acc: 0.8832 - val_loss: 0.2603 - val_acc: 0.9193\n",
            "Epoch 36/250\n",
            "27/26 [==============================] - 1s 46ms/step - loss: 0.3608 - acc: 0.8829 - val_loss: 0.2251 - val_acc: 0.9404\n",
            "Epoch 37/250\n",
            "23/26 [========================>.....] - ETA: 0s - loss: 0.3092 - acc: 0.9052"
          ],
          "name": "stdout"
        },
        {
          "output_type": "stream",
          "text": [
            "27/26 [==============================] - 1s 46ms/step - loss: 0.3060 - acc: 0.9077 - val_loss: 0.2307 - val_acc: 0.9368\n",
            "Epoch 38/250\n",
            "27/26 [==============================] - 1s 47ms/step - loss: 0.2382 - acc: 0.9150 - val_loss: 0.5917 - val_acc: 0.8772\n",
            "Epoch 39/250\n",
            "27/26 [==============================] - 1s 47ms/step - loss: 0.4189 - acc: 0.8674 - val_loss: 0.3388 - val_acc: 0.9053\n",
            "Epoch 40/250\n",
            "27/26 [==============================] - 1s 47ms/step - loss: 0.2715 - acc: 0.9174 - val_loss: 0.1549 - val_acc: 0.9474\n",
            "Epoch 41/250\n",
            "27/26 [==============================] - 1s 46ms/step - loss: 0.2318 - acc: 0.9315 - val_loss: 0.1289 - val_acc: 0.9614\n",
            "Epoch 42/250\n",
            "27/26 [==============================] - 1s 46ms/step - loss: 0.2447 - acc: 0.9207 - val_loss: 0.2109 - val_acc: 0.9544\n",
            "Epoch 43/250\n",
            "27/26 [==============================] - 1s 47ms/step - loss: 0.2530 - acc: 0.9185 - val_loss: 0.1911 - val_acc: 0.9333\n",
            "Epoch 44/250\n",
            "27/26 [==============================] - 1s 47ms/step - loss: 0.2443 - acc: 0.9208 - val_loss: 0.1749 - val_acc: 0.9404\n",
            "Epoch 45/250\n",
            "27/26 [==============================] - 1s 46ms/step - loss: 0.2487 - acc: 0.9213 - val_loss: 0.0929 - val_acc: 0.9614\n",
            "Epoch 46/250\n",
            "25/26 [===========================>..] - ETA: 0s - loss: 0.2532 - acc: 0.9145"
          ],
          "name": "stdout"
        },
        {
          "output_type": "stream",
          "text": [
            "\b\b\b\b\b\b\b\b\b\b\b\b\b\b\b\b\b\b\b\b\b\b\b\b\b\b\b\b\b\b\b\b\b\b\b\b\b\b\b\b\b\b\b\b\b\b\b\b\b\b\b\b\b\b\b\b\b\b\b\b\b\b\b\b\b\b\b\b\b\b\b\b\b\b\b\b\b\r27/26 [==============================] - 1s 46ms/step - loss: 0.2413 - acc: 0.9174 - val_loss: 0.1927 - val_acc: 0.9439\n",
            "Epoch 47/250\n",
            "27/26 [==============================] - 1s 47ms/step - loss: 0.2341 - acc: 0.9354 - val_loss: 0.1809 - val_acc: 0.9368\n",
            "Epoch 48/250\n",
            "27/26 [==============================] - 1s 46ms/step - loss: 0.1701 - acc: 0.9479 - val_loss: 0.1745 - val_acc: 0.9509\n",
            "Epoch 49/250\n",
            "27/26 [==============================] - 1s 47ms/step - loss: 0.2848 - acc: 0.9227 - val_loss: 0.1685 - val_acc: 0.9404\n",
            "Epoch 50/250\n",
            "27/26 [==============================] - 1s 47ms/step - loss: 0.2114 - acc: 0.9313 - val_loss: 0.1837 - val_acc: 0.9509\n",
            "Epoch 51/250\n",
            "27/26 [==============================] - 1s 47ms/step - loss: 0.2370 - acc: 0.9234 - val_loss: 0.1801 - val_acc: 0.9579\n",
            "Epoch 52/250\n",
            "27/26 [==============================] - 1s 46ms/step - loss: 0.2536 - acc: 0.9273 - val_loss: 0.2361 - val_acc: 0.9368\n",
            "Epoch 53/250\n",
            "27/26 [==============================] - 1s 48ms/step - loss: 0.3104 - acc: 0.8991 - val_loss: 0.1961 - val_acc: 0.9509\n",
            "Epoch 54/250\n",
            "27/26 [==============================] - 1s 46ms/step - loss: 0.2661 - acc: 0.9301 - val_loss: 0.1756 - val_acc: 0.9404\n",
            "Epoch 55/250\n",
            " 9/26 [=========>....................] - ETA: 0s - loss: 0.2278 - acc: 0.9188"
          ],
          "name": "stdout"
        },
        {
          "output_type": "stream",
          "text": [
            "27/26 [==============================] - 1s 47ms/step - loss: 0.2285 - acc: 0.9278 - val_loss: 0.1455 - val_acc: 0.9719\n",
            "Epoch 56/250\n",
            "27/26 [==============================] - 1s 47ms/step - loss: 0.1975 - acc: 0.9394 - val_loss: 0.1559 - val_acc: 0.9509\n",
            "Epoch 57/250\n",
            "27/26 [==============================] - 1s 46ms/step - loss: 0.1541 - acc: 0.9566 - val_loss: 0.0972 - val_acc: 0.9614\n",
            "Epoch 58/250\n",
            "27/26 [==============================] - 1s 46ms/step - loss: 0.1289 - acc: 0.9570 - val_loss: 0.1339 - val_acc: 0.9509\n",
            "Epoch 59/250\n",
            "27/26 [==============================] - 1s 47ms/step - loss: 0.1406 - acc: 0.9548 - val_loss: 0.1273 - val_acc: 0.9649\n",
            "Epoch 60/250\n",
            "27/26 [==============================] - 1s 47ms/step - loss: 0.1253 - acc: 0.9560 - val_loss: 0.0919 - val_acc: 0.9754\n",
            "Epoch 61/250\n",
            "27/26 [==============================] - 1s 47ms/step - loss: 0.1792 - acc: 0.9412 - val_loss: 0.1443 - val_acc: 0.9509\n",
            "Epoch 62/250\n",
            "27/26 [==============================] - 1s 47ms/step - loss: 0.1511 - acc: 0.9537 - val_loss: 0.1636 - val_acc: 0.9649\n",
            "Epoch 63/250\n",
            "27/26 [==============================] - 1s 46ms/step - loss: 0.1641 - acc: 0.9456 - val_loss: 0.1113 - val_acc: 0.9649\n",
            "Epoch 64/250\n",
            "20/26 [=====================>........] - ETA: 0s - loss: 0.1664 - acc: 0.9494"
          ],
          "name": "stdout"
        },
        {
          "output_type": "stream",
          "text": [
            "27/26 [==============================] - 1s 48ms/step - loss: 0.1620 - acc: 0.9521 - val_loss: 0.0892 - val_acc: 0.9649\n",
            "Epoch 65/250\n",
            "27/26 [==============================] - 1s 47ms/step - loss: 0.1455 - acc: 0.9532 - val_loss: 0.0648 - val_acc: 0.9825\n",
            "Epoch 66/250\n",
            "27/26 [==============================] - 1s 47ms/step - loss: 0.1489 - acc: 0.9560 - val_loss: 0.3798 - val_acc: 0.9263\n",
            "Epoch 67/250\n",
            "27/26 [==============================] - 1s 46ms/step - loss: 0.1831 - acc: 0.9502 - val_loss: 0.1198 - val_acc: 0.9544\n",
            "Epoch 68/250\n",
            "27/26 [==============================] - 1s 47ms/step - loss: 0.1109 - acc: 0.9625 - val_loss: 0.1102 - val_acc: 0.9719\n",
            "Epoch 69/250\n",
            "27/26 [==============================] - 1s 47ms/step - loss: 0.2127 - acc: 0.9459 - val_loss: 0.1332 - val_acc: 0.9579\n",
            "Epoch 70/250\n",
            "27/26 [==============================] - 1s 48ms/step - loss: 0.2663 - acc: 0.9211 - val_loss: 0.2766 - val_acc: 0.8982\n",
            "Epoch 71/250\n",
            "27/26 [==============================] - 1s 47ms/step - loss: 0.2733 - acc: 0.9166 - val_loss: 0.2084 - val_acc: 0.9404\n",
            "Epoch 72/250\n",
            "27/26 [==============================] - 1s 46ms/step - loss: 0.3861 - acc: 0.8896 - val_loss: 0.1802 - val_acc: 0.9404\n",
            "Epoch 73/250\n",
            "24/26 [=========================>....] - ETA: 0s - loss: 0.1341 - acc: 0.9565"
          ],
          "name": "stdout"
        },
        {
          "output_type": "stream",
          "text": [
            "27/26 [==============================] - 1s 47ms/step - loss: 0.1367 - acc: 0.9567 - val_loss: 0.0878 - val_acc: 0.9789\n",
            "Epoch 74/250\n",
            "27/26 [==============================] - 1s 47ms/step - loss: 0.2864 - acc: 0.9127 - val_loss: 0.0541 - val_acc: 0.9789\n",
            "Epoch 75/250\n",
            "27/26 [==============================] - 1s 46ms/step - loss: 0.1855 - acc: 0.9405 - val_loss: 0.0725 - val_acc: 0.9719\n",
            "Epoch 76/250\n",
            "27/26 [==============================] - 1s 47ms/step - loss: 0.1518 - acc: 0.9532 - val_loss: 0.0867 - val_acc: 0.9649\n",
            "Epoch 77/250\n",
            "27/26 [==============================] - 1s 46ms/step - loss: 0.1054 - acc: 0.9687 - val_loss: 0.0767 - val_acc: 0.9719\n",
            "Epoch 78/250\n",
            "27/26 [==============================] - 1s 47ms/step - loss: 0.0880 - acc: 0.9683 - val_loss: 0.0899 - val_acc: 0.9719\n",
            "Epoch 79/250\n",
            "27/26 [==============================] - 1s 47ms/step - loss: 0.1076 - acc: 0.9653 - val_loss: 0.0983 - val_acc: 0.9579\n",
            "Epoch 80/250\n",
            "27/26 [==============================] - 1s 47ms/step - loss: 0.1353 - acc: 0.9595 - val_loss: 0.1001 - val_acc: 0.9649\n",
            "Epoch 81/250\n",
            "27/26 [==============================] - 1s 46ms/step - loss: 0.1025 - acc: 0.9679 - val_loss: 0.0727 - val_acc: 0.9789\n",
            "Epoch 82/250\n",
            "23/26 [========================>.....] - ETA: 0s - loss: 0.1003 - acc: 0.9688"
          ],
          "name": "stdout"
        },
        {
          "output_type": "stream",
          "text": [
            "27/26 [==============================] - 1s 46ms/step - loss: 0.0962 - acc: 0.9699 - val_loss: 0.0382 - val_acc: 0.9930\n",
            "Epoch 83/250\n",
            "27/26 [==============================] - 1s 48ms/step - loss: 0.1130 - acc: 0.9641 - val_loss: 0.1441 - val_acc: 0.9474\n",
            "Epoch 84/250\n",
            "27/26 [==============================] - 1s 46ms/step - loss: 0.1298 - acc: 0.9653 - val_loss: 0.0773 - val_acc: 0.9614\n",
            "Epoch 85/250\n",
            "27/26 [==============================] - 1s 47ms/step - loss: 0.1588 - acc: 0.9567 - val_loss: 0.1130 - val_acc: 0.9684\n",
            "Epoch 86/250\n",
            "27/26 [==============================] - 1s 47ms/step - loss: 0.1104 - acc: 0.9629 - val_loss: 0.0496 - val_acc: 0.9895\n",
            "Epoch 87/250\n",
            "27/26 [==============================] - 1s 47ms/step - loss: 0.0812 - acc: 0.9764 - val_loss: 0.0545 - val_acc: 0.9754\n",
            "Epoch 88/250\n",
            "27/26 [==============================] - 1s 46ms/step - loss: 0.1012 - acc: 0.9590 - val_loss: 0.0928 - val_acc: 0.9684\n",
            "Epoch 89/250\n",
            "27/26 [==============================] - 1s 47ms/step - loss: 0.1072 - acc: 0.9687 - val_loss: 0.0570 - val_acc: 0.9754\n",
            "Epoch 90/250\n",
            "27/26 [==============================] - 1s 48ms/step - loss: 0.1292 - acc: 0.9618 - val_loss: 0.0862 - val_acc: 0.9614\n",
            "Epoch 91/250\n",
            "21/26 [======================>.......] - ETA: 0s - loss: 0.0917 - acc: 0.9732"
          ],
          "name": "stdout"
        },
        {
          "output_type": "stream",
          "text": [
            "27/26 [==============================] - 1s 47ms/step - loss: 0.0766 - acc: 0.9768 - val_loss: 0.0566 - val_acc: 0.9789\n",
            "Epoch 92/250\n",
            "27/26 [==============================] - 1s 47ms/step - loss: 0.0694 - acc: 0.9826 - val_loss: 0.0818 - val_acc: 0.9754\n",
            "Epoch 93/250\n",
            "27/26 [==============================] - 1s 46ms/step - loss: 0.1042 - acc: 0.9699 - val_loss: 0.0617 - val_acc: 0.9754\n",
            "Epoch 94/250\n",
            "27/26 [==============================] - 1s 47ms/step - loss: 0.1170 - acc: 0.9586 - val_loss: 0.0667 - val_acc: 0.9789\n",
            "Epoch 95/250\n",
            "27/26 [==============================] - 1s 47ms/step - loss: 0.1003 - acc: 0.9760 - val_loss: 0.0599 - val_acc: 0.9860\n",
            "Epoch 96/250\n",
            "27/26 [==============================] - 1s 47ms/step - loss: 0.0636 - acc: 0.9829 - val_loss: 0.0812 - val_acc: 0.9719\n",
            "Epoch 97/250\n",
            "27/26 [==============================] - 1s 46ms/step - loss: 0.0530 - acc: 0.9792 - val_loss: 0.0473 - val_acc: 0.9825\n",
            "Epoch 98/250\n",
            "27/26 [==============================] - 1s 47ms/step - loss: 0.0789 - acc: 0.9776 - val_loss: 0.0409 - val_acc: 0.9825\n",
            "Epoch 99/250\n",
            "27/26 [==============================] - 1s 47ms/step - loss: 0.1007 - acc: 0.9757 - val_loss: 0.1293 - val_acc: 0.9684\n",
            "Epoch 100/250\n",
            "25/26 [===========================>..] - ETA: 0s - loss: 0.0388 - acc: 0.9862"
          ],
          "name": "stdout"
        },
        {
          "output_type": "stream",
          "text": [
            "\b\b\b\b\b\b\b\b\b\b\b\b\b\b\b\b\b\b\b\b\b\b\b\b\b\b\b\b\b\b\b\b\b\b\b\b\b\b\b\b\b\b\b\b\b\b\b\b\b\b\b\b\b\b\b\b\b\b\b\b\b\b\b\b\b\b\b\b\b\b\b\b\b\b\b\b\b\r27/26 [==============================] - 1s 46ms/step - loss: 0.0407 - acc: 0.9861 - val_loss: 0.0297 - val_acc: 0.9895\n",
            "Epoch 101/250\n",
            "27/26 [==============================] - 1s 47ms/step - loss: 0.0658 - acc: 0.9834 - val_loss: 0.0871 - val_acc: 0.9719\n",
            "Epoch 102/250\n",
            "27/26 [==============================] - 1s 46ms/step - loss: 0.1307 - acc: 0.9641 - val_loss: 0.0893 - val_acc: 0.9684\n",
            "Epoch 103/250\n",
            "27/26 [==============================] - 1s 47ms/step - loss: 0.0922 - acc: 0.9706 - val_loss: 0.0469 - val_acc: 0.9860\n",
            "Epoch 104/250\n",
            "27/26 [==============================] - 1s 47ms/step - loss: 0.1364 - acc: 0.9653 - val_loss: 0.1005 - val_acc: 0.9649\n",
            "Epoch 105/250\n",
            "27/26 [==============================] - 1s 45ms/step - loss: 0.1020 - acc: 0.9757 - val_loss: 0.0580 - val_acc: 0.9789\n",
            "Epoch 106/250\n",
            "27/26 [==============================] - 1s 47ms/step - loss: 0.1223 - acc: 0.9648 - val_loss: 0.0685 - val_acc: 0.9860\n",
            "Epoch 107/250\n",
            "27/26 [==============================] - 1s 47ms/step - loss: 0.1754 - acc: 0.9528 - val_loss: 0.0991 - val_acc: 0.9789\n",
            "Epoch 108/250\n",
            "27/26 [==============================] - 1s 47ms/step - loss: 0.0831 - acc: 0.9780 - val_loss: 0.0320 - val_acc: 0.9930\n",
            "Epoch 109/250\n",
            " 8/26 [=======>......................] - ETA: 0s - loss: 0.1526 - acc: 0.9492"
          ],
          "name": "stdout"
        },
        {
          "output_type": "stream",
          "text": [
            "27/26 [==============================] - 1s 47ms/step - loss: 0.1322 - acc: 0.9629 - val_loss: 0.2181 - val_acc: 0.9649\n",
            "Epoch 110/250\n",
            "27/26 [==============================] - 1s 46ms/step - loss: 0.2993 - acc: 0.9278 - val_loss: 0.0679 - val_acc: 0.9860\n",
            "Epoch 111/250\n",
            "27/26 [==============================] - 1s 47ms/step - loss: 0.1379 - acc: 0.9629 - val_loss: 0.0607 - val_acc: 0.9860\n",
            "Epoch 112/250\n",
            "27/26 [==============================] - 1s 46ms/step - loss: 0.1034 - acc: 0.9695 - val_loss: 0.1961 - val_acc: 0.9719\n",
            "Epoch 113/250\n",
            "27/26 [==============================] - 1s 47ms/step - loss: 0.0620 - acc: 0.9826 - val_loss: 0.0435 - val_acc: 0.9930\n",
            "Epoch 114/250\n",
            "27/26 [==============================] - 1s 46ms/step - loss: 0.0428 - acc: 0.9826 - val_loss: 0.0281 - val_acc: 0.9895\n",
            "Epoch 115/250\n",
            "27/26 [==============================] - 1s 46ms/step - loss: 0.1636 - acc: 0.9648 - val_loss: 0.1007 - val_acc: 0.9719\n",
            "Epoch 116/250\n",
            "27/26 [==============================] - 1s 47ms/step - loss: 0.1089 - acc: 0.9741 - val_loss: 0.0460 - val_acc: 0.9825\n",
            "Epoch 117/250\n",
            "27/26 [==============================] - 1s 46ms/step - loss: 0.0636 - acc: 0.9810 - val_loss: 0.0373 - val_acc: 0.9930\n",
            "Epoch 118/250\n",
            "22/26 [=======================>......] - ETA: 0s - loss: 0.0851 - acc: 0.9702"
          ],
          "name": "stdout"
        },
        {
          "output_type": "stream",
          "text": [
            "27/26 [==============================] - 1s 46ms/step - loss: 0.0814 - acc: 0.9711 - val_loss: 0.0283 - val_acc: 0.9930\n",
            "Epoch 119/250\n",
            "27/26 [==============================] - 1s 47ms/step - loss: 0.0604 - acc: 0.9787 - val_loss: 0.0820 - val_acc: 0.9719\n",
            "Epoch 120/250\n",
            "27/26 [==============================] - 1s 47ms/step - loss: 0.0417 - acc: 0.9849 - val_loss: 0.0463 - val_acc: 0.9895\n",
            "Epoch 121/250\n",
            "27/26 [==============================] - 1s 46ms/step - loss: 0.0828 - acc: 0.9826 - val_loss: 0.0981 - val_acc: 0.9719\n",
            "Epoch 122/250\n",
            "27/26 [==============================] - 1s 47ms/step - loss: 0.0899 - acc: 0.9722 - val_loss: 0.0339 - val_acc: 0.9895\n",
            "Epoch 123/250\n",
            "27/26 [==============================] - 1s 47ms/step - loss: 0.0762 - acc: 0.9752 - val_loss: 0.0197 - val_acc: 0.9930\n",
            "Epoch 124/250\n",
            "27/26 [==============================] - 1s 46ms/step - loss: 0.0626 - acc: 0.9884 - val_loss: 0.0130 - val_acc: 0.9965\n",
            "Epoch 125/250\n",
            "27/26 [==============================] - 1s 47ms/step - loss: 0.0812 - acc: 0.9776 - val_loss: 0.0785 - val_acc: 0.9719\n",
            "Epoch 126/250\n",
            "27/26 [==============================] - 1s 46ms/step - loss: 0.0826 - acc: 0.9815 - val_loss: 0.0626 - val_acc: 0.9719\n",
            "Epoch 127/250\n",
            "20/26 [=====================>........] - ETA: 0s - loss: 0.1380 - acc: 0.9688"
          ],
          "name": "stdout"
        },
        {
          "output_type": "stream",
          "text": [
            "27/26 [==============================] - 1s 47ms/step - loss: 0.1394 - acc: 0.9606 - val_loss: 0.1185 - val_acc: 0.9754\n",
            "Epoch 128/250\n",
            "27/26 [==============================] - 1s 48ms/step - loss: 0.1109 - acc: 0.9734 - val_loss: 0.1485 - val_acc: 0.9649\n",
            "Epoch 129/250\n",
            "27/26 [==============================] - 1s 46ms/step - loss: 0.2371 - acc: 0.9347 - val_loss: 0.0715 - val_acc: 0.9825\n",
            "Epoch 130/250\n",
            "27/26 [==============================] - 1s 47ms/step - loss: 0.1210 - acc: 0.9572 - val_loss: 0.1384 - val_acc: 0.9719\n",
            "Epoch 131/250\n",
            "27/26 [==============================] - 1s 47ms/step - loss: 0.1442 - acc: 0.9583 - val_loss: 0.0951 - val_acc: 0.9754\n",
            "Epoch 132/250\n",
            "27/26 [==============================] - 1s 47ms/step - loss: 0.1003 - acc: 0.9648 - val_loss: 0.1473 - val_acc: 0.9719\n",
            "Epoch 133/250\n",
            "27/26 [==============================] - 1s 46ms/step - loss: 0.1479 - acc: 0.9699 - val_loss: 0.3768 - val_acc: 0.9509\n",
            "Epoch 134/250\n",
            "27/26 [==============================] - 1s 48ms/step - loss: 0.2552 - acc: 0.9366 - val_loss: 0.1640 - val_acc: 0.9614\n",
            "Epoch 135/250\n",
            "27/26 [==============================] - 1s 46ms/step - loss: 0.1715 - acc: 0.9629 - val_loss: 0.1005 - val_acc: 0.9719\n",
            "Epoch 136/250\n",
            "21/26 [======================>.......] - ETA: 0s - loss: 0.2671 - acc: 0.9372"
          ],
          "name": "stdout"
        },
        {
          "output_type": "stream",
          "text": [
            "27/26 [==============================] - 1s 47ms/step - loss: 0.2370 - acc: 0.9431 - val_loss: 0.0943 - val_acc: 0.9684\n",
            "Epoch 137/250\n",
            "27/26 [==============================] - 1s 47ms/step - loss: 0.1447 - acc: 0.9567 - val_loss: 0.1046 - val_acc: 0.9719\n",
            "Epoch 138/250\n",
            "27/26 [==============================] - 1s 46ms/step - loss: 0.1096 - acc: 0.9653 - val_loss: 0.1941 - val_acc: 0.9789\n",
            "Epoch 139/250\n",
            "27/26 [==============================] - 1s 46ms/step - loss: 0.1565 - acc: 0.9687 - val_loss: 0.0779 - val_acc: 0.9789\n",
            "Epoch 140/250\n",
            "27/26 [==============================] - 1s 47ms/step - loss: 0.0693 - acc: 0.9757 - val_loss: 0.0712 - val_acc: 0.9860\n",
            "Epoch 141/250\n",
            "27/26 [==============================] - 1s 46ms/step - loss: 0.0729 - acc: 0.9829 - val_loss: 0.1540 - val_acc: 0.9719\n",
            "Epoch 142/250\n",
            "27/26 [==============================] - 1s 46ms/step - loss: 0.0954 - acc: 0.9810 - val_loss: 0.0611 - val_acc: 0.9789\n",
            "Epoch 143/250\n",
            "27/26 [==============================] - 1s 47ms/step - loss: 0.1051 - acc: 0.9748 - val_loss: 0.1091 - val_acc: 0.9719\n",
            "Epoch 144/250\n",
            "27/26 [==============================] - 1s 47ms/step - loss: 0.1469 - acc: 0.9606 - val_loss: 0.0415 - val_acc: 0.9825\n",
            "Epoch 145/250\n",
            "21/26 [======================>.......] - ETA: 0s - loss: 0.0417 - acc: 0.9845"
          ],
          "name": "stdout"
        },
        {
          "output_type": "stream",
          "text": [
            "27/26 [==============================] - 1s 47ms/step - loss: 0.0528 - acc: 0.9845 - val_loss: 0.0594 - val_acc: 0.9789\n",
            "Epoch 146/250\n",
            "27/26 [==============================] - 1s 46ms/step - loss: 0.1212 - acc: 0.9676 - val_loss: 0.0851 - val_acc: 0.9825\n",
            "Epoch 147/250\n",
            "27/26 [==============================] - 1s 46ms/step - loss: 0.1611 - acc: 0.9671 - val_loss: 0.1235 - val_acc: 0.9544\n",
            "Epoch 148/250\n",
            "27/26 [==============================] - 1s 47ms/step - loss: 0.0929 - acc: 0.9734 - val_loss: 0.0534 - val_acc: 0.9825\n",
            "Epoch 149/250\n",
            "27/26 [==============================] - 1s 46ms/step - loss: 0.1181 - acc: 0.9683 - val_loss: 0.0882 - val_acc: 0.9789\n",
            "Epoch 150/250\n",
            "27/26 [==============================] - 1s 46ms/step - loss: 0.0574 - acc: 0.9868 - val_loss: 0.0593 - val_acc: 0.9825\n",
            "Epoch 151/250\n",
            "27/26 [==============================] - 1s 47ms/step - loss: 0.1825 - acc: 0.9590 - val_loss: 0.1131 - val_acc: 0.9579\n",
            "Epoch 152/250\n",
            "27/26 [==============================] - 1s 47ms/step - loss: 0.0725 - acc: 0.9722 - val_loss: 0.0341 - val_acc: 0.9860\n",
            "Epoch 153/250\n",
            "27/26 [==============================] - 1s 46ms/step - loss: 0.0721 - acc: 0.9810 - val_loss: 0.0680 - val_acc: 0.9895\n",
            "Epoch 154/250\n",
            "19/26 [====================>.........] - ETA: 0s - loss: 0.0938 - acc: 0.9790"
          ],
          "name": "stdout"
        },
        {
          "output_type": "stream",
          "text": [
            "27/26 [==============================] - 1s 47ms/step - loss: 0.0968 - acc: 0.9713 - val_loss: 0.0598 - val_acc: 0.9789\n",
            "Epoch 155/250\n",
            "27/26 [==============================] - 1s 46ms/step - loss: 0.0865 - acc: 0.9752 - val_loss: 0.1365 - val_acc: 0.9825\n",
            "Epoch 156/250\n",
            "27/26 [==============================] - 1s 47ms/step - loss: 0.0472 - acc: 0.9834 - val_loss: 0.0755 - val_acc: 0.9860\n",
            "Epoch 157/250\n",
            "27/26 [==============================] - 1s 47ms/step - loss: 0.1039 - acc: 0.9734 - val_loss: 0.1412 - val_acc: 0.9719\n",
            "Epoch 158/250\n",
            "27/26 [==============================] - 1s 47ms/step - loss: 0.1170 - acc: 0.9706 - val_loss: 0.0560 - val_acc: 0.9860\n",
            "Epoch 159/250\n",
            "27/26 [==============================] - 1s 47ms/step - loss: 0.0610 - acc: 0.9768 - val_loss: 0.1434 - val_acc: 0.9719\n",
            "Epoch 160/250\n",
            "27/26 [==============================] - 1s 47ms/step - loss: 0.0965 - acc: 0.9711 - val_loss: 0.1379 - val_acc: 0.9719\n",
            "Epoch 161/250\n",
            "27/26 [==============================] - 1s 47ms/step - loss: 0.1980 - acc: 0.9558 - val_loss: 0.1676 - val_acc: 0.9719\n",
            "Epoch 162/250\n",
            "27/26 [==============================] - 1s 46ms/step - loss: 0.2541 - acc: 0.9486 - val_loss: 0.4998 - val_acc: 0.9158\n",
            "Epoch 163/250\n",
            "25/26 [===========================>..] - ETA: 0s - loss: 0.1306 - acc: 0.9650"
          ],
          "name": "stdout"
        },
        {
          "output_type": "stream",
          "text": [
            "\b\b\b\b\b\b\b\b\b\b\b\b\b\b\b\b\b\b\b\b\b\b\b\b\b\b\b\b\b\b\b\b\b\b\b\b\b\b\b\b\b\b\b\b\b\b\b\b\b\b\b\b\b\b\b\b\b\b\b\b\b\b\b\b\b\b\b\b\b\b\b\b\b\b\b\b\b\r27/26 [==============================] - 1s 46ms/step - loss: 0.1241 - acc: 0.9653 - val_loss: 0.1454 - val_acc: 0.9719\n",
            "Epoch 164/250\n",
            "27/26 [==============================] - 1s 46ms/step - loss: 0.0800 - acc: 0.9745 - val_loss: 0.0484 - val_acc: 0.9789\n",
            "Epoch 165/250\n",
            "27/26 [==============================] - 1s 47ms/step - loss: 0.0762 - acc: 0.9757 - val_loss: 0.0560 - val_acc: 0.9825\n",
            "Epoch 166/250\n",
            "27/26 [==============================] - 1s 46ms/step - loss: 0.0850 - acc: 0.9845 - val_loss: 0.1383 - val_acc: 0.9719\n",
            "Epoch 167/250\n",
            "27/26 [==============================] - 1s 47ms/step - loss: 0.0585 - acc: 0.9845 - val_loss: 0.1456 - val_acc: 0.9614\n",
            "Epoch 168/250\n",
            "27/26 [==============================] - 1s 46ms/step - loss: 0.0581 - acc: 0.9815 - val_loss: 0.1669 - val_acc: 0.9754\n",
            "Epoch 169/250\n",
            "27/26 [==============================] - 1s 47ms/step - loss: 0.0641 - acc: 0.9873 - val_loss: 0.0560 - val_acc: 0.9719\n",
            "Epoch 170/250\n",
            "27/26 [==============================] - 1s 47ms/step - loss: 0.0548 - acc: 0.9810 - val_loss: 0.0509 - val_acc: 0.9754\n",
            "Epoch 171/250\n",
            "27/26 [==============================] - 1s 46ms/step - loss: 0.0504 - acc: 0.9861 - val_loss: 0.1131 - val_acc: 0.9614\n",
            "Epoch 172/250\n",
            " 7/26 [======>.......................] - ETA: 0s - loss: 0.0651 - acc: 0.9821"
          ],
          "name": "stdout"
        },
        {
          "output_type": "stream",
          "text": [
            "27/26 [==============================] - 1s 46ms/step - loss: 0.0717 - acc: 0.9776 - val_loss: 0.0426 - val_acc: 0.9825\n",
            "Epoch 173/250\n",
            "27/26 [==============================] - 1s 47ms/step - loss: 0.0593 - acc: 0.9745 - val_loss: 0.0534 - val_acc: 0.9825\n",
            "Epoch 174/250\n",
            "27/26 [==============================] - 1s 47ms/step - loss: 0.1085 - acc: 0.9815 - val_loss: 0.0750 - val_acc: 0.9754\n",
            "Epoch 175/250\n",
            "27/26 [==============================] - 1s 47ms/step - loss: 0.1182 - acc: 0.9734 - val_loss: 0.0750 - val_acc: 0.9825\n",
            "Epoch 176/250\n",
            "27/26 [==============================] - 1s 46ms/step - loss: 0.0504 - acc: 0.9838 - val_loss: 0.0559 - val_acc: 0.9860\n",
            "Epoch 177/250\n",
            "27/26 [==============================] - 1s 47ms/step - loss: 0.0277 - acc: 0.9919 - val_loss: 0.0450 - val_acc: 0.9860\n",
            "Epoch 178/250\n",
            "27/26 [==============================] - 1s 47ms/step - loss: 0.1350 - acc: 0.9718 - val_loss: 0.0435 - val_acc: 0.9860\n",
            "Epoch 179/250\n",
            "27/26 [==============================] - 1s 47ms/step - loss: 0.0960 - acc: 0.9764 - val_loss: 0.0254 - val_acc: 0.9895\n",
            "Epoch 180/250\n",
            "27/26 [==============================] - 1s 46ms/step - loss: 0.2760 - acc: 0.9424 - val_loss: 0.1743 - val_acc: 0.9474\n",
            "Epoch 181/250\n",
            "18/26 [===================>..........] - ETA: 0s - loss: 0.1728 - acc: 0.9583"
          ],
          "name": "stdout"
        },
        {
          "output_type": "stream",
          "text": [
            "27/26 [==============================] - 1s 47ms/step - loss: 0.1413 - acc: 0.9653 - val_loss: 0.1038 - val_acc: 0.9719\n",
            "Epoch 182/250\n",
            "27/26 [==============================] - 1s 46ms/step - loss: 0.0645 - acc: 0.9849 - val_loss: 0.0980 - val_acc: 0.9825\n",
            "Epoch 183/250\n",
            "27/26 [==============================] - 1s 47ms/step - loss: 0.0656 - acc: 0.9826 - val_loss: 0.0348 - val_acc: 0.9860\n",
            "Epoch 184/250\n",
            "27/26 [==============================] - 1s 46ms/step - loss: 0.0750 - acc: 0.9760 - val_loss: 0.0220 - val_acc: 0.9930\n",
            "Epoch 185/250\n",
            "27/26 [==============================] - 1s 48ms/step - loss: 0.0374 - acc: 0.9907 - val_loss: 0.0252 - val_acc: 0.9895\n",
            "Epoch 186/250\n",
            "27/26 [==============================] - 1s 48ms/step - loss: 0.0556 - acc: 0.9849 - val_loss: 0.0505 - val_acc: 0.9860\n",
            "Epoch 187/250\n",
            "27/26 [==============================] - 1s 47ms/step - loss: 0.1084 - acc: 0.9838 - val_loss: 0.0189 - val_acc: 0.9930\n",
            "Epoch 188/250\n",
            "27/26 [==============================] - 1s 48ms/step - loss: 0.0315 - acc: 0.9907 - val_loss: 0.0256 - val_acc: 0.9895\n",
            "Epoch 189/250\n",
            "27/26 [==============================] - 1s 47ms/step - loss: 0.0542 - acc: 0.9884 - val_loss: 0.1000 - val_acc: 0.9719\n",
            "Epoch 190/250\n",
            "19/26 [====================>.........] - ETA: 0s - loss: 0.0869 - acc: 0.9796"
          ],
          "name": "stdout"
        },
        {
          "output_type": "stream",
          "text": [
            "27/26 [==============================] - 1s 47ms/step - loss: 0.0713 - acc: 0.9799 - val_loss: 0.0446 - val_acc: 0.9895\n",
            "Epoch 191/250\n",
            "27/26 [==============================] - 1s 47ms/step - loss: 0.0752 - acc: 0.9836 - val_loss: 0.0975 - val_acc: 0.9789\n",
            "Epoch 192/250\n",
            "27/26 [==============================] - 1s 47ms/step - loss: 0.0641 - acc: 0.9849 - val_loss: 0.0544 - val_acc: 0.9825\n",
            "Epoch 193/250\n",
            "27/26 [==============================] - 1s 47ms/step - loss: 0.0305 - acc: 0.9907 - val_loss: 0.0528 - val_acc: 0.9754\n",
            "Epoch 194/250\n",
            "27/26 [==============================] - 1s 47ms/step - loss: 0.0196 - acc: 0.9926 - val_loss: 0.0914 - val_acc: 0.9789\n",
            "Epoch 195/250\n",
            "27/26 [==============================] - 1s 47ms/step - loss: 0.1086 - acc: 0.9803 - val_loss: 0.0664 - val_acc: 0.9789\n",
            "Epoch 196/250\n",
            "27/26 [==============================] - 1s 46ms/step - loss: 0.0363 - acc: 0.9896 - val_loss: 0.1425 - val_acc: 0.9649\n",
            "Epoch 197/250\n",
            "27/26 [==============================] - 1s 46ms/step - loss: 0.0584 - acc: 0.9861 - val_loss: 0.0624 - val_acc: 0.9789\n",
            "Epoch 198/250\n",
            "27/26 [==============================] - 1s 47ms/step - loss: 0.0843 - acc: 0.9787 - val_loss: 0.0920 - val_acc: 0.9825\n",
            "Epoch 199/250\n",
            "17/26 [==================>...........] - ETA: 0s - loss: 0.1107 - acc: 0.9735"
          ],
          "name": "stdout"
        },
        {
          "output_type": "stream",
          "text": [
            "27/26 [==============================] - 1s 47ms/step - loss: 0.1124 - acc: 0.9764 - val_loss: 0.0914 - val_acc: 0.9789\n",
            "Epoch 200/250\n",
            "27/26 [==============================] - 1s 47ms/step - loss: 0.1207 - acc: 0.9768 - val_loss: 0.0572 - val_acc: 0.9719\n",
            "Epoch 201/250\n",
            "27/26 [==============================] - 1s 46ms/step - loss: 0.0880 - acc: 0.9780 - val_loss: 0.3222 - val_acc: 0.9228\n",
            "Epoch 202/250\n",
            "27/26 [==============================] - 1s 47ms/step - loss: 0.3010 - acc: 0.9234 - val_loss: 0.1120 - val_acc: 0.9509\n",
            "Epoch 203/250\n",
            "27/26 [==============================] - 1s 46ms/step - loss: 0.0795 - acc: 0.9752 - val_loss: 0.2687 - val_acc: 0.9649\n",
            "Epoch 204/250\n",
            "27/26 [==============================] - 1s 47ms/step - loss: 0.1818 - acc: 0.9590 - val_loss: 0.3402 - val_acc: 0.9509\n",
            "Epoch 205/250\n",
            "27/26 [==============================] - 1s 46ms/step - loss: 0.1491 - acc: 0.9595 - val_loss: 0.1314 - val_acc: 0.9649\n",
            "Epoch 206/250\n",
            "27/26 [==============================] - 1s 47ms/step - loss: 0.1649 - acc: 0.9590 - val_loss: 0.0678 - val_acc: 0.9895\n",
            "Epoch 207/250\n",
            "27/26 [==============================] - 1s 46ms/step - loss: 0.0808 - acc: 0.9792 - val_loss: 0.0749 - val_acc: 0.9825\n",
            "Epoch 208/250\n",
            "23/26 [========================>.....] - ETA: 0s - loss: 0.0946 - acc: 0.9810"
          ],
          "name": "stdout"
        },
        {
          "output_type": "stream",
          "text": [
            "27/26 [==============================] - 1s 46ms/step - loss: 0.0819 - acc: 0.9838 - val_loss: 0.0159 - val_acc: 0.9965\n",
            "Epoch 209/250\n",
            "27/26 [==============================] - 1s 47ms/step - loss: 0.0422 - acc: 0.9884 - val_loss: 0.0299 - val_acc: 0.9930\n",
            "Epoch 210/250\n",
            "27/26 [==============================] - 1s 47ms/step - loss: 0.0431 - acc: 0.9896 - val_loss: 0.0352 - val_acc: 0.9895\n",
            "Epoch 211/250\n",
            "27/26 [==============================] - 1s 48ms/step - loss: 0.0375 - acc: 0.9880 - val_loss: 0.0583 - val_acc: 0.9895\n",
            "Epoch 212/250\n",
            "27/26 [==============================] - 1s 47ms/step - loss: 0.0102 - acc: 0.9938 - val_loss: 0.0563 - val_acc: 0.9965\n",
            "Epoch 213/250\n",
            "27/26 [==============================] - 1s 47ms/step - loss: 0.0796 - acc: 0.9815 - val_loss: 0.0109 - val_acc: 0.9930\n",
            "Epoch 214/250\n",
            "27/26 [==============================] - 1s 47ms/step - loss: 0.0533 - acc: 0.9857 - val_loss: 0.1171 - val_acc: 0.9789\n",
            "Epoch 215/250\n",
            "27/26 [==============================] - 1s 47ms/step - loss: 0.0857 - acc: 0.9780 - val_loss: 0.0290 - val_acc: 0.9930\n",
            "Epoch 216/250\n",
            "27/26 [==============================] - 1s 46ms/step - loss: 0.0236 - acc: 0.9884 - val_loss: 0.0354 - val_acc: 0.9895\n",
            "Epoch 217/250\n",
            "22/26 [=======================>......] - ETA: 0s - loss: 0.0905 - acc: 0.9830"
          ],
          "name": "stdout"
        },
        {
          "output_type": "stream",
          "text": [
            "27/26 [==============================] - 1s 47ms/step - loss: 0.0756 - acc: 0.9861 - val_loss: 0.0111 - val_acc: 0.9965\n",
            "Epoch 218/250\n",
            "27/26 [==============================] - 1s 47ms/step - loss: 0.0290 - acc: 0.9884 - val_loss: 0.0312 - val_acc: 0.9895\n",
            "Epoch 219/250\n",
            "27/26 [==============================] - 1s 46ms/step - loss: 0.0413 - acc: 0.9896 - val_loss: 0.0651 - val_acc: 0.9825\n",
            "Epoch 220/250\n",
            "27/26 [==============================] - 1s 47ms/step - loss: 0.0508 - acc: 0.9861 - val_loss: 0.0599 - val_acc: 0.9860\n",
            "Epoch 221/250\n",
            "27/26 [==============================] - 1s 46ms/step - loss: 0.0107 - acc: 0.9965 - val_loss: 0.0401 - val_acc: 0.9895\n",
            "Epoch 222/250\n",
            "27/26 [==============================] - 1s 47ms/step - loss: 0.0591 - acc: 0.9884 - val_loss: 0.0823 - val_acc: 0.9860\n",
            "Epoch 223/250\n",
            "27/26 [==============================] - 1s 47ms/step - loss: 0.1186 - acc: 0.9722 - val_loss: 0.0468 - val_acc: 0.9825\n",
            "Epoch 224/250\n",
            "27/26 [==============================] - 1s 47ms/step - loss: 0.0734 - acc: 0.9826 - val_loss: 0.0295 - val_acc: 0.9930\n",
            "Epoch 225/250\n",
            "27/26 [==============================] - 1s 47ms/step - loss: 0.0505 - acc: 0.9838 - val_loss: 0.0197 - val_acc: 0.9930\n",
            "Epoch 226/250\n",
            "25/26 [===========================>..] - ETA: 0s - loss: 0.0265 - acc: 0.9888"
          ],
          "name": "stdout"
        },
        {
          "output_type": "stream",
          "text": [
            "\b\b\b\b\b\b\b\b\b\b\b\b\b\b\b\b\b\b\b\b\b\b\b\b\b\b\b\b\b\b\b\b\b\b\b\b\b\b\b\b\b\b\b\b\b\b\b\b\b\b\b\b\b\b\b\b\b\b\b\b\b\b\b\b\b\b\b\b\b\b\b\b\b\b\b\b\b\r27/26 [==============================] - 1s 47ms/step - loss: 0.0256 - acc: 0.9896 - val_loss: 0.0093 - val_acc: 0.9930\n",
            "Epoch 227/250\n",
            "27/26 [==============================] - 1s 47ms/step - loss: 0.0256 - acc: 0.9931 - val_loss: 0.0196 - val_acc: 0.9965\n",
            "Epoch 228/250\n",
            "27/26 [==============================] - 1s 46ms/step - loss: 0.0261 - acc: 0.9907 - val_loss: 0.0232 - val_acc: 0.9895\n",
            "Epoch 229/250\n",
            "27/26 [==============================] - 1s 46ms/step - loss: 0.1332 - acc: 0.9706 - val_loss: 0.0992 - val_acc: 0.9719\n",
            "Epoch 230/250\n",
            "27/26 [==============================] - 1s 47ms/step - loss: 0.0900 - acc: 0.9734 - val_loss: 0.1492 - val_acc: 0.9614\n",
            "Epoch 231/250\n",
            "27/26 [==============================] - 1s 47ms/step - loss: 0.1608 - acc: 0.9745 - val_loss: 0.0857 - val_acc: 0.9719\n",
            "Epoch 232/250\n",
            "27/26 [==============================] - 1s 47ms/step - loss: 0.0553 - acc: 0.9815 - val_loss: 0.0302 - val_acc: 0.9860\n",
            "Epoch 233/250\n",
            "27/26 [==============================] - 1s 47ms/step - loss: 0.0835 - acc: 0.9768 - val_loss: 0.1117 - val_acc: 0.9719\n",
            "Epoch 234/250\n",
            "27/26 [==============================] - 1s 46ms/step - loss: 0.1360 - acc: 0.9676 - val_loss: 0.0270 - val_acc: 0.9860\n",
            "Epoch 235/250\n",
            " 7/26 [======>.......................] - ETA: 0s - loss: 0.0483 - acc: 0.9911"
          ],
          "name": "stdout"
        },
        {
          "output_type": "stream",
          "text": [
            "27/26 [==============================] - 1s 45ms/step - loss: 0.0965 - acc: 0.9764 - val_loss: 0.0145 - val_acc: 0.9965\n",
            "Epoch 236/250\n",
            "27/26 [==============================] - 1s 46ms/step - loss: 0.0700 - acc: 0.9826 - val_loss: 0.0452 - val_acc: 0.9825\n",
            "Epoch 237/250\n",
            "27/26 [==============================] - 1s 47ms/step - loss: 0.0881 - acc: 0.9826 - val_loss: 0.1978 - val_acc: 0.9789\n",
            "Epoch 238/250\n",
            "27/26 [==============================] - 1s 46ms/step - loss: 0.1766 - acc: 0.9612 - val_loss: 0.0381 - val_acc: 0.9860\n",
            "Epoch 239/250\n",
            "27/26 [==============================] - 1s 47ms/step - loss: 0.0655 - acc: 0.9826 - val_loss: 0.2034 - val_acc: 0.9649\n",
            "Epoch 240/250\n",
            "27/26 [==============================] - 1s 47ms/step - loss: 0.0535 - acc: 0.9826 - val_loss: 0.0761 - val_acc: 0.9860\n",
            "Epoch 241/250\n",
            "27/26 [==============================] - 1s 47ms/step - loss: 0.1076 - acc: 0.9711 - val_loss: 0.0778 - val_acc: 0.9754\n",
            "Epoch 242/250\n",
            "27/26 [==============================] - 1s 46ms/step - loss: 0.0883 - acc: 0.9792 - val_loss: 0.1465 - val_acc: 0.9719\n",
            "Epoch 243/250\n",
            "27/26 [==============================] - 1s 46ms/step - loss: 0.1057 - acc: 0.9815 - val_loss: 0.1902 - val_acc: 0.9649\n",
            "Epoch 244/250\n",
            "22/26 [=======================>......] - ETA: 0s - loss: 0.1204 - acc: 0.9688"
          ],
          "name": "stdout"
        },
        {
          "output_type": "stream",
          "text": [
            "27/26 [==============================] - 1s 47ms/step - loss: 0.1041 - acc: 0.9734 - val_loss: 0.0812 - val_acc: 0.9754\n",
            "Epoch 245/250\n",
            "27/26 [==============================] - 1s 47ms/step - loss: 0.2104 - acc: 0.9572 - val_loss: 0.0854 - val_acc: 0.9789\n",
            "Epoch 246/250\n",
            "27/26 [==============================] - 1s 46ms/step - loss: 0.2174 - acc: 0.9444 - val_loss: 0.0735 - val_acc: 0.9719\n",
            "Epoch 247/250\n",
            "27/26 [==============================] - 1s 46ms/step - loss: 0.1069 - acc: 0.9711 - val_loss: 0.0960 - val_acc: 0.9754\n",
            "Epoch 248/250\n",
            "27/26 [==============================] - 1s 46ms/step - loss: 0.0641 - acc: 0.9838 - val_loss: 0.1222 - val_acc: 0.9860\n",
            "Epoch 249/250\n",
            "27/26 [==============================] - 1s 47ms/step - loss: 0.0752 - acc: 0.9845 - val_loss: 0.0618 - val_acc: 0.9825\n",
            "Epoch 250/250\n",
            "27/26 [==============================] - 1s 46ms/step - loss: 0.0624 - acc: 0.9873 - val_loss: 0.0247 - val_acc: 0.9895\n"
          ],
          "name": "stdout"
        }
      ]
    },
    {
      "metadata": {
        "id": "1CwnTKFrj5af",
        "colab_type": "code",
        "colab": {
          "autoexec": {
            "startup": false,
            "wait_interval": 0
          },
          "base_uri": "https://localhost:8080/",
          "height": 718
        },
        "outputId": "e957caf2-6d20-4894-8a52-58bf3fced4ea",
        "executionInfo": {
          "status": "ok",
          "timestamp": 1531673259813,
          "user_tz": -180,
          "elapsed": 768,
          "user": {
            "displayName": "Ömer Yalçın",
            "photoUrl": "//lh6.googleusercontent.com/-KYS0k8F_jss/AAAAAAAAAAI/AAAAAAAABGM/XoQZ3tR-BuA/s50-c-k-no/photo.jpg",
            "userId": "107209192184149810541"
          }
        }
      },
      "cell_type": "code",
      "source": [
        "plt.figure(figsize=(15,12))\n",
        "plt.plot(aug_history.history[\"acc\"])\n",
        "plt.plot(aug_history.history[\"val_acc\"])"
      ],
      "execution_count": 174,
      "outputs": [
        {
          "output_type": "execute_result",
          "data": {
            "text/plain": [
              "[<matplotlib.lines.Line2D at 0x7f4040c7d0b8>]"
            ]
          },
          "metadata": {
            "tags": []
          },
          "execution_count": 174
        },
        {
          "output_type": "display_data",
          "data": {
            "image/png": "[encoded data removed]",
            "text/plain": [
              "<matplotlib.figure.Figure at 0x7f4040c71ac8>"
            ]
          },
          "metadata": {
            "tags": []
          }
        }
      ]
    },
    {
      "metadata": {
        "id": "uqT1I9acpmOd",
        "colab_type": "code",
        "colab": {
          "autoexec": {
            "startup": false,
            "wait_interval": 0
          },
          "base_uri": "https://localhost:8080/",
          "height": 53
        },
        "outputId": "6d650ce9-5dd2-4a0c-c664-b76022d1797a",
        "executionInfo": {
          "status": "ok",
          "timestamp": 1531673277580,
          "user_tz": -180,
          "elapsed": 614,
          "user": {
            "displayName": "Ömer Yalçın",
            "photoUrl": "//lh6.googleusercontent.com/-KYS0k8F_jss/AAAAAAAAAAI/AAAAAAAABGM/XoQZ3tR-BuA/s50-c-k-no/photo.jpg",
            "userId": "107209192184149810541"
          }
        }
      },
      "cell_type": "code",
      "source": [
        "model.evaluate(x_ts/255,y_ts)"
      ],
      "execution_count": 175,
      "outputs": [
        {
          "output_type": "stream",
          "text": [
            "285/285 [==============================] - 0s 445us/step\n"
          ],
          "name": "stdout"
        },
        {
          "output_type": "execute_result",
          "data": {
            "text/plain": [
              "[0.02468171409061158, 0.9894736842105263]"
            ]
          },
          "metadata": {
            "tags": []
          },
          "execution_count": 175
        }
      ]
    },
    {
      "metadata": {
        "id": "CpEomwemnDlQ",
        "colab_type": "code",
        "colab": {
          "autoexec": {
            "startup": false,
            "wait_interval": 0
          },
          "base_uri": "https://localhost:8080/",
          "height": 89
        },
        "outputId": "f32a0ba5-7610-4b61-92da-bd254e643fee",
        "executionInfo": {
          "status": "ok",
          "timestamp": 1531673281438,
          "user_tz": -180,
          "elapsed": 589,
          "user": {
            "displayName": "Ömer Yalçın",
            "photoUrl": "//lh6.googleusercontent.com/-KYS0k8F_jss/AAAAAAAAAAI/AAAAAAAABGM/XoQZ3tR-BuA/s50-c-k-no/photo.jpg",
            "userId": "107209192184149810541"
          }
        }
      },
      "cell_type": "code",
      "source": [
        "print(\"val accuracy average last 15 results :\",np.array(aug_history.history[\"val_acc\"][-15:]).mean())\n",
        "print(\"val standard deviation last 15 results :\",np.array(aug_history.history[\"val_acc\"][-15:]).std())\n",
        "print(\"train accuracy average last 15 results :\",np.array(aug_history.history[\"acc\"][-15:]).mean())\n",
        "print(\"train standard deviation last 15 results :\",np.array(aug_history.history[\"acc\"][-15:]).std())"
      ],
      "execution_count": 176,
      "outputs": [
        {
          "output_type": "stream",
          "text": [
            "val accuracy average last 15 results : 0.9780116953626711\n",
            "val standard deviation last 15 results : 0.007300344065487753\n",
            "train accuracy average last 15 results : 0.9748927875104239\n",
            "train standard deviation last 15 results : 0.011811257089120827\n"
          ],
          "name": "stdout"
        }
      ]
    },
    {
      "metadata": {
        "id": "vzVcTU0yfzsD",
        "colab_type": "text"
      },
      "cell_type": "markdown",
      "source": [
        "## Advanced Models\n"
      ]
    },
    {
      "metadata": {
        "id": "fxli1PadGcwq",
        "colab_type": "text"
      },
      "cell_type": "markdown",
      "source": [
        "###  SimpleNet "
      ]
    },
    {
      "metadata": {
        "id": "LyLZ6qYcf71z",
        "colab_type": "text"
      },
      "cell_type": "markdown",
      "source": [
        "**Reference:**\n",
        "  - Lets keep it simple, Using simple architectures to outperform deeper and more complex architectures:https://arxiv.org/abs/1608.06037\n",
        "  - https://github.com/EricAlcaide/SimpleNet-Keras\n",
        "  - https://github.com/Coderx7/SimpleNet"
      ]
    },
    {
      "metadata": {
        "id": "3u0poRI6GcTL",
        "colab_type": "code",
        "colab": {
          "autoexec": {
            "startup": false,
            "wait_interval": 0
          }
        }
      },
      "cell_type": "code",
      "source": [
        "import keras \n",
        "import numpy as np\n",
        "import keras.backend as K\n",
        "from keras.utils import np_utils\n",
        "from keras.datasets import cifar10\n",
        "from keras.models import Sequential\n",
        "from keras.models import load_model \n",
        "from keras import regularizers,optimizers\n",
        "from keras.layers import Conv2D,MaxPooling2D\n",
        "from keras.initializers import glorot_normal,RandomNormal,Zeros\n",
        "from keras.preprocessing.image import ImageDataGenerator\n",
        "from keras.layers import Dense,Flatten,Activation,Dropout,BatchNormalization"
      ],
      "execution_count": 0,
      "outputs": []
    },
    {
      "metadata": {
        "id": "0OO-Xj6Eav-J",
        "colab_type": "code",
        "colab": {
          "autoexec": {
            "startup": false,
            "wait_interval": 0
          }
        }
      },
      "cell_type": "code",
      "source": [
        ""
      ],
      "execution_count": 0,
      "outputs": []
    },
    {
      "metadata": {
        "id": "LZpBtcmUo4CF",
        "colab_type": "code",
        "colab": {
          "autoexec": {
            "startup": false,
            "wait_interval": 0
          }
        }
      },
      "cell_type": "code",
      "source": [
        "def create_model(s = 2, weight_decay = 1e-2,act=\"relu\",num_classes=5):\n",
        "    model = Sequential()\n",
        "\n",
        "    # Block 1\n",
        "    model.add(Conv2D(64, (3,3), padding='same', kernel_initializer=glorot_normal(), input_shape=x_tr.shape[1:]))\n",
        "    model.add(BatchNormalization())\n",
        "    model.add(Activation(act))\n",
        "    model.add(Dropout(0.3))\n",
        "    \n",
        "    # Block 2\n",
        "    model.add(Conv2D(128, (3,3), padding='same', kernel_initializer=glorot_normal()))\n",
        "    model.add(BatchNormalization())\n",
        "    model.add(Activation(act))\n",
        "    model.add(Dropout(0.25))\n",
        "    \n",
        "    # Block 3\n",
        "    model.add(Conv2D(128, (3,3), padding='same', kernel_initializer=RandomNormal(stddev=0.01)))\n",
        "    model.add(BatchNormalization())\n",
        "    model.add(Activation(act))\n",
        "    model.add(Dropout(0.3))\n",
        "    \n",
        "    # Block 4\n",
        "    model.add(Conv2D(128, (3,3), padding='same', kernel_initializer=RandomNormal(stddev=0.01)))\n",
        "    model.add(BatchNormalization())\n",
        "    model.add(Activation(act))\n",
        "    # First Maxpooling\n",
        "    model.add(MaxPooling2D(pool_size=(2,2), strides=s))\n",
        "    model.add(Dropout(0.2))\n",
        "    \n",
        "    \n",
        "    # Block 5\n",
        "    model.add(Conv2D(128, (3,3), padding='same', kernel_initializer=RandomNormal(stddev=0.01)))\n",
        "    model.add(BatchNormalization())\n",
        "    model.add(Activation(act))\n",
        "    model.add(Dropout(0.3))\n",
        "    \n",
        "    # Block 6\n",
        "    model.add(Conv2D(128, (3,3), padding='same', kernel_initializer=glorot_normal()))\n",
        "    model.add(BatchNormalization())\n",
        "    model.add(Activation(act))\n",
        "    model.add(Dropout(0.25))\n",
        "    \n",
        "    # Block 7\n",
        "    model.add(Conv2D(256, (3,3), padding='same', kernel_initializer=glorot_normal()))\n",
        "    # Second Maxpooling\n",
        "    model.add(MaxPooling2D(pool_size=(2,2), strides=s))\n",
        "    model.add(BatchNormalization())\n",
        "    model.add(Activation(act))\n",
        "    model.add(Dropout(0.25))\n",
        "    \n",
        "    \n",
        "    # Block 8\n",
        "    model.add(Conv2D(256, (3,3), padding='same', kernel_initializer=glorot_normal()))\n",
        "    model.add(BatchNormalization())\n",
        "    model.add(Activation(act))\n",
        "    model.add(Dropout(0.3))\n",
        "    \n",
        "    # Block 9\n",
        "    model.add(Conv2D(256, (3,3), padding='same', kernel_initializer=glorot_normal()))\n",
        "    model.add(BatchNormalization())\n",
        "    model.add(Activation(act))\n",
        "    model.add(Dropout(0.25))\n",
        "    # Third Maxpooling\n",
        "    model.add(MaxPooling2D(pool_size=(2,2), strides=s))\n",
        "    \n",
        "    \n",
        "    # Block 10\n",
        "    model.add(Conv2D(512, (3,3), padding='same', kernel_initializer=glorot_normal()))\n",
        "    model.add(BatchNormalization())\n",
        "    model.add(Activation(act))\n",
        "    model.add(Dropout(0.3))\n",
        "\n",
        "    # Block 11  \n",
        "    model.add(Conv2D(2048, (1,1), padding='same', kernel_initializer=glorot_normal()))\n",
        "    model.add(Activation(act))\n",
        "    model.add(Dropout(0.25))\n",
        "    \n",
        "    # Block 12  \n",
        "    model.add(Conv2D(256, (1,1), padding='same', kernel_initializer=glorot_normal()))\n",
        "    model.add(Activation(act))\n",
        "    # Fourth Maxpooling\n",
        "    model.add(MaxPooling2D(pool_size=(2,2), strides=s))\n",
        "    model.add(Dropout(0.3))\n",
        "\n",
        "\n",
        "    # Block 13\n",
        "    model.add(Conv2D(256, (3,3), padding='same', kernel_initializer=glorot_normal()))\n",
        "    model.add(Activation(act))\n",
        "    # Fifth Maxpooling\n",
        "    model.add(MaxPooling2D(pool_size=(2,2), strides=s))\n",
        "\n",
        "    # Final Classifier\n",
        "    model.add(Flatten())\n",
        "    model.add(Dense(num_classes, activation='softmax'))\n",
        "    \n",
        "    #print(model.summary())\n",
        "\n",
        "    return model"
      ],
      "execution_count": 0,
      "outputs": []
    },
    {
      "metadata": {
        "id": "pD34VGzVhrgO",
        "colab_type": "code",
        "colab": {
          "autoexec": {
            "startup": false,
            "wait_interval": 0
          },
          "base_uri": "https://localhost:8080/",
          "height": 2123
        },
        "outputId": "d05d9302-18ca-4e4a-e1c5-c4827a3074e6",
        "executionInfo": {
          "status": "ok",
          "timestamp": 1531673330085,
          "user_tz": -180,
          "elapsed": 4149,
          "user": {
            "displayName": "Ömer Yalçın",
            "photoUrl": "//lh6.googleusercontent.com/-KYS0k8F_jss/AAAAAAAAAAI/AAAAAAAABGM/XoQZ3tR-BuA/s50-c-k-no/photo.jpg",
            "userId": "107209192184149810541"
          }
        }
      },
      "cell_type": "code",
      "source": [
        "model=create_model()\n",
        "model.summary()"
      ],
      "execution_count": 180,
      "outputs": [
        {
          "output_type": "stream",
          "text": [
            "_________________________________________________________________\n",
            "Layer (type)                 Output Shape              Param #   \n",
            "=================================================================\n",
            "conv2d_77 (Conv2D)           (None, 62, 47, 64)        640       \n",
            "_________________________________________________________________\n",
            "batch_normalization_51 (Batc (None, 62, 47, 64)        256       \n",
            "_________________________________________________________________\n",
            "activation_66 (Activation)   (None, 62, 47, 64)        0         \n",
            "_________________________________________________________________\n",
            "dropout_74 (Dropout)         (None, 62, 47, 64)        0         \n",
            "_________________________________________________________________\n",
            "conv2d_78 (Conv2D)           (None, 62, 47, 128)       73856     \n",
            "_________________________________________________________________\n",
            "batch_normalization_52 (Batc (None, 62, 47, 128)       512       \n",
            "_________________________________________________________________\n",
            "activation_67 (Activation)   (None, 62, 47, 128)       0         \n",
            "_________________________________________________________________\n",
            "dropout_75 (Dropout)         (None, 62, 47, 128)       0         \n",
            "_________________________________________________________________\n",
            "conv2d_79 (Conv2D)           (None, 62, 47, 128)       147584    \n",
            "_________________________________________________________________\n",
            "batch_normalization_53 (Batc (None, 62, 47, 128)       512       \n",
            "_________________________________________________________________\n",
            "activation_68 (Activation)   (None, 62, 47, 128)       0         \n",
            "_________________________________________________________________\n",
            "dropout_76 (Dropout)         (None, 62, 47, 128)       0         \n",
            "_________________________________________________________________\n",
            "conv2d_80 (Conv2D)           (None, 62, 47, 128)       147584    \n",
            "_________________________________________________________________\n",
            "batch_normalization_54 (Batc (None, 62, 47, 128)       512       \n",
            "_________________________________________________________________\n",
            "activation_69 (Activation)   (None, 62, 47, 128)       0         \n",
            "_________________________________________________________________\n",
            "max_pooling2d_32 (MaxPooling (None, 31, 23, 128)       0         \n",
            "_________________________________________________________________\n",
            "dropout_77 (Dropout)         (None, 31, 23, 128)       0         \n",
            "_________________________________________________________________\n",
            "conv2d_81 (Conv2D)           (None, 31, 23, 128)       147584    \n",
            "_________________________________________________________________\n",
            "batch_normalization_55 (Batc (None, 31, 23, 128)       512       \n",
            "_________________________________________________________________\n",
            "activation_70 (Activation)   (None, 31, 23, 128)       0         \n",
            "_________________________________________________________________\n",
            "dropout_78 (Dropout)         (None, 31, 23, 128)       0         \n",
            "_________________________________________________________________\n",
            "conv2d_82 (Conv2D)           (None, 31, 23, 128)       147584    \n",
            "_________________________________________________________________\n",
            "batch_normalization_56 (Batc (None, 31, 23, 128)       512       \n",
            "_________________________________________________________________\n",
            "activation_71 (Activation)   (None, 31, 23, 128)       0         \n",
            "_________________________________________________________________\n",
            "dropout_79 (Dropout)         (None, 31, 23, 128)       0         \n",
            "_________________________________________________________________\n",
            "conv2d_83 (Conv2D)           (None, 31, 23, 256)       295168    \n",
            "_________________________________________________________________\n",
            "max_pooling2d_33 (MaxPooling (None, 15, 11, 256)       0         \n",
            "_________________________________________________________________\n",
            "batch_normalization_57 (Batc (None, 15, 11, 256)       1024      \n",
            "_________________________________________________________________\n",
            "activation_72 (Activation)   (None, 15, 11, 256)       0         \n",
            "_________________________________________________________________\n",
            "dropout_80 (Dropout)         (None, 15, 11, 256)       0         \n",
            "_________________________________________________________________\n",
            "conv2d_84 (Conv2D)           (None, 15, 11, 256)       590080    \n",
            "_________________________________________________________________\n",
            "batch_normalization_58 (Batc (None, 15, 11, 256)       1024      \n",
            "_________________________________________________________________\n",
            "activation_73 (Activation)   (None, 15, 11, 256)       0         \n",
            "_________________________________________________________________\n",
            "dropout_81 (Dropout)         (None, 15, 11, 256)       0         \n",
            "_________________________________________________________________\n",
            "conv2d_85 (Conv2D)           (None, 15, 11, 256)       590080    \n",
            "_________________________________________________________________\n",
            "batch_normalization_59 (Batc (None, 15, 11, 256)       1024      \n",
            "_________________________________________________________________\n",
            "activation_74 (Activation)   (None, 15, 11, 256)       0         \n",
            "_________________________________________________________________\n",
            "dropout_82 (Dropout)         (None, 15, 11, 256)       0         \n",
            "_________________________________________________________________\n",
            "max_pooling2d_34 (MaxPooling (None, 7, 5, 256)         0         \n",
            "_________________________________________________________________\n",
            "conv2d_86 (Conv2D)           (None, 7, 5, 512)         1180160   \n",
            "_________________________________________________________________\n",
            "batch_normalization_60 (Batc (None, 7, 5, 512)         2048      \n",
            "_________________________________________________________________\n",
            "activation_75 (Activation)   (None, 7, 5, 512)         0         \n",
            "_________________________________________________________________\n",
            "dropout_83 (Dropout)         (None, 7, 5, 512)         0         \n",
            "_________________________________________________________________\n",
            "conv2d_87 (Conv2D)           (None, 7, 5, 2048)        1050624   \n",
            "_________________________________________________________________\n",
            "activation_76 (Activation)   (None, 7, 5, 2048)        0         \n",
            "_________________________________________________________________\n",
            "dropout_84 (Dropout)         (None, 7, 5, 2048)        0         \n",
            "_________________________________________________________________\n",
            "conv2d_88 (Conv2D)           (None, 7, 5, 256)         524544    \n",
            "_________________________________________________________________\n",
            "activation_77 (Activation)   (None, 7, 5, 256)         0         \n",
            "_________________________________________________________________\n",
            "max_pooling2d_35 (MaxPooling (None, 3, 2, 256)         0         \n",
            "_________________________________________________________________\n",
            "dropout_85 (Dropout)         (None, 3, 2, 256)         0         \n",
            "_________________________________________________________________\n",
            "conv2d_89 (Conv2D)           (None, 3, 2, 256)         590080    \n",
            "_________________________________________________________________\n",
            "activation_78 (Activation)   (None, 3, 2, 256)         0         \n",
            "_________________________________________________________________\n",
            "max_pooling2d_36 (MaxPooling (None, 1, 1, 256)         0         \n",
            "_________________________________________________________________\n",
            "flatten_8 (Flatten)          (None, 256)               0         \n",
            "_________________________________________________________________\n",
            "dense_16 (Dense)             (None, 5)                 1285      \n",
            "=================================================================\n",
            "Total params: 5,494,789\n",
            "Trainable params: 5,490,821\n",
            "Non-trainable params: 3,968\n",
            "_________________________________________________________________\n"
          ],
          "name": "stdout"
        }
      ]
    },
    {
      "metadata": {
        "id": "_gHpNhCaF5fM",
        "colab_type": "code",
        "colab": {
          "autoexec": {
            "startup": false,
            "wait_interval": 0
          },
          "base_uri": "https://localhost:8080/",
          "height": 6425
        },
        "outputId": "b07d73db-4f02-40e9-ac75-07acd56aed02",
        "executionInfo": {
          "status": "ok",
          "timestamp": 1531674839635,
          "user_tz": -180,
          "elapsed": 1493768,
          "user": {
            "displayName": "Ömer Yalçın",
            "photoUrl": "//lh6.googleusercontent.com/-KYS0k8F_jss/AAAAAAAAAAI/AAAAAAAABGM/XoQZ3tR-BuA/s50-c-k-no/photo.jpg",
            "userId": "107209192184149810541"
          }
        }
      },
      "cell_type": "code",
      "source": [
        "print(\"Starting first epochs ...\")\n",
        "\n",
        "\n",
        "# first 50 epochs (0-50)\n",
        "num_classes=5\n",
        "batch_size=32\n",
        "epoch=50\n",
        "opt_add=keras.optimizers.Adadelta()\n",
        "model.compile(optimizer=opt_add,loss=\"categorical_crossentropy\",\n",
        "              metrics=[\"accuracy\"])\n",
        "SimpleNet_1 = model.fit_generator(\n",
        "      train_datagen.flow(x_tr,y_tr,batch_size=32),\n",
        "      steps_per_epoch=len(x_tr)/32,\n",
        "      epochs=50,\n",
        "      validation_data=test_datagen.flow(x_ts,y_ts,batch_size=128),\n",
        "      validation_steps=len(x_ts)/128)\n",
        "\n",
        "\n",
        "print(\"Starting second epochs ...\")\n",
        "\n",
        "\n",
        "# Second 25 epochs (50-75)\n",
        "opt_add=keras.optimizers.Adadelta(lr=0.7,rho=0.9)\n",
        "model.compile(optimizer=opt_add,loss=\"categorical_crossentropy\",\n",
        "              metrics=[\"accuracy\"])\n",
        "SimpleNet_2 = model.fit_generator(\n",
        "      train_datagen.flow(x_tr,y_tr,batch_size=32),\n",
        "      steps_per_epoch=len(x_tr)/32,\n",
        "      epochs=25,\n",
        "      validation_data=test_datagen.flow(x_ts,y_ts,batch_size=128),\n",
        "      validation_steps=len(x_ts)/128)\n",
        "\n",
        "\n",
        "print(\"Starting third epochs ...\")\n",
        "\n",
        "\n",
        "# Third 25 epochs (75-100)\n",
        "opt_add=keras.optimizers.Adadelta(lr=0.5,rho=0.85)\n",
        "model.compile(optimizer=opt_add,loss=\"categorical_crossentropy\",\n",
        "              metrics=[\"accuracy\"])\n",
        "SimpleNet_3 = model.fit_generator(\n",
        "      train_datagen.flow(x_tr,y_tr,batch_size=12),\n",
        "      steps_per_epoch=len(x_tr)/12,\n",
        "      epochs=25,\n",
        "      validation_data=test_datagen.flow(x_ts,y_ts,batch_size=128),\n",
        "      validation_steps=len(x_ts)/128)\n",
        "\n",
        "\n",
        "print(\"Starting fourth epochs ...\")\n",
        "\n",
        "\n",
        "# Fourth 25 epochs (100-125)\n",
        "opt_add=keras.optimizers.Adadelta(lr=0.3,rho=0.75)\n",
        "model.compile(optimizer=opt_add,loss=\"categorical_crossentropy\",\n",
        "              metrics=[\"accuracy\"])\n",
        "SimpleNet_4 = model.fit_generator(\n",
        "      train_datagen.flow(x_tr,y_tr,batch_size=32),\n",
        "      steps_per_epoch=len(x_tr)/32,\n",
        "      epochs=25,\n",
        "      validation_data=test_datagen.flow(x_ts,y_ts,batch_size=128),\n",
        "      validation_steps=len(x_ts)/128)\n",
        "\n",
        "\n",
        "print(\"Starting fifth epochs ...\")\n",
        "\n",
        "\n",
        "# Fifth 25 epoch (125-150)\n",
        "opt_add=keras.optimizers.Adadelta(lr=0.1,rho=0.60)\n",
        "model.compile(optimizer=opt_add,loss=\"categorical_crossentropy\",\n",
        "              metrics=[\"accuracy\"])\n",
        "SimpleNet_5 = model.fit_generator(\n",
        "      train_datagen.flow(x_tr,y_tr,batch_size=32),\n",
        "      steps_per_epoch=len(x_tr)/32,\n",
        "      epochs=25,\n",
        "      validation_data=test_datagen.flow(x_ts,y_ts,batch_size=128),\n",
        "      validation_steps=len(x_ts)/128)\n",
        "\n",
        "\n",
        "print(\"Starting sixth epochs ...\")\n",
        "\n",
        "\n",
        "# Sixth 25 epoch (140-155)\n",
        "opt_add=keras.optimizers.Adadelta(lr=0.05,rho=0.40)\n",
        "model.compile(optimizer=opt_add,loss=\"categorical_crossentropy\",\n",
        "              metrics=[\"accuracy\"])\n",
        "SimpleNet_6 = model.fit_generator(\n",
        "      train_datagen.flow(x_tr,y_tr,batch_size=32),\n",
        "      steps_per_epoch=len(x_tr)/32,\n",
        "      epochs=25,\n",
        "      validation_data=test_datagen.flow(x_ts,y_ts,batch_size=128),\n",
        "      validation_steps=len(x_ts)/128)"
      ],
      "execution_count": 181,
      "outputs": [
        {
          "output_type": "stream",
          "text": [
            "Starting first epochs ...\n",
            "Epoch 1/50\n",
            "27/26 [==============================] - 21s 794ms/step - loss: 1.7427 - acc: 0.4156 - val_loss: 1.4043 - val_acc: 0.4596\n",
            "Epoch 2/50\n",
            "27/26 [==============================] - 7s 274ms/step - loss: 1.4763 - acc: 0.4633 - val_loss: 1.5031 - val_acc: 0.4596\n",
            "Epoch 3/50\n",
            "27/26 [==============================] - 7s 274ms/step - loss: 1.4441 - acc: 0.4677 - val_loss: 1.3977 - val_acc: 0.4596\n",
            "Epoch 4/50\n",
            "27/26 [==============================] - 7s 272ms/step - loss: 1.4441 - acc: 0.4585 - val_loss: 1.3711 - val_acc: 0.4596\n",
            "Epoch 5/50\n",
            "27/26 [==============================] - 7s 277ms/step - loss: 1.4244 - acc: 0.4630 - val_loss: 1.5300 - val_acc: 0.4596\n",
            "Epoch 6/50\n",
            "27/26 [==============================] - 7s 273ms/step - loss: 1.3826 - acc: 0.4643 - val_loss: 1.3825 - val_acc: 0.4702\n",
            "Epoch 7/50\n",
            "27/26 [==============================] - 7s 273ms/step - loss: 1.3741 - acc: 0.4552 - val_loss: 1.3548 - val_acc: 0.4877\n"
          ],
          "name": "stdout"
        },
        {
          "output_type": "stream",
          "text": [
            "Epoch 8/50\n",
            "27/26 [==============================] - 7s 271ms/step - loss: 1.3300 - acc: 0.4750 - val_loss: 1.2620 - val_acc: 0.4807\n",
            "Epoch 9/50\n",
            "27/26 [==============================] - 7s 273ms/step - loss: 1.2694 - acc: 0.5192 - val_loss: 2.1108 - val_acc: 0.4737\n",
            "Epoch 10/50\n",
            "27/26 [==============================] - 7s 274ms/step - loss: 1.2219 - acc: 0.5247 - val_loss: 1.9933 - val_acc: 0.4456\n",
            "Epoch 11/50\n",
            "27/26 [==============================] - 7s 273ms/step - loss: 1.1663 - acc: 0.5490 - val_loss: 1.5900 - val_acc: 0.2246\n",
            "Epoch 12/50\n",
            "27/26 [==============================] - 7s 275ms/step - loss: 1.1137 - acc: 0.5908 - val_loss: 3.6973 - val_acc: 0.4596\n",
            "Epoch 13/50\n",
            "27/26 [==============================] - 7s 273ms/step - loss: 1.0865 - acc: 0.5969 - val_loss: 1.4062 - val_acc: 0.4702\n",
            "Epoch 14/50\n",
            "27/26 [==============================] - 7s 272ms/step - loss: 1.1000 - acc: 0.6017 - val_loss: 4.1092 - val_acc: 0.4667\n",
            "Epoch 15/50\n",
            " 3/26 [==>...........................] - ETA: 6s - loss: 1.0116 - acc: 0.6250"
          ],
          "name": "stdout"
        },
        {
          "output_type": "stream",
          "text": [
            "27/26 [==============================] - 7s 273ms/step - loss: 1.0493 - acc: 0.6114 - val_loss: 2.4667 - val_acc: 0.4667\n",
            "Epoch 16/50\n",
            "27/26 [==============================] - 7s 272ms/step - loss: 0.9147 - acc: 0.6542 - val_loss: 1.3175 - val_acc: 0.5263\n",
            "Epoch 17/50\n",
            "27/26 [==============================] - 7s 276ms/step - loss: 1.0112 - acc: 0.6290 - val_loss: 1.7713 - val_acc: 0.5228\n",
            "Epoch 18/50\n",
            "27/26 [==============================] - 7s 272ms/step - loss: 0.9025 - acc: 0.6506 - val_loss: 1.5051 - val_acc: 0.4526\n",
            "Epoch 19/50\n",
            "27/26 [==============================] - 7s 276ms/step - loss: 0.8785 - acc: 0.6668 - val_loss: 1.6517 - val_acc: 0.2807\n",
            "Epoch 20/50\n",
            "27/26 [==============================] - 7s 273ms/step - loss: 0.7880 - acc: 0.7194 - val_loss: 1.4013 - val_acc: 0.4772\n",
            "Epoch 21/50\n",
            "27/26 [==============================] - 7s 273ms/step - loss: 0.8365 - acc: 0.6947 - val_loss: 2.6564 - val_acc: 0.4947\n",
            "Epoch 22/50\n",
            " 6/26 [=====>........................] - ETA: 5s - loss: 0.7966 - acc: 0.6979"
          ],
          "name": "stdout"
        },
        {
          "output_type": "stream",
          "text": [
            "27/26 [==============================] - 7s 277ms/step - loss: 0.7605 - acc: 0.7279 - val_loss: 2.3639 - val_acc: 0.4772\n",
            "Epoch 23/50\n",
            "27/26 [==============================] - 7s 273ms/step - loss: 0.7414 - acc: 0.7444 - val_loss: 1.5135 - val_acc: 0.4070\n",
            "Epoch 24/50\n",
            "27/26 [==============================] - 7s 272ms/step - loss: 0.7499 - acc: 0.7273 - val_loss: 0.6383 - val_acc: 0.7544\n",
            "Epoch 25/50\n",
            "27/26 [==============================] - 7s 276ms/step - loss: 0.6316 - acc: 0.7739 - val_loss: 0.8800 - val_acc: 0.6772\n",
            "Epoch 26/50\n",
            "27/26 [==============================] - 7s 277ms/step - loss: 0.6902 - acc: 0.7486 - val_loss: 0.9152 - val_acc: 0.6667\n",
            "Epoch 27/50\n",
            "27/26 [==============================] - 7s 273ms/step - loss: 0.6318 - acc: 0.7548 - val_loss: 0.5231 - val_acc: 0.8140\n",
            "Epoch 28/50\n",
            "27/26 [==============================] - 7s 273ms/step - loss: 0.6487 - acc: 0.7613 - val_loss: 1.0653 - val_acc: 0.5193\n",
            "Epoch 29/50\n",
            " 6/26 [=====>........................] - ETA: 5s - loss: 0.6389 - acc: 0.7552"
          ],
          "name": "stdout"
        },
        {
          "output_type": "stream",
          "text": [
            "27/26 [==============================] - 7s 274ms/step - loss: 0.6095 - acc: 0.7733 - val_loss: 1.1012 - val_acc: 0.5930\n",
            "Epoch 30/50\n",
            "27/26 [==============================] - 7s 273ms/step - loss: 0.6052 - acc: 0.7709 - val_loss: 0.4850 - val_acc: 0.8000\n",
            "Epoch 31/50\n",
            "27/26 [==============================] - 7s 273ms/step - loss: 0.5590 - acc: 0.7926 - val_loss: 0.7154 - val_acc: 0.7123\n",
            "Epoch 32/50\n",
            "27/26 [==============================] - 7s 271ms/step - loss: 0.4689 - acc: 0.8172 - val_loss: 1.7072 - val_acc: 0.5719\n",
            "Epoch 33/50\n",
            "27/26 [==============================] - 7s 277ms/step - loss: 0.5935 - acc: 0.7702 - val_loss: 0.6736 - val_acc: 0.7649\n",
            "Epoch 34/50\n",
            "27/26 [==============================] - 7s 276ms/step - loss: 0.5325 - acc: 0.8014 - val_loss: 2.5284 - val_acc: 0.2947\n",
            "Epoch 35/50\n",
            "27/26 [==============================] - 7s 273ms/step - loss: 0.4563 - acc: 0.8579 - val_loss: 0.4039 - val_acc: 0.8702\n",
            "Epoch 36/50\n",
            " 6/26 [=====>........................] - ETA: 5s - loss: 0.3124 - acc: 0.8958"
          ],
          "name": "stdout"
        },
        {
          "output_type": "stream",
          "text": [
            "27/26 [==============================] - 7s 274ms/step - loss: 0.4259 - acc: 0.8411 - val_loss: 2.7401 - val_acc: 0.2807\n",
            "Epoch 37/50\n",
            "27/26 [==============================] - 8s 278ms/step - loss: 0.4474 - acc: 0.8492 - val_loss: 0.7235 - val_acc: 0.7298\n",
            "Epoch 38/50\n",
            "27/26 [==============================] - 7s 274ms/step - loss: 0.4231 - acc: 0.8421 - val_loss: 1.0536 - val_acc: 0.7333\n",
            "Epoch 39/50\n",
            "27/26 [==============================] - 7s 276ms/step - loss: 0.3933 - acc: 0.8694 - val_loss: 0.5690 - val_acc: 0.7965\n",
            "Epoch 40/50\n",
            "27/26 [==============================] - 7s 275ms/step - loss: 0.4102 - acc: 0.8574 - val_loss: 2.7981 - val_acc: 0.3684\n",
            "Epoch 41/50\n",
            "27/26 [==============================] - 7s 277ms/step - loss: 0.3764 - acc: 0.8621 - val_loss: 0.7883 - val_acc: 0.7439\n",
            "Epoch 42/50\n",
            "27/26 [==============================] - 7s 277ms/step - loss: 0.3946 - acc: 0.8586 - val_loss: 0.9122 - val_acc: 0.6912\n",
            "Epoch 43/50\n",
            " 6/26 [=====>........................] - ETA: 5s - loss: 0.2701 - acc: 0.9323"
          ],
          "name": "stdout"
        },
        {
          "output_type": "stream",
          "text": [
            "27/26 [==============================] - 7s 273ms/step - loss: 0.3934 - acc: 0.8597 - val_loss: 0.4314 - val_acc: 0.8526\n",
            "Epoch 44/50\n",
            "27/26 [==============================] - 7s 276ms/step - loss: 0.3063 - acc: 0.8813 - val_loss: 3.6243 - val_acc: 0.2702\n",
            "Epoch 45/50\n",
            "27/26 [==============================] - 7s 277ms/step - loss: 0.3770 - acc: 0.8602 - val_loss: 0.2191 - val_acc: 0.9298\n",
            "Epoch 46/50\n",
            "27/26 [==============================] - 7s 277ms/step - loss: 0.3591 - acc: 0.8803 - val_loss: 0.5918 - val_acc: 0.8211\n",
            "Epoch 47/50\n",
            "27/26 [==============================] - 7s 272ms/step - loss: 0.3579 - acc: 0.8880 - val_loss: 1.3104 - val_acc: 0.6421\n",
            "Epoch 48/50\n",
            "27/26 [==============================] - 7s 272ms/step - loss: 0.2896 - acc: 0.8852 - val_loss: 1.9453 - val_acc: 0.5965\n",
            "Epoch 49/50\n",
            "27/26 [==============================] - 7s 273ms/step - loss: 0.3714 - acc: 0.8686 - val_loss: 0.4716 - val_acc: 0.8421\n",
            "Epoch 50/50\n",
            " 6/26 [=====>........................] - ETA: 5s - loss: 0.2240 - acc: 0.9022"
          ],
          "name": "stdout"
        },
        {
          "output_type": "stream",
          "text": [
            "27/26 [==============================] - 7s 273ms/step - loss: 0.2418 - acc: 0.9042 - val_loss: 0.2231 - val_acc: 0.9123\n",
            "Starting second epochs ...\n",
            "Epoch 1/25\n",
            "27/26 [==============================] - 21s 764ms/step - loss: 0.2458 - acc: 0.9049 - val_loss: 0.3181 - val_acc: 0.8737\n",
            "Epoch 2/25\n",
            "27/26 [==============================] - 7s 273ms/step - loss: 0.2048 - acc: 0.9266 - val_loss: 0.2771 - val_acc: 0.9018\n",
            "Epoch 3/25\n",
            "27/26 [==============================] - 7s 277ms/step - loss: 0.1917 - acc: 0.9433 - val_loss: 0.2913 - val_acc: 0.9123\n",
            "Epoch 4/25\n",
            "27/26 [==============================] - 7s 277ms/step - loss: 0.1775 - acc: 0.9354 - val_loss: 0.2148 - val_acc: 0.9333\n",
            "Epoch 5/25\n",
            "27/26 [==============================] - 7s 274ms/step - loss: 0.1670 - acc: 0.9451 - val_loss: 0.2385 - val_acc: 0.9298\n",
            "Epoch 6/25\n",
            "27/26 [==============================] - 7s 273ms/step - loss: 0.1774 - acc: 0.9347 - val_loss: 0.2232 - val_acc: 0.9333\n",
            "Epoch 7/25\n",
            " 2/26 [=>............................] - ETA: 6s - loss: 0.2950 - acc: 0.9219"
          ],
          "name": "stdout"
        },
        {
          "output_type": "stream",
          "text": [
            "27/26 [==============================] - 7s 273ms/step - loss: 0.1880 - acc: 0.9394 - val_loss: 0.1620 - val_acc: 0.9439\n",
            "Epoch 8/25\n",
            "27/26 [==============================] - 7s 273ms/step - loss: 0.1809 - acc: 0.9431 - val_loss: 0.4300 - val_acc: 0.8526\n",
            "Epoch 9/25\n",
            "27/26 [==============================] - 7s 276ms/step - loss: 0.1823 - acc: 0.9421 - val_loss: 0.5061 - val_acc: 0.8211\n",
            "Epoch 10/25\n",
            "27/26 [==============================] - 7s 275ms/step - loss: 0.1491 - acc: 0.9479 - val_loss: 0.2441 - val_acc: 0.9158\n",
            "Epoch 11/25\n",
            "27/26 [==============================] - 7s 274ms/step - loss: 0.1454 - acc: 0.9532 - val_loss: 0.1300 - val_acc: 0.9579\n",
            "Epoch 12/25\n",
            "27/26 [==============================] - 7s 277ms/step - loss: 0.1295 - acc: 0.9556 - val_loss: 0.1922 - val_acc: 0.9333\n",
            "Epoch 13/25\n",
            "27/26 [==============================] - 7s 272ms/step - loss: 0.1648 - acc: 0.9428 - val_loss: 0.8544 - val_acc: 0.7474\n",
            "Epoch 14/25\n",
            " 6/26 [=====>........................] - ETA: 5s - loss: 0.1226 - acc: 0.9511"
          ],
          "name": "stdout"
        },
        {
          "output_type": "stream",
          "text": [
            "27/26 [==============================] - 7s 276ms/step - loss: 0.1218 - acc: 0.9579 - val_loss: 0.0791 - val_acc: 0.9719\n",
            "Epoch 15/25\n",
            "27/26 [==============================] - 7s 273ms/step - loss: 0.1380 - acc: 0.9509 - val_loss: 0.4917 - val_acc: 0.8456\n",
            "Epoch 16/25\n",
            "27/26 [==============================] - 7s 273ms/step - loss: 0.1302 - acc: 0.9616 - val_loss: 0.2522 - val_acc: 0.9263\n",
            "Epoch 17/25\n",
            "27/26 [==============================] - 7s 272ms/step - loss: 0.1027 - acc: 0.9687 - val_loss: 0.0856 - val_acc: 0.9754\n",
            "Epoch 18/25\n",
            "27/26 [==============================] - 7s 274ms/step - loss: 0.1191 - acc: 0.9614 - val_loss: 0.1122 - val_acc: 0.9509\n",
            "Epoch 19/25\n",
            "27/26 [==============================] - 7s 277ms/step - loss: 0.1189 - acc: 0.9625 - val_loss: 0.2030 - val_acc: 0.9333\n",
            "Epoch 20/25\n",
            "27/26 [==============================] - 7s 277ms/step - loss: 0.1614 - acc: 0.9436 - val_loss: 0.4898 - val_acc: 0.8386\n",
            "Epoch 21/25\n",
            " 6/26 [=====>........................] - ETA: 5s - loss: 0.2166 - acc: 0.9167"
          ],
          "name": "stdout"
        },
        {
          "output_type": "stream",
          "text": [
            "27/26 [==============================] - 7s 273ms/step - loss: 0.1202 - acc: 0.9537 - val_loss: 0.2056 - val_acc: 0.9158\n",
            "Epoch 22/25\n",
            "27/26 [==============================] - 7s 272ms/step - loss: 0.1343 - acc: 0.9521 - val_loss: 0.8967 - val_acc: 0.7404\n",
            "Epoch 23/25\n",
            "27/26 [==============================] - 7s 272ms/step - loss: 0.1102 - acc: 0.9653 - val_loss: 0.2013 - val_acc: 0.9333\n",
            "Epoch 24/25\n",
            "27/26 [==============================] - 7s 274ms/step - loss: 0.1334 - acc: 0.9521 - val_loss: 0.3929 - val_acc: 0.9088\n",
            "Epoch 25/25\n",
            "27/26 [==============================] - 7s 273ms/step - loss: 0.1278 - acc: 0.9572 - val_loss: 0.1135 - val_acc: 0.9649\n",
            "Starting third epochs ...\n",
            "Epoch 1/25\n",
            "66/71 [==========================>...] - ETA: 1s - loss: 0.0928 - acc: 0.9722"
          ],
          "name": "stdout"
        },
        {
          "output_type": "stream",
          "text": [
            "72/71 [==============================] - 25s 345ms/step - loss: 0.0917 - acc: 0.9722 - val_loss: 0.1152 - val_acc: 0.9684\n",
            "Epoch 2/25\n",
            "72/71 [==============================] - 11s 154ms/step - loss: 0.0786 - acc: 0.9722 - val_loss: 0.0915 - val_acc: 0.9719\n",
            "Epoch 3/25\n",
            "72/71 [==============================] - 11s 155ms/step - loss: 0.1769 - acc: 0.9584 - val_loss: 0.4899 - val_acc: 0.8632\n",
            "Epoch 4/25\n",
            "72/71 [==============================] - 11s 155ms/step - loss: 0.1939 - acc: 0.9502 - val_loss: 0.1553 - val_acc: 0.9509\n",
            "Epoch 5/25\n",
            "41/71 [================>.............] - ETA: 4s - loss: 0.1182 - acc: 0.9553"
          ],
          "name": "stdout"
        },
        {
          "output_type": "stream",
          "text": [
            "72/71 [==============================] - 11s 154ms/step - loss: 0.1413 - acc: 0.9525 - val_loss: 0.1053 - val_acc: 0.9719\n",
            "Epoch 6/25\n",
            "72/71 [==============================] - 11s 156ms/step - loss: 0.0939 - acc: 0.9618 - val_loss: 0.1853 - val_acc: 0.9368\n",
            "Epoch 7/25\n",
            "72/71 [==============================] - 11s 154ms/step - loss: 0.1016 - acc: 0.9641 - val_loss: 0.2350 - val_acc: 0.9123\n",
            "Epoch 8/25\n",
            "72/71 [==============================] - 11s 153ms/step - loss: 0.1061 - acc: 0.9618 - val_loss: 0.0740 - val_acc: 0.9684\n",
            "Epoch 9/25\n",
            "38/71 [===============>..............] - ETA: 4s - loss: 0.1053 - acc: 0.9671"
          ],
          "name": "stdout"
        },
        {
          "output_type": "stream",
          "text": [
            "72/71 [==============================] - 11s 155ms/step - loss: 0.1052 - acc: 0.9664 - val_loss: 0.1738 - val_acc: 0.9474\n",
            "Epoch 10/25\n",
            "72/71 [==============================] - 11s 154ms/step - loss: 0.1024 - acc: 0.9688 - val_loss: 0.0984 - val_acc: 0.9649\n",
            "Epoch 11/25\n",
            "72/71 [==============================] - 11s 154ms/step - loss: 0.1264 - acc: 0.9653 - val_loss: 0.1113 - val_acc: 0.9684\n",
            "Epoch 12/25\n",
            "72/71 [==============================] - 11s 154ms/step - loss: 0.0889 - acc: 0.9664 - val_loss: 0.1805 - val_acc: 0.9614\n",
            "Epoch 13/25\n",
            "36/71 [==============>...............] - ETA: 5s - loss: 0.0706 - acc: 0.9769"
          ],
          "name": "stdout"
        },
        {
          "output_type": "stream",
          "text": [
            "72/71 [==============================] - 11s 154ms/step - loss: 0.0866 - acc: 0.9734 - val_loss: 0.2289 - val_acc: 0.9404\n",
            "Epoch 14/25\n",
            "72/71 [==============================] - 11s 154ms/step - loss: 0.0973 - acc: 0.9676 - val_loss: 0.0792 - val_acc: 0.9649\n",
            "Epoch 15/25\n",
            "72/71 [==============================] - 11s 154ms/step - loss: 0.1249 - acc: 0.9653 - val_loss: 0.2746 - val_acc: 0.9228\n",
            "Epoch 16/25\n",
            "72/71 [==============================] - 11s 154ms/step - loss: 0.1174 - acc: 0.9664 - val_loss: 0.1030 - val_acc: 0.9614\n",
            "Epoch 17/25\n",
            "36/71 [==============>...............] - ETA: 5s - loss: 0.1216 - acc: 0.9606"
          ],
          "name": "stdout"
        },
        {
          "output_type": "stream",
          "text": [
            "72/71 [==============================] - 11s 153ms/step - loss: 0.0898 - acc: 0.9699 - val_loss: 0.1286 - val_acc: 0.9579\n",
            "Epoch 18/25\n",
            "72/71 [==============================] - 11s 153ms/step - loss: 0.0923 - acc: 0.9699 - val_loss: 0.2542 - val_acc: 0.9123\n",
            "Epoch 19/25\n",
            "72/71 [==============================] - 11s 154ms/step - loss: 0.0766 - acc: 0.9745 - val_loss: 0.0909 - val_acc: 0.9719\n",
            "Epoch 20/25\n",
            "72/71 [==============================] - 11s 154ms/step - loss: 0.0539 - acc: 0.9826 - val_loss: 0.0563 - val_acc: 0.9789\n",
            "Epoch 21/25\n",
            "36/71 [==============>...............] - ETA: 5s - loss: 0.0857 - acc: 0.9722"
          ],
          "name": "stdout"
        },
        {
          "output_type": "stream",
          "text": [
            "72/71 [==============================] - 11s 155ms/step - loss: 0.0841 - acc: 0.9768 - val_loss: 0.1189 - val_acc: 0.9509\n",
            "Epoch 22/25\n",
            "72/71 [==============================] - 11s 154ms/step - loss: 0.0757 - acc: 0.9734 - val_loss: 0.1107 - val_acc: 0.9649\n",
            "Epoch 23/25\n",
            "72/71 [==============================] - 11s 154ms/step - loss: 0.0794 - acc: 0.9745 - val_loss: 0.1567 - val_acc: 0.9509\n",
            "Epoch 24/25\n",
            "72/71 [==============================] - 11s 155ms/step - loss: 0.0712 - acc: 0.9768 - val_loss: 0.1636 - val_acc: 0.9684\n",
            "Epoch 25/25\n",
            "36/71 [==============>...............] - ETA: 5s - loss: 0.1079 - acc: 0.9676"
          ],
          "name": "stdout"
        },
        {
          "output_type": "stream",
          "text": [
            "72/71 [==============================] - 11s 154ms/step - loss: 0.0792 - acc: 0.9757 - val_loss: 0.0978 - val_acc: 0.9684\n",
            "Starting fourth epochs ...\n",
            "Epoch 1/25\n",
            "27/26 [==============================] - 21s 796ms/step - loss: 0.0439 - acc: 0.9880 - val_loss: 0.1034 - val_acc: 0.9754\n",
            "Epoch 2/25\n",
            "27/26 [==============================] - 7s 274ms/step - loss: 0.0355 - acc: 0.9861 - val_loss: 0.1286 - val_acc: 0.9614\n",
            "Epoch 3/25\n",
            "27/26 [==============================] - 7s 277ms/step - loss: 0.0300 - acc: 0.9884 - val_loss: 0.0858 - val_acc: 0.9754\n",
            "Epoch 4/25\n",
            "27/26 [==============================] - 7s 274ms/step - loss: 0.0200 - acc: 0.9931 - val_loss: 0.0702 - val_acc: 0.9719\n",
            "Epoch 5/25\n",
            "27/26 [==============================] - 7s 276ms/step - loss: 0.0318 - acc: 0.9884 - val_loss: 0.0822 - val_acc: 0.9754\n",
            "Epoch 6/25\n",
            "27/26 [==============================] - 7s 277ms/step - loss: 0.0240 - acc: 0.9907 - val_loss: 0.0949 - val_acc: 0.9649\n",
            "Epoch 7/25\n"
          ],
          "name": "stdout"
        },
        {
          "output_type": "stream",
          "text": [
            "27/26 [==============================] - 7s 277ms/step - loss: 0.0337 - acc: 0.9896 - val_loss: 0.0914 - val_acc: 0.9684\n",
            "Epoch 8/25\n",
            "27/26 [==============================] - 7s 276ms/step - loss: 0.0221 - acc: 0.9926 - val_loss: 0.0914 - val_acc: 0.9789\n",
            "Epoch 9/25\n",
            "27/26 [==============================] - 7s 277ms/step - loss: 0.0357 - acc: 0.9931 - val_loss: 0.0989 - val_acc: 0.9754\n",
            "Epoch 10/25\n",
            "27/26 [==============================] - 7s 273ms/step - loss: 0.0231 - acc: 0.9931 - val_loss: 0.0581 - val_acc: 0.9825\n",
            "Epoch 11/25\n",
            "27/26 [==============================] - 7s 277ms/step - loss: 0.0099 - acc: 0.9954 - val_loss: 0.0605 - val_acc: 0.9860\n",
            "Epoch 12/25\n",
            "27/26 [==============================] - 7s 277ms/step - loss: 0.0259 - acc: 0.9942 - val_loss: 0.0566 - val_acc: 0.9825\n",
            "Epoch 13/25\n",
            "27/26 [==============================] - 7s 273ms/step - loss: 0.0215 - acc: 0.9915 - val_loss: 0.0479 - val_acc: 0.9825\n",
            "Epoch 14/25\n",
            " 6/26 [=====>........................] - ETA: 5s - loss: 0.0433 - acc: 0.9896"
          ],
          "name": "stdout"
        },
        {
          "output_type": "stream",
          "text": [
            "27/26 [==============================] - 7s 273ms/step - loss: 0.0356 - acc: 0.9861 - val_loss: 0.0664 - val_acc: 0.9789\n",
            "Epoch 15/25\n",
            "27/26 [==============================] - 7s 278ms/step - loss: 0.0219 - acc: 0.9954 - val_loss: 0.0779 - val_acc: 0.9789\n",
            "Epoch 16/25\n",
            "27/26 [==============================] - 7s 272ms/step - loss: 0.0156 - acc: 0.9919 - val_loss: 0.1335 - val_acc: 0.9684\n",
            "Epoch 17/25\n",
            "27/26 [==============================] - 7s 276ms/step - loss: 0.0351 - acc: 0.9896 - val_loss: 0.1410 - val_acc: 0.9684\n",
            "Epoch 18/25\n",
            "27/26 [==============================] - 7s 274ms/step - loss: 0.0211 - acc: 0.9919 - val_loss: 0.1158 - val_acc: 0.9649\n",
            "Epoch 19/25\n",
            "27/26 [==============================] - 7s 274ms/step - loss: 0.0215 - acc: 0.9931 - val_loss: 0.0747 - val_acc: 0.9789\n",
            "Epoch 20/25\n",
            "27/26 [==============================] - 7s 273ms/step - loss: 0.0158 - acc: 0.9954 - val_loss: 0.0768 - val_acc: 0.9825\n",
            "Epoch 21/25\n",
            " 6/26 [=====>........................] - ETA: 5s - loss: 0.0037 - acc: 1.0000    "
          ],
          "name": "stdout"
        },
        {
          "output_type": "stream",
          "text": [
            "27/26 [==============================] - 7s 274ms/step - loss: 0.0122 - acc: 0.9942 - val_loss: 0.0825 - val_acc: 0.9825\n",
            "Epoch 22/25\n",
            "27/26 [==============================] - 7s 273ms/step - loss: 0.0321 - acc: 0.9915 - val_loss: 0.0739 - val_acc: 0.9825\n",
            "Epoch 23/25\n",
            "27/26 [==============================] - 7s 277ms/step - loss: 0.0224 - acc: 0.9942 - val_loss: 0.0748 - val_acc: 0.9754\n",
            "Epoch 24/25\n",
            "27/26 [==============================] - 7s 277ms/step - loss: 0.0288 - acc: 0.9896 - val_loss: 0.0573 - val_acc: 0.9789\n",
            "Epoch 25/25\n",
            "27/26 [==============================] - 8s 279ms/step - loss: 0.0216 - acc: 0.9907 - val_loss: 0.1297 - val_acc: 0.9684\n",
            "Starting fifth epochs ...\n",
            "Epoch 1/25\n",
            "27/26 [==============================] - 22s 817ms/step - loss: 0.0299 - acc: 0.9919 - val_loss: 0.0792 - val_acc: 0.9684\n",
            "Epoch 2/25\n",
            "27/26 [==============================] - 7s 272ms/step - loss: 0.0260 - acc: 0.9919 - val_loss: 0.0595 - val_acc: 0.9719\n",
            "Epoch 3/25\n",
            " 4/26 [===>..........................] - ETA: 5s - loss: 0.0790 - acc: 0.9688"
          ],
          "name": "stdout"
        },
        {
          "output_type": "stream",
          "text": [
            "27/26 [==============================] - 7s 278ms/step - loss: 0.0362 - acc: 0.9907 - val_loss: 0.0672 - val_acc: 0.9825\n",
            "Epoch 4/25\n",
            "27/26 [==============================] - 8s 278ms/step - loss: 0.0313 - acc: 0.9942 - val_loss: 0.0707 - val_acc: 0.9789\n",
            "Epoch 5/25\n",
            "27/26 [==============================] - 7s 277ms/step - loss: 0.0346 - acc: 0.9907 - val_loss: 0.0776 - val_acc: 0.9789\n",
            "Epoch 6/25\n",
            "27/26 [==============================] - 7s 274ms/step - loss: 0.0180 - acc: 0.9954 - val_loss: 0.0715 - val_acc: 0.9789\n",
            "Epoch 7/25\n",
            "27/26 [==============================] - 7s 274ms/step - loss: 0.0275 - acc: 0.9931 - val_loss: 0.0711 - val_acc: 0.9789\n",
            "Epoch 8/25\n",
            "27/26 [==============================] - 7s 277ms/step - loss: 0.0055 - acc: 0.9977 - val_loss: 0.0709 - val_acc: 0.9789\n",
            "Epoch 9/25\n",
            "27/26 [==============================] - 7s 273ms/step - loss: 0.0200 - acc: 0.9942 - val_loss: 0.0669 - val_acc: 0.9789\n",
            "Epoch 10/25\n",
            " 6/26 [=====>........................] - ETA: 5s - loss: 0.0278 - acc: 0.9928"
          ],
          "name": "stdout"
        },
        {
          "output_type": "stream",
          "text": [
            "27/26 [==============================] - 7s 273ms/step - loss: 0.0223 - acc: 0.9915 - val_loss: 0.0734 - val_acc: 0.9789\n",
            "Epoch 11/25\n",
            "27/26 [==============================] - 7s 276ms/step - loss: 0.0136 - acc: 0.9954 - val_loss: 0.0795 - val_acc: 0.9754\n",
            "Epoch 12/25\n",
            "27/26 [==============================] - 8s 278ms/step - loss: 0.0035 - acc: 0.9988 - val_loss: 0.0684 - val_acc: 0.9789\n",
            "Epoch 13/25\n",
            "27/26 [==============================] - 7s 274ms/step - loss: 0.0126 - acc: 0.9931 - val_loss: 0.0697 - val_acc: 0.9825\n",
            "Epoch 14/25\n",
            "27/26 [==============================] - 7s 274ms/step - loss: 0.0138 - acc: 0.9954 - val_loss: 0.0778 - val_acc: 0.9789\n",
            "Epoch 15/25\n",
            "27/26 [==============================] - 7s 274ms/step - loss: 0.0268 - acc: 0.9954 - val_loss: 0.0650 - val_acc: 0.9789\n",
            "Epoch 16/25\n",
            "27/26 [==============================] - 7s 278ms/step - loss: 0.0152 - acc: 0.9931 - val_loss: 0.0703 - val_acc: 0.9825\n",
            "Epoch 17/25\n",
            " 6/26 [=====>........................] - ETA: 5s - loss: 0.0289 - acc: 0.9948"
          ],
          "name": "stdout"
        },
        {
          "output_type": "stream",
          "text": [
            "27/26 [==============================] - 7s 275ms/step - loss: 0.0123 - acc: 0.9965 - val_loss: 0.0697 - val_acc: 0.9825\n",
            "Epoch 18/25\n",
            "27/26 [==============================] - 7s 278ms/step - loss: 0.0148 - acc: 0.9931 - val_loss: 0.0757 - val_acc: 0.9825\n",
            "Epoch 19/25\n",
            "27/26 [==============================] - 7s 277ms/step - loss: 0.0211 - acc: 0.9957 - val_loss: 0.0719 - val_acc: 0.9825\n",
            "Epoch 20/25\n",
            "27/26 [==============================] - 7s 274ms/step - loss: 0.0295 - acc: 0.9931 - val_loss: 0.0688 - val_acc: 0.9825\n",
            "Epoch 21/25\n",
            "27/26 [==============================] - 7s 276ms/step - loss: 0.0167 - acc: 0.9942 - val_loss: 0.0692 - val_acc: 0.9754\n",
            "Epoch 22/25\n",
            "27/26 [==============================] - 7s 277ms/step - loss: 0.0202 - acc: 0.9931 - val_loss: 0.0749 - val_acc: 0.9825\n",
            "Epoch 23/25\n",
            "27/26 [==============================] - 7s 274ms/step - loss: 0.0160 - acc: 0.9919 - val_loss: 0.0746 - val_acc: 0.9789\n",
            "Epoch 24/25\n",
            " 6/26 [=====>........................] - ETA: 5s - loss: 0.0015 - acc: 1.0000"
          ],
          "name": "stdout"
        },
        {
          "output_type": "stream",
          "text": [
            "27/26 [==============================] - 7s 275ms/step - loss: 0.0116 - acc: 0.9961 - val_loss: 0.0755 - val_acc: 0.9825\n",
            "Epoch 25/25\n",
            "27/26 [==============================] - 7s 273ms/step - loss: 0.0154 - acc: 0.9919 - val_loss: 0.0786 - val_acc: 0.9825\n",
            "Starting sixth epochs ...\n",
            "Epoch 1/25\n",
            "27/26 [==============================] - 22s 833ms/step - loss: 0.0092 - acc: 0.9977 - val_loss: 0.0756 - val_acc: 0.9825\n",
            "Epoch 2/25\n",
            "27/26 [==============================] - 8s 278ms/step - loss: 0.0289 - acc: 0.9931 - val_loss: 0.0676 - val_acc: 0.9825\n",
            "Epoch 3/25\n",
            "27/26 [==============================] - 7s 277ms/step - loss: 0.0068 - acc: 0.9965 - val_loss: 0.0710 - val_acc: 0.9825\n",
            "Epoch 4/25\n",
            "27/26 [==============================] - 7s 276ms/step - loss: 0.0067 - acc: 0.9965 - val_loss: 0.0669 - val_acc: 0.9825\n",
            "Epoch 5/25\n",
            "27/26 [==============================] - 7s 274ms/step - loss: 0.0086 - acc: 0.9965 - val_loss: 0.0670 - val_acc: 0.9825\n",
            "Epoch 6/25\n",
            " 2/26 [=>............................] - ETA: 6s - loss: 0.0292 - acc: 0.9844"
          ],
          "name": "stdout"
        },
        {
          "output_type": "stream",
          "text": [
            "27/26 [==============================] - 7s 274ms/step - loss: 0.0197 - acc: 0.9931 - val_loss: 0.0641 - val_acc: 0.9825\n",
            "Epoch 7/25\n",
            "27/26 [==============================] - 7s 277ms/step - loss: 0.0166 - acc: 0.9942 - val_loss: 0.0654 - val_acc: 0.9825\n",
            "Epoch 8/25\n",
            "27/26 [==============================] - 7s 277ms/step - loss: 0.0336 - acc: 0.9926 - val_loss: 0.0698 - val_acc: 0.9825\n",
            "Epoch 9/25\n",
            "27/26 [==============================] - 7s 277ms/step - loss: 0.0157 - acc: 0.9954 - val_loss: 0.0708 - val_acc: 0.9825\n",
            "Epoch 10/25\n",
            "27/26 [==============================] - 7s 277ms/step - loss: 0.0083 - acc: 0.9954 - val_loss: 0.0699 - val_acc: 0.9825\n",
            "Epoch 11/25\n",
            "27/26 [==============================] - 7s 274ms/step - loss: 0.0174 - acc: 0.9931 - val_loss: 0.0764 - val_acc: 0.9825\n",
            "Epoch 12/25\n",
            "27/26 [==============================] - 7s 273ms/step - loss: 0.0100 - acc: 0.9954 - val_loss: 0.0780 - val_acc: 0.9825\n",
            "Epoch 13/25\n",
            " 6/26 [=====>........................] - ETA: 5s - loss: 0.0169 - acc: 0.9948"
          ],
          "name": "stdout"
        },
        {
          "output_type": "stream",
          "text": [
            "27/26 [==============================] - 7s 273ms/step - loss: 0.0140 - acc: 0.9931 - val_loss: 0.0746 - val_acc: 0.9825\n",
            "Epoch 14/25\n",
            "27/26 [==============================] - 7s 273ms/step - loss: 0.0184 - acc: 0.9954 - val_loss: 0.0705 - val_acc: 0.9825\n",
            "Epoch 15/25\n",
            "27/26 [==============================] - 7s 273ms/step - loss: 0.0101 - acc: 0.9977 - val_loss: 0.0712 - val_acc: 0.9825\n",
            "Epoch 16/25\n",
            "27/26 [==============================] - 7s 275ms/step - loss: 0.0149 - acc: 0.9977 - val_loss: 0.0668 - val_acc: 0.9789\n",
            "Epoch 17/25\n",
            "27/26 [==============================] - 7s 278ms/step - loss: 0.0229 - acc: 0.9931 - val_loss: 0.0674 - val_acc: 0.9789\n",
            "Epoch 18/25\n",
            "27/26 [==============================] - 7s 274ms/step - loss: 0.0100 - acc: 0.9961 - val_loss: 0.0716 - val_acc: 0.9825\n",
            "Epoch 19/25\n",
            "27/26 [==============================] - 7s 276ms/step - loss: 0.0132 - acc: 0.9942 - val_loss: 0.0706 - val_acc: 0.9789\n",
            "Epoch 20/25\n",
            " 6/26 [=====>........................] - ETA: 5s - loss: 0.0309 - acc: 0.9948"
          ],
          "name": "stdout"
        },
        {
          "output_type": "stream",
          "text": [
            "27/26 [==============================] - 7s 277ms/step - loss: 0.0130 - acc: 0.9954 - val_loss: 0.0735 - val_acc: 0.9789\n",
            "Epoch 21/25\n",
            "27/26 [==============================] - 7s 272ms/step - loss: 0.0048 - acc: 0.9988 - val_loss: 0.0700 - val_acc: 0.9825\n",
            "Epoch 22/25\n",
            "27/26 [==============================] - 7s 272ms/step - loss: 0.0159 - acc: 0.9942 - val_loss: 0.0678 - val_acc: 0.9825\n",
            "Epoch 23/25\n",
            "27/26 [==============================] - 7s 276ms/step - loss: 0.0073 - acc: 0.9954 - val_loss: 0.0663 - val_acc: 0.9825\n",
            "Epoch 24/25\n",
            "27/26 [==============================] - 7s 275ms/step - loss: 0.0251 - acc: 0.9965 - val_loss: 0.0640 - val_acc: 0.9825\n",
            "Epoch 25/25\n",
            "27/26 [==============================] - 7s 273ms/step - loss: 0.0136 - acc: 0.9942 - val_loss: 0.0665 - val_acc: 0.9825\n"
          ],
          "name": "stdout"
        }
      ]
    },
    {
      "metadata": {
        "id": "DqdeJqiCjhMW",
        "colab_type": "code",
        "colab": {
          "autoexec": {
            "startup": false,
            "wait_interval": 0
          }
        }
      },
      "cell_type": "code",
      "source": [
        "model.save(\"simplenet_relu.h5\")"
      ],
      "execution_count": 0,
      "outputs": []
    },
    {
      "metadata": {
        "id": "e7VcHMJ_a03m",
        "colab_type": "code",
        "colab": {
          "autoexec": {
            "startup": false,
            "wait_interval": 0
          }
        }
      },
      "cell_type": "code",
      "source": [
        "simple=keras .models.load_model(\"simplenet_relu.h5\")"
      ],
      "execution_count": 0,
      "outputs": []
    },
    {
      "metadata": {
        "id": "-nQTTUWObmn4",
        "colab_type": "code",
        "colab": {
          "autoexec": {
            "startup": false,
            "wait_interval": 0
          },
          "base_uri": "https://localhost:8080/",
          "height": 53
        },
        "outputId": "0d9a4daa-09d6-4fbe-b675-56014f012f1b",
        "executionInfo": {
          "status": "ok",
          "timestamp": 1531674976239,
          "user_tz": -180,
          "elapsed": 6009,
          "user": {
            "displayName": "Ömer Yalçın",
            "photoUrl": "//lh6.googleusercontent.com/-KYS0k8F_jss/AAAAAAAAAAI/AAAAAAAABGM/XoQZ3tR-BuA/s50-c-k-no/photo.jpg",
            "userId": "107209192184149810541"
          }
        }
      },
      "cell_type": "code",
      "source": [
        "simple.evaluate(x_ts[:100]/255,y_ts[:100])"
      ],
      "execution_count": 184,
      "outputs": [
        {
          "output_type": "stream",
          "text": [
            "100/100 [==============================] - 6s 55ms/step\n"
          ],
          "name": "stdout"
        },
        {
          "output_type": "execute_result",
          "data": {
            "text/plain": [
              "[0.03440055412254935, 0.99]"
            ]
          },
          "metadata": {
            "tags": []
          },
          "execution_count": 184
        }
      ]
    },
    {
      "metadata": {
        "id": "e0FI9yazbNiC",
        "colab_type": "code",
        "colab": {
          "autoexec": {
            "startup": false,
            "wait_interval": 0
          },
          "base_uri": "https://localhost:8080/",
          "height": 53
        },
        "outputId": "d00412f0-b531-4432-d478-aa432130be39",
        "executionInfo": {
          "status": "ok",
          "timestamp": 1531674980922,
          "user_tz": -180,
          "elapsed": 735,
          "user": {
            "displayName": "Ömer Yalçın",
            "photoUrl": "//lh6.googleusercontent.com/-KYS0k8F_jss/AAAAAAAAAAI/AAAAAAAABGM/XoQZ3tR-BuA/s50-c-k-no/photo.jpg",
            "userId": "107209192184149810541"
          }
        }
      },
      "cell_type": "code",
      "source": [
        "acc_list=np.array([SimpleNet_1.history[\"acc\"],SimpleNet_2.history[\"acc\"],SimpleNet_3.history[\"acc\"],SimpleNet_4.history[\"acc\"],SimpleNet_5.history[\"acc\"],SimpleNet_6.history[\"acc\"]])\n",
        "val_acc_list=np.array([SimpleNet_1.history[\"val_acc\"],SimpleNet_2.history[\"acc\"],SimpleNet_3.history[\"val_acc\"],SimpleNet_4.history[\"val_acc\"],SimpleNet_5.history[\"val_acc\"],SimpleNet_6.history[\"val_acc\"]])\n",
        "val_acc=np.array(val_acc_list[0])\n",
        "acc=np.array(acc_list[0])\n",
        "print(acc.shape)\n",
        "for i in range(5):\n",
        "  acc=np.append(acc,acc_list[i+1])\n",
        "  val_acc=np.append(val_acc,val_acc_list[i+1])\n",
        "\n",
        "  \n",
        "print(acc.shape)"
      ],
      "execution_count": 185,
      "outputs": [
        {
          "output_type": "stream",
          "text": [
            "(50,)\n",
            "(175,)\n"
          ],
          "name": "stdout"
        }
      ]
    },
    {
      "metadata": {
        "id": "kUY6IbDtJy0e",
        "colab_type": "code",
        "colab": {
          "autoexec": {
            "startup": false,
            "wait_interval": 0
          },
          "base_uri": "https://localhost:8080/",
          "height": 718
        },
        "outputId": "6041710a-89f5-408a-c886-ef9bb3d095f9",
        "executionInfo": {
          "status": "ok",
          "timestamp": 1531675104226,
          "user_tz": -180,
          "elapsed": 1117,
          "user": {
            "displayName": "Ömer Yalçın",
            "photoUrl": "//lh6.googleusercontent.com/-KYS0k8F_jss/AAAAAAAAAAI/AAAAAAAABGM/XoQZ3tR-BuA/s50-c-k-no/photo.jpg",
            "userId": "107209192184149810541"
          }
        }
      },
      "cell_type": "code",
      "source": [
        "plt.figure(figsize=(15,12))\n",
        "plt.plot(acc)\n",
        "plt.plot(val_acc,)\n",
        "plt.legend([\"train\",\"validation\"])\n",
        "#acc[-10:].mean()\n",
        "#val_acc[-10:].mean()\n",
        "\n",
        "#plt.plot(SimpleNet_history.history[\"acc\"])\n",
        "#plt.plot(SimpleNet_history.history[\"val_acc\"])"
      ],
      "execution_count": 186,
      "outputs": [
        {
          "output_type": "execute_result",
          "data": {
            "text/plain": [
              "<matplotlib.legend.Legend at 0x7f403d4e82b0>"
            ]
          },
          "metadata": {
            "tags": []
          },
          "execution_count": 186
        },
        {
          "output_type": "display_data",
          "data": {
            "image/png": "[encoded data removed]",
            "text/plain": [
              "<matplotlib.figure.Figure at 0x7f40387b31d0>"
            ]
          },
          "metadata": {
            "tags": []
          }
        }
      ]
    },
    {
      "metadata": {
        "id": "g0k0OcaLSfx8",
        "colab_type": "code",
        "colab": {
          "autoexec": {
            "startup": false,
            "wait_interval": 0
          },
          "base_uri": "https://localhost:8080/",
          "height": 89
        },
        "outputId": "583e05e7-38e7-47ea-b7da-583eb371a3cc",
        "executionInfo": {
          "status": "ok",
          "timestamp": 1531675115540,
          "user_tz": -180,
          "elapsed": 1296,
          "user": {
            "displayName": "Ömer Yalçın",
            "photoUrl": "//lh6.googleusercontent.com/-KYS0k8F_jss/AAAAAAAAAAI/AAAAAAAABGM/XoQZ3tR-BuA/s50-c-k-no/photo.jpg",
            "userId": "107209192184149810541"
          }
        }
      },
      "cell_type": "code",
      "source": [
        "print(\"train accuracy average last 15 results :\",acc[-15:].mean())\n",
        "print(\"train standard deviation last 15 results :\",acc[-15:].std())\n",
        "print(\"train accuracy average last 15 results :\",val_acc[-15:].mean())\n",
        "print(\"train standard deviation last 15 results :\",val_acc[-15:].std())"
      ],
      "execution_count": 187,
      "outputs": [
        {
          "output_type": "stream",
          "text": [
            "train accuracy average last 15 results : 0.9953216374454907\n",
            "train standard deviation last 15 results : 0.0017608717145912558\n",
            "train accuracy average last 15 results : 0.9815204668602748\n",
            "train standard deviation last 15 results : 0.0015516369609844356\n"
          ],
          "name": "stdout"
        }
      ]
    },
    {
      "metadata": {
        "id": "UuZPgeczgwoL",
        "colab_type": "text"
      },
      "cell_type": "markdown",
      "source": [
        "**Parameters Search**"
      ]
    },
    {
      "metadata": {
        "id": "FMFuXH0ZS5bc",
        "colab_type": "code",
        "colab": {
          "autoexec": {
            "startup": false,
            "wait_interval": 0
          }
        }
      },
      "cell_type": "code",
      "source": [
        "# for batch size\n",
        "a={}\n",
        "\n",
        "for i in[16,32,64,128]:\n",
        "  num_classes=5\n",
        "  model=create_model()\n",
        "  opt_add=keras.optimizers.Adadelta()\n",
        "  model.compile(optimizer=opt_add,loss=\"categorical_crossentropy\",\n",
        "                metrics=[\"accuracy\"])\n",
        "  print(\"batch size:\",i,\"start...\")\n",
        "\n",
        "  SimpleNet_history = model.fit_generator(\n",
        "        train_datagen.flow(x_tr,y_tr,batch_size=i),\n",
        "        steps_per_epoch=len(x_tr)/i,\n",
        "        epochs=200,\n",
        "        validation_data=test_datagen.flow(x_ts,y_ts,batch_size=128),\n",
        "        validation_steps=len(x_ts)/128,verbose=0)\n",
        "  a[\"{}\".format(i)]=SimpleNet_history.history\n",
        "  print(\"end i batch size model\")\n",
        "  "
      ],
      "execution_count": 0,
      "outputs": []
    },
    {
      "metadata": {
        "id": "-6_XSnBfi1c2",
        "colab_type": "code",
        "colab": {
          "autoexec": {
            "startup": false,
            "wait_interval": 0
          }
        }
      },
      "cell_type": "code",
      "source": [
        ""
      ],
      "execution_count": 0,
      "outputs": []
    }
  ]
}
