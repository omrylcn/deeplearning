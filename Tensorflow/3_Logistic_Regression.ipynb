{
 "cells": [
  {
   "cell_type": "code",
   "execution_count": 1,
   "metadata": {},
   "outputs": [],
   "source": [
    "import tensorflow as tf\n",
    "import numpy as np\n",
    "import os\n",
    "import matplotlib\n",
    "import matplotlib.pyplot as plt \n",
    "\n",
    "\n",
    "def reset_graph():\n",
    "    tf.reset_default_graph()\n",
    "    tf.set_random_seed(34)\n",
    "    np.random.seed(43)"
   ]
  },
  {
   "cell_type": "code",
   "execution_count": 2,
   "metadata": {},
   "outputs": [],
   "source": [
    "reset_graph()"
   ]
  },
  {
   "cell_type": "code",
   "execution_count": 3,
   "metadata": {},
   "outputs": [],
   "source": [
    "from sklearn.datasets import make_moons\n",
    "\n",
    "m=1000\n",
    "x,y=make_moons(m,noise=0.1,random_state=42)"
   ]
  },
  {
   "cell_type": "code",
   "execution_count": 4,
   "metadata": {},
   "outputs": [
    {
     "data": {
      "text/plain": [
       "<matplotlib.legend.Legend at 0x7f06010e1198>"
      ]
     },
     "execution_count": 4,
     "metadata": {},
     "output_type": "execute_result"
    },
    {
     "data": {
      "image/png": "[encoded data removed]",
      "text/plain": [
       "<Figure size 432x288 with 1 Axes>"
      ]
     },
     "metadata": {},
     "output_type": "display_data"
    }
   ],
   "source": [
    "plt.plot(x[y==1,0],x[y==1,1],\"go\",label=\"positive\")\n",
    "plt.plot(x[y==0,0],x[y==0,1],\"r^\",label=\"negative\")\n",
    "plt.legend()\n"
   ]
  },
  {
   "cell_type": "code",
   "execution_count": 5,
   "metadata": {},
   "outputs": [
    {
     "data": {
      "text/plain": [
       "(1000, 1)"
      ]
     },
     "execution_count": 5,
     "metadata": {},
     "output_type": "execute_result"
    }
   ],
   "source": [
    "y=y.reshape(-1,1)\n",
    "y.shape"
   ]
  },
  {
   "cell_type": "code",
   "execution_count": 6,
   "metadata": {},
   "outputs": [],
   "source": [
    "test_ratio=0.2\n",
    "test_size=int(m*test_ratio)\n",
    "x_train=x[test_size:]\n",
    "y_train=y[test_size:]\n",
    "x_test=x[:test_size]\n",
    "y_test=y[:test_size]"
   ]
  },
  {
   "cell_type": "code",
   "execution_count": 7,
   "metadata": {},
   "outputs": [],
   "source": [
    "def random_batch(x_train,y_train,batch_size):\n",
    "    rnd_indices=np.random.randint(0,len(x_train),batch_size)\n",
    "    x_batch=x_train[rnd_indices]\n",
    "    y_batch=y_train[rnd_indices]\n",
    "    return x_batch,y_batch"
   ]
  },
  {
   "cell_type": "code",
   "execution_count": 8,
   "metadata": {},
   "outputs": [],
   "source": [
    "reset_graph()"
   ]
  },
  {
   "cell_type": "code",
   "execution_count": 9,
   "metadata": {},
   "outputs": [],
   "source": [
    "n_inputs=2\n",
    "x=tf.placeholder(tf.float32,shape=[None,2],name=\"x\")\n",
    "y=tf.placeholder(tf.float32,shape=[None,1],name=\"y\")\n",
    "\n",
    "w=tf.Variable(tf.random_normal([n_inputs,1],0,1),name=\"w\")\n",
    "b=tf.Variable(tf.random_normal([1],0,1),name=\"bias\")\n",
    "\n",
    "logits=tf.add(tf.matmul(x,w),b,name=\"logits\")\n",
    "y_proba=tf.sigmoid(logits,name=\"proba\")\n",
    "\n"
   ]
  },
  {
   "cell_type": "code",
   "execution_count": 10,
   "metadata": {},
   "outputs": [
    {
     "data": {
      "text/plain": [
       "TensorShape([Dimension(None), Dimension(1)])"
      ]
     },
     "execution_count": 10,
     "metadata": {},
     "output_type": "execute_result"
    }
   ],
   "source": [
    "y_proba.shape"
   ]
  },
  {
   "cell_type": "code",
   "execution_count": 11,
   "metadata": {},
   "outputs": [],
   "source": [
    "loss=tf.losses.sigmoid_cross_entropy(multi_class_labels=y,logits=logits)"
   ]
  },
  {
   "cell_type": "code",
   "execution_count": 12,
   "metadata": {},
   "outputs": [],
   "source": [
    "learning_rate = 0.01\n",
    "optimizer = tf.train.GradientDescentOptimizer(learning_rate=learning_rate)\n",
    "training_op = optimizer.minimize(loss)\n"
   ]
  },
  {
   "cell_type": "code",
   "execution_count": 13,
   "metadata": {},
   "outputs": [],
   "source": [
    "init=tf.global_variables_initializer()"
   ]
  },
  {
   "cell_type": "code",
   "execution_count": 14,
   "metadata": {},
   "outputs": [
    {
     "name": "stdout",
     "output_type": "stream",
     "text": [
      "0.804836\n",
      "0.3084131\n",
      "0.27499196\n",
      "0.26210967\n",
      "0.25587934\n",
      "0.25267157\n",
      "0.24993181\n",
      "0.24931957\n",
      "0.24871935\n",
      "0.24768072\n"
     ]
    }
   ],
   "source": [
    "n_epoch=1000\n",
    "batch_size=32\n",
    "n_batches=int(np.ceil(m/batch_size))\n",
    "\n",
    "with tf.Session() as sess:\n",
    "    sess.run(init)\n",
    "    \n",
    "    for epoch in range(n_epoch):\n",
    "        for batch_index in range(n_batches):\n",
    "            x_batch,y_batch=random_batch(x_train,y_train,batch_size=batch_size)\n",
    "            sess.run(training_op,feed_dict={x:x_batch,y:y_batch})\n",
    "        loss_val = loss.eval({x: x_test, y: y_test})\n",
    "        if epoch%100==0:\n",
    "            print(loss_val)\n",
    "    y_proba_val=y_proba.eval(feed_dict={x:x_test,y:y_test})\n",
    "    "
   ]
  },
  {
   "cell_type": "code",
   "execution_count": 15,
   "metadata": {},
   "outputs": [
    {
     "data": {
      "text/plain": [
       "array([[False],\n",
       "       [ True],\n",
       "       [ True],\n",
       "       [ True],\n",
       "       [False]])"
      ]
     },
     "execution_count": 15,
     "metadata": {},
     "output_type": "execute_result"
    }
   ],
   "source": [
    "y_pred=y_proba_val>=0.5\n",
    "y_pred[:5]"
   ]
  },
  {
   "cell_type": "code",
   "execution_count": 16,
   "metadata": {},
   "outputs": [
    {
     "data": {
      "text/plain": [
       "0.8979591836734694"
      ]
     },
     "execution_count": 16,
     "metadata": {},
     "output_type": "execute_result"
    }
   ],
   "source": [
    "from sklearn.metrics import precision_score,recall_score\n",
    "precision_score(y_test,y_pred)"
   ]
  },
  {
   "cell_type": "code",
   "execution_count": 17,
   "metadata": {},
   "outputs": [
    {
     "data": {
      "text/plain": [
       "array([[ 1.03201691, -0.41974116]])"
      ]
     },
     "execution_count": 17,
     "metadata": {},
     "output_type": "execute_result"
    }
   ],
   "source": [
    "x_test[y_pred[1,0],1]"
   ]
  },
  {
   "cell_type": "code",
   "execution_count": 18,
   "metadata": {},
   "outputs": [
    {
     "data": {
      "text/plain": [
       "<function matplotlib.pyplot.show(*args, **kw)>"
      ]
     },
     "execution_count": 18,
     "metadata": {},
     "output_type": "execute_result"
    },
    {
     "data": {
      "image/png": "[encoded data removed]",
      "text/plain": [
       "<Figure size 432x288 with 1 Axes>"
      ]
     },
     "metadata": {},
     "output_type": "display_data"
    }
   ],
   "source": [
    "plt.plot(x_test[y_pred[:,0],0],x_test[y_pred[:,0],1],\"go\",label=\"positive\")\n",
    "plt.plot(x_test[~y_pred[:,0],0],x_test[~y_pred[:,0],1],\"r^\",label=\"negative\")\n",
    "plt.legend()\n",
    "plt.show"
   ]
  },
  {
   "cell_type": "markdown",
   "metadata": {},
   "source": [
    "### Add Features"
   ]
  },
  {
   "cell_type": "code",
   "execution_count": 19,
   "metadata": {},
   "outputs": [
    {
     "data": {
      "text/plain": [
       "(800, 2)"
      ]
     },
     "execution_count": 19,
     "metadata": {},
     "output_type": "execute_result"
    }
   ],
   "source": [
    "x_train_enc=np.c_[x_train,np.square(x_train[:,0]),np.square(x_train[:,1])]\n",
    "x_test_enc=np.c_[x_test,np.square(x_test[:,0]),np.square(x_test[:,1])]\n",
    "x_train.shape"
   ]
  },
  {
   "cell_type": "code",
   "execution_count": 20,
   "metadata": {},
   "outputs": [],
   "source": [
    "reset_graph()"
   ]
  },
  {
   "cell_type": "code",
   "execution_count": 21,
   "metadata": {},
   "outputs": [],
   "source": [
    "n_inputs=4\n",
    "x=tf.placeholder(tf.float32,shape=[None,4],name=\"x\")\n",
    "y=tf.placeholder(tf.float32,shape=[None,1],name=\"y\")\n",
    "\n",
    "w=tf.Variable(tf.random_normal([n_inputs,1],0,1),name=\"w\")\n",
    "b=tf.Variable(1.,name=\"bias\")\n",
    "\n",
    "logits=tf.add(tf.matmul(x,w),b,name=\"logits\")\n",
    "y_proba=tf.sigmoid(logits,name=\"proba\")\n"
   ]
  },
  {
   "cell_type": "code",
   "execution_count": 22,
   "metadata": {},
   "outputs": [],
   "source": [
    "y_train=y_train.reshape(-1,1)\n",
    "y_test=y_test.reshape(-1,1)"
   ]
  },
  {
   "cell_type": "code",
   "execution_count": 23,
   "metadata": {},
   "outputs": [],
   "source": [
    "loss=tf.losses.sigmoid_cross_entropy(multi_class_labels=y,logits=logits)\n",
    "training_op=tf.train.GradientDescentOptimizer(0.001).minimize(loss)\n"
   ]
  },
  {
   "cell_type": "code",
   "execution_count": 24,
   "metadata": {
    "scrolled": true
   },
   "outputs": [
    {
     "name": "stdout",
     "output_type": "stream",
     "text": [
      "1.326822\n",
      "0.72907585\n",
      "0.5075926\n",
      "0.41974464\n",
      "0.37829453\n",
      "0.3551298\n",
      "0.33998\n",
      "0.3288404\n",
      "0.32041818\n",
      "0.31366566\n",
      "0.30788216\n",
      "0.3027767\n",
      "0.2983434\n",
      "0.29481936\n",
      "0.29128298\n",
      "0.2883176\n",
      "0.28549415\n",
      "0.28311267\n",
      "0.2807968\n",
      "0.27859917\n",
      "0.2766203\n",
      "0.27461442\n",
      "0.27305704\n",
      "0.2716321\n",
      "0.27025115\n",
      "0.26914254\n",
      "0.26804906\n",
      "0.26666173\n",
      "0.26559773\n",
      "0.26464698\n",
      "0.26374683\n",
      "0.26289263\n",
      "0.2621106\n",
      "0.26158056\n",
      "0.26086387\n",
      "0.25998375\n",
      "0.25953567\n",
      "0.25898677\n",
      "0.25835896\n",
      "0.25790107\n",
      "0.25735718\n",
      "0.25692713\n",
      "0.25664032\n",
      "0.25613683\n",
      "0.25583184\n",
      "0.25557777\n",
      "0.2552375\n",
      "0.2548937\n",
      "0.25454938\n",
      "0.25416398\n",
      "0.2539486\n",
      "0.25387183\n",
      "0.25347325\n",
      "0.253092\n",
      "0.25291678\n",
      "0.25268972\n",
      "0.2523963\n",
      "0.2522741\n",
      "0.25222057\n",
      "0.25197804\n",
      "0.25173047\n",
      "0.25149104\n",
      "0.25138807\n",
      "0.2512756\n",
      "0.25116426\n",
      "0.25097796\n",
      "0.25089562\n",
      "0.25056496\n",
      "0.25049454\n",
      "0.25039077\n",
      "0.25019357\n",
      "0.25022876\n",
      "0.25013518\n",
      "0.24996692\n",
      "0.2498367\n",
      "0.24965271\n",
      "0.24958698\n",
      "0.24974395\n",
      "0.24973327\n",
      "0.24952485\n",
      "0.24942848\n",
      "0.24918427\n",
      "0.24914226\n",
      "0.24911088\n",
      "0.24896915\n",
      "0.24906777\n",
      "0.24891412\n",
      "0.2487838\n",
      "0.24866232\n",
      "0.24893852\n",
      "0.24903183\n",
      "0.24896745\n",
      "0.24891853\n",
      "0.2489885\n",
      "0.24888687\n",
      "0.24865922\n",
      "0.24866372\n",
      "0.24854429\n",
      "0.24861643\n",
      "0.24854039\n"
     ]
    }
   ],
   "source": [
    "\n",
    "n_batches=int(len(x_train)/32)\n",
    "with tf.Session() as sess:\n",
    "    sess.run(tf.global_variables_initializer())\n",
    "    for epoch in range(10000):\n",
    "        \n",
    "        for i in range(n_batches):\n",
    "            x_batch,y_batch=random_batch(x_train_enc,y_train,32)\n",
    "            sess.run(training_op,feed_dict={x:x_batch,y:y_batch})\n",
    "        Loss=loss.eval(feed_dict={x:x_test_enc,y:y_test})\n",
    "        if epoch%100==0:\n",
    "            print(Loss)\n",
    "    y_proba_val=sess.run(y_proba,feed_dict={x:x_test_enc,y:y_test})"
   ]
  },
  {
   "cell_type": "code",
   "execution_count": 25,
   "metadata": {},
   "outputs": [],
   "source": [
    "y_pred=y_proba_val>=0.5"
   ]
  },
  {
   "cell_type": "code",
   "execution_count": 26,
   "metadata": {},
   "outputs": [
    {
     "data": {
      "text/plain": [
       "0.88"
      ]
     },
     "execution_count": 26,
     "metadata": {},
     "output_type": "execute_result"
    }
   ],
   "source": [
    "precision_score(y_test,y_pred)"
   ]
  },
  {
   "cell_type": "markdown",
   "metadata": {},
   "source": [
    "overfit !!!"
   ]
  },
  {
   "cell_type": "code",
   "execution_count": 27,
   "metadata": {},
   "outputs": [],
   "source": [
    "reset_graph()"
   ]
  },
  {
   "cell_type": "code",
   "execution_count": 28,
   "metadata": {},
   "outputs": [
    {
     "data": {
      "text/plain": [
       "4"
      ]
     },
     "execution_count": 28,
     "metadata": {},
     "output_type": "execute_result"
    }
   ],
   "source": [
    "n_inputs"
   ]
  },
  {
   "cell_type": "code",
   "execution_count": 29,
   "metadata": {},
   "outputs": [],
   "source": [
    "def logistic_regression(x,y,initializer=None,seed=42,learning_rate=0.01):\n",
    "    with tf.name_scope(\"logistic_regression\"):\n",
    "        with tf.name_scope(\"model\"):\n",
    "            w=tf.Variable(tf.random_normal([4,1],1,0),name=\"w\")\n",
    "            bias=tf.Variable(tf.random_normal([1],1,0),name=\"bias\")\n",
    "            logits=tf.add(tf.matmul(x,w),bias,name=\"logits\")\n",
    "            print(\"logits\",logits)\n",
    "            y_proba = tf.sigmoid(logits)\n",
    "        with tf.name_scope(\"train\"):\n",
    "            loss=tf.losses.sigmoid_cross_entropy(y,logits)\n",
    "            training_op=tf.train.GradientDescentOptimizer(learning_rate=learning_rate).minimize(loss)\n",
    "            loss_summary=tf.summary.scalar(\"log_loss\",loss)\n",
    "        with tf.name_scope(\"init\"):\n",
    "            init=tf.global_variables_initializer()\n",
    "        \n",
    "        with tf.name_scope(\"save\"):\n",
    "            saver=tf.train.Saver()\n",
    "        \n",
    "    return y_proba,loss,training_op,loss_summary,init,saver\n",
    "    "
   ]
  },
  {
   "cell_type": "code",
   "execution_count": 30,
   "metadata": {},
   "outputs": [],
   "source": [
    "from datetime import datetime\n",
    "\n",
    "def log_dir(prefix=\"\"):\n",
    "    now = datetime.utcnow().strftime(\"%Y%m%d%H%M%S\")\n",
    "    root_logdir=\"tf_logs\"\n",
    "    if prefix:\n",
    "        prefix+=\"-\"\n",
    "    name=prefix+\"run-\"+now\n",
    "    return \"{}/{}/\".format(root_logdir,name)\n"
   ]
  },
  {
   "cell_type": "code",
   "execution_count": 31,
   "metadata": {},
   "outputs": [
    {
     "name": "stdout",
     "output_type": "stream",
     "text": [
      "logits Tensor(\"logistic_regression/model/logits:0\", shape=(?, 1), dtype=float32)\n"
     ]
    }
   ],
   "source": [
    "n_inputs=4\n",
    "logdir=log_dir(\"logreg\")\n",
    "\n",
    "x=tf.placeholder(tf.float32,shape=[None,4],name=\"x\")\n",
    "y=tf.placeholder(tf.float32,shape=[None,1],name=\"y\")\n",
    "\n",
    "y_proba,loss,training_op,loss_summary,init,saver=logistic_regression(x,y)\n",
    "\n",
    "file_writer=tf.summary.FileWriter(logdir,tf.get_default_graph())"
   ]
  },
  {
   "cell_type": "code",
   "execution_count": 32,
   "metadata": {},
   "outputs": [
    {
     "name": "stdout",
     "output_type": "stream",
     "text": [
      "Epoch: 0 \tLoss: 1.309795\n",
      "Epoch: 500 \tLoss: 0.26016927\n"
     ]
    }
   ],
   "source": [
    "n_epochs = 1000\n",
    "batch_size = 50\n",
    "n_batches = int(np.ceil(m / batch_size))\n",
    "\n",
    "checkpoint_path = \"tmp/my_logreg_model.ckpt\"\n",
    "checkpoint_epoch_path = checkpoint_path + \".epoch\"\n",
    "final_model_path = \"./my_logreg_model\"\n",
    "\n",
    "\n",
    "with tf.Session() as sess:\n",
    "    if os.path.isfile(checkpoint_epoch_path):\n",
    "        # if the checkpoint file exists, restore the model and load the epoch number\n",
    "        with open(checkpoint_epoch_path, \"rb\") as f:\n",
    "            start_epoch = int(f.read())\n",
    "        print(\"Training was interrupted. Continuing at epoch\", start_epoch)\n",
    "        saver.restore(sess, checkpoint_path)\n",
    "    else:\n",
    "        start_epoch = 0\n",
    "        sess.run(init)\n",
    "    for epoch in range(start_epoch, n_epochs):\n",
    "        for batch_index in range(n_batches):\n",
    "            x_batch, y_batch = random_batch(x_train_enc, y_train, batch_size)\n",
    "            sess.run(training_op, feed_dict={x: x_batch, y: y_batch})\n",
    "        loss_val,summary_str=sess.run([loss,loss_summary], feed_dict={x: x_test_enc, y: y_test})\n",
    "        \n",
    "        file_writer.add_summary(summary_str,epoch)\n",
    "        \n",
    "        if epoch%500==0:\n",
    "            print(\"Epoch:\", epoch, \"\\tLoss:\", loss_val)\n",
    "            saver.save(sess,checkpoint_path)\n",
    "            with open(checkpoint_epoch_path,\"wb\") as f:\n",
    "                f.write(b\"%d\" % (epoch + 1))\n",
    "    \n",
    "    saver.save(sess,final_model_path)\n",
    "    y_proba_val=sess.run(y_proba,feed_dict={x:x_test_enc,y:y_test})\n",
    "    "
   ]
  },
  {
   "cell_type": "code",
   "execution_count": null,
   "metadata": {},
   "outputs": [],
   "source": []
  },
  {
   "cell_type": "code",
   "execution_count": null,
   "metadata": {},
   "outputs": [],
   "source": []
  },
  {
   "cell_type": "code",
   "execution_count": null,
   "metadata": {},
   "outputs": [],
   "source": []
  }
 ],
 "metadata": {
  "kernelspec": {
   "display_name": "Python 3",
   "language": "python",
   "name": "python3"
  },
  "language_info": {
   "codemirror_mode": {
    "name": "ipython",
    "version": 3
   },
   "file_extension": ".py",
   "mimetype": "text/x-python",
   "name": "python",
   "nbconvert_exporter": "python",
   "pygments_lexer": "ipython3",
   "version": "3.6.6"
  }
 },
 "nbformat": 4,
 "nbformat_minor": 2
}
