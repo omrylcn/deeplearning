{
  "nbformat": 4,
  "nbformat_minor": 0,
  "metadata": {
    "colab": {
      "name": "Image_Classifier_Algorithms_Comparision.pynb",
      "version": "0.3.2",
      "views": {},
      "default_view": {},
      "provenance": [],
      "collapsed_sections": [
        "s1RXKKwvS0S2",
        "iIRM7tN9S0T7",
        "E17zQWqqS0VE"
      ]
    },
    "kernelspec": {
      "display_name": "Python 3",
      "language": "python",
      "name": "python3"
    },
    "accelerator": "GPU"
  },
  "cells": [
    {
      "metadata": {
        "id": "qOYC4MkRrDrI",
        "colab_type": "text"
      },
      "cell_type": "markdown",
      "source": [
        "#  First Colab Tuning (İf  using)\n"
      ]
    },
    {
      "metadata": {
        "id": "TQEIg9SXZ1l0",
        "colab_type": "code",
        "colab": {
          "autoexec": {
            "startup": false,
            "wait_interval": 0
          },
          "base_uri": "https://localhost:8080/",
          "height": 107
        },
        "outputId": "41e813ee-91eb-43d1-d976-fc0812c133c3",
        "executionInfo": {
          "status": "ok",
          "timestamp": 1531655287603,
          "user_tz": -180,
          "elapsed": 2987,
          "user": {
            "displayName": "Ömer Yalçın",
            "photoUrl": "//lh6.googleusercontent.com/-KYS0k8F_jss/AAAAAAAAAAI/AAAAAAAABGM/XoQZ3tR-BuA/s50-c-k-no/photo.jpg",
            "userId": "107209192184149810541"
          }
        }
      },
      "cell_type": "code",
      "source": [
        "# Control for directory\n",
        "!ls"
      ],
      "execution_count": 39,
      "outputs": [
        {
          "output_type": "stream",
          "text": [
            "128out.csv     5.1-introduction-to-convnets.ipynb\t    images.png\r\n",
            "16out.csv      64out.csv\t\t\t\t    simplenet_relu.h5\r\n",
            "1.png\t       C_Algoritihms_Comparison\t\t\t    Untitled1.ipynb\r\n",
            "32out.csv      deneme.py\r\n",
            "32out.csv.ods  Image_Classifier_Algorithms_Comparing.ipynb\r\n"
          ],
          "name": "stdout"
        }
      ]
    },
    {
      "metadata": {
        "id": "lAaxHrRFxRne",
        "colab_type": "code",
        "colab": {
          "autoexec": {
            "startup": false,
            "wait_interval": 0
          },
          "base_uri": "https://localhost:8080/",
          "height": 35
        },
        "outputId": "2f040533-f74e-43a5-b73b-47a6dfe30df9",
        "executionInfo": {
          "status": "ok",
          "timestamp": 1531655302663,
          "user_tz": -180,
          "elapsed": 852,
          "user": {
            "displayName": "Ömer Yalçın",
            "photoUrl": "//lh6.googleusercontent.com/-KYS0k8F_jss/AAAAAAAAAAI/AAAAAAAABGM/XoQZ3tR-BuA/s50-c-k-no/photo.jpg",
            "userId": "107209192184149810541"
          }
        }
      },
      "cell_type": "code",
      "source": [
        ""
      ],
      "execution_count": 40,
      "outputs": [
        {
          "output_type": "execute_result",
          "data": {
            "text/plain": [
              "<keras.models.Sequential at 0x7f40d54facf8>"
            ]
          },
          "metadata": {
            "tags": []
          },
          "execution_count": 40
        }
      ]
    },
    {
      "metadata": {
        "id": "wfrho6eqrAX1",
        "colab_type": "code",
        "colab": {
          "autoexec": {
            "startup": false,
            "wait_interval": 0
          },
          "base_uri": "https://localhost:8080/",
          "height": 109
        },
        "outputId": "6535ea09-03a6-4b94-b5c2-6a54ae6ede92",
        "executionInfo": {
          "status": "ok",
          "timestamp": 1531649095727,
          "user_tz": -180,
          "elapsed": 16078,
          "user": {
            "displayName": "Ömer Yalçın",
            "photoUrl": "//lh6.googleusercontent.com/-KYS0k8F_jss/AAAAAAAAAAI/AAAAAAAABGM/XoQZ3tR-BuA/s50-c-k-no/photo.jpg",
            "userId": "107209192184149810541"
          }
        }
      },
      "cell_type": "code",
      "source": [
        "!apt-get install -y -qq software-properties-common python-software-properties module-init-tools\n",
        "!add-apt-repository -y ppa:alessandro-strada/ppa 2>&1 > /dev/null\n",
        "!apt-get update -qq 2>&1 > /dev/null\n",
        "!apt-get -y install -qq google-drive-ocamlfuse fuse\n",
        "from google.colab import auth\n",
        "auth.authenticate_user()\n",
        "from oauth2client.client import GoogleCredentials\n",
        "creds = GoogleCredentials.get_application_default()\n",
        "import getpass\n",
        "!google-drive-ocamlfuse -headless -id={creds.client_id} -secret={creds.client_secret} < /dev/null 2>&1 | grep URL\n",
        "vcode = getpass.getpass()\n",
        "!echo {vcode} | google-drive-ocamlfuse -headless -id={creds.client_id} -secret={creds.client_secret}"
      ],
      "execution_count": 2,
      "outputs": [
        {
          "output_type": "stream",
          "text": [
            "Please, open the following URL in a web browser: https://accounts.google.com/o/oauth2/auth?client_id=32555940559.apps.googleusercontent.com&redirect_uri=urn%3Aietf%3Awg%3Aoauth%3A2.0%3Aoob&scope=https%3A%2F%2Fwww.googleapis.com%2Fauth%2Fdrive&response_type=code&access_type=offline&approval_prompt=force\r\n",
            "··········\n",
            "Please, open the following URL in a web browser: https://accounts.google.com/o/oauth2/auth?client_id=32555940559.apps.googleusercontent.com&redirect_uri=urn%3Aietf%3Awg%3Aoauth%3A2.0%3Aoob&scope=https%3A%2F%2Fwww.googleapis.com%2Fauth%2Fdrive&response_type=code&access_type=offline&approval_prompt=force\n",
            "Please enter the verification code: Access token retrieved correctly.\n"
          ],
          "name": "stdout"
        }
      ]
    },
    {
      "metadata": {
        "id": "GjqKVWPFrAHj",
        "colab_type": "code",
        "colab": {
          "autoexec": {
            "startup": false,
            "wait_interval": 0
          }
        }
      },
      "cell_type": "code",
      "source": [
        "!mkdir -p drive\n",
        "!google-drive-ocamlfuse drive"
      ],
      "execution_count": 0,
      "outputs": []
    },
    {
      "metadata": {
        "id": "D-CHgbX9q_4f",
        "colab_type": "code",
        "colab": {
          "autoexec": {
            "startup": false,
            "wait_interval": 0
          }
        }
      },
      "cell_type": "code",
      "source": [
        "import sys\n",
        "sys.path.insert(0, 'drive/app')"
      ],
      "execution_count": 0,
      "outputs": []
    },
    {
      "metadata": {
        "id": "Rtevw_8-q_or",
        "colab_type": "code",
        "colab": {
          "autoexec": {
            "startup": false,
            "wait_interval": 0
          }
        }
      },
      "cell_type": "code",
      "source": [
        "import os\n",
        "os.chdir(\"drive/app\")"
      ],
      "execution_count": 0,
      "outputs": []
    },
    {
      "metadata": {
        "id": "nX-osaSaq486",
        "colab_type": "code",
        "colab": {
          "autoexec": {
            "startup": false,
            "wait_interval": 0
          },
          "base_uri": "https://localhost:8080/",
          "height": 107
        },
        "outputId": "ba11eef1-5f07-4c8e-fede-b755cae69e63",
        "executionInfo": {
          "status": "ok",
          "timestamp": 1531649111478,
          "user_tz": -180,
          "elapsed": 1836,
          "user": {
            "displayName": "Ömer Yalçın",
            "photoUrl": "//lh6.googleusercontent.com/-KYS0k8F_jss/AAAAAAAAAAI/AAAAAAAABGM/XoQZ3tR-BuA/s50-c-k-no/photo.jpg",
            "userId": "107209192184149810541"
          }
        }
      },
      "cell_type": "code",
      "source": [
        "!ls"
      ],
      "execution_count": 6,
      "outputs": [
        {
          "output_type": "stream",
          "text": [
            "128out.csv     5.1-introduction-to-convnets.ipynb\t    images.png\r\n",
            "16out.csv      64out.csv\t\t\t\t    simplenet_relu.h5\r\n",
            "1.png\t       C_Algoritihms_Comparison\t\t\t    Untitled1.ipynb\r\n",
            "32out.csv      deneme.py\r\n",
            "32out.csv.ods  Image_Classifier_Algorithms_Comparing.ipynb\r\n"
          ],
          "name": "stdout"
        }
      ]
    },
    {
      "metadata": {
        "id": "2CX4vPVBS0Sa",
        "colab_type": "code",
        "colab": {
          "autoexec": {
            "startup": false,
            "wait_interval": 0
          }
        }
      },
      "cell_type": "code",
      "source": [
        ""
      ],
      "execution_count": 0,
      "outputs": []
    },
    {
      "metadata": {
        "id": "4Ru0CtkUcs9H",
        "colab_type": "code",
        "colab": {
          "autoexec": {
            "startup": false,
            "wait_interval": 0
          },
          "base_uri": "https://localhost:8080/",
          "height": 468
        },
        "outputId": "28d466fc-8e1f-434d-839b-d6da24a1f761",
        "executionInfo": {
          "status": "ok",
          "timestamp": 1531616525172,
          "user_tz": -180,
          "elapsed": 2722,
          "user": {
            "displayName": "Ömer Yalçın",
            "photoUrl": "//lh6.googleusercontent.com/-KYS0k8F_jss/AAAAAAAAAAI/AAAAAAAABGM/XoQZ3tR-BuA/s50-c-k-no/photo.jpg",
            "userId": "107209192184149810541"
          }
        }
      },
      "cell_type": "code",
      "source": [
        "\n"
      ],
      "execution_count": 11,
      "outputs": [
        {
          "output_type": "execute_result",
          "data": {
            "image/png": "[encoded data removed]",
            "text/plain": [
              "<IPython.core.display.Image object>"
            ]
          },
          "metadata": {
            "tags": []
          },
          "execution_count": 11
        }
      ]
    },
    {
      "metadata": {
        "id": "XZ-2FzwpS0Sg",
        "colab_type": "text"
      },
      "cell_type": "markdown",
      "source": [
        "# Contents\n",
        "- Starting\n",
        "- Description Data\n",
        "- Classic Machine Learning applications\n",
        "    \n",
        "    - Logistic Regression\n",
        "    - SVM\n",
        "    \n",
        "- Deep & Neural Network\n",
        "    \n",
        "    - Multilayer Perceptron\n",
        "    - Deep  Neural Networks\n",
        "    - Convolutional Nueral Networks\n",
        "    - Convolutional Nueral Networks with data augmentation\n",
        "- Advanced Models\n",
        "    - SimleNetV1\n",
        "    - Resnet\n",
        "    "
      ]
    },
    {
      "metadata": {
        "id": "f2hX9CQCeakv",
        "colab_type": "text"
      },
      "cell_type": "markdown",
      "source": [
        "## Starting - Main Idea"
      ]
    },
    {
      "metadata": {
        "id": "xow8faabejh2",
        "colab_type": "code",
        "colab": {
          "autoexec": {
            "startup": false,
            "wait_interval": 0
          },
          "base_uri": "https://localhost:8080/",
          "height": 468
        },
        "outputId": "623fbd49-103e-41ca-c9b9-04281288d788",
        "executionInfo": {
          "status": "ok",
          "timestamp": 1531616839383,
          "user_tz": -180,
          "elapsed": 2030,
          "user": {
            "displayName": "Ömer Yalçın",
            "photoUrl": "//lh6.googleusercontent.com/-KYS0k8F_jss/AAAAAAAAAAI/AAAAAAAABGM/XoQZ3tR-BuA/s50-c-k-no/photo.jpg",
            "userId": "107209192184149810541"
          }
        }
      },
      "cell_type": "code",
      "source": [
        "from IPython.display import Image\n",
        "Image(\"1.png\")"
      ],
      "execution_count": 12,
      "outputs": [
        {
          "output_type": "execute_result",
          "data": {
            "image/png": "[encoded data removed]",
            "text/plain": [
              "<IPython.core.display.Image object>"
            ]
          },
          "metadata": {
            "tags": []
          },
          "execution_count": 12
        }
      ]
    },
    {
      "metadata": {
        "id": "3mLmqQnhfIWP",
        "colab_type": "text"
      },
      "cell_type": "markdown",
      "source": [
        "from : http://cs229.stanford.edu/materials/CS229-DeepLearning.pdf"
      ]
    },
    {
      "metadata": {
        "id": "yqZkZ7LgdjsK",
        "colab_type": "code",
        "colab": {
          "autoexec": {
            "startup": false,
            "wait_interval": 0
          }
        }
      },
      "cell_type": "code",
      "source": [
        "# Common Libraries\n",
        "import numpy as np\n",
        "import matplotlib.pyplot as plt \n",
        "from sklearn.datasets import fetch_lfw_people\n",
        "from sklearn.model_selection import train_test_split"
      ],
      "execution_count": 0,
      "outputs": []
    },
    {
      "metadata": {
        "id": "bimUr_s-S0Si",
        "colab_type": "text"
      },
      "cell_type": "markdown",
      "source": [
        "## Description Data"
      ]
    },
    {
      "metadata": {
        "id": "wtu7KFVbS0Sj",
        "colab_type": "code",
        "colab": {
          "autoexec": {
            "startup": false,
            "wait_interval": 0
          },
          "base_uri": "https://localhost:8080/",
          "height": 253
        },
        "outputId": "443e8849-18e6-4aa3-f314-a185013e8d13",
        "executionInfo": {
          "status": "ok",
          "timestamp": 1531649189434,
          "user_tz": -180,
          "elapsed": 48327,
          "user": {
            "displayName": "Ömer Yalçın",
            "photoUrl": "//lh6.googleusercontent.com/-KYS0k8F_jss/AAAAAAAAAAI/AAAAAAAABGM/XoQZ3tR-BuA/s50-c-k-no/photo.jpg",
            "userId": "107209192184149810541"
          }
        }
      },
      "cell_type": "code",
      "source": [
        "face=fetch_lfw_people(min_faces_per_person=80)\n",
        "print(face.data.shape)\n",
        "print(face.target_names)\n",
        "print(face.images.shape)"
      ],
      "execution_count": 8,
      "outputs": [
        {
          "output_type": "stream",
          "text": [
            "Downloading LFW metadata: https://ndownloader.figshare.com/files/5976012\n",
            "Downloading LFW metadata: https://ndownloader.figshare.com/files/5976009\n",
            "Downloading LFW metadata: https://ndownloader.figshare.com/files/5976006\n",
            "Downloading LFW data (~200MB): https://ndownloader.figshare.com/files/5976015\n",
            "/usr/local/lib/python3.6/dist-packages/scipy/misc/pilutil.py:482: FutureWarning: Conversion of the second argument of issubdtype from `int` to `np.signedinteger` is deprecated. In future, it will be treated as `np.int64 == np.dtype(int).type`.\n",
            "  if issubdtype(ts, int):\n",
            "/usr/local/lib/python3.6/dist-packages/scipy/misc/pilutil.py:485: FutureWarning: Conversion of the second argument of issubdtype from `float` to `np.floating` is deprecated. In future, it will be treated as `np.float64 == np.dtype(float).type`.\n",
            "  elif issubdtype(type(size), float):\n"
          ],
          "name": "stderr"
        },
        {
          "output_type": "stream",
          "text": [
            "(1140, 2914)\n",
            "['Colin Powell' 'Donald Rumsfeld' 'George W Bush' 'Gerhard Schroeder'\n",
            " 'Tony Blair']\n",
            "(1140, 62, 47)\n"
          ],
          "name": "stdout"
        }
      ]
    },
    {
      "metadata": {
        "id": "dPM8iEYfS0Sq",
        "colab_type": "code",
        "colab": {
          "autoexec": {
            "startup": false,
            "wait_interval": 0
          },
          "base_uri": "https://localhost:8080/",
          "height": 35
        },
        "outputId": "a3f4fa0a-1f0f-4157-fd1d-117caf8732c3",
        "executionInfo": {
          "status": "ok",
          "timestamp": 1531649341239,
          "user_tz": -180,
          "elapsed": 604,
          "user": {
            "displayName": "Ömer Yalçın",
            "photoUrl": "//lh6.googleusercontent.com/-KYS0k8F_jss/AAAAAAAAAAI/AAAAAAAABGM/XoQZ3tR-BuA/s50-c-k-no/photo.jpg",
            "userId": "107209192184149810541"
          }
        }
      },
      "cell_type": "code",
      "source": [
        "x=face.data/255\n",
        "y=face.target\n",
        "x_tr,x_ts,y_tr,y_ts=train_test_split(x,y)\n",
        "x_tr.shape"
      ],
      "execution_count": 9,
      "outputs": [
        {
          "output_type": "execute_result",
          "data": {
            "text/plain": [
              "(855, 2914)"
            ]
          },
          "metadata": {
            "tags": []
          },
          "execution_count": 9
        }
      ]
    },
    {
      "metadata": {
        "id": "YH7q6QFaS0Sw",
        "colab_type": "code",
        "colab": {
          "autoexec": {
            "startup": false,
            "wait_interval": 0
          },
          "base_uri": "https://localhost:8080/",
          "height": 540
        },
        "outputId": "47c982b9-3226-4f67-fef7-3eddcc72ca44",
        "executionInfo": {
          "status": "ok",
          "timestamp": 1531649344322,
          "user_tz": -180,
          "elapsed": 1699,
          "user": {
            "displayName": "Ömer Yalçın",
            "photoUrl": "//lh6.googleusercontent.com/-KYS0k8F_jss/AAAAAAAAAAI/AAAAAAAABGM/XoQZ3tR-BuA/s50-c-k-no/photo.jpg",
            "userId": "107209192184149810541"
          }
        }
      },
      "cell_type": "code",
      "source": [
        "# Show data images\n",
        "plt.figure(figsize=(9,9))\n",
        "\n",
        "for i in range(9):\n",
        "    plt.subplot(330+i+1)\n",
        "    plt.imshow(face.images[i],cmap=\"viridis\")\n",
        "    plt.axis(\"off\") \n",
        "   \n"
      ],
      "execution_count": 10,
      "outputs": [
        {
          "output_type": "display_data",
          "data": {
            "image/png": "[encoded data removed]",
            "text/plain": [
              "<matplotlib.figure.Figure at 0x7f4141aae748>"
            ]
          },
          "metadata": {
            "tags": []
          }
        }
      ]
    },
    {
      "metadata": {
        "id": "s1RXKKwvS0S2",
        "colab_type": "text"
      },
      "cell_type": "markdown",
      "source": [
        "## Classic Machine Learning Applications"
      ]
    },
    {
      "metadata": {
        "id": "jFLlwH5DS0S4",
        "colab_type": "text"
      },
      "cell_type": "markdown",
      "source": [
        "### Logistic Regression"
      ]
    },
    {
      "metadata": {
        "id": "l4sLMsW6S0S5",
        "colab_type": "code",
        "colab": {
          "autoexec": {
            "startup": false,
            "wait_interval": 0
          }
        }
      },
      "cell_type": "code",
      "source": [
        "from sklearn.linear_model import LogisticRegression"
      ],
      "execution_count": 0,
      "outputs": []
    },
    {
      "metadata": {
        "id": "Kp3rqAtYS0S9",
        "colab_type": "code",
        "colab": {
          "autoexec": {
            "startup": false,
            "wait_interval": 0
          }
        }
      },
      "cell_type": "code",
      "source": [
        "log_model=LogisticRegression()"
      ],
      "execution_count": 0,
      "outputs": []
    },
    {
      "metadata": {
        "id": "V0WbYYwcS0TC",
        "colab_type": "code",
        "colab": {
          "autoexec": {
            "startup": false,
            "wait_interval": 0
          },
          "base_uri": "https://localhost:8080/",
          "height": 89
        },
        "outputId": "3f78b939-b86b-4e1b-ee9d-c26cf1033f9d",
        "executionInfo": {
          "status": "ok",
          "timestamp": 1531429346654,
          "user_tz": -180,
          "elapsed": 9410,
          "user": {
            "displayName": "Ömer Yalçın",
            "photoUrl": "//lh6.googleusercontent.com/-KYS0k8F_jss/AAAAAAAAAAI/AAAAAAAABGM/XoQZ3tR-BuA/s50-c-k-no/photo.jpg",
            "userId": "107209192184149810541"
          }
        }
      },
      "cell_type": "code",
      "source": [
        "log_model.fit(x_tr,y_tr)"
      ],
      "execution_count": 0,
      "outputs": [
        {
          "output_type": "execute_result",
          "data": {
            "text/plain": [
              "LogisticRegression(C=1.0, class_weight=None, dual=False, fit_intercept=True,\n",
              "          intercept_scaling=1, max_iter=100, multi_class='ovr', n_jobs=1,\n",
              "          penalty='l2', random_state=None, solver='liblinear', tol=0.0001,\n",
              "          verbose=0, warm_start=False)"
            ]
          },
          "metadata": {
            "tags": []
          },
          "execution_count": 8
        }
      ]
    },
    {
      "metadata": {
        "id": "lcem-ObaS0TL",
        "colab_type": "code",
        "colab": {
          "autoexec": {
            "startup": false,
            "wait_interval": 0
          },
          "base_uri": "https://localhost:8080/",
          "height": 35
        },
        "outputId": "a7a76b6f-3778-4722-fecf-69b478247477",
        "executionInfo": {
          "status": "ok",
          "timestamp": 1531429348501,
          "user_tz": -180,
          "elapsed": 632,
          "user": {
            "displayName": "Ömer Yalçın",
            "photoUrl": "//lh6.googleusercontent.com/-KYS0k8F_jss/AAAAAAAAAAI/AAAAAAAABGM/XoQZ3tR-BuA/s50-c-k-no/photo.jpg",
            "userId": "107209192184149810541"
          }
        }
      },
      "cell_type": "code",
      "source": [
        "log_model.score(x_ts,y_ts)"
      ],
      "execution_count": 0,
      "outputs": [
        {
          "output_type": "execute_result",
          "data": {
            "text/plain": [
              "0.8736842105263158"
            ]
          },
          "metadata": {
            "tags": []
          },
          "execution_count": 9
        }
      ]
    },
    {
      "metadata": {
        "id": "666CJX3xS0TV",
        "colab_type": "text"
      },
      "cell_type": "markdown",
      "source": [
        "### SVM (Support Vector Machine)"
      ]
    },
    {
      "metadata": {
        "id": "tA6K95LaS0TW",
        "colab_type": "code",
        "colab": {
          "autoexec": {
            "startup": false,
            "wait_interval": 0
          }
        }
      },
      "cell_type": "code",
      "source": [
        "from sklearn.svm import SVC,LinearSVC"
      ],
      "execution_count": 0,
      "outputs": []
    },
    {
      "metadata": {
        "id": "2cu_j3ewS0Tb",
        "colab_type": "code",
        "colab": {
          "autoexec": {
            "startup": false,
            "wait_interval": 0
          }
        }
      },
      "cell_type": "code",
      "source": [
        "# TRY => [\"poly\",\"linear\",\"sigmoid\"]\n",
        "svm_model=SVC(kernel=\"rbf\")"
      ],
      "execution_count": 0,
      "outputs": []
    },
    {
      "metadata": {
        "id": "aeL2ShzzS0Tg",
        "colab_type": "code",
        "colab": {
          "autoexec": {
            "startup": false,
            "wait_interval": 0
          },
          "base_uri": "https://localhost:8080/",
          "height": 89
        },
        "outputId": "1bac7987-4287-4682-91c4-abf36a8fc2ba",
        "executionInfo": {
          "status": "ok",
          "timestamp": 1531429365415,
          "user_tz": -180,
          "elapsed": 8519,
          "user": {
            "displayName": "Ömer Yalçın",
            "photoUrl": "//lh6.googleusercontent.com/-KYS0k8F_jss/AAAAAAAAAAI/AAAAAAAABGM/XoQZ3tR-BuA/s50-c-k-no/photo.jpg",
            "userId": "107209192184149810541"
          }
        }
      },
      "cell_type": "code",
      "source": [
        "svm_model.fit(x_tr,y_tr)"
      ],
      "execution_count": 0,
      "outputs": [
        {
          "output_type": "execute_result",
          "data": {
            "text/plain": [
              "SVC(C=1.0, cache_size=200, class_weight=None, coef0=0.0,\n",
              "  decision_function_shape='ovr', degree=3, gamma='auto', kernel='rbf',\n",
              "  max_iter=-1, probability=False, random_state=None, shrinking=True,\n",
              "  tol=0.001, verbose=False)"
            ]
          },
          "metadata": {
            "tags": []
          },
          "execution_count": 12
        }
      ]
    },
    {
      "metadata": {
        "id": "jipxDtkWS0Tm",
        "colab_type": "code",
        "colab": {
          "autoexec": {
            "startup": false,
            "wait_interval": 0
          },
          "base_uri": "https://localhost:8080/",
          "height": 35
        },
        "outputId": "7ba9483a-1f9f-430f-fb59-e34aa675f262",
        "executionInfo": {
          "status": "ok",
          "timestamp": 1531429369580,
          "user_tz": -180,
          "elapsed": 2137,
          "user": {
            "displayName": "Ömer Yalçın",
            "photoUrl": "//lh6.googleusercontent.com/-KYS0k8F_jss/AAAAAAAAAAI/AAAAAAAABGM/XoQZ3tR-BuA/s50-c-k-no/photo.jpg",
            "userId": "107209192184149810541"
          }
        }
      },
      "cell_type": "code",
      "source": [
        "svm_model.score(x_ts,y_ts)"
      ],
      "execution_count": 0,
      "outputs": [
        {
          "output_type": "execute_result",
          "data": {
            "text/plain": [
              "0.5684210526315789"
            ]
          },
          "metadata": {
            "tags": []
          },
          "execution_count": 13
        }
      ]
    },
    {
      "metadata": {
        "id": "ePKT6-F_S0Tr",
        "colab_type": "code",
        "colab": {
          "autoexec": {
            "startup": false,
            "wait_interval": 0
          }
        }
      },
      "cell_type": "code",
      "source": [
        "# Linear SVM\n",
        "lsvm_model=LinearSVC()"
      ],
      "execution_count": 0,
      "outputs": []
    },
    {
      "metadata": {
        "id": "GOS1zDF2S0Tw",
        "colab_type": "code",
        "colab": {
          "autoexec": {
            "startup": false,
            "wait_interval": 0
          },
          "base_uri": "https://localhost:8080/",
          "height": 89
        },
        "outputId": "9fa52811-77c8-43fb-d80e-6e2cc153efb1",
        "executionInfo": {
          "status": "ok",
          "timestamp": 1531429386692,
          "user_tz": -180,
          "elapsed": 12444,
          "user": {
            "displayName": "Ömer Yalçın",
            "photoUrl": "//lh6.googleusercontent.com/-KYS0k8F_jss/AAAAAAAAAAI/AAAAAAAABGM/XoQZ3tR-BuA/s50-c-k-no/photo.jpg",
            "userId": "107209192184149810541"
          }
        }
      },
      "cell_type": "code",
      "source": [
        "lsvm_model.fit(x_tr,y_tr)"
      ],
      "execution_count": 0,
      "outputs": [
        {
          "output_type": "execute_result",
          "data": {
            "text/plain": [
              "LinearSVC(C=1.0, class_weight=None, dual=True, fit_intercept=True,\n",
              "     intercept_scaling=1, loss='squared_hinge', max_iter=1000,\n",
              "     multi_class='ovr', penalty='l2', random_state=None, tol=0.0001,\n",
              "     verbose=0)"
            ]
          },
          "metadata": {
            "tags": []
          },
          "execution_count": 15
        }
      ]
    },
    {
      "metadata": {
        "id": "2FroZB9HS0T1",
        "colab_type": "code",
        "colab": {
          "autoexec": {
            "startup": false,
            "wait_interval": 0
          },
          "base_uri": "https://localhost:8080/",
          "height": 35
        },
        "outputId": "840af992-4838-4a7d-8791-74dcc95843ad",
        "executionInfo": {
          "status": "ok",
          "timestamp": 1531429388172,
          "user_tz": -180,
          "elapsed": 623,
          "user": {
            "displayName": "Ömer Yalçın",
            "photoUrl": "//lh6.googleusercontent.com/-KYS0k8F_jss/AAAAAAAAAAI/AAAAAAAABGM/XoQZ3tR-BuA/s50-c-k-no/photo.jpg",
            "userId": "107209192184149810541"
          }
        }
      },
      "cell_type": "code",
      "source": [
        "lsvm_model.score(x_ts,y_ts)"
      ],
      "execution_count": 0,
      "outputs": [
        {
          "output_type": "execute_result",
          "data": {
            "text/plain": [
              "0.856140350877193"
            ]
          },
          "metadata": {
            "tags": []
          },
          "execution_count": 16
        }
      ]
    },
    {
      "metadata": {
        "id": "LBcp4p95S0T7",
        "colab_type": "text"
      },
      "cell_type": "markdown",
      "source": [
        "## Deep & Neural Network"
      ]
    },
    {
      "metadata": {
        "id": "iIRM7tN9S0T7",
        "colab_type": "text"
      },
      "cell_type": "markdown",
      "source": [
        "### Multilayer Perceptron"
      ]
    },
    {
      "metadata": {
        "id": "rPcr5FvuS0T9",
        "colab_type": "code",
        "colab": {
          "autoexec": {
            "startup": false,
            "wait_interval": 0
          }
        }
      },
      "cell_type": "code",
      "source": [
        "from sklearn.neural_network import MLPClassifier"
      ],
      "execution_count": 0,
      "outputs": []
    },
    {
      "metadata": {
        "id": "7ORpr0eXS0UA",
        "colab_type": "text"
      },
      "cell_type": "markdown",
      "source": [
        "Multi-layer Perceptron classifier.\n",
        "\n",
        "This model optimizes the log-loss function using LBFGS or stochastic\n",
        "gradient descent."
      ]
    },
    {
      "metadata": {
        "id": "Y3ODp4ngS0UB",
        "colab_type": "code",
        "colab": {
          "autoexec": {
            "startup": false,
            "wait_interval": 0
          }
        }
      },
      "cell_type": "code",
      "source": [
        "mlp_model=MLPClassifier()"
      ],
      "execution_count": 0,
      "outputs": []
    },
    {
      "metadata": {
        "id": "h0sy0fEVS0UH",
        "colab_type": "code",
        "colab": {
          "autoexec": {
            "startup": false,
            "wait_interval": 0
          },
          "base_uri": "https://localhost:8080/",
          "height": 143
        },
        "outputId": "65130392-bb03-46b5-f1e6-2ad50677d93c",
        "executionInfo": {
          "status": "ok",
          "timestamp": 1531429425065,
          "user_tz": -180,
          "elapsed": 10883,
          "user": {
            "displayName": "Ömer Yalçın",
            "photoUrl": "//lh6.googleusercontent.com/-KYS0k8F_jss/AAAAAAAAAAI/AAAAAAAABGM/XoQZ3tR-BuA/s50-c-k-no/photo.jpg",
            "userId": "107209192184149810541"
          }
        }
      },
      "cell_type": "code",
      "source": [
        "mlp_model.fit(x_tr,y_tr)"
      ],
      "execution_count": 0,
      "outputs": [
        {
          "output_type": "execute_result",
          "data": {
            "text/plain": [
              "MLPClassifier(activation='relu', alpha=0.0001, batch_size='auto', beta_1=0.9,\n",
              "       beta_2=0.999, early_stopping=False, epsilon=1e-08,\n",
              "       hidden_layer_sizes=(100,), learning_rate='constant',\n",
              "       learning_rate_init=0.001, max_iter=200, momentum=0.9,\n",
              "       nesterovs_momentum=True, power_t=0.5, random_state=None,\n",
              "       shuffle=True, solver='adam', tol=0.0001, validation_fraction=0.1,\n",
              "       verbose=False, warm_start=False)"
            ]
          },
          "metadata": {
            "tags": []
          },
          "execution_count": 20
        }
      ]
    },
    {
      "metadata": {
        "id": "xexmethbS0UK",
        "colab_type": "code",
        "colab": {
          "autoexec": {
            "startup": false,
            "wait_interval": 0
          },
          "base_uri": "https://localhost:8080/",
          "height": 35
        },
        "outputId": "55bb6d9b-2df9-4918-9646-8cf2df9748c2",
        "executionInfo": {
          "status": "ok",
          "timestamp": 1531429427076,
          "user_tz": -180,
          "elapsed": 581,
          "user": {
            "displayName": "Ömer Yalçın",
            "photoUrl": "//lh6.googleusercontent.com/-KYS0k8F_jss/AAAAAAAAAAI/AAAAAAAABGM/XoQZ3tR-BuA/s50-c-k-no/photo.jpg",
            "userId": "107209192184149810541"
          }
        }
      },
      "cell_type": "code",
      "source": [
        "mlp_model.score(x_ts,y_ts)"
      ],
      "execution_count": 0,
      "outputs": [
        {
          "output_type": "execute_result",
          "data": {
            "text/plain": [
              "0.8175438596491228"
            ]
          },
          "metadata": {
            "tags": []
          },
          "execution_count": 21
        }
      ]
    },
    {
      "metadata": {
        "id": "136WjMpYS0UO",
        "colab_type": "text"
      },
      "cell_type": "markdown",
      "source": [
        "### Deep Neural Network"
      ]
    },
    {
      "metadata": {
        "id": "ARBfd6pmS0UQ",
        "colab_type": "code",
        "colab": {
          "autoexec": {
            "startup": false,
            "wait_interval": 0
          },
          "base_uri": "https://localhost:8080/",
          "height": 35
        },
        "outputId": "2cd76840-db62-4983-851e-ced9a464e98f",
        "executionInfo": {
          "status": "ok",
          "timestamp": 1531617079682,
          "user_tz": -180,
          "elapsed": 9678,
          "user": {
            "displayName": "Ömer Yalçın",
            "photoUrl": "//lh6.googleusercontent.com/-KYS0k8F_jss/AAAAAAAAAAI/AAAAAAAABGM/XoQZ3tR-BuA/s50-c-k-no/photo.jpg",
            "userId": "107209192184149810541"
          }
        }
      },
      "cell_type": "code",
      "source": [
        "from keras import models\n",
        "from keras import layers\n",
        "from keras import optimizers\n",
        "from keras.utils import to_categorical"
      ],
      "execution_count": 16,
      "outputs": [
        {
          "output_type": "stream",
          "text": [
            "Using TensorFlow backend.\n"
          ],
          "name": "stderr"
        }
      ]
    },
    {
      "metadata": {
        "id": "dpyTrpKtS0UU",
        "colab_type": "code",
        "colab": {
          "autoexec": {
            "startup": false,
            "wait_interval": 0
          },
          "base_uri": "https://localhost:8080/",
          "height": 35
        },
        "outputId": "de68059b-02f7-4650-8970-3a3ca55f17ce",
        "executionInfo": {
          "status": "ok",
          "timestamp": 1531617082040,
          "user_tz": -180,
          "elapsed": 861,
          "user": {
            "displayName": "Ömer Yalçın",
            "photoUrl": "//lh6.googleusercontent.com/-KYS0k8F_jss/AAAAAAAAAAI/AAAAAAAABGM/XoQZ3tR-BuA/s50-c-k-no/photo.jpg",
            "userId": "107209192184149810541"
          }
        }
      },
      "cell_type": "code",
      "source": [
        "# Preproceses Data\n",
        "y_tr=to_categorical(y_tr)\n",
        "y_ts=to_categorical(y_ts)\n",
        "y_ts.shape"
      ],
      "execution_count": 17,
      "outputs": [
        {
          "output_type": "execute_result",
          "data": {
            "text/plain": [
              "(285, 5)"
            ]
          },
          "metadata": {
            "tags": []
          },
          "execution_count": 17
        }
      ]
    },
    {
      "metadata": {
        "id": "-FoxUw_KS0UX",
        "colab_type": "code",
        "colab": {
          "autoexec": {
            "startup": false,
            "wait_interval": 0
          },
          "base_uri": "https://localhost:8080/",
          "height": 503
        },
        "outputId": "92c66d95-b62e-4192-f3be-0b4719dc3416",
        "executionInfo": {
          "status": "ok",
          "timestamp": 1531519733339,
          "user_tz": -180,
          "elapsed": 893,
          "user": {
            "displayName": "Ömer Yalçın",
            "photoUrl": "//lh6.googleusercontent.com/-KYS0k8F_jss/AAAAAAAAAAI/AAAAAAAABGM/XoQZ3tR-BuA/s50-c-k-no/photo.jpg",
            "userId": "107209192184149810541"
          }
        }
      },
      "cell_type": "code",
      "source": [
        "model=models.Sequential()\n",
        "model.add(layers.Dense(1024,activation=\"relu\",input_shape=[2914,]))\n",
        "model.add(layers.Dense(512,activation=\"relu\"))\n",
        "model.add(layers.Dropout(0.4))\n",
        "model.add(layers.Dense(512,activation=\"relu\"))\n",
        "model.add(layers.Dropout(0.4))\n",
        "model.add(layers.Dense(256,activation=\"relu\"))\n",
        "model.add(layers.Dropout(0.4))\n",
        "model.add(layers.Dense(64,activation=\"relu\"))\n",
        "model.add(layers.Dropout(0.3))\n",
        "model.add(layers.Dense(5,activation=\"softmax\"))\n",
        "\n",
        "model.compile(optimizer=optimizers.Adam(lr=0.0001),\n",
        "              loss=\"categorical_crossentropy\",metrics=[\"accuracy\"])\n",
        "model.summary()"
      ],
      "execution_count": 0,
      "outputs": [
        {
          "output_type": "stream",
          "text": [
            "_________________________________________________________________\n",
            "Layer (type)                 Output Shape              Param #   \n",
            "=================================================================\n",
            "dense_16 (Dense)             (None, 1024)              2984960   \n",
            "_________________________________________________________________\n",
            "dense_17 (Dense)             (None, 512)               524800    \n",
            "_________________________________________________________________\n",
            "dropout_181 (Dropout)        (None, 512)               0         \n",
            "_________________________________________________________________\n",
            "dense_18 (Dense)             (None, 512)               262656    \n",
            "_________________________________________________________________\n",
            "dropout_182 (Dropout)        (None, 512)               0         \n",
            "_________________________________________________________________\n",
            "dense_19 (Dense)             (None, 256)               131328    \n",
            "_________________________________________________________________\n",
            "dropout_183 (Dropout)        (None, 256)               0         \n",
            "_________________________________________________________________\n",
            "dense_20 (Dense)             (None, 64)                16448     \n",
            "_________________________________________________________________\n",
            "dropout_184 (Dropout)        (None, 64)                0         \n",
            "_________________________________________________________________\n",
            "dense_21 (Dense)             (None, 5)                 325       \n",
            "=================================================================\n",
            "Total params: 3,920,517\n",
            "Trainable params: 3,920,517\n",
            "Non-trainable params: 0\n",
            "_________________________________________________________________\n"
          ],
          "name": "stdout"
        }
      ]
    },
    {
      "metadata": {
        "id": "_f8lfs5rS0Ud",
        "colab_type": "code",
        "colab": {
          "autoexec": {
            "startup": false,
            "wait_interval": 0
          },
          "base_uri": "https://localhost:8080/",
          "height": 7235
        },
        "outputId": "9ff23cca-a47e-4495-b5ef-bf6aa285b9dc",
        "executionInfo": {
          "status": "ok",
          "timestamp": 1531519868196,
          "user_tz": -180,
          "elapsed": 128604,
          "user": {
            "displayName": "Ömer Yalçın",
            "photoUrl": "//lh6.googleusercontent.com/-KYS0k8F_jss/AAAAAAAAAAI/AAAAAAAABGM/XoQZ3tR-BuA/s50-c-k-no/photo.jpg",
            "userId": "107209192184149810541"
          }
        }
      },
      "cell_type": "code",
      "source": [
        "model_history=model.fit(x_tr,y_tr,batch_size=24,epochs=200,verbose=1,\n",
        "\n",
        "                        validation_data=[x_ts,y_ts])"
      ],
      "execution_count": 0,
      "outputs": [
        {
          "output_type": "stream",
          "text": [
            "Train on 855 samples, validate on 285 samples\n",
            "Epoch 1/200\n",
            "855/855 [==============================] - 8s 9ms/step - loss: 1.6003 - acc: 0.3462 - val_loss: 1.3874 - val_acc: 0.4667\n",
            "Epoch 2/200\n",
            "855/855 [==============================] - 1s 745us/step - loss: 1.5088 - acc: 0.4117 - val_loss: 1.3892 - val_acc: 0.4667\n",
            "Epoch 3/200\n",
            "855/855 [==============================] - 1s 718us/step - loss: 1.4933 - acc: 0.4211 - val_loss: 1.4074 - val_acc: 0.4667\n",
            "Epoch 4/200\n",
            "855/855 [==============================] - 1s 704us/step - loss: 1.4483 - acc: 0.4433 - val_loss: 1.3869 - val_acc: 0.4667\n",
            "Epoch 5/200\n",
            "855/855 [==============================] - 1s 688us/step - loss: 1.4715 - acc: 0.4398 - val_loss: 1.4016 - val_acc: 0.4667\n",
            "Epoch 6/200\n",
            "855/855 [==============================] - 1s 694us/step - loss: 1.4316 - acc: 0.4573 - val_loss: 1.3845 - val_acc: 0.4667\n",
            "Epoch 7/200\n",
            "855/855 [==============================] - 1s 687us/step - loss: 1.4469 - acc: 0.4515 - val_loss: 1.3682 - val_acc: 0.4667\n",
            "Epoch 8/200\n",
            "855/855 [==============================] - 1s 696us/step - loss: 1.4101 - acc: 0.4608 - val_loss: 1.3726 - val_acc: 0.4667\n",
            "Epoch 9/200\n",
            "855/855 [==============================] - 1s 690us/step - loss: 1.4219 - acc: 0.4561 - val_loss: 1.3463 - val_acc: 0.4667\n",
            "Epoch 10/200\n",
            "855/855 [==============================] - 1s 699us/step - loss: 1.4131 - acc: 0.4632 - val_loss: 1.3666 - val_acc: 0.4667\n",
            "Epoch 11/200\n",
            "855/855 [==============================] - 1s 693us/step - loss: 1.3813 - acc: 0.4643 - val_loss: 1.3449 - val_acc: 0.4667\n",
            "Epoch 12/200\n",
            "408/855 [=============>................] - ETA: 0s - loss: 1.3683 - acc: 0.4510"
          ],
          "name": "stdout"
        },
        {
          "output_type": "stream",
          "text": [
            "855/855 [==============================] - 1s 700us/step - loss: 1.3380 - acc: 0.4702 - val_loss: 1.2837 - val_acc: 0.4667\n",
            "Epoch 13/200\n",
            "855/855 [==============================] - 1s 697us/step - loss: 1.3037 - acc: 0.4655 - val_loss: 1.2509 - val_acc: 0.4667\n",
            "Epoch 14/200\n",
            "855/855 [==============================] - 1s 692us/step - loss: 1.2993 - acc: 0.4760 - val_loss: 1.2230 - val_acc: 0.5193\n",
            "Epoch 15/200\n",
            "855/855 [==============================] - 1s 699us/step - loss: 1.2563 - acc: 0.4854 - val_loss: 1.2665 - val_acc: 0.5579\n",
            "Epoch 16/200\n",
            "855/855 [==============================] - 1s 713us/step - loss: 1.2708 - acc: 0.5029 - val_loss: 1.1799 - val_acc: 0.5474\n",
            "Epoch 17/200\n",
            "855/855 [==============================] - 1s 701us/step - loss: 1.1970 - acc: 0.5064 - val_loss: 1.1505 - val_acc: 0.5614\n",
            "Epoch 18/200\n",
            "855/855 [==============================] - 1s 692us/step - loss: 1.1711 - acc: 0.5228 - val_loss: 1.1322 - val_acc: 0.5474\n",
            "Epoch 19/200\n",
            "855/855 [==============================] - 1s 699us/step - loss: 1.1752 - acc: 0.5357 - val_loss: 1.1402 - val_acc: 0.5474\n",
            "Epoch 20/200\n",
            "855/855 [==============================] - 1s 702us/step - loss: 1.1405 - acc: 0.5509 - val_loss: 1.1041 - val_acc: 0.5754\n",
            "Epoch 21/200\n",
            "855/855 [==============================] - 1s 697us/step - loss: 1.1086 - acc: 0.5556 - val_loss: 1.0932 - val_acc: 0.5684\n",
            "Epoch 22/200\n",
            "855/855 [==============================] - 1s 699us/step - loss: 1.1526 - acc: 0.5462 - val_loss: 1.0931 - val_acc: 0.5825\n",
            "Epoch 23/200\n",
            "672/855 [======================>.......] - ETA: 0s - loss: 1.0836 - acc: 0.5580"
          ],
          "name": "stdout"
        },
        {
          "output_type": "stream",
          "text": [
            "855/855 [==============================] - 1s 701us/step - loss: 1.0686 - acc: 0.5708 - val_loss: 1.0588 - val_acc: 0.5895\n",
            "Epoch 24/200\n",
            "855/855 [==============================] - 1s 692us/step - loss: 1.0598 - acc: 0.5754 - val_loss: 1.0413 - val_acc: 0.5860\n",
            "Epoch 25/200\n",
            "855/855 [==============================] - 1s 693us/step - loss: 1.0432 - acc: 0.5848 - val_loss: 1.1063 - val_acc: 0.5614\n",
            "Epoch 26/200\n",
            "855/855 [==============================] - 1s 698us/step - loss: 1.0847 - acc: 0.5754 - val_loss: 1.0397 - val_acc: 0.5965\n",
            "Epoch 27/200\n",
            "855/855 [==============================] - 1s 682us/step - loss: 1.0187 - acc: 0.5918 - val_loss: 1.0124 - val_acc: 0.6035\n",
            "Epoch 28/200\n",
            "855/855 [==============================] - 1s 688us/step - loss: 1.0039 - acc: 0.6070 - val_loss: 1.0094 - val_acc: 0.6070\n",
            "Epoch 29/200\n",
            "855/855 [==============================] - 1s 696us/step - loss: 0.9913 - acc: 0.6047 - val_loss: 1.0205 - val_acc: 0.6105\n",
            "Epoch 30/200\n",
            "855/855 [==============================] - 1s 691us/step - loss: 0.9800 - acc: 0.5977 - val_loss: 0.9590 - val_acc: 0.6140\n",
            "Epoch 31/200\n",
            "855/855 [==============================] - 1s 708us/step - loss: 0.9386 - acc: 0.6234 - val_loss: 0.9545 - val_acc: 0.6175\n",
            "Epoch 32/200\n",
            "855/855 [==============================] - 1s 696us/step - loss: 0.9523 - acc: 0.6199 - val_loss: 0.9381 - val_acc: 0.6491\n",
            "Epoch 33/200\n",
            "855/855 [==============================] - 1s 695us/step - loss: 0.9400 - acc: 0.6327 - val_loss: 1.0409 - val_acc: 0.6175\n",
            "Epoch 34/200\n",
            "768/855 [=========================>....] - ETA: 0s - loss: 0.9432 - acc: 0.6315"
          ],
          "name": "stdout"
        },
        {
          "output_type": "stream",
          "text": [
            "855/855 [==============================] - 1s 691us/step - loss: 0.9412 - acc: 0.6316 - val_loss: 0.8550 - val_acc: 0.6807\n",
            "Epoch 35/200\n",
            "855/855 [==============================] - 1s 694us/step - loss: 0.8478 - acc: 0.6690 - val_loss: 0.8147 - val_acc: 0.7018\n",
            "Epoch 36/200\n",
            "855/855 [==============================] - 1s 701us/step - loss: 0.9090 - acc: 0.6480 - val_loss: 0.8338 - val_acc: 0.6772\n",
            "Epoch 37/200\n",
            "855/855 [==============================] - 1s 691us/step - loss: 0.7922 - acc: 0.6854 - val_loss: 0.8171 - val_acc: 0.6877\n",
            "Epoch 38/200\n",
            "855/855 [==============================] - 1s 704us/step - loss: 0.8260 - acc: 0.6737 - val_loss: 1.0367 - val_acc: 0.6421\n",
            "Epoch 39/200\n",
            "855/855 [==============================] - 1s 699us/step - loss: 0.7768 - acc: 0.6877 - val_loss: 0.8481 - val_acc: 0.6596\n",
            "Epoch 40/200\n",
            "855/855 [==============================] - 1s 699us/step - loss: 0.7782 - acc: 0.6936 - val_loss: 0.7416 - val_acc: 0.7228\n",
            "Epoch 41/200\n",
            "855/855 [==============================] - 1s 697us/step - loss: 0.8096 - acc: 0.6854 - val_loss: 0.8696 - val_acc: 0.6596\n",
            "Epoch 42/200\n",
            "855/855 [==============================] - 1s 682us/step - loss: 0.7500 - acc: 0.6971 - val_loss: 0.6965 - val_acc: 0.7614\n",
            "Epoch 43/200\n",
            "855/855 [==============================] - 1s 701us/step - loss: 0.6933 - acc: 0.7205 - val_loss: 0.7343 - val_acc: 0.7158\n",
            "Epoch 44/200\n",
            "855/855 [==============================] - 1s 713us/step - loss: 0.7043 - acc: 0.7345 - val_loss: 0.7188 - val_acc: 0.7579\n",
            "Epoch 45/200\n",
            "480/855 [===============>..............] - ETA: 0s - loss: 0.6648 - acc: 0.7333"
          ],
          "name": "stdout"
        },
        {
          "output_type": "stream",
          "text": [
            "855/855 [==============================] - 1s 696us/step - loss: 0.6792 - acc: 0.7216 - val_loss: 0.6772 - val_acc: 0.7579\n",
            "Epoch 46/200\n",
            "855/855 [==============================] - 1s 685us/step - loss: 0.7509 - acc: 0.6994 - val_loss: 0.6770 - val_acc: 0.7684\n",
            "Epoch 47/200\n",
            "855/855 [==============================] - 1s 695us/step - loss: 0.6319 - acc: 0.7567 - val_loss: 0.6660 - val_acc: 0.7789\n",
            "Epoch 48/200\n",
            "855/855 [==============================] - 1s 699us/step - loss: 0.6541 - acc: 0.7415 - val_loss: 0.7679 - val_acc: 0.7474\n",
            "Epoch 49/200\n",
            "855/855 [==============================] - 1s 687us/step - loss: 0.6853 - acc: 0.7216 - val_loss: 0.6518 - val_acc: 0.7895\n",
            "Epoch 50/200\n",
            "855/855 [==============================] - 1s 710us/step - loss: 0.5959 - acc: 0.7778 - val_loss: 0.6764 - val_acc: 0.7614\n",
            "Epoch 51/200\n",
            "855/855 [==============================] - 1s 692us/step - loss: 0.6226 - acc: 0.7544 - val_loss: 0.7172 - val_acc: 0.7368\n",
            "Epoch 52/200\n",
            "855/855 [==============================] - 1s 699us/step - loss: 0.5916 - acc: 0.7649 - val_loss: 0.7098 - val_acc: 0.7544\n",
            "Epoch 53/200\n",
            "855/855 [==============================] - 1s 692us/step - loss: 0.5729 - acc: 0.7731 - val_loss: 0.7835 - val_acc: 0.7579\n",
            "Epoch 54/200\n",
            "855/855 [==============================] - 1s 682us/step - loss: 0.6094 - acc: 0.7567 - val_loss: 0.6486 - val_acc: 0.7789\n",
            "Epoch 55/200\n",
            "855/855 [==============================] - 1s 687us/step - loss: 0.5188 - acc: 0.8023 - val_loss: 0.6137 - val_acc: 0.7789\n",
            "Epoch 56/200\n",
            "792/855 [==========================>...] - ETA: 0s - loss: 0.5616 - acc: 0.7929"
          ],
          "name": "stdout"
        },
        {
          "output_type": "stream",
          "text": [
            "855/855 [==============================] - 1s 698us/step - loss: 0.5760 - acc: 0.7895 - val_loss: 0.6534 - val_acc: 0.7614\n",
            "Epoch 57/200\n",
            "855/855 [==============================] - 1s 694us/step - loss: 0.6167 - acc: 0.7673 - val_loss: 0.7637 - val_acc: 0.7368\n",
            "Epoch 58/200\n",
            "855/855 [==============================] - 1s 695us/step - loss: 0.5060 - acc: 0.8211 - val_loss: 0.5852 - val_acc: 0.8175\n",
            "Epoch 59/200\n",
            "855/855 [==============================] - 1s 689us/step - loss: 0.5128 - acc: 0.8000 - val_loss: 0.7443 - val_acc: 0.7754\n",
            "Epoch 60/200\n",
            "855/855 [==============================] - 1s 695us/step - loss: 0.5067 - acc: 0.7988 - val_loss: 0.5848 - val_acc: 0.7860\n",
            "Epoch 61/200\n",
            "855/855 [==============================] - 1s 688us/step - loss: 0.4262 - acc: 0.8281 - val_loss: 0.5648 - val_acc: 0.7895\n",
            "Epoch 62/200\n",
            "855/855 [==============================] - 1s 683us/step - loss: 0.4438 - acc: 0.8234 - val_loss: 0.5404 - val_acc: 0.8105\n",
            "Epoch 63/200\n",
            "855/855 [==============================] - 1s 703us/step - loss: 0.4434 - acc: 0.8433 - val_loss: 0.6255 - val_acc: 0.8140\n",
            "Epoch 64/200\n",
            "855/855 [==============================] - 1s 694us/step - loss: 0.4377 - acc: 0.8444 - val_loss: 0.8373 - val_acc: 0.7404\n",
            "Epoch 65/200\n",
            "855/855 [==============================] - 1s 692us/step - loss: 0.5247 - acc: 0.8070 - val_loss: 0.6904 - val_acc: 0.7684\n",
            "Epoch 66/200\n",
            "855/855 [==============================] - 1s 695us/step - loss: 0.4154 - acc: 0.8444 - val_loss: 0.5814 - val_acc: 0.8175\n",
            "Epoch 67/200\n",
            "855/855 [==============================] - 1s 706us/step - loss: 0.3951 - acc: 0.8550 - val_loss: 0.5721 - val_acc: 0.7825\n"
          ],
          "name": "stdout"
        },
        {
          "output_type": "stream",
          "text": [
            "Epoch 68/200\n",
            "855/855 [==============================] - 1s 693us/step - loss: 0.3972 - acc: 0.8480 - val_loss: 0.5915 - val_acc: 0.8386\n",
            "Epoch 69/200\n",
            "855/855 [==============================] - 1s 710us/step - loss: 0.3764 - acc: 0.8573 - val_loss: 0.5810 - val_acc: 0.8421\n",
            "Epoch 70/200\n",
            "855/855 [==============================] - 1s 689us/step - loss: 0.3625 - acc: 0.8632 - val_loss: 0.5495 - val_acc: 0.8316\n",
            "Epoch 71/200\n",
            "855/855 [==============================] - 1s 686us/step - loss: 0.3939 - acc: 0.8480 - val_loss: 0.5029 - val_acc: 0.8456\n",
            "Epoch 72/200\n",
            "855/855 [==============================] - 1s 693us/step - loss: 0.3195 - acc: 0.8819 - val_loss: 0.5366 - val_acc: 0.8351\n",
            "Epoch 73/200\n",
            "855/855 [==============================] - 1s 694us/step - loss: 0.2995 - acc: 0.8912 - val_loss: 0.5791 - val_acc: 0.7895\n",
            "Epoch 74/200\n",
            "855/855 [==============================] - 1s 692us/step - loss: 0.3500 - acc: 0.8842 - val_loss: 0.5795 - val_acc: 0.8211\n",
            "Epoch 75/200\n",
            "855/855 [==============================] - 1s 715us/step - loss: 0.3094 - acc: 0.8749 - val_loss: 0.5810 - val_acc: 0.7614\n",
            "Epoch 76/200\n",
            "855/855 [==============================] - 1s 686us/step - loss: 0.3271 - acc: 0.8842 - val_loss: 0.5819 - val_acc: 0.8526\n",
            "Epoch 77/200\n",
            "855/855 [==============================] - 1s 684us/step - loss: 0.3055 - acc: 0.8959 - val_loss: 0.6102 - val_acc: 0.8596\n",
            "Epoch 78/200\n",
            "855/855 [==============================] - 1s 684us/step - loss: 0.3362 - acc: 0.8725 - val_loss: 0.5066 - val_acc: 0.8596\n",
            "Epoch 79/200\n",
            "600/855 [====================>.........] - ETA: 0s - loss: 0.3160 - acc: 0.8900"
          ],
          "name": "stdout"
        },
        {
          "output_type": "stream",
          "text": [
            "855/855 [==============================] - 1s 686us/step - loss: 0.2961 - acc: 0.8971 - val_loss: 0.5681 - val_acc: 0.8386\n",
            "Epoch 80/200\n",
            "855/855 [==============================] - 1s 686us/step - loss: 0.3201 - acc: 0.8842 - val_loss: 0.5965 - val_acc: 0.8351\n",
            "Epoch 81/200\n",
            "855/855 [==============================] - 1s 683us/step - loss: 0.4003 - acc: 0.8515 - val_loss: 0.5210 - val_acc: 0.8281\n",
            "Epoch 82/200\n",
            "855/855 [==============================] - 1s 686us/step - loss: 0.2861 - acc: 0.8912 - val_loss: 0.5399 - val_acc: 0.8246\n",
            "Epoch 83/200\n",
            "855/855 [==============================] - 1s 697us/step - loss: 0.2584 - acc: 0.9123 - val_loss: 0.6261 - val_acc: 0.8351\n",
            "Epoch 84/200\n",
            "855/855 [==============================] - 1s 674us/step - loss: 0.2408 - acc: 0.9216 - val_loss: 0.5869 - val_acc: 0.8386\n",
            "Epoch 85/200\n",
            "855/855 [==============================] - 1s 676us/step - loss: 0.2191 - acc: 0.9263 - val_loss: 0.5178 - val_acc: 0.8526\n",
            "Epoch 86/200\n",
            "855/855 [==============================] - 1s 688us/step - loss: 0.2673 - acc: 0.9064 - val_loss: 0.6517 - val_acc: 0.8316\n",
            "Epoch 87/200\n",
            "855/855 [==============================] - 1s 692us/step - loss: 0.2320 - acc: 0.9181 - val_loss: 0.6106 - val_acc: 0.8596\n",
            "Epoch 88/200\n",
            "855/855 [==============================] - 1s 694us/step - loss: 0.2301 - acc: 0.9099 - val_loss: 0.5842 - val_acc: 0.8246\n",
            "Epoch 89/200\n",
            "855/855 [==============================] - 1s 684us/step - loss: 0.2533 - acc: 0.9146 - val_loss: 0.8882 - val_acc: 0.7439\n",
            "Epoch 90/200\n",
            "855/855 [==============================] - 1s 688us/step - loss: 0.2934 - acc: 0.9006 - val_loss: 0.6441 - val_acc: 0.7754\n"
          ],
          "name": "stdout"
        },
        {
          "output_type": "stream",
          "text": [
            "Epoch 91/200\n",
            "855/855 [==============================] - 1s 684us/step - loss: 0.2613 - acc: 0.8971 - val_loss: 0.6143 - val_acc: 0.8351\n",
            "Epoch 92/200\n",
            "855/855 [==============================] - 1s 689us/step - loss: 0.3273 - acc: 0.8830 - val_loss: 0.5190 - val_acc: 0.8491\n",
            "Epoch 93/200\n",
            "855/855 [==============================] - 1s 688us/step - loss: 0.3136 - acc: 0.8830 - val_loss: 0.5849 - val_acc: 0.8421\n",
            "Epoch 94/200\n",
            "855/855 [==============================] - 1s 686us/step - loss: 0.2097 - acc: 0.9251 - val_loss: 0.5706 - val_acc: 0.8246\n",
            "Epoch 95/200\n",
            "855/855 [==============================] - 1s 697us/step - loss: 0.2477 - acc: 0.9088 - val_loss: 0.6566 - val_acc: 0.8105\n",
            "Epoch 96/200\n",
            "855/855 [==============================] - 1s 717us/step - loss: 0.4336 - acc: 0.8526 - val_loss: 0.5428 - val_acc: 0.8351\n",
            "Epoch 97/200\n",
            "855/855 [==============================] - 1s 690us/step - loss: 0.2915 - acc: 0.8994 - val_loss: 0.5961 - val_acc: 0.8211\n",
            "Epoch 98/200\n",
            "855/855 [==============================] - 1s 688us/step - loss: 0.1966 - acc: 0.9380 - val_loss: 0.5091 - val_acc: 0.8632\n",
            "Epoch 99/200\n",
            "855/855 [==============================] - 1s 685us/step - loss: 0.1906 - acc: 0.9322 - val_loss: 0.5753 - val_acc: 0.8561\n",
            "Epoch 100/200\n",
            "855/855 [==============================] - 1s 698us/step - loss: 0.2232 - acc: 0.9240 - val_loss: 0.5527 - val_acc: 0.8351\n",
            "Epoch 101/200\n",
            "855/855 [==============================] - 1s 690us/step - loss: 0.1980 - acc: 0.9380 - val_loss: 0.4774 - val_acc: 0.8596\n",
            "Epoch 102/200\n",
            "792/855 [==========================>...] - ETA: 0s - loss: 0.2157 - acc: 0.9268"
          ],
          "name": "stdout"
        },
        {
          "output_type": "stream",
          "text": [
            "855/855 [==============================] - 1s 687us/step - loss: 0.2125 - acc: 0.9263 - val_loss: 0.5216 - val_acc: 0.8667\n",
            "Epoch 103/200\n",
            "855/855 [==============================] - 1s 691us/step - loss: 0.1928 - acc: 0.9298 - val_loss: 0.5606 - val_acc: 0.8772\n",
            "Epoch 104/200\n",
            "855/855 [==============================] - 1s 684us/step - loss: 0.2503 - acc: 0.9146 - val_loss: 0.5194 - val_acc: 0.8632\n",
            "Epoch 105/200\n",
            "855/855 [==============================] - 1s 697us/step - loss: 0.1622 - acc: 0.9474 - val_loss: 0.5862 - val_acc: 0.8667\n",
            "Epoch 106/200\n",
            "855/855 [==============================] - 1s 691us/step - loss: 0.1958 - acc: 0.9310 - val_loss: 0.6109 - val_acc: 0.8281\n",
            "Epoch 107/200\n",
            "855/855 [==============================] - 1s 690us/step - loss: 0.1516 - acc: 0.9474 - val_loss: 0.5459 - val_acc: 0.8667\n",
            "Epoch 108/200\n",
            "855/855 [==============================] - 1s 688us/step - loss: 0.1812 - acc: 0.9368 - val_loss: 0.6894 - val_acc: 0.8140\n",
            "Epoch 109/200\n",
            "855/855 [==============================] - 1s 698us/step - loss: 0.2288 - acc: 0.9228 - val_loss: 0.5684 - val_acc: 0.8667\n",
            "Epoch 110/200\n",
            "855/855 [==============================] - 1s 707us/step - loss: 0.1578 - acc: 0.9427 - val_loss: 0.5822 - val_acc: 0.8667\n",
            "Epoch 111/200\n",
            "855/855 [==============================] - 1s 683us/step - loss: 0.1374 - acc: 0.9474 - val_loss: 0.8177 - val_acc: 0.8175\n",
            "Epoch 112/200\n",
            "855/855 [==============================] - 1s 685us/step - loss: 0.1710 - acc: 0.9368 - val_loss: 0.5568 - val_acc: 0.8667\n",
            "Epoch 113/200\n",
            "696/855 [=======================>......] - ETA: 0s - loss: 0.1508 - acc: 0.9526"
          ],
          "name": "stdout"
        },
        {
          "output_type": "stream",
          "text": [
            "855/855 [==============================] - 1s 692us/step - loss: 0.1538 - acc: 0.9509 - val_loss: 0.6438 - val_acc: 0.8386\n",
            "Epoch 114/200\n",
            "855/855 [==============================] - 1s 708us/step - loss: 0.1349 - acc: 0.9602 - val_loss: 0.6163 - val_acc: 0.8421\n",
            "Epoch 115/200\n",
            "855/855 [==============================] - 1s 679us/step - loss: 0.1189 - acc: 0.9602 - val_loss: 0.5914 - val_acc: 0.8667\n",
            "Epoch 116/200\n",
            "855/855 [==============================] - 1s 689us/step - loss: 0.1066 - acc: 0.9649 - val_loss: 0.7116 - val_acc: 0.8491\n",
            "Epoch 117/200\n",
            "855/855 [==============================] - 1s 695us/step - loss: 0.1341 - acc: 0.9532 - val_loss: 0.6832 - val_acc: 0.8526\n",
            "Epoch 118/200\n",
            "855/855 [==============================] - 1s 692us/step - loss: 0.1453 - acc: 0.9556 - val_loss: 0.6097 - val_acc: 0.8526\n",
            "Epoch 119/200\n",
            "855/855 [==============================] - 1s 696us/step - loss: 0.1278 - acc: 0.9591 - val_loss: 0.5851 - val_acc: 0.8596\n",
            "Epoch 120/200\n",
            "855/855 [==============================] - 1s 693us/step - loss: 0.1615 - acc: 0.9450 - val_loss: 0.5832 - val_acc: 0.8491\n",
            "Epoch 121/200\n",
            "855/855 [==============================] - 1s 692us/step - loss: 0.1748 - acc: 0.9310 - val_loss: 0.6160 - val_acc: 0.8456\n",
            "Epoch 122/200\n",
            "855/855 [==============================] - 1s 701us/step - loss: 0.2503 - acc: 0.9064 - val_loss: 0.6828 - val_acc: 0.8491\n",
            "Epoch 123/200\n",
            "855/855 [==============================] - 1s 700us/step - loss: 0.2207 - acc: 0.9158 - val_loss: 0.6789 - val_acc: 0.8456\n",
            "Epoch 124/200\n",
            "768/855 [=========================>....] - ETA: 0s - loss: 0.1727 - acc: 0.9427"
          ],
          "name": "stdout"
        },
        {
          "output_type": "stream",
          "text": [
            "855/855 [==============================] - 1s 696us/step - loss: 0.1674 - acc: 0.9450 - val_loss: 0.5945 - val_acc: 0.8561\n",
            "Epoch 125/200\n",
            "855/855 [==============================] - 1s 695us/step - loss: 0.1102 - acc: 0.9673 - val_loss: 0.5628 - val_acc: 0.8737\n",
            "Epoch 126/200\n",
            "855/855 [==============================] - 1s 688us/step - loss: 0.1063 - acc: 0.9637 - val_loss: 0.6696 - val_acc: 0.8105\n",
            "Epoch 127/200\n",
            "855/855 [==============================] - 1s 697us/step - loss: 0.1635 - acc: 0.9392 - val_loss: 0.5234 - val_acc: 0.8737\n",
            "Epoch 128/200\n",
            "855/855 [==============================] - 1s 696us/step - loss: 0.1066 - acc: 0.9637 - val_loss: 0.8368 - val_acc: 0.8421\n",
            "Epoch 129/200\n",
            "855/855 [==============================] - 1s 696us/step - loss: 0.1578 - acc: 0.9520 - val_loss: 0.6355 - val_acc: 0.8596\n",
            "Epoch 130/200\n",
            "855/855 [==============================] - 1s 694us/step - loss: 0.1154 - acc: 0.9591 - val_loss: 0.6312 - val_acc: 0.8596\n",
            "Epoch 131/200\n",
            "855/855 [==============================] - 1s 694us/step - loss: 0.0972 - acc: 0.9673 - val_loss: 0.6058 - val_acc: 0.8807\n",
            "Epoch 132/200\n",
            "855/855 [==============================] - 1s 694us/step - loss: 0.1169 - acc: 0.9591 - val_loss: 0.6142 - val_acc: 0.8667\n",
            "Epoch 133/200\n",
            "855/855 [==============================] - 1s 689us/step - loss: 0.0944 - acc: 0.9696 - val_loss: 0.7244 - val_acc: 0.8491\n",
            "Epoch 134/200\n",
            "855/855 [==============================] - 1s 694us/step - loss: 0.1084 - acc: 0.9544 - val_loss: 0.6198 - val_acc: 0.8702\n",
            "Epoch 135/200\n",
            "855/855 [==============================] - 1s 682us/step - loss: 0.1028 - acc: 0.9626 - val_loss: 0.7386 - val_acc: 0.8526\n"
          ],
          "name": "stdout"
        },
        {
          "output_type": "stream",
          "text": [
            "Epoch 136/200\n",
            "855/855 [==============================] - 1s 687us/step - loss: 0.0988 - acc: 0.9661 - val_loss: 0.7045 - val_acc: 0.8561\n",
            "Epoch 137/200\n",
            "855/855 [==============================] - 1s 691us/step - loss: 0.0882 - acc: 0.9719 - val_loss: 0.6942 - val_acc: 0.8526\n",
            "Epoch 138/200\n",
            "855/855 [==============================] - 1s 690us/step - loss: 0.1057 - acc: 0.9614 - val_loss: 0.6587 - val_acc: 0.8772\n",
            "Epoch 139/200\n",
            "855/855 [==============================] - 1s 695us/step - loss: 0.1307 - acc: 0.9556 - val_loss: 0.8430 - val_acc: 0.7930\n",
            "Epoch 140/200\n",
            "855/855 [==============================] - 1s 690us/step - loss: 0.1076 - acc: 0.9614 - val_loss: 0.7150 - val_acc: 0.8456\n",
            "Epoch 141/200\n",
            "855/855 [==============================] - 1s 690us/step - loss: 0.1093 - acc: 0.9637 - val_loss: 0.6963 - val_acc: 0.8491\n",
            "Epoch 142/200\n",
            "855/855 [==============================] - 1s 693us/step - loss: 0.1270 - acc: 0.9591 - val_loss: 0.8567 - val_acc: 0.8175\n",
            "Epoch 143/200\n",
            "855/855 [==============================] - 1s 698us/step - loss: 0.1900 - acc: 0.9439 - val_loss: 0.7615 - val_acc: 0.7754\n",
            "Epoch 144/200\n",
            "855/855 [==============================] - 1s 683us/step - loss: 0.2383 - acc: 0.9275 - val_loss: 0.5864 - val_acc: 0.8561\n",
            "Epoch 145/200\n",
            "855/855 [==============================] - 1s 687us/step - loss: 0.0934 - acc: 0.9661 - val_loss: 0.6481 - val_acc: 0.8632\n",
            "Epoch 146/200\n",
            "855/855 [==============================] - 1s 698us/step - loss: 0.1963 - acc: 0.9380 - val_loss: 1.2898 - val_acc: 0.6842\n",
            "Epoch 147/200\n",
            "672/855 [======================>.......] - ETA: 0s - loss: 0.3505 - acc: 0.9003"
          ],
          "name": "stdout"
        },
        {
          "output_type": "stream",
          "text": [
            "855/855 [==============================] - 1s 702us/step - loss: 0.2938 - acc: 0.9158 - val_loss: 0.5993 - val_acc: 0.8456\n",
            "Epoch 148/200\n",
            "855/855 [==============================] - 1s 692us/step - loss: 0.1102 - acc: 0.9661 - val_loss: 0.5742 - val_acc: 0.8702\n",
            "Epoch 149/200\n",
            "855/855 [==============================] - 1s 692us/step - loss: 0.0846 - acc: 0.9754 - val_loss: 0.6492 - val_acc: 0.8667\n",
            "Epoch 150/200\n",
            "855/855 [==============================] - 1s 683us/step - loss: 0.0783 - acc: 0.9789 - val_loss: 0.6459 - val_acc: 0.8667\n",
            "Epoch 151/200\n",
            "855/855 [==============================] - 1s 699us/step - loss: 0.1031 - acc: 0.9602 - val_loss: 0.6817 - val_acc: 0.8561\n",
            "Epoch 152/200\n",
            "855/855 [==============================] - 1s 695us/step - loss: 0.1258 - acc: 0.9591 - val_loss: 0.5582 - val_acc: 0.8772\n",
            "Epoch 153/200\n",
            "855/855 [==============================] - 1s 692us/step - loss: 0.1080 - acc: 0.9637 - val_loss: 0.6430 - val_acc: 0.8561\n",
            "Epoch 154/200\n",
            "855/855 [==============================] - 1s 704us/step - loss: 0.0981 - acc: 0.9673 - val_loss: 0.6012 - val_acc: 0.8632\n",
            "Epoch 155/200\n",
            "855/855 [==============================] - 1s 689us/step - loss: 0.1118 - acc: 0.9591 - val_loss: 0.6251 - val_acc: 0.8421\n",
            "Epoch 156/200\n",
            "855/855 [==============================] - 1s 694us/step - loss: 0.0788 - acc: 0.9789 - val_loss: 0.6376 - val_acc: 0.8632\n",
            "Epoch 157/200\n",
            "855/855 [==============================] - 1s 701us/step - loss: 0.0577 - acc: 0.9813 - val_loss: 0.6807 - val_acc: 0.8596\n",
            "Epoch 158/200\n",
            "855/855 [==============================] - 1s 688us/step - loss: 0.0526 - acc: 0.9848 - val_loss: 0.6016 - val_acc: 0.8772\n"
          ],
          "name": "stdout"
        },
        {
          "output_type": "stream",
          "text": [
            "Epoch 159/200\n",
            "855/855 [==============================] - 1s 693us/step - loss: 0.0553 - acc: 0.9813 - val_loss: 0.6064 - val_acc: 0.8667\n",
            "Epoch 160/200\n",
            "855/855 [==============================] - 1s 692us/step - loss: 0.0498 - acc: 0.9860 - val_loss: 0.7814 - val_acc: 0.8526\n",
            "Epoch 161/200\n",
            "855/855 [==============================] - 1s 705us/step - loss: 0.0974 - acc: 0.9637 - val_loss: 0.8470 - val_acc: 0.8456\n",
            "Epoch 162/200\n",
            "855/855 [==============================] - 1s 691us/step - loss: 0.0959 - acc: 0.9731 - val_loss: 0.7470 - val_acc: 0.8491\n",
            "Epoch 163/200\n",
            "855/855 [==============================] - 1s 701us/step - loss: 0.1143 - acc: 0.9626 - val_loss: 0.6618 - val_acc: 0.8737\n",
            "Epoch 164/200\n",
            "855/855 [==============================] - 1s 682us/step - loss: 0.0672 - acc: 0.9801 - val_loss: 0.6534 - val_acc: 0.8737\n",
            "Epoch 165/200\n",
            "855/855 [==============================] - 1s 705us/step - loss: 0.0886 - acc: 0.9684 - val_loss: 0.7886 - val_acc: 0.8421\n",
            "Epoch 166/200\n",
            "855/855 [==============================] - 1s 717us/step - loss: 0.0501 - acc: 0.9848 - val_loss: 0.6588 - val_acc: 0.8737\n",
            "Epoch 167/200\n",
            "855/855 [==============================] - 1s 685us/step - loss: 0.0439 - acc: 0.9848 - val_loss: 0.6258 - val_acc: 0.8737\n",
            "Epoch 168/200\n",
            "855/855 [==============================] - 1s 713us/step - loss: 0.0468 - acc: 0.9860 - val_loss: 0.7159 - val_acc: 0.8596\n",
            "Epoch 169/200\n",
            "855/855 [==============================] - 1s 696us/step - loss: 0.0736 - acc: 0.9731 - val_loss: 0.7468 - val_acc: 0.8596\n",
            "Epoch 170/200\n",
            "576/855 [===================>..........] - ETA: 0s - loss: 0.3073 - acc: 0.9201"
          ],
          "name": "stdout"
        },
        {
          "output_type": "stream",
          "text": [
            "855/855 [==============================] - 1s 704us/step - loss: 0.3935 - acc: 0.8947 - val_loss: 0.7679 - val_acc: 0.7895\n",
            "Epoch 171/200\n",
            "855/855 [==============================] - 1s 703us/step - loss: 0.1704 - acc: 0.9404 - val_loss: 0.5701 - val_acc: 0.8737\n",
            "Epoch 172/200\n",
            "855/855 [==============================] - 1s 704us/step - loss: 0.0493 - acc: 0.9848 - val_loss: 0.6548 - val_acc: 0.8702\n",
            "Epoch 173/200\n",
            "855/855 [==============================] - 1s 698us/step - loss: 0.0432 - acc: 0.9860 - val_loss: 0.7157 - val_acc: 0.8737\n",
            "Epoch 174/200\n",
            "855/855 [==============================] - 1s 687us/step - loss: 0.0684 - acc: 0.9766 - val_loss: 0.7134 - val_acc: 0.8596\n",
            "Epoch 175/200\n",
            "855/855 [==============================] - 1s 694us/step - loss: 0.0556 - acc: 0.9836 - val_loss: 0.6886 - val_acc: 0.8596\n",
            "Epoch 176/200\n",
            "855/855 [==============================] - 1s 697us/step - loss: 0.1209 - acc: 0.9532 - val_loss: 0.7287 - val_acc: 0.8456\n",
            "Epoch 177/200\n",
            "855/855 [==============================] - 1s 699us/step - loss: 0.1055 - acc: 0.9661 - val_loss: 0.6236 - val_acc: 0.8842\n",
            "Epoch 178/200\n",
            "855/855 [==============================] - 1s 703us/step - loss: 0.1344 - acc: 0.9567 - val_loss: 0.8503 - val_acc: 0.8175\n",
            "Epoch 179/200\n",
            "855/855 [==============================] - 1s 695us/step - loss: 0.1442 - acc: 0.9392 - val_loss: 0.6876 - val_acc: 0.8421\n",
            "Epoch 180/200\n",
            "855/855 [==============================] - 1s 691us/step - loss: 0.0729 - acc: 0.9719 - val_loss: 0.6485 - val_acc: 0.8702\n",
            "Epoch 181/200\n",
            "855/855 [==============================] - 1s 700us/step - loss: 0.0340 - acc: 0.9883 - val_loss: 0.6887 - val_acc: 0.8596\n"
          ],
          "name": "stdout"
        },
        {
          "output_type": "stream",
          "text": [
            "Epoch 182/200\n",
            "855/855 [==============================] - 1s 709us/step - loss: 0.0570 - acc: 0.9836 - val_loss: 0.6877 - val_acc: 0.8807\n",
            "Epoch 183/200\n",
            "855/855 [==============================] - 1s 696us/step - loss: 0.0692 - acc: 0.9778 - val_loss: 0.7754 - val_acc: 0.8421\n",
            "Epoch 184/200\n",
            "855/855 [==============================] - 1s 691us/step - loss: 0.0602 - acc: 0.9836 - val_loss: 0.6854 - val_acc: 0.8702\n",
            "Epoch 185/200\n",
            "855/855 [==============================] - 1s 683us/step - loss: 0.0290 - acc: 0.9942 - val_loss: 0.7047 - val_acc: 0.8632\n",
            "Epoch 186/200\n",
            "855/855 [==============================] - 1s 689us/step - loss: 0.1552 - acc: 0.9544 - val_loss: 0.8261 - val_acc: 0.8246\n",
            "Epoch 187/200\n",
            "855/855 [==============================] - 1s 686us/step - loss: 0.1425 - acc: 0.9520 - val_loss: 0.6636 - val_acc: 0.8737\n",
            "Epoch 188/200\n",
            "855/855 [==============================] - 1s 699us/step - loss: 0.2174 - acc: 0.9322 - val_loss: 0.7259 - val_acc: 0.8070\n",
            "Epoch 189/200\n",
            "855/855 [==============================] - 1s 685us/step - loss: 0.1134 - acc: 0.9696 - val_loss: 0.6637 - val_acc: 0.8737\n",
            "Epoch 190/200\n",
            "855/855 [==============================] - 1s 691us/step - loss: 0.0509 - acc: 0.9860 - val_loss: 0.7499 - val_acc: 0.8596\n",
            "Epoch 191/200\n",
            "855/855 [==============================] - 1s 684us/step - loss: 0.0861 - acc: 0.9754 - val_loss: 0.9944 - val_acc: 0.8421\n",
            "Epoch 192/200\n",
            "855/855 [==============================] - 1s 697us/step - loss: 0.0959 - acc: 0.9626 - val_loss: 0.7047 - val_acc: 0.8456\n",
            "Epoch 193/200\n",
            "552/855 [==================>...........] - ETA: 0s - loss: 0.1105 - acc: 0.9601"
          ],
          "name": "stdout"
        },
        {
          "output_type": "stream",
          "text": [
            "855/855 [==============================] - 1s 712us/step - loss: 0.0904 - acc: 0.9684 - val_loss: 0.7503 - val_acc: 0.8421\n",
            "Epoch 194/200\n",
            "855/855 [==============================] - 1s 694us/step - loss: 0.0396 - acc: 0.9871 - val_loss: 0.7759 - val_acc: 0.8632\n",
            "Epoch 195/200\n",
            "855/855 [==============================] - 1s 694us/step - loss: 0.0371 - acc: 0.9883 - val_loss: 0.7236 - val_acc: 0.8667\n",
            "Epoch 196/200\n",
            "855/855 [==============================] - 1s 695us/step - loss: 0.0358 - acc: 0.9918 - val_loss: 0.6857 - val_acc: 0.8667\n",
            "Epoch 197/200\n",
            "855/855 [==============================] - 1s 692us/step - loss: 0.0487 - acc: 0.9848 - val_loss: 0.7083 - val_acc: 0.8667\n",
            "Epoch 198/200\n",
            "855/855 [==============================] - 1s 677us/step - loss: 0.0379 - acc: 0.9860 - val_loss: 0.7513 - val_acc: 0.8632\n",
            "Epoch 199/200\n",
            "855/855 [==============================] - 1s 697us/step - loss: 0.0404 - acc: 0.9871 - val_loss: 0.7224 - val_acc: 0.8877\n",
            "Epoch 200/200\n",
            "855/855 [==============================] - 1s 699us/step - loss: 0.0413 - acc: 0.9848 - val_loss: 0.8871 - val_acc: 0.8491\n"
          ],
          "name": "stdout"
        }
      ]
    },
    {
      "metadata": {
        "id": "ydawObFaS0Uu",
        "colab_type": "code",
        "colab": {
          "autoexec": {
            "startup": false,
            "wait_interval": 0
          },
          "base_uri": "https://localhost:8080/",
          "height": 392
        },
        "outputId": "b7132435-de32-47a8-d6b4-007f5c853f43",
        "executionInfo": {
          "status": "ok",
          "timestamp": 1531519903556,
          "user_tz": -180,
          "elapsed": 1175,
          "user": {
            "displayName": "Ömer Yalçın",
            "photoUrl": "//lh6.googleusercontent.com/-KYS0k8F_jss/AAAAAAAAAAI/AAAAAAAABGM/XoQZ3tR-BuA/s50-c-k-no/photo.jpg",
            "userId": "107209192184149810541"
          }
        }
      },
      "cell_type": "code",
      "source": [
        "plt.figure(figsize=(10,6))\n",
        "plt.plot(model_history.history[\"acc\"])\n",
        "plt.plot(model_history.history[\"val_acc\"])\n",
        "plt.legend([\"train\",\"validation\"])"
      ],
      "execution_count": 0,
      "outputs": [
        {
          "output_type": "execute_result",
          "data": {
            "text/plain": [
              "<matplotlib.legend.Legend at 0x7f1ec529f438>"
            ]
          },
          "metadata": {
            "tags": []
          },
          "execution_count": 103
        },
        {
          "output_type": "display_data",
          "data": {
            "image/png": "[encoded data removed]",
            "text/plain": [
              "<matplotlib.figure.Figure at 0x7f1ec5265518>"
            ]
          },
          "metadata": {
            "tags": []
          }
        }
      ]
    },
    {
      "metadata": {
        "id": "YugT2z-6S0U0",
        "colab_type": "code",
        "colab": {
          "autoexec": {
            "startup": false,
            "wait_interval": 0
          },
          "base_uri": "https://localhost:8080/",
          "height": 53
        },
        "outputId": "0b780967-9937-43cf-8628-da96c050678a",
        "executionInfo": {
          "status": "ok",
          "timestamp": 1531519940540,
          "user_tz": -180,
          "elapsed": 760,
          "user": {
            "displayName": "Ömer Yalçın",
            "photoUrl": "//lh6.googleusercontent.com/-KYS0k8F_jss/AAAAAAAAAAI/AAAAAAAABGM/XoQZ3tR-BuA/s50-c-k-no/photo.jpg",
            "userId": "107209192184149810541"
          }
        }
      },
      "cell_type": "code",
      "source": [
        "model.evaluate(x_ts,y_ts)"
      ],
      "execution_count": 0,
      "outputs": [
        {
          "output_type": "stream",
          "text": [
            "285/285 [==============================] - 0s 141us/step\n"
          ],
          "name": "stdout"
        },
        {
          "output_type": "execute_result",
          "data": {
            "text/plain": [
              "[0.8871444221128497, 0.8491228055535701]"
            ]
          },
          "metadata": {
            "tags": []
          },
          "execution_count": 104
        }
      ]
    },
    {
      "metadata": {
        "id": "Y3A1qHPYS0U4",
        "colab_type": "code",
        "colab": {
          "autoexec": {
            "startup": false,
            "wait_interval": 0
          },
          "base_uri": "https://localhost:8080/",
          "height": 35
        },
        "outputId": "6584fe7c-3a45-465d-afb8-5294b98907aa",
        "executionInfo": {
          "status": "ok",
          "timestamp": 1531519943482,
          "user_tz": -180,
          "elapsed": 755,
          "user": {
            "displayName": "Ömer Yalçın",
            "photoUrl": "//lh6.googleusercontent.com/-KYS0k8F_jss/AAAAAAAAAAI/AAAAAAAABGM/XoQZ3tR-BuA/s50-c-k-no/photo.jpg",
            "userId": "107209192184149810541"
          }
        }
      },
      "cell_type": "code",
      "source": [
        "np.array(model_history.history[\"val_acc\"][-15:]).mean()"
      ],
      "execution_count": 0,
      "outputs": [
        {
          "output_type": "execute_result",
          "data": {
            "text/plain": [
              "0.8554385973277846"
            ]
          },
          "metadata": {
            "tags": []
          },
          "execution_count": 105
        }
      ]
    },
    {
      "metadata": {
        "id": "Zgjsh-i2S0U-",
        "colab_type": "code",
        "colab": {
          "autoexec": {
            "startup": false,
            "wait_interval": 0
          },
          "base_uri": "https://localhost:8080/",
          "height": 35
        },
        "outputId": "64b04666-d7eb-4395-89bb-f61766e7968e",
        "executionInfo": {
          "status": "ok",
          "timestamp": 1531519948331,
          "user_tz": -180,
          "elapsed": 1226,
          "user": {
            "displayName": "Ömer Yalçın",
            "photoUrl": "//lh6.googleusercontent.com/-KYS0k8F_jss/AAAAAAAAAAI/AAAAAAAABGM/XoQZ3tR-BuA/s50-c-k-no/photo.jpg",
            "userId": "107209192184149810541"
          }
        }
      },
      "cell_type": "code",
      "source": [
        "np.array(model_history.history[\"acc\"][-15:]).mean()"
      ],
      "execution_count": 0,
      "outputs": [
        {
          "output_type": "execute_result",
          "data": {
            "text/plain": [
              "0.974035084149991"
            ]
          },
          "metadata": {
            "tags": []
          },
          "execution_count": 106
        }
      ]
    },
    {
      "metadata": {
        "id": "E17zQWqqS0VE",
        "colab_type": "text"
      },
      "cell_type": "markdown",
      "source": [
        "### Convnet Part"
      ]
    },
    {
      "metadata": {
        "id": "Ev6GOTvNV1g0",
        "colab_type": "code",
        "colab": {
          "autoexec": {
            "startup": false,
            "wait_interval": 0
          }
        }
      },
      "cell_type": "code",
      "source": [
        "x_tr,x_ts,y_tr,y_ts=train_test_split(face.data.reshape([1140,62,47,1]),\n",
        "                                                            face.target)"
      ],
      "execution_count": 0,
      "outputs": []
    },
    {
      "metadata": {
        "id": "GOcgOk81WHxH",
        "colab_type": "code",
        "colab": {
          "autoexec": {
            "startup": false,
            "wait_interval": 0
          },
          "base_uri": "https://localhost:8080/",
          "height": 35
        },
        "outputId": "52d6164b-ecba-401a-b611-b1375885a6b9",
        "executionInfo": {
          "status": "ok",
          "timestamp": 1531430655222,
          "user_tz": -180,
          "elapsed": 579,
          "user": {
            "displayName": "Ömer Yalçın",
            "photoUrl": "//lh6.googleusercontent.com/-KYS0k8F_jss/AAAAAAAAAAI/AAAAAAAABGM/XoQZ3tR-BuA/s50-c-k-no/photo.jpg",
            "userId": "107209192184149810541"
          }
        }
      },
      "cell_type": "code",
      "source": [
        "x_tr=x_tr/255\n",
        "x_ts=x_ts/255\n",
        "y_tr=to_categorical(y_tr)\n",
        "y_ts=to_categorical(y_ts)\n",
        "y_ts.shape"
      ],
      "execution_count": 0,
      "outputs": [
        {
          "output_type": "execute_result",
          "data": {
            "text/plain": [
              "(285, 5)"
            ]
          },
          "metadata": {
            "tags": []
          },
          "execution_count": 42
        }
      ]
    },
    {
      "metadata": {
        "id": "OGwBHRPGWPYG",
        "colab_type": "code",
        "colab": {
          "autoexec": {
            "startup": false,
            "wait_interval": 0
          },
          "base_uri": "https://localhost:8080/",
          "height": 611
        },
        "outputId": "fffeede4-904d-4f3e-db45-86d6418da960",
        "executionInfo": {
          "status": "ok",
          "timestamp": 1531433259556,
          "user_tz": -180,
          "elapsed": 840,
          "user": {
            "displayName": "Ömer Yalçın",
            "photoUrl": "//lh6.googleusercontent.com/-KYS0k8F_jss/AAAAAAAAAAI/AAAAAAAABGM/XoQZ3tR-BuA/s50-c-k-no/photo.jpg",
            "userId": "107209192184149810541"
          }
        }
      },
      "cell_type": "code",
      "source": [
        "model=models.Sequential()\n",
        "model.add(layers.Conv2D(32,(3,3),activation=\"elu\",input_shape=(62,47,1)))\n",
        "model.add(layers.MaxPooling2D((2,2)))\n",
        "model.add(layers.Dropout(0.3))\n",
        "model.add(layers.Conv2D(64,(3,3),activation=\"elu\"))\n",
        "model.add(layers.MaxPooling2D((2,2)))\n",
        "model.add(layers.Dropout(0.3))\n",
        "model.add(layers.Conv2D(128,(3,3),activation=\"elu\"))\n",
        "model.add(layers.MaxPooling2D((2,2)))\n",
        "model.add(layers.Flatten())\n",
        "model.add(layers.Dropout(0.3))\n",
        "model.add(layers.Dense(512,activation=\"elu\"))\n",
        "model.add(layers.Dropout(0.4))\n",
        "model.add(layers.Dense(5,activation=\"softmax\"))\n",
        "\n",
        "model.summary()"
      ],
      "execution_count": 0,
      "outputs": [
        {
          "output_type": "stream",
          "text": [
            "_________________________________________________________________\n",
            "Layer (type)                 Output Shape              Param #   \n",
            "=================================================================\n",
            "conv2d_63 (Conv2D)           (None, 60, 45, 32)        320       \n",
            "_________________________________________________________________\n",
            "max_pooling2d_46 (MaxPooling (None, 30, 22, 32)        0         \n",
            "_________________________________________________________________\n",
            "dropout_48 (Dropout)         (None, 30, 22, 32)        0         \n",
            "_________________________________________________________________\n",
            "conv2d_64 (Conv2D)           (None, 28, 20, 64)        18496     \n",
            "_________________________________________________________________\n",
            "max_pooling2d_47 (MaxPooling (None, 14, 10, 64)        0         \n",
            "_________________________________________________________________\n",
            "dropout_49 (Dropout)         (None, 14, 10, 64)        0         \n",
            "_________________________________________________________________\n",
            "conv2d_65 (Conv2D)           (None, 12, 8, 128)        73856     \n",
            "_________________________________________________________________\n",
            "max_pooling2d_48 (MaxPooling (None, 6, 4, 128)         0         \n",
            "_________________________________________________________________\n",
            "flatten_15 (Flatten)         (None, 3072)              0         \n",
            "_________________________________________________________________\n",
            "dropout_50 (Dropout)         (None, 3072)              0         \n",
            "_________________________________________________________________\n",
            "dense_34 (Dense)             (None, 512)               1573376   \n",
            "_________________________________________________________________\n",
            "dropout_51 (Dropout)         (None, 512)               0         \n",
            "_________________________________________________________________\n",
            "dense_35 (Dense)             (None, 5)                 2565      \n",
            "=================================================================\n",
            "Total params: 1,668,613\n",
            "Trainable params: 1,668,613\n",
            "Non-trainable params: 0\n",
            "_________________________________________________________________\n"
          ],
          "name": "stdout"
        }
      ]
    },
    {
      "metadata": {
        "id": "hm5grITHXfxo",
        "colab_type": "code",
        "colab": {
          "autoexec": {
            "startup": false,
            "wait_interval": 0
          }
        }
      },
      "cell_type": "code",
      "source": [
        "model.compile(optimizer=\"adam\",loss=\"categorical_crossentropy\",metrics=[\"accuracy\"])\n"
      ],
      "execution_count": 0,
      "outputs": []
    },
    {
      "metadata": {
        "id": "X-0PILnpXsck",
        "colab_type": "code",
        "colab": {
          "autoexec": {
            "startup": false,
            "wait_interval": 0
          },
          "base_uri": "https://localhost:8080/",
          "height": 4355
        },
        "outputId": "fac8e441-f30e-4a9e-e7dd-8a9217a6529a",
        "executionInfo": {
          "status": "ok",
          "timestamp": 1531433347347,
          "user_tz": -180,
          "elapsed": 68775,
          "user": {
            "displayName": "Ömer Yalçın",
            "photoUrl": "//lh6.googleusercontent.com/-KYS0k8F_jss/AAAAAAAAAAI/AAAAAAAABGM/XoQZ3tR-BuA/s50-c-k-no/photo.jpg",
            "userId": "107209192184149810541"
          }
        }
      },
      "cell_type": "code",
      "source": [
        "\n",
        "train_history=model.fit(x_tr,y_tr,batch_size=64,epochs=120,\n",
        "                        validation_data=(x_ts,y_ts))"
      ],
      "execution_count": 0,
      "outputs": [
        {
          "output_type": "stream",
          "text": [
            "Train on 855 samples, validate on 285 samples\n",
            "Epoch 1/120\n",
            "855/855 [==============================] - 3s 3ms/step - loss: 1.7587 - acc: 0.3696 - val_loss: 1.6038 - val_acc: 0.4246\n",
            "Epoch 2/120\n",
            "855/855 [==============================] - 1s 611us/step - loss: 1.4303 - acc: 0.4667 - val_loss: 1.6675 - val_acc: 0.1088\n",
            "Epoch 3/120\n",
            "855/855 [==============================] - 1s 593us/step - loss: 1.3752 - acc: 0.4713 - val_loss: 1.3634 - val_acc: 0.4702\n",
            "Epoch 4/120\n",
            "855/855 [==============================] - 0s 573us/step - loss: 1.3094 - acc: 0.4737 - val_loss: 1.2515 - val_acc: 0.5719\n",
            "Epoch 5/120\n",
            "855/855 [==============================] - 0s 552us/step - loss: 1.2051 - acc: 0.5263 - val_loss: 1.2166 - val_acc: 0.5579\n",
            "Epoch 6/120\n",
            "855/855 [==============================] - 0s 574us/step - loss: 1.0555 - acc: 0.6012 - val_loss: 1.0099 - val_acc: 0.6281\n",
            "Epoch 7/120\n",
            "855/855 [==============================] - 1s 598us/step - loss: 0.8803 - acc: 0.6749 - val_loss: 0.8822 - val_acc: 0.6877\n",
            "Epoch 8/120\n",
            "855/855 [==============================] - 0s 527us/step - loss: 0.7324 - acc: 0.7298 - val_loss: 0.9076 - val_acc: 0.6561\n",
            "Epoch 9/120\n",
            "855/855 [==============================] - 0s 505us/step - loss: 0.6778 - acc: 0.7602 - val_loss: 0.5569 - val_acc: 0.8000\n",
            "Epoch 10/120\n",
            "855/855 [==============================] - 0s 512us/step - loss: 0.6058 - acc: 0.7860 - val_loss: 0.5285 - val_acc: 0.8105\n",
            "Epoch 11/120\n",
            "855/855 [==============================] - 0s 515us/step - loss: 0.5208 - acc: 0.8304 - val_loss: 0.4816 - val_acc: 0.8316\n",
            "Epoch 12/120\n",
            "855/855 [==============================] - 0s 500us/step - loss: 0.4787 - acc: 0.8421 - val_loss: 0.4653 - val_acc: 0.8140\n",
            "Epoch 13/120\n",
            "192/855 [=====>........................] - ETA: 0s - loss: 0.3904 - acc: 0.8906"
          ],
          "name": "stdout"
        },
        {
          "output_type": "stream",
          "text": [
            "855/855 [==============================] - 0s 496us/step - loss: 0.4287 - acc: 0.8596 - val_loss: 0.4177 - val_acc: 0.8526\n",
            "Epoch 14/120\n",
            "855/855 [==============================] - 0s 481us/step - loss: 0.3797 - acc: 0.8749 - val_loss: 0.3942 - val_acc: 0.8561\n",
            "Epoch 15/120\n",
            "855/855 [==============================] - 0s 473us/step - loss: 0.3280 - acc: 0.8819 - val_loss: 0.3453 - val_acc: 0.8737\n",
            "Epoch 16/120\n",
            "855/855 [==============================] - 0s 466us/step - loss: 0.3162 - acc: 0.8994 - val_loss: 0.3891 - val_acc: 0.8351\n",
            "Epoch 17/120\n",
            "855/855 [==============================] - 0s 467us/step - loss: 0.2721 - acc: 0.9099 - val_loss: 0.3528 - val_acc: 0.8526\n",
            "Epoch 18/120\n",
            "855/855 [==============================] - 0s 470us/step - loss: 0.2314 - acc: 0.9333 - val_loss: 0.3279 - val_acc: 0.8912\n",
            "Epoch 19/120\n",
            "855/855 [==============================] - 0s 467us/step - loss: 0.2039 - acc: 0.9275 - val_loss: 0.3188 - val_acc: 0.8947\n",
            "Epoch 20/120\n",
            "855/855 [==============================] - 0s 458us/step - loss: 0.1736 - acc: 0.9380 - val_loss: 0.3385 - val_acc: 0.8982\n",
            "Epoch 21/120\n",
            "855/855 [==============================] - 0s 466us/step - loss: 0.1690 - acc: 0.9439 - val_loss: 0.3718 - val_acc: 0.8982\n",
            "Epoch 22/120\n",
            "855/855 [==============================] - 0s 454us/step - loss: 0.1556 - acc: 0.9474 - val_loss: 0.3637 - val_acc: 0.8737\n",
            "Epoch 23/120\n",
            "855/855 [==============================] - 0s 440us/step - loss: 0.1203 - acc: 0.9591 - val_loss: 0.4070 - val_acc: 0.8912\n",
            "Epoch 24/120\n",
            "855/855 [==============================] - 0s 460us/step - loss: 0.1362 - acc: 0.9450 - val_loss: 0.4113 - val_acc: 0.8842\n",
            "Epoch 25/120\n",
            "855/855 [==============================] - 0s 420us/step - loss: 0.1512 - acc: 0.9474 - val_loss: 0.4137 - val_acc: 0.8842\n",
            "Epoch 26/120\n",
            "384/855 [============>.................] - ETA: 0s - loss: 0.0891 - acc: 0.9688"
          ],
          "name": "stdout"
        },
        {
          "output_type": "stream",
          "text": [
            "855/855 [==============================] - 0s 440us/step - loss: 0.1054 - acc: 0.9673 - val_loss: 0.3121 - val_acc: 0.9123\n",
            "Epoch 27/120\n",
            "855/855 [==============================] - 0s 439us/step - loss: 0.0908 - acc: 0.9661 - val_loss: 0.3576 - val_acc: 0.9088\n",
            "Epoch 28/120\n",
            "855/855 [==============================] - 0s 448us/step - loss: 0.0813 - acc: 0.9696 - val_loss: 0.3982 - val_acc: 0.9193\n",
            "Epoch 29/120\n",
            "855/855 [==============================] - 0s 476us/step - loss: 0.0725 - acc: 0.9766 - val_loss: 0.3821 - val_acc: 0.9018\n",
            "Epoch 30/120\n",
            "855/855 [==============================] - 0s 526us/step - loss: 0.0571 - acc: 0.9754 - val_loss: 0.4200 - val_acc: 0.8947\n",
            "Epoch 31/120\n",
            "855/855 [==============================] - 0s 532us/step - loss: 0.0795 - acc: 0.9731 - val_loss: 0.3677 - val_acc: 0.9263\n",
            "Epoch 32/120\n",
            "855/855 [==============================] - 0s 560us/step - loss: 0.0542 - acc: 0.9848 - val_loss: 0.4102 - val_acc: 0.9158\n",
            "Epoch 33/120\n",
            "855/855 [==============================] - 0s 493us/step - loss: 0.0603 - acc: 0.9825 - val_loss: 0.3305 - val_acc: 0.9263\n",
            "Epoch 34/120\n",
            "855/855 [==============================] - 0s 492us/step - loss: 0.0372 - acc: 0.9895 - val_loss: 0.4065 - val_acc: 0.9018\n",
            "Epoch 35/120\n",
            "855/855 [==============================] - 0s 472us/step - loss: 0.0516 - acc: 0.9836 - val_loss: 0.4318 - val_acc: 0.9018\n",
            "Epoch 36/120\n",
            "855/855 [==============================] - 0s 517us/step - loss: 0.0457 - acc: 0.9860 - val_loss: 0.3847 - val_acc: 0.9158\n",
            "Epoch 37/120\n",
            "855/855 [==============================] - 0s 520us/step - loss: 0.0359 - acc: 0.9860 - val_loss: 0.3561 - val_acc: 0.9088\n",
            "Epoch 38/120\n",
            "855/855 [==============================] - 0s 504us/step - loss: 0.0299 - acc: 0.9918 - val_loss: 0.4010 - val_acc: 0.9088\n",
            "Epoch 39/120\n",
            "256/855 [=======>......................] - ETA: 0s - loss: 0.0387 - acc: 0.9883"
          ],
          "name": "stdout"
        },
        {
          "output_type": "stream",
          "text": [
            "855/855 [==============================] - 0s 549us/step - loss: 0.0340 - acc: 0.9871 - val_loss: 0.4464 - val_acc: 0.9018\n",
            "Epoch 40/120\n",
            "855/855 [==============================] - 0s 526us/step - loss: 0.0268 - acc: 0.9942 - val_loss: 0.4041 - val_acc: 0.9158\n",
            "Epoch 41/120\n",
            "855/855 [==============================] - 0s 507us/step - loss: 0.0281 - acc: 0.9906 - val_loss: 0.4040 - val_acc: 0.9368\n",
            "Epoch 42/120\n",
            "855/855 [==============================] - 0s 469us/step - loss: 0.0195 - acc: 0.9942 - val_loss: 0.4715 - val_acc: 0.9158\n",
            "Epoch 43/120\n",
            "855/855 [==============================] - 0s 555us/step - loss: 0.0182 - acc: 0.9942 - val_loss: 0.4052 - val_acc: 0.9158\n",
            "Epoch 44/120\n",
            "855/855 [==============================] - 0s 514us/step - loss: 0.0159 - acc: 0.9953 - val_loss: 0.4682 - val_acc: 0.9158\n",
            "Epoch 45/120\n",
            "855/855 [==============================] - 0s 509us/step - loss: 0.0149 - acc: 0.9965 - val_loss: 0.4738 - val_acc: 0.9193\n",
            "Epoch 46/120\n",
            "855/855 [==============================] - 0s 544us/step - loss: 0.0181 - acc: 0.9953 - val_loss: 0.4551 - val_acc: 0.9123\n",
            "Epoch 47/120\n",
            "855/855 [==============================] - 0s 507us/step - loss: 0.0226 - acc: 0.9918 - val_loss: 0.4767 - val_acc: 0.9158\n",
            "Epoch 48/120\n",
            "855/855 [==============================] - 0s 479us/step - loss: 0.0147 - acc: 0.9965 - val_loss: 0.4954 - val_acc: 0.9228\n",
            "Epoch 49/120\n",
            "855/855 [==============================] - 0s 519us/step - loss: 0.0116 - acc: 0.9977 - val_loss: 0.4154 - val_acc: 0.9158\n",
            "Epoch 50/120\n",
            "855/855 [==============================] - 0s 486us/step - loss: 0.0115 - acc: 0.9965 - val_loss: 0.4928 - val_acc: 0.9158\n",
            "Epoch 51/120\n",
            "855/855 [==============================] - 0s 489us/step - loss: 0.0107 - acc: 0.9953 - val_loss: 0.4962 - val_acc: 0.9193\n",
            "Epoch 52/120\n",
            " 64/855 [=>............................] - ETA: 0s - loss: 0.0348 - acc: 0.9844"
          ],
          "name": "stdout"
        },
        {
          "output_type": "stream",
          "text": [
            "855/855 [==============================] - 0s 529us/step - loss: 0.0178 - acc: 0.9965 - val_loss: 0.4542 - val_acc: 0.9088\n",
            "Epoch 53/120\n",
            "855/855 [==============================] - 0s 467us/step - loss: 0.0181 - acc: 0.9942 - val_loss: 0.5112 - val_acc: 0.8982\n",
            "Epoch 54/120\n",
            "855/855 [==============================] - 0s 530us/step - loss: 0.0306 - acc: 0.9871 - val_loss: 0.5169 - val_acc: 0.8912\n",
            "Epoch 55/120\n",
            "855/855 [==============================] - 0s 547us/step - loss: 0.0257 - acc: 0.9883 - val_loss: 0.4615 - val_acc: 0.9123\n",
            "Epoch 56/120\n",
            "855/855 [==============================] - 0s 474us/step - loss: 0.0332 - acc: 0.9930 - val_loss: 0.4314 - val_acc: 0.9053\n",
            "Epoch 57/120\n",
            "855/855 [==============================] - 0s 519us/step - loss: 0.0458 - acc: 0.9860 - val_loss: 0.5082 - val_acc: 0.9123\n",
            "Epoch 58/120\n",
            "855/855 [==============================] - 0s 546us/step - loss: 0.0853 - acc: 0.9684 - val_loss: 0.5983 - val_acc: 0.8807\n",
            "Epoch 59/120\n",
            "855/855 [==============================] - 0s 537us/step - loss: 0.0380 - acc: 0.9848 - val_loss: 0.5703 - val_acc: 0.8982\n",
            "Epoch 60/120\n",
            "855/855 [==============================] - 0s 459us/step - loss: 0.0174 - acc: 0.9930 - val_loss: 0.5450 - val_acc: 0.9053\n",
            "Epoch 61/120\n",
            "855/855 [==============================] - 0s 517us/step - loss: 0.0258 - acc: 0.9906 - val_loss: 0.5083 - val_acc: 0.9228\n",
            "Epoch 62/120\n",
            "855/855 [==============================] - 0s 512us/step - loss: 0.0338 - acc: 0.9906 - val_loss: 0.4793 - val_acc: 0.9263\n",
            "Epoch 63/120\n",
            "855/855 [==============================] - 0s 487us/step - loss: 0.0150 - acc: 0.9942 - val_loss: 0.4904 - val_acc: 0.9298\n",
            "Epoch 64/120\n",
            "855/855 [==============================] - 0s 527us/step - loss: 0.0240 - acc: 0.9942 - val_loss: 0.4975 - val_acc: 0.9263\n",
            "Epoch 65/120\n",
            "192/855 [=====>........................] - ETA: 0s - loss: 0.0144 - acc: 0.9896"
          ],
          "name": "stdout"
        },
        {
          "output_type": "stream",
          "text": [
            "855/855 [==============================] - 0s 536us/step - loss: 0.0146 - acc: 0.9930 - val_loss: 0.5519 - val_acc: 0.8982\n",
            "Epoch 66/120\n",
            "855/855 [==============================] - 0s 506us/step - loss: 0.0149 - acc: 0.9942 - val_loss: 0.4498 - val_acc: 0.9263\n",
            "Epoch 67/120\n",
            "855/855 [==============================] - 0s 578us/step - loss: 0.0130 - acc: 0.9953 - val_loss: 0.4251 - val_acc: 0.9298\n",
            "Epoch 68/120\n",
            "855/855 [==============================] - 1s 589us/step - loss: 0.0123 - acc: 0.9930 - val_loss: 0.3811 - val_acc: 0.9368\n",
            "Epoch 69/120\n",
            "855/855 [==============================] - 0s 543us/step - loss: 0.0100 - acc: 0.9977 - val_loss: 0.5071 - val_acc: 0.9228\n",
            "Epoch 70/120\n",
            "855/855 [==============================] - 1s 648us/step - loss: 0.0129 - acc: 0.9965 - val_loss: 0.4149 - val_acc: 0.9263\n",
            "Epoch 71/120\n",
            "855/855 [==============================] - 1s 592us/step - loss: 0.0074 - acc: 0.9977 - val_loss: 0.4057 - val_acc: 0.9298\n",
            "Epoch 72/120\n",
            "855/855 [==============================] - 0s 515us/step - loss: 0.0089 - acc: 0.9965 - val_loss: 0.4624 - val_acc: 0.9263\n",
            "Epoch 73/120\n",
            "855/855 [==============================] - 1s 627us/step - loss: 0.0283 - acc: 0.9906 - val_loss: 0.4489 - val_acc: 0.9333\n",
            "Epoch 74/120\n",
            "855/855 [==============================] - 1s 638us/step - loss: 0.0142 - acc: 0.9942 - val_loss: 0.3999 - val_acc: 0.9368\n",
            "Epoch 75/120\n",
            "855/855 [==============================] - 1s 621us/step - loss: 0.0201 - acc: 0.9942 - val_loss: 0.4182 - val_acc: 0.9298\n",
            "Epoch 76/120\n",
            "855/855 [==============================] - 1s 611us/step - loss: 0.0128 - acc: 0.9965 - val_loss: 0.5057 - val_acc: 0.9193\n",
            "Epoch 77/120\n",
            "832/855 [============================>.] - ETA: 0s - loss: 0.0139 - acc: 0.9940"
          ],
          "name": "stdout"
        },
        {
          "output_type": "stream",
          "text": [
            "\b\b\b\b\b\b\b\b\b\b\b\b\b\b\b\b\b\b\b\b\b\b\b\b\b\b\b\b\b\b\b\b\b\b\b\b\b\b\b\b\b\b\b\b\b\b\b\b\b\b\b\b\b\b\b\b\b\b\b\b\b\b\b\b\b\b\b\b\b\b\b\b\b\b\b\b\b\b\b\r855/855 [==============================] - 0s 540us/step - loss: 0.0135 - acc: 0.9942 - val_loss: 0.4975 - val_acc: 0.9298\n",
            "Epoch 78/120\n",
            "855/855 [==============================] - 1s 619us/step - loss: 0.0093 - acc: 0.9965 - val_loss: 0.5332 - val_acc: 0.9263\n",
            "Epoch 79/120\n",
            "855/855 [==============================] - 1s 653us/step - loss: 0.0158 - acc: 0.9942 - val_loss: 0.6115 - val_acc: 0.9123\n",
            "Epoch 80/120\n",
            "855/855 [==============================] - 1s 648us/step - loss: 0.0143 - acc: 0.9977 - val_loss: 0.4378 - val_acc: 0.9263\n",
            "Epoch 81/120\n",
            "855/855 [==============================] - 0s 513us/step - loss: 0.0078 - acc: 0.9988 - val_loss: 0.4625 - val_acc: 0.9228\n",
            "Epoch 82/120\n",
            "855/855 [==============================] - 1s 630us/step - loss: 0.0118 - acc: 0.9965 - val_loss: 0.4586 - val_acc: 0.9228\n",
            "Epoch 83/120\n",
            "855/855 [==============================] - 1s 768us/step - loss: 0.0058 - acc: 0.9988 - val_loss: 0.4932 - val_acc: 0.9193\n",
            "Epoch 84/120\n",
            "855/855 [==============================] - 1s 679us/step - loss: 0.0030 - acc: 1.0000 - val_loss: 0.4387 - val_acc: 0.9298\n",
            "Epoch 85/120\n",
            "855/855 [==============================] - 1s 734us/step - loss: 0.0198 - acc: 0.9930 - val_loss: 0.5218 - val_acc: 0.9053\n",
            "Epoch 86/120\n",
            "855/855 [==============================] - 1s 824us/step - loss: 0.0484 - acc: 0.9848 - val_loss: 0.4133 - val_acc: 0.9228\n",
            "Epoch 87/120\n",
            "855/855 [==============================] - 1s 763us/step - loss: 0.0459 - acc: 0.9871 - val_loss: 0.4204 - val_acc: 0.9158\n",
            "Epoch 88/120\n",
            "448/855 [==============>...............] - ETA: 0s - loss: 0.0110 - acc: 0.9933"
          ],
          "name": "stdout"
        },
        {
          "output_type": "stream",
          "text": [
            "855/855 [==============================] - 1s 801us/step - loss: 0.0127 - acc: 0.9953 - val_loss: 0.4667 - val_acc: 0.9263\n",
            "Epoch 89/120\n",
            "855/855 [==============================] - 1s 770us/step - loss: 0.0305 - acc: 0.9895 - val_loss: 0.5074 - val_acc: 0.9298\n",
            "Epoch 90/120\n",
            "855/855 [==============================] - 1s 729us/step - loss: 0.0239 - acc: 0.9906 - val_loss: 0.5629 - val_acc: 0.9158\n",
            "Epoch 91/120\n",
            "855/855 [==============================] - 1s 749us/step - loss: 0.0189 - acc: 0.9930 - val_loss: 0.4556 - val_acc: 0.9158\n",
            "Epoch 92/120\n",
            "855/855 [==============================] - 1s 796us/step - loss: 0.0204 - acc: 0.9918 - val_loss: 0.4694 - val_acc: 0.9263\n",
            "Epoch 93/120\n",
            "855/855 [==============================] - 1s 867us/step - loss: 0.0211 - acc: 0.9930 - val_loss: 0.5226 - val_acc: 0.9123\n",
            "Epoch 94/120\n",
            "855/855 [==============================] - 1s 872us/step - loss: 0.0302 - acc: 0.9895 - val_loss: 0.4855 - val_acc: 0.9193\n",
            "Epoch 95/120\n",
            "855/855 [==============================] - 1s 877us/step - loss: 0.0074 - acc: 0.9977 - val_loss: 0.4617 - val_acc: 0.9263\n",
            "Epoch 96/120\n",
            "855/855 [==============================] - 1s 802us/step - loss: 0.0115 - acc: 0.9977 - val_loss: 0.4345 - val_acc: 0.9333\n",
            "Epoch 97/120\n",
            "855/855 [==============================] - 1s 841us/step - loss: 0.0054 - acc: 0.9988 - val_loss: 0.5155 - val_acc: 0.9333\n",
            "Epoch 98/120\n",
            "855/855 [==============================] - 1s 847us/step - loss: 0.0120 - acc: 0.9977 - val_loss: 0.4804 - val_acc: 0.9193\n",
            "Epoch 99/120\n",
            "448/855 [==============>...............] - ETA: 0s - loss: 0.0142 - acc: 0.9933"
          ],
          "name": "stdout"
        },
        {
          "output_type": "stream",
          "text": [
            "855/855 [==============================] - 1s 916us/step - loss: 0.0093 - acc: 0.9965 - val_loss: 0.5578 - val_acc: 0.9158\n",
            "Epoch 100/120\n",
            "855/855 [==============================] - 1s 890us/step - loss: 0.0106 - acc: 0.9977 - val_loss: 0.4623 - val_acc: 0.9298\n",
            "Epoch 101/120\n",
            "855/855 [==============================] - 1s 915us/step - loss: 0.0103 - acc: 0.9965 - val_loss: 0.6991 - val_acc: 0.9193\n",
            "Epoch 102/120\n",
            "855/855 [==============================] - 1s 862us/step - loss: 0.0257 - acc: 0.9906 - val_loss: 0.4635 - val_acc: 0.9404\n",
            "Epoch 103/120\n",
            "855/855 [==============================] - 1s 898us/step - loss: 0.0217 - acc: 0.9942 - val_loss: 0.6436 - val_acc: 0.9263\n",
            "Epoch 104/120\n",
            "855/855 [==============================] - 1s 936us/step - loss: 0.0215 - acc: 0.9906 - val_loss: 0.5540 - val_acc: 0.9228\n",
            "Epoch 105/120\n",
            "855/855 [==============================] - 1s 886us/step - loss: 0.0179 - acc: 0.9930 - val_loss: 0.7238 - val_acc: 0.9088\n",
            "Epoch 106/120\n",
            "855/855 [==============================] - 1s 908us/step - loss: 0.0319 - acc: 0.9860 - val_loss: 0.5234 - val_acc: 0.9263\n",
            "Epoch 107/120\n",
            "855/855 [==============================] - 1s 893us/step - loss: 0.0243 - acc: 0.9906 - val_loss: 0.5901 - val_acc: 0.9088\n",
            "Epoch 108/120\n",
            "855/855 [==============================] - 1s 749us/step - loss: 0.0156 - acc: 0.9930 - val_loss: 0.4339 - val_acc: 0.9263\n",
            "Epoch 109/120\n",
            "855/855 [==============================] - 1s 936us/step - loss: 0.0120 - acc: 0.9942 - val_loss: 0.4643 - val_acc: 0.9333\n",
            "Epoch 110/120\n",
            "128/855 [===>..........................] - ETA: 0s - loss: 3.7156e-04 - acc: 1.0000"
          ],
          "name": "stdout"
        },
        {
          "output_type": "stream",
          "text": [
            "855/855 [==============================] - 1s 833us/step - loss: 0.0092 - acc: 0.9953 - val_loss: 0.4438 - val_acc: 0.9298\n",
            "Epoch 111/120\n",
            "855/855 [==============================] - 1s 894us/step - loss: 0.0237 - acc: 0.9918 - val_loss: 0.4814 - val_acc: 0.9333\n",
            "Epoch 112/120\n",
            "855/855 [==============================] - 1s 980us/step - loss: 0.0145 - acc: 0.9942 - val_loss: 0.4787 - val_acc: 0.9158\n",
            "Epoch 113/120\n",
            "855/855 [==============================] - 1s 820us/step - loss: 0.0615 - acc: 0.9813 - val_loss: 0.5423 - val_acc: 0.9018\n",
            "Epoch 114/120\n",
            "855/855 [==============================] - 1s 966us/step - loss: 0.0306 - acc: 0.9906 - val_loss: 0.5463 - val_acc: 0.9263\n",
            "Epoch 115/120\n",
            "855/855 [==============================] - 1s 960us/step - loss: 0.0334 - acc: 0.9942 - val_loss: 0.6721 - val_acc: 0.9088\n",
            "Epoch 116/120\n",
            "855/855 [==============================] - 1s 890us/step - loss: 0.0550 - acc: 0.9848 - val_loss: 0.5491 - val_acc: 0.9298\n",
            "Epoch 117/120\n",
            "855/855 [==============================] - 1s 920us/step - loss: 0.0245 - acc: 0.9930 - val_loss: 0.6364 - val_acc: 0.9228\n",
            "Epoch 118/120\n",
            "855/855 [==============================] - 1s 899us/step - loss: 0.0219 - acc: 0.9953 - val_loss: 0.5101 - val_acc: 0.9368\n",
            "Epoch 119/120\n",
            "855/855 [==============================] - 1s 928us/step - loss: 0.0056 - acc: 0.9977 - val_loss: 0.5206 - val_acc: 0.9228\n",
            "Epoch 120/120\n",
            "855/855 [==============================] - 1s 943us/step - loss: 0.0129 - acc: 0.9918 - val_loss: 0.4980 - val_acc: 0.9228\n"
          ],
          "name": "stdout"
        }
      ]
    },
    {
      "metadata": {
        "id": "Rz25KGRyX9Ny",
        "colab_type": "code",
        "colab": {
          "autoexec": {
            "startup": false,
            "wait_interval": 0
          },
          "base_uri": "https://localhost:8080/",
          "height": 392
        },
        "outputId": "9a76a548-55ce-4de8-c386-95aa8ac191b9",
        "executionInfo": {
          "status": "ok",
          "timestamp": 1531433391693,
          "user_tz": -180,
          "elapsed": 598,
          "user": {
            "displayName": "Ömer Yalçın",
            "photoUrl": "//lh6.googleusercontent.com/-KYS0k8F_jss/AAAAAAAAAAI/AAAAAAAABGM/XoQZ3tR-BuA/s50-c-k-no/photo.jpg",
            "userId": "107209192184149810541"
          }
        }
      },
      "cell_type": "code",
      "source": [
        "plt.figure(figsize=(10,6))\n",
        "plt.plot(train_history.history[\"acc\"])\n",
        "plt.plot(train_history.history[\"val_acc\"])\n",
        "plt.legend([\"train\",\"validation\"])"
      ],
      "execution_count": 0,
      "outputs": [
        {
          "output_type": "execute_result",
          "data": {
            "text/plain": [
              "<matplotlib.legend.Legend at 0x7fa3bb7d3a20>"
            ]
          },
          "metadata": {
            "tags": []
          },
          "execution_count": 93
        },
        {
          "output_type": "display_data",
          "data": {
            "image/png": "[encoded data removed]",
            "text/plain": [
              "<matplotlib.figure.Figure at 0x7fa3bab98f60>"
            ]
          },
          "metadata": {
            "tags": []
          }
        }
      ]
    },
    {
      "metadata": {
        "id": "9mhZpJqyc4KY",
        "colab_type": "code",
        "colab": {
          "autoexec": {
            "startup": false,
            "wait_interval": 0
          },
          "base_uri": "https://localhost:8080/",
          "height": 53
        },
        "outputId": "185969cb-d662-4460-d871-6989b82d78f3",
        "executionInfo": {
          "status": "ok",
          "timestamp": 1531433403324,
          "user_tz": -180,
          "elapsed": 607,
          "user": {
            "displayName": "Ömer Yalçın",
            "photoUrl": "//lh6.googleusercontent.com/-KYS0k8F_jss/AAAAAAAAAAI/AAAAAAAABGM/XoQZ3tR-BuA/s50-c-k-no/photo.jpg",
            "userId": "107209192184149810541"
          }
        }
      },
      "cell_type": "code",
      "source": [
        "model.evaluate(x_ts,y_ts)"
      ],
      "execution_count": 0,
      "outputs": [
        {
          "output_type": "stream",
          "text": [
            "285/285 [==============================] - 0s 341us/step\n"
          ],
          "name": "stdout"
        },
        {
          "output_type": "execute_result",
          "data": {
            "text/plain": [
              "[0.4980155258586532, 0.922807020262668]"
            ]
          },
          "metadata": {
            "tags": []
          },
          "execution_count": 94
        }
      ]
    },
    {
      "metadata": {
        "id": "ERp5i6h6dQH-",
        "colab_type": "code",
        "colab": {
          "autoexec": {
            "startup": false,
            "wait_interval": 0
          },
          "base_uri": "https://localhost:8080/",
          "height": 35
        },
        "outputId": "3f0a6936-c3b3-4645-ace6-91d3b33e4f43",
        "executionInfo": {
          "status": "ok",
          "timestamp": 1531433405491,
          "user_tz": -180,
          "elapsed": 608,
          "user": {
            "displayName": "Ömer Yalçın",
            "photoUrl": "//lh6.googleusercontent.com/-KYS0k8F_jss/AAAAAAAAAAI/AAAAAAAABGM/XoQZ3tR-BuA/s50-c-k-no/photo.jpg",
            "userId": "107209192184149810541"
          }
        }
      },
      "cell_type": "code",
      "source": [
        "np.array(train_history.history[\"val_acc\"][-15:]).mean()"
      ],
      "execution_count": 0,
      "outputs": [
        {
          "output_type": "execute_result",
          "data": {
            "text/plain": [
              "0.9230409369552345"
            ]
          },
          "metadata": {
            "tags": []
          },
          "execution_count": 95
        }
      ]
    },
    {
      "metadata": {
        "id": "X28K3twVdYk8",
        "colab_type": "code",
        "colab": {
          "autoexec": {
            "startup": false,
            "wait_interval": 0
          },
          "base_uri": "https://localhost:8080/",
          "height": 35
        },
        "outputId": "392c519a-b8fd-4d35-a240-72b038fb9924",
        "executionInfo": {
          "status": "ok",
          "timestamp": 1531433407432,
          "user_tz": -180,
          "elapsed": 586,
          "user": {
            "displayName": "Ömer Yalçın",
            "photoUrl": "//lh6.googleusercontent.com/-KYS0k8F_jss/AAAAAAAAAAI/AAAAAAAABGM/XoQZ3tR-BuA/s50-c-k-no/photo.jpg",
            "userId": "107209192184149810541"
          }
        }
      },
      "cell_type": "code",
      "source": [
        "np.array(train_history.history[\"acc\"][-15:]).mean()"
      ],
      "execution_count": 0,
      "outputs": [
        {
          "output_type": "execute_result",
          "data": {
            "text/plain": [
              "0.9915789474241914"
            ]
          },
          "metadata": {
            "tags": []
          },
          "execution_count": 96
        }
      ]
    },
    {
      "metadata": {
        "id": "nRkwodCJjZ6G",
        "colab_type": "text"
      },
      "cell_type": "markdown",
      "source": [
        "### With Data Augmentation"
      ]
    },
    {
      "metadata": {
        "id": "XkFW_q8TjX54",
        "colab_type": "code",
        "colab": {
          "autoexec": {
            "startup": false,
            "wait_interval": 0
          },
          "base_uri": "https://localhost:8080/",
          "height": 35
        },
        "outputId": "84b4204c-86b1-47c5-c93b-b8ee4b245405",
        "executionInfo": {
          "status": "ok",
          "timestamp": 1531649375756,
          "user_tz": -180,
          "elapsed": 9587,
          "user": {
            "displayName": "Ömer Yalçın",
            "photoUrl": "//lh6.googleusercontent.com/-KYS0k8F_jss/AAAAAAAAAAI/AAAAAAAABGM/XoQZ3tR-BuA/s50-c-k-no/photo.jpg",
            "userId": "107209192184149810541"
          }
        }
      },
      "cell_type": "code",
      "source": [
        "from keras.preprocessing.image import ImageDataGenerator\n",
        "from keras.utils.np_utils import to_categorical"
      ],
      "execution_count": 11,
      "outputs": [
        {
          "output_type": "stream",
          "text": [
            "Using TensorFlow backend.\n"
          ],
          "name": "stderr"
        }
      ]
    },
    {
      "metadata": {
        "id": "72oSfuYtmK0I",
        "colab_type": "code",
        "colab": {
          "autoexec": {
            "startup": false,
            "wait_interval": 0
          }
        }
      },
      "cell_type": "code",
      "source": [
        "train_datagen = ImageDataGenerator(\n",
        "    rescale=1./255,\n",
        "    rotation_range=30,\n",
        "    width_shift_range=0.1,\n",
        "    height_shift_range=0.1,\n",
        "    shear_range=0.1,\n",
        "    zoom_range=0.1,\n",
        "    horizontal_flip=True)\n",
        "\n",
        "test_datagen = ImageDataGenerator(rescale=1./255)"
      ],
      "execution_count": 0,
      "outputs": []
    },
    {
      "metadata": {
        "id": "NVvoSAitmLXN",
        "colab_type": "code",
        "colab": {
          "autoexec": {
            "startup": false,
            "wait_interval": 0
          },
          "base_uri": "https://localhost:8080/",
          "height": 35
        },
        "outputId": "f546d568-4d59-48cc-bca7-68400a79505a",
        "executionInfo": {
          "status": "ok",
          "timestamp": 1531649379106,
          "user_tz": -180,
          "elapsed": 615,
          "user": {
            "displayName": "Ömer Yalçın",
            "photoUrl": "//lh6.googleusercontent.com/-KYS0k8F_jss/AAAAAAAAAAI/AAAAAAAABGM/XoQZ3tR-BuA/s50-c-k-no/photo.jpg",
            "userId": "107209192184149810541"
          }
        }
      },
      "cell_type": "code",
      "source": [
        "x=face.data.reshape((1140,62,47,1))\n",
        "y=to_categorical(face.target)\n",
        "y.shape"
      ],
      "execution_count": 13,
      "outputs": [
        {
          "output_type": "execute_result",
          "data": {
            "text/plain": [
              "(1140, 5)"
            ]
          },
          "metadata": {
            "tags": []
          },
          "execution_count": 13
        }
      ]
    },
    {
      "metadata": {
        "id": "kBHW6lRymOzj",
        "colab_type": "code",
        "colab": {
          "autoexec": {
            "startup": false,
            "wait_interval": 0
          }
        }
      },
      "cell_type": "code",
      "source": [
        "x_tr,x_ts,y_tr,y_ts=train_test_split(x,y)\n",
        "train_datagen.fit(x_tr)\n",
        "test_datagen.fit(x_ts)"
      ],
      "execution_count": 0,
      "outputs": []
    },
    {
      "metadata": {
        "id": "ITz0c4E8dbot",
        "colab_type": "code",
        "colab": {
          "autoexec": {
            "startup": false,
            "wait_interval": 0
          },
          "base_uri": "https://localhost:8080/",
          "height": 953
        },
        "outputId": "949b66d9-c31c-4dbf-9c71-5166c5527dcd",
        "executionInfo": {
          "status": "ok",
          "timestamp": 1531520137323,
          "user_tz": -180,
          "elapsed": 1139,
          "user": {
            "displayName": "Ömer Yalçın",
            "photoUrl": "//lh6.googleusercontent.com/-KYS0k8F_jss/AAAAAAAAAAI/AAAAAAAABGM/XoQZ3tR-BuA/s50-c-k-no/photo.jpg",
            "userId": "107209192184149810541"
          }
        }
      },
      "cell_type": "code",
      "source": [
        "model=models.Sequential()\n",
        "\n",
        "model.add(layers.Conv2D(32,(3,3),activation=\"elu\",input_shape=(62,47,1),border_mode=\"same\"))\n",
        "model.add(layers.Conv2D(32,(3,3),activation=\"elu\"))\n",
        "model.add(layers.MaxPooling2D((2,2)))\n",
        "model.add(layers.Dropout(0.1))\n",
        "\n",
        "model.add(layers.Conv2D(64,(3,3),activation=\"elu\",border_mode=\"same\"))\n",
        "model.add(layers.Conv2D(64,(3,3),activation=\"elu\"))\n",
        "model.add(layers.MaxPooling2D((2,2)))\n",
        "model.add(layers.Dropout(0.1))\n",
        "\n",
        "model.add(layers.Conv2D(128,(3,3),activation=\"elu\",border_mode=\"same\"))\n",
        "model.add(layers.Conv2D(128,(3,3),activation=\"elu\"))\n",
        "model.add(layers.MaxPooling2D((2,2)))\n",
        "model.add(layers.Dropout(0.1))\n",
        "\n",
        "model.add(layers.Conv2D(192,(3,3),activation=\"elu\",border_mode=\"same\"))\n",
        "model.add(layers.Conv2D(192,(3,3),activation=\"elu\"))\n",
        "\n",
        "model.add(layers.Flatten())\n",
        "model.add(layers.Dropout(0.1))\n",
        "model.add(layers.Dense(512,activation=\"elu\"))\n",
        "model.add(layers.Dropout(0.1))\n",
        "model.add(layers.Dense(5,activation=\"softmax\"))\n",
        "\n",
        "model.compile(optimizer=\"adam\",loss=\"categorical_crossentropy\",\n",
        "             metrics=[\"accuracy\"])\n",
        "\n",
        "model.summary()"
      ],
      "execution_count": 0,
      "outputs": [
        {
          "output_type": "stream",
          "text": [
            "/usr/local/lib/python3.6/dist-packages/ipykernel_launcher.py:3: UserWarning: Update your `Conv2D` call to the Keras 2 API: `Conv2D(32, (3, 3), activation=\"elu\", input_shape=(62, 47, 1..., padding=\"same\")`\n",
            "  This is separate from the ipykernel package so we can avoid doing imports until\n",
            "/usr/local/lib/python3.6/dist-packages/ipykernel_launcher.py:8: UserWarning: Update your `Conv2D` call to the Keras 2 API: `Conv2D(64, (3, 3), activation=\"elu\", padding=\"same\")`\n",
            "  \n",
            "/usr/local/lib/python3.6/dist-packages/ipykernel_launcher.py:13: UserWarning: Update your `Conv2D` call to the Keras 2 API: `Conv2D(128, (3, 3), activation=\"elu\", padding=\"same\")`\n",
            "  del sys.path[0]\n",
            "/usr/local/lib/python3.6/dist-packages/ipykernel_launcher.py:18: UserWarning: Update your `Conv2D` call to the Keras 2 API: `Conv2D(192, (3, 3), activation=\"elu\", padding=\"same\")`\n"
          ],
          "name": "stderr"
        },
        {
          "output_type": "stream",
          "text": [
            "_________________________________________________________________\n",
            "Layer (type)                 Output Shape              Param #   \n",
            "=================================================================\n",
            "conv2d_204 (Conv2D)          (None, 62, 47, 32)        320       \n",
            "_________________________________________________________________\n",
            "conv2d_205 (Conv2D)          (None, 60, 45, 32)        9248      \n",
            "_________________________________________________________________\n",
            "max_pooling2d_79 (MaxPooling (None, 30, 22, 32)        0         \n",
            "_________________________________________________________________\n",
            "dropout_190 (Dropout)        (None, 30, 22, 32)        0         \n",
            "_________________________________________________________________\n",
            "conv2d_206 (Conv2D)          (None, 30, 22, 64)        18496     \n",
            "_________________________________________________________________\n",
            "conv2d_207 (Conv2D)          (None, 28, 20, 64)        36928     \n",
            "_________________________________________________________________\n",
            "max_pooling2d_80 (MaxPooling (None, 14, 10, 64)        0         \n",
            "_________________________________________________________________\n",
            "dropout_191 (Dropout)        (None, 14, 10, 64)        0         \n",
            "_________________________________________________________________\n",
            "conv2d_208 (Conv2D)          (None, 14, 10, 128)       73856     \n",
            "_________________________________________________________________\n",
            "conv2d_209 (Conv2D)          (None, 12, 8, 128)        147584    \n",
            "_________________________________________________________________\n",
            "max_pooling2d_81 (MaxPooling (None, 6, 4, 128)         0         \n",
            "_________________________________________________________________\n",
            "dropout_192 (Dropout)        (None, 6, 4, 128)         0         \n",
            "_________________________________________________________________\n",
            "conv2d_210 (Conv2D)          (None, 6, 4, 192)         221376    \n",
            "_________________________________________________________________\n",
            "conv2d_211 (Conv2D)          (None, 4, 2, 192)         331968    \n",
            "_________________________________________________________________\n",
            "flatten_17 (Flatten)         (None, 1536)              0         \n",
            "_________________________________________________________________\n",
            "dropout_193 (Dropout)        (None, 1536)              0         \n",
            "_________________________________________________________________\n",
            "dense_24 (Dense)             (None, 512)               786944    \n",
            "_________________________________________________________________\n",
            "dropout_194 (Dropout)        (None, 512)               0         \n",
            "_________________________________________________________________\n",
            "dense_25 (Dense)             (None, 5)                 2565      \n",
            "=================================================================\n",
            "Total params: 1,629,285\n",
            "Trainable params: 1,629,285\n",
            "Non-trainable params: 0\n",
            "_________________________________________________________________\n"
          ],
          "name": "stdout"
        }
      ]
    },
    {
      "metadata": {
        "id": "d-EfCQrzjx5Y",
        "colab_type": "code",
        "colab": {
          "autoexec": {
            "startup": false,
            "wait_interval": 0
          },
          "base_uri": "https://localhost:8080/",
          "height": 9017
        },
        "outputId": "42e012dd-8c35-4ed4-ffbe-51dd22ac7a25",
        "executionInfo": {
          "status": "ok",
          "timestamp": 1531520466672,
          "user_tz": -180,
          "elapsed": 327192,
          "user": {
            "displayName": "Ömer Yalçın",
            "photoUrl": "//lh6.googleusercontent.com/-KYS0k8F_jss/AAAAAAAAAAI/AAAAAAAABGM/XoQZ3tR-BuA/s50-c-k-no/photo.jpg",
            "userId": "107209192184149810541"
          }
        }
      },
      "cell_type": "code",
      "source": [
        "aug_history = model.fit_generator(\n",
        "      train_datagen.flow(x_tr,y_tr,batch_size=32),\n",
        "      steps_per_epoch=len(x_tr)/32,\n",
        "      epochs=250,\n",
        "      validation_data=test_datagen.flow(x_ts,y_ts,batch_size=128),\n",
        "      validation_steps=len(x_ts)/128)"
      ],
      "execution_count": 0,
      "outputs": [
        {
          "output_type": "stream",
          "text": [
            "Epoch 1/250\n",
            "27/26 [==============================] - 9s 338ms/step - loss: 1.7689 - acc: 0.3721 - val_loss: 1.4193 - val_acc: 0.4491\n",
            "Epoch 2/250\n",
            "27/26 [==============================] - 2s 58ms/step - loss: 1.4530 - acc: 0.4506 - val_loss: 1.4168 - val_acc: 0.4491\n",
            "Epoch 3/250\n",
            "27/26 [==============================] - 1s 54ms/step - loss: 1.4203 - acc: 0.4681 - val_loss: 1.3987 - val_acc: 0.4491\n",
            "Epoch 4/250\n",
            "27/26 [==============================] - 1s 51ms/step - loss: 1.3844 - acc: 0.4720 - val_loss: 1.2585 - val_acc: 0.4772\n",
            "Epoch 5/250\n",
            "27/26 [==============================] - 1s 53ms/step - loss: 1.3083 - acc: 0.4837 - val_loss: 1.2410 - val_acc: 0.4737\n",
            "Epoch 6/250\n",
            "27/26 [==============================] - 1s 52ms/step - loss: 1.2427 - acc: 0.4941 - val_loss: 1.0882 - val_acc: 0.5965\n",
            "Epoch 7/250\n",
            "27/26 [==============================] - 1s 52ms/step - loss: 1.1381 - acc: 0.5645 - val_loss: 1.0269 - val_acc: 0.6421\n",
            "Epoch 8/250\n",
            "27/26 [==============================] - 1s 51ms/step - loss: 1.0827 - acc: 0.6038 - val_loss: 0.8163 - val_acc: 0.7404\n",
            "Epoch 9/250\n",
            "10/26 [==========>...................] - ETA: 0s - loss: 1.0061 - acc: 0.6281"
          ],
          "name": "stdout"
        },
        {
          "output_type": "stream",
          "text": [
            "27/26 [==============================] - 1s 53ms/step - loss: 0.9840 - acc: 0.6476 - val_loss: 0.7198 - val_acc: 0.7228\n",
            "Epoch 10/250\n",
            "27/26 [==============================] - 1s 53ms/step - loss: 0.8473 - acc: 0.6832 - val_loss: 0.5026 - val_acc: 0.8386\n",
            "Epoch 11/250\n",
            "27/26 [==============================] - 1s 52ms/step - loss: 0.8073 - acc: 0.7195 - val_loss: 0.6885 - val_acc: 0.7684\n",
            "Epoch 12/250\n",
            "27/26 [==============================] - 1s 52ms/step - loss: 0.8106 - acc: 0.7295 - val_loss: 0.5139 - val_acc: 0.8000\n",
            "Epoch 13/250\n",
            "27/26 [==============================] - 1s 51ms/step - loss: 0.6857 - acc: 0.7516 - val_loss: 0.4810 - val_acc: 0.8211\n",
            "Epoch 14/250\n",
            "27/26 [==============================] - 1s 52ms/step - loss: 0.7217 - acc: 0.7350 - val_loss: 0.5008 - val_acc: 0.8351\n",
            "Epoch 15/250\n",
            "27/26 [==============================] - 1s 49ms/step - loss: 0.6490 - acc: 0.7623 - val_loss: 0.4804 - val_acc: 0.8281\n",
            "Epoch 16/250\n",
            "27/26 [==============================] - 1s 51ms/step - loss: 0.6123 - acc: 0.8011 - val_loss: 1.4522 - val_acc: 0.6316\n",
            "Epoch 17/250\n",
            "27/26 [==============================] - 1s 49ms/step - loss: 0.8201 - acc: 0.7263 - val_loss: 0.5048 - val_acc: 0.8386\n",
            "Epoch 18/250\n",
            " 1/26 [>.............................] - ETA: 1s - loss: 0.7750 - acc: 0.7812"
          ],
          "name": "stdout"
        },
        {
          "output_type": "stream",
          "text": [
            "27/26 [==============================] - 1s 48ms/step - loss: 0.6489 - acc: 0.7600 - val_loss: 0.4074 - val_acc: 0.8456\n",
            "Epoch 19/250\n",
            "27/26 [==============================] - 1s 49ms/step - loss: 0.5521 - acc: 0.8052 - val_loss: 0.3178 - val_acc: 0.8772\n",
            "Epoch 20/250\n",
            "27/26 [==============================] - 1s 49ms/step - loss: 0.5692 - acc: 0.7979 - val_loss: 0.3777 - val_acc: 0.8632\n",
            "Epoch 21/250\n",
            "27/26 [==============================] - 1s 50ms/step - loss: 0.5422 - acc: 0.8134 - val_loss: 0.3909 - val_acc: 0.8561\n",
            "Epoch 22/250\n",
            "27/26 [==============================] - 1s 49ms/step - loss: 0.5166 - acc: 0.8197 - val_loss: 0.2941 - val_acc: 0.9018\n",
            "Epoch 23/250\n",
            "27/26 [==============================] - 1s 49ms/step - loss: 0.4661 - acc: 0.8419 - val_loss: 0.2362 - val_acc: 0.9158\n",
            "Epoch 24/250\n",
            "27/26 [==============================] - 1s 51ms/step - loss: 0.3899 - acc: 0.8634 - val_loss: 0.3708 - val_acc: 0.8842\n",
            "Epoch 25/250\n",
            "27/26 [==============================] - 1s 50ms/step - loss: 0.4820 - acc: 0.8444 - val_loss: 0.2372 - val_acc: 0.9404\n",
            "Epoch 26/250\n",
            "27/26 [==============================] - 1s 48ms/step - loss: 0.4141 - acc: 0.8564 - val_loss: 0.4025 - val_acc: 0.8526\n",
            "Epoch 27/250\n",
            " 4/26 [===>..........................] - ETA: 1s - loss: 0.4116 - acc: 0.8516"
          ],
          "name": "stdout"
        },
        {
          "output_type": "stream",
          "text": [
            "27/26 [==============================] - 1s 48ms/step - loss: 0.4230 - acc: 0.8443 - val_loss: 0.2548 - val_acc: 0.9158\n",
            "Epoch 28/250\n",
            "27/26 [==============================] - 1s 48ms/step - loss: 0.3877 - acc: 0.8526 - val_loss: 0.1955 - val_acc: 0.9439\n",
            "Epoch 29/250\n",
            "27/26 [==============================] - 1s 48ms/step - loss: 0.3615 - acc: 0.8861 - val_loss: 0.2428 - val_acc: 0.9053\n",
            "Epoch 30/250\n",
            "27/26 [==============================] - 1s 47ms/step - loss: 0.3255 - acc: 0.8825 - val_loss: 0.2608 - val_acc: 0.9158\n",
            "Epoch 31/250\n",
            "27/26 [==============================] - 1s 47ms/step - loss: 0.3432 - acc: 0.8899 - val_loss: 0.2128 - val_acc: 0.9228\n",
            "Epoch 32/250\n",
            "27/26 [==============================] - 1s 49ms/step - loss: 0.2901 - acc: 0.8899 - val_loss: 0.2063 - val_acc: 0.9298\n",
            "Epoch 33/250\n",
            "27/26 [==============================] - 1s 48ms/step - loss: 0.3416 - acc: 0.8757 - val_loss: 0.3113 - val_acc: 0.9088\n",
            "Epoch 34/250\n",
            "27/26 [==============================] - 1s 49ms/step - loss: 0.3208 - acc: 0.8984 - val_loss: 0.2695 - val_acc: 0.9088\n",
            "Epoch 35/250\n",
            "27/26 [==============================] - 1s 48ms/step - loss: 0.3054 - acc: 0.8875 - val_loss: 0.1779 - val_acc: 0.9544\n",
            "Epoch 36/250\n",
            "11/26 [===========>..................] - ETA: 0s - loss: 0.3034 - acc: 0.9148"
          ],
          "name": "stdout"
        },
        {
          "output_type": "stream",
          "text": [
            "27/26 [==============================] - 1s 48ms/step - loss: 0.3210 - acc: 0.8940 - val_loss: 0.2208 - val_acc: 0.9474\n",
            "Epoch 37/250\n",
            "27/26 [==============================] - 1s 47ms/step - loss: 0.4444 - acc: 0.8689 - val_loss: 0.2904 - val_acc: 0.9298\n",
            "Epoch 38/250\n",
            "27/26 [==============================] - 1s 48ms/step - loss: 0.3425 - acc: 0.8961 - val_loss: 0.2013 - val_acc: 0.9439\n",
            "Epoch 39/250\n",
            "27/26 [==============================] - 1s 46ms/step - loss: 0.2522 - acc: 0.9134 - val_loss: 0.3487 - val_acc: 0.8912\n",
            "Epoch 40/250\n",
            "27/26 [==============================] - 1s 48ms/step - loss: 0.3001 - acc: 0.8952 - val_loss: 0.2895 - val_acc: 0.9123\n",
            "Epoch 41/250\n",
            "27/26 [==============================] - 1s 47ms/step - loss: 0.3531 - acc: 0.8813 - val_loss: 0.2087 - val_acc: 0.9263\n",
            "Epoch 42/250\n",
            "27/26 [==============================] - 1s 46ms/step - loss: 0.3522 - acc: 0.8752 - val_loss: 0.1724 - val_acc: 0.9368\n",
            "Epoch 43/250\n",
            "27/26 [==============================] - 1s 44ms/step - loss: 0.2837 - acc: 0.9178 - val_loss: 0.2544 - val_acc: 0.9263\n",
            "Epoch 44/250\n",
            "27/26 [==============================] - 1s 47ms/step - loss: 0.3521 - acc: 0.8776 - val_loss: 0.1911 - val_acc: 0.9474\n",
            "Epoch 45/250\n",
            "19/26 [====================>.........] - ETA: 0s - loss: 0.2495 - acc: 0.9115"
          ],
          "name": "stdout"
        },
        {
          "output_type": "stream",
          "text": [
            "27/26 [==============================] - 1s 47ms/step - loss: 0.2434 - acc: 0.9065 - val_loss: 0.2547 - val_acc: 0.9263\n",
            "Epoch 46/250\n",
            "27/26 [==============================] - 1s 47ms/step - loss: 0.2160 - acc: 0.9297 - val_loss: 0.1482 - val_acc: 0.9649\n",
            "Epoch 47/250\n",
            "27/26 [==============================] - 1s 48ms/step - loss: 0.2359 - acc: 0.9200 - val_loss: 0.3645 - val_acc: 0.9158\n",
            "Epoch 48/250\n",
            "27/26 [==============================] - 1s 46ms/step - loss: 0.3322 - acc: 0.8875 - val_loss: 0.2999 - val_acc: 0.9193\n",
            "Epoch 49/250\n",
            "27/26 [==============================] - 1s 48ms/step - loss: 0.3095 - acc: 0.8977 - val_loss: 0.1553 - val_acc: 0.9509\n",
            "Epoch 50/250\n",
            "27/26 [==============================] - 1s 47ms/step - loss: 0.2244 - acc: 0.9250 - val_loss: 0.0693 - val_acc: 0.9789\n",
            "Epoch 51/250\n",
            "27/26 [==============================] - 1s 47ms/step - loss: 0.1550 - acc: 0.9544 - val_loss: 0.2387 - val_acc: 0.9368\n",
            "Epoch 52/250\n",
            "27/26 [==============================] - 1s 46ms/step - loss: 0.2197 - acc: 0.9347 - val_loss: 0.1200 - val_acc: 0.9614\n",
            "Epoch 53/250\n",
            "27/26 [==============================] - 1s 46ms/step - loss: 0.1950 - acc: 0.9317 - val_loss: 0.1163 - val_acc: 0.9719\n",
            "Epoch 54/250\n",
            "23/26 [========================>.....] - ETA: 0s - loss: 0.1670 - acc: 0.9511"
          ],
          "name": "stdout"
        },
        {
          "output_type": "stream",
          "text": [
            "27/26 [==============================] - 1s 46ms/step - loss: 0.1662 - acc: 0.9491 - val_loss: 0.1679 - val_acc: 0.9404\n",
            "Epoch 55/250\n",
            "27/26 [==============================] - 1s 46ms/step - loss: 0.2659 - acc: 0.9039 - val_loss: 0.2223 - val_acc: 0.9544\n",
            "Epoch 56/250\n",
            "27/26 [==============================] - 1s 46ms/step - loss: 0.2022 - acc: 0.9394 - val_loss: 0.1390 - val_acc: 0.9474\n",
            "Epoch 57/250\n",
            "27/26 [==============================] - 1s 45ms/step - loss: 0.2540 - acc: 0.9259 - val_loss: 0.1432 - val_acc: 0.9649\n",
            "Epoch 58/250\n",
            "27/26 [==============================] - 1s 46ms/step - loss: 0.1839 - acc: 0.9412 - val_loss: 0.1119 - val_acc: 0.9649\n",
            "Epoch 59/250\n",
            "27/26 [==============================] - 1s 46ms/step - loss: 0.1900 - acc: 0.9382 - val_loss: 0.0978 - val_acc: 0.9719\n",
            "Epoch 60/250\n",
            "27/26 [==============================] - 1s 46ms/step - loss: 0.1822 - acc: 0.9443 - val_loss: 0.2214 - val_acc: 0.9088\n",
            "Epoch 61/250\n",
            "27/26 [==============================] - 1s 47ms/step - loss: 0.1298 - acc: 0.9532 - val_loss: 0.1056 - val_acc: 0.9789\n",
            "Epoch 62/250\n",
            "27/26 [==============================] - 1s 47ms/step - loss: 0.2973 - acc: 0.9123 - val_loss: 0.1250 - val_acc: 0.9579\n",
            "Epoch 63/250\n",
            "20/26 [=====================>........] - ETA: 0s - loss: 0.1700 - acc: 0.9363"
          ],
          "name": "stdout"
        },
        {
          "output_type": "stream",
          "text": [
            "27/26 [==============================] - 1s 47ms/step - loss: 0.1936 - acc: 0.9331 - val_loss: 0.1533 - val_acc: 0.9614\n",
            "Epoch 64/250\n",
            "27/26 [==============================] - 1s 47ms/step - loss: 0.1610 - acc: 0.9394 - val_loss: 0.4862 - val_acc: 0.9193\n",
            "Epoch 65/250\n",
            "27/26 [==============================] - 1s 46ms/step - loss: 0.2214 - acc: 0.9359 - val_loss: 0.2152 - val_acc: 0.9579\n",
            "Epoch 66/250\n",
            "27/26 [==============================] - 1s 46ms/step - loss: 0.1811 - acc: 0.9410 - val_loss: 0.2503 - val_acc: 0.9404\n",
            "Epoch 67/250\n",
            "27/26 [==============================] - 1s 46ms/step - loss: 0.1316 - acc: 0.9547 - val_loss: 0.1134 - val_acc: 0.9614\n",
            "Epoch 68/250\n",
            "27/26 [==============================] - 1s 47ms/step - loss: 0.1328 - acc: 0.9618 - val_loss: 0.1991 - val_acc: 0.9579\n",
            "Epoch 69/250\n",
            "27/26 [==============================] - 1s 46ms/step - loss: 0.1485 - acc: 0.9491 - val_loss: 0.0819 - val_acc: 0.9754\n",
            "Epoch 70/250\n",
            "27/26 [==============================] - 1s 46ms/step - loss: 0.1152 - acc: 0.9590 - val_loss: 0.1519 - val_acc: 0.9614\n",
            "Epoch 71/250\n",
            "27/26 [==============================] - 1s 46ms/step - loss: 0.2188 - acc: 0.9424 - val_loss: 0.4167 - val_acc: 0.8807\n",
            "Epoch 72/250\n",
            "25/26 [===========================>..] - ETA: 0s - loss: 0.1753 - acc: 0.9445"
          ],
          "name": "stdout"
        },
        {
          "output_type": "stream",
          "text": [
            "\b\b\b\b\b\b\b\b\b\b\b\b\b\b\b\b\b\b\b\b\b\b\b\b\b\b\b\b\b\b\b\b\b\b\b\b\b\b\b\b\b\b\b\b\b\b\b\b\b\b\b\b\b\b\b\b\b\b\b\b\b\b\b\b\b\b\b\b\b\b\b\b\b\b\b\b\b\r27/26 [==============================] - 1s 46ms/step - loss: 0.1899 - acc: 0.9440 - val_loss: 0.1134 - val_acc: 0.9684\n",
            "Epoch 73/250\n",
            "27/26 [==============================] - 1s 46ms/step - loss: 0.1129 - acc: 0.9695 - val_loss: 0.1375 - val_acc: 0.9719\n",
            "Epoch 74/250\n",
            "27/26 [==============================] - 1s 47ms/step - loss: 0.1219 - acc: 0.9671 - val_loss: 0.3370 - val_acc: 0.9439\n",
            "Epoch 75/250\n",
            "27/26 [==============================] - 1s 46ms/step - loss: 0.1129 - acc: 0.9722 - val_loss: 0.2429 - val_acc: 0.9439\n",
            "Epoch 76/250\n",
            "27/26 [==============================] - 1s 47ms/step - loss: 0.1120 - acc: 0.9595 - val_loss: 0.1497 - val_acc: 0.9579\n",
            "Epoch 77/250\n",
            "27/26 [==============================] - 1s 46ms/step - loss: 0.1136 - acc: 0.9625 - val_loss: 0.0984 - val_acc: 0.9684\n",
            "Epoch 78/250\n",
            "27/26 [==============================] - 1s 46ms/step - loss: 0.1335 - acc: 0.9517 - val_loss: 0.0713 - val_acc: 0.9825\n",
            "Epoch 79/250\n",
            "27/26 [==============================] - 1s 46ms/step - loss: 0.1691 - acc: 0.9525 - val_loss: 0.1783 - val_acc: 0.9649\n",
            "Epoch 80/250\n",
            "27/26 [==============================] - 1s 45ms/step - loss: 0.1900 - acc: 0.9305 - val_loss: 0.0698 - val_acc: 0.9825\n",
            "Epoch 81/250\n",
            "13/26 [=============>................] - ETA: 0s - loss: 0.1194 - acc: 0.9591"
          ],
          "name": "stdout"
        },
        {
          "output_type": "stream",
          "text": [
            "27/26 [==============================] - 1s 46ms/step - loss: 0.1532 - acc: 0.9563 - val_loss: 0.3111 - val_acc: 0.9333\n",
            "Epoch 82/250\n",
            "27/26 [==============================] - 1s 46ms/step - loss: 0.1310 - acc: 0.9655 - val_loss: 0.1103 - val_acc: 0.9754\n",
            "Epoch 83/250\n",
            "27/26 [==============================] - 1s 47ms/step - loss: 0.2053 - acc: 0.9467 - val_loss: 0.1003 - val_acc: 0.9789\n",
            "Epoch 84/250\n",
            "27/26 [==============================] - 1s 47ms/step - loss: 0.1297 - acc: 0.9572 - val_loss: 0.0558 - val_acc: 0.9825\n",
            "Epoch 85/250\n",
            "27/26 [==============================] - 1s 46ms/step - loss: 0.1558 - acc: 0.9444 - val_loss: 0.1181 - val_acc: 0.9684\n",
            "Epoch 86/250\n",
            "27/26 [==============================] - 1s 46ms/step - loss: 0.1963 - acc: 0.9447 - val_loss: 0.0618 - val_acc: 0.9719\n",
            "Epoch 87/250\n",
            "27/26 [==============================] - 1s 46ms/step - loss: 0.1050 - acc: 0.9618 - val_loss: 0.1114 - val_acc: 0.9825\n",
            "Epoch 88/250\n",
            "27/26 [==============================] - 1s 46ms/step - loss: 0.0928 - acc: 0.9690 - val_loss: 0.1076 - val_acc: 0.9789\n",
            "Epoch 89/250\n",
            "27/26 [==============================] - 1s 47ms/step - loss: 0.1331 - acc: 0.9660 - val_loss: 0.1429 - val_acc: 0.9649\n",
            "Epoch 90/250\n",
            "20/26 [=====================>........] - ETA: 0s - loss: 0.1999 - acc: 0.9484"
          ],
          "name": "stdout"
        },
        {
          "output_type": "stream",
          "text": [
            "27/26 [==============================] - 1s 46ms/step - loss: 0.1740 - acc: 0.9521 - val_loss: 0.0797 - val_acc: 0.9719\n",
            "Epoch 91/250\n",
            "27/26 [==============================] - 1s 46ms/step - loss: 0.1003 - acc: 0.9641 - val_loss: 0.1083 - val_acc: 0.9825\n",
            "Epoch 92/250\n",
            "27/26 [==============================] - 1s 47ms/step - loss: 0.0932 - acc: 0.9734 - val_loss: 0.0506 - val_acc: 0.9860\n",
            "Epoch 93/250\n",
            "27/26 [==============================] - 1s 48ms/step - loss: 0.0975 - acc: 0.9690 - val_loss: 0.0848 - val_acc: 0.9825\n",
            "Epoch 94/250\n",
            "27/26 [==============================] - 1s 45ms/step - loss: 0.0882 - acc: 0.9815 - val_loss: 0.1066 - val_acc: 0.9825\n",
            "Epoch 95/250\n",
            "27/26 [==============================] - 1s 46ms/step - loss: 0.1040 - acc: 0.9653 - val_loss: 0.2093 - val_acc: 0.9754\n",
            "Epoch 96/250\n",
            "27/26 [==============================] - 1s 46ms/step - loss: 0.1566 - acc: 0.9498 - val_loss: 0.0838 - val_acc: 0.9754\n",
            "Epoch 97/250\n",
            "27/26 [==============================] - 1s 45ms/step - loss: 0.1772 - acc: 0.9532 - val_loss: 0.2048 - val_acc: 0.9368\n",
            "Epoch 98/250\n",
            "27/26 [==============================] - 1s 47ms/step - loss: 0.0751 - acc: 0.9776 - val_loss: 0.1167 - val_acc: 0.9754\n",
            "Epoch 99/250\n",
            "16/26 [================>.............] - ETA: 0s - loss: 0.0782 - acc: 0.9785"
          ],
          "name": "stdout"
        },
        {
          "output_type": "stream",
          "text": [
            "27/26 [==============================] - 1s 46ms/step - loss: 0.1066 - acc: 0.9725 - val_loss: 0.2668 - val_acc: 0.9474\n",
            "Epoch 100/250\n",
            "27/26 [==============================] - 1s 47ms/step - loss: 0.1516 - acc: 0.9632 - val_loss: 0.0634 - val_acc: 0.9825\n",
            "Epoch 101/250\n",
            "27/26 [==============================] - 1s 46ms/step - loss: 0.0882 - acc: 0.9745 - val_loss: 0.3942 - val_acc: 0.9579\n",
            "Epoch 102/250\n",
            "27/26 [==============================] - 1s 46ms/step - loss: 0.0778 - acc: 0.9745 - val_loss: 0.0998 - val_acc: 0.9789\n",
            "Epoch 103/250\n",
            "27/26 [==============================] - 1s 46ms/step - loss: 0.1094 - acc: 0.9687 - val_loss: 0.0465 - val_acc: 0.9895\n",
            "Epoch 104/250\n",
            "27/26 [==============================] - 1s 47ms/step - loss: 0.0894 - acc: 0.9799 - val_loss: 0.1387 - val_acc: 0.9684\n",
            "Epoch 105/250\n",
            "27/26 [==============================] - 1s 46ms/step - loss: 0.0398 - acc: 0.9815 - val_loss: 0.0605 - val_acc: 0.9825\n",
            "Epoch 106/250\n",
            "27/26 [==============================] - 1s 46ms/step - loss: 0.0953 - acc: 0.9792 - val_loss: 0.1358 - val_acc: 0.9825\n",
            "Epoch 107/250\n",
            "27/26 [==============================] - 1s 46ms/step - loss: 0.0532 - acc: 0.9826 - val_loss: 0.1729 - val_acc: 0.9649\n",
            "Epoch 108/250\n",
            "23/26 [========================>.....] - ETA: 0s - loss: 0.0874 - acc: 0.9677"
          ],
          "name": "stdout"
        },
        {
          "output_type": "stream",
          "text": [
            "27/26 [==============================] - 1s 46ms/step - loss: 0.0851 - acc: 0.9667 - val_loss: 0.1170 - val_acc: 0.9719\n",
            "Epoch 109/250\n",
            "27/26 [==============================] - 1s 45ms/step - loss: 0.1334 - acc: 0.9614 - val_loss: 0.2446 - val_acc: 0.9719\n",
            "Epoch 110/250\n",
            "27/26 [==============================] - 1s 47ms/step - loss: 0.2068 - acc: 0.9424 - val_loss: 0.0429 - val_acc: 0.9789\n",
            "Epoch 111/250\n",
            "27/26 [==============================] - 1s 47ms/step - loss: 0.1683 - acc: 0.9482 - val_loss: 0.2031 - val_acc: 0.9684\n",
            "Epoch 112/250\n",
            "27/26 [==============================] - 1s 48ms/step - loss: 0.1864 - acc: 0.9456 - val_loss: 0.2193 - val_acc: 0.9544\n",
            "Epoch 113/250\n",
            "27/26 [==============================] - 1s 46ms/step - loss: 0.1546 - acc: 0.9548 - val_loss: 0.1024 - val_acc: 0.9789\n",
            "Epoch 114/250\n",
            "27/26 [==============================] - 1s 46ms/step - loss: 0.0906 - acc: 0.9695 - val_loss: 0.1744 - val_acc: 0.9754\n",
            "Epoch 115/250\n",
            "27/26 [==============================] - 1s 45ms/step - loss: 0.1125 - acc: 0.9653 - val_loss: 0.1628 - val_acc: 0.9614\n",
            "Epoch 116/250\n",
            "27/26 [==============================] - 1s 46ms/step - loss: 0.1127 - acc: 0.9734 - val_loss: 0.1662 - val_acc: 0.9825\n",
            "Epoch 117/250\n",
            "22/26 [=======================>......] - ETA: 0s - loss: 0.1319 - acc: 0.9688"
          ],
          "name": "stdout"
        },
        {
          "output_type": "stream",
          "text": [
            "27/26 [==============================] - 1s 46ms/step - loss: 0.1281 - acc: 0.9695 - val_loss: 0.0837 - val_acc: 0.9754\n",
            "Epoch 118/250\n",
            "27/26 [==============================] - 1s 46ms/step - loss: 0.1017 - acc: 0.9729 - val_loss: 0.0895 - val_acc: 0.9719\n",
            "Epoch 119/250\n",
            "27/26 [==============================] - 1s 46ms/step - loss: 0.1023 - acc: 0.9655 - val_loss: 0.1246 - val_acc: 0.9684\n",
            "Epoch 120/250\n",
            "27/26 [==============================] - 1s 46ms/step - loss: 0.1092 - acc: 0.9702 - val_loss: 0.0792 - val_acc: 0.9825\n",
            "Epoch 121/250\n",
            "27/26 [==============================] - 1s 46ms/step - loss: 0.0879 - acc: 0.9695 - val_loss: 0.0378 - val_acc: 0.9789\n",
            "Epoch 122/250\n",
            "27/26 [==============================] - 1s 45ms/step - loss: 0.0630 - acc: 0.9792 - val_loss: 0.0072 - val_acc: 0.9965\n",
            "Epoch 123/250\n",
            "27/26 [==============================] - 1s 46ms/step - loss: 0.0623 - acc: 0.9806 - val_loss: 0.0712 - val_acc: 0.9789\n",
            "Epoch 124/250\n",
            "27/26 [==============================] - 1s 46ms/step - loss: 0.0395 - acc: 0.9845 - val_loss: 0.0320 - val_acc: 0.9930\n",
            "Epoch 125/250\n",
            "27/26 [==============================] - 1s 46ms/step - loss: 0.1246 - acc: 0.9722 - val_loss: 0.1514 - val_acc: 0.9579\n",
            "Epoch 126/250\n",
            "23/26 [========================>.....] - ETA: 0s - loss: 0.1764 - acc: 0.9536"
          ],
          "name": "stdout"
        },
        {
          "output_type": "stream",
          "text": [
            "27/26 [==============================] - 1s 46ms/step - loss: 0.1623 - acc: 0.9582 - val_loss: 0.1093 - val_acc: 0.9684\n",
            "Epoch 127/250\n",
            "27/26 [==============================] - 1s 46ms/step - loss: 0.1580 - acc: 0.9579 - val_loss: 0.1058 - val_acc: 0.9614\n",
            "Epoch 128/250\n",
            "27/26 [==============================] - 1s 47ms/step - loss: 0.1150 - acc: 0.9609 - val_loss: 0.0328 - val_acc: 0.9860\n",
            "Epoch 129/250\n",
            "27/26 [==============================] - 1s 46ms/step - loss: 0.0763 - acc: 0.9799 - val_loss: 0.0772 - val_acc: 0.9754\n",
            "Epoch 130/250\n",
            "27/26 [==============================] - 1s 47ms/step - loss: 0.0982 - acc: 0.9752 - val_loss: 0.0881 - val_acc: 0.9825\n",
            "Epoch 131/250\n",
            "27/26 [==============================] - 1s 46ms/step - loss: 0.0678 - acc: 0.9780 - val_loss: 0.1629 - val_acc: 0.9649\n",
            "Epoch 132/250\n",
            "27/26 [==============================] - 1s 47ms/step - loss: 0.0713 - acc: 0.9787 - val_loss: 0.0537 - val_acc: 0.9789\n",
            "Epoch 133/250\n",
            "27/26 [==============================] - 1s 45ms/step - loss: 0.0516 - acc: 0.9826 - val_loss: 0.0650 - val_acc: 0.9825\n",
            "Epoch 134/250\n",
            "27/26 [==============================] - 1s 46ms/step - loss: 0.0423 - acc: 0.9903 - val_loss: 0.0940 - val_acc: 0.9789\n",
            "Epoch 135/250\n",
            "23/26 [========================>.....] - ETA: 0s - loss: 0.0507 - acc: 0.9878"
          ],
          "name": "stdout"
        },
        {
          "output_type": "stream",
          "text": [
            "27/26 [==============================] - 1s 46ms/step - loss: 0.0562 - acc: 0.9861 - val_loss: 0.0882 - val_acc: 0.9754\n",
            "Epoch 136/250\n",
            "27/26 [==============================] - 1s 48ms/step - loss: 0.1282 - acc: 0.9706 - val_loss: 0.1573 - val_acc: 0.9579\n",
            "Epoch 137/250\n",
            "27/26 [==============================] - 1s 47ms/step - loss: 0.2214 - acc: 0.9421 - val_loss: 0.1122 - val_acc: 0.9579\n",
            "Epoch 138/250\n",
            "27/26 [==============================] - 1s 46ms/step - loss: 0.1611 - acc: 0.9491 - val_loss: 0.0743 - val_acc: 0.9825\n",
            "Epoch 139/250\n",
            "27/26 [==============================] - 1s 45ms/step - loss: 0.0894 - acc: 0.9768 - val_loss: 0.1175 - val_acc: 0.9789\n",
            "Epoch 140/250\n",
            "27/26 [==============================] - 1s 46ms/step - loss: 0.1296 - acc: 0.9602 - val_loss: 0.1091 - val_acc: 0.9544\n",
            "Epoch 141/250\n",
            "27/26 [==============================] - 1s 46ms/step - loss: 0.1100 - acc: 0.9734 - val_loss: 0.0400 - val_acc: 0.9930\n",
            "Epoch 142/250\n",
            "27/26 [==============================] - 1s 45ms/step - loss: 0.0546 - acc: 0.9815 - val_loss: 0.0619 - val_acc: 0.9825\n",
            "Epoch 143/250\n",
            "27/26 [==============================] - 1s 45ms/step - loss: 0.0525 - acc: 0.9826 - val_loss: 0.0217 - val_acc: 0.9895\n",
            "Epoch 144/250\n",
            "23/26 [========================>.....] - ETA: 0s - loss: 0.0869 - acc: 0.9772"
          ],
          "name": "stdout"
        },
        {
          "output_type": "stream",
          "text": [
            "27/26 [==============================] - 1s 46ms/step - loss: 0.1017 - acc: 0.9748 - val_loss: 0.0276 - val_acc: 0.9895\n",
            "Epoch 145/250\n",
            "27/26 [==============================] - 1s 46ms/step - loss: 0.1194 - acc: 0.9602 - val_loss: 0.0500 - val_acc: 0.9895\n",
            "Epoch 146/250\n",
            "27/26 [==============================] - 1s 46ms/step - loss: 0.0572 - acc: 0.9873 - val_loss: 0.0964 - val_acc: 0.9719\n",
            "Epoch 147/250\n",
            "27/26 [==============================] - 1s 47ms/step - loss: 0.0908 - acc: 0.9764 - val_loss: 0.0359 - val_acc: 0.9860\n",
            "Epoch 148/250\n",
            "27/26 [==============================] - 1s 46ms/step - loss: 0.0836 - acc: 0.9780 - val_loss: 0.0692 - val_acc: 0.9860\n",
            "Epoch 149/250\n",
            "27/26 [==============================] - 1s 45ms/step - loss: 0.0450 - acc: 0.9861 - val_loss: 0.0302 - val_acc: 0.9895\n",
            "Epoch 150/250\n",
            "27/26 [==============================] - 1s 47ms/step - loss: 0.0361 - acc: 0.9896 - val_loss: 0.1132 - val_acc: 0.9754\n",
            "Epoch 151/250\n",
            "27/26 [==============================] - 1s 46ms/step - loss: 0.0568 - acc: 0.9826 - val_loss: 0.1211 - val_acc: 0.9895\n",
            "Epoch 152/250\n",
            "27/26 [==============================] - 1s 46ms/step - loss: 0.0758 - acc: 0.9787 - val_loss: 0.0977 - val_acc: 0.9825\n",
            "Epoch 153/250\n",
            "24/26 [=========================>....] - ETA: 0s - loss: 0.0756 - acc: 0.9727"
          ],
          "name": "stdout"
        },
        {
          "output_type": "stream",
          "text": [
            "27/26 [==============================] - 1s 47ms/step - loss: 0.0718 - acc: 0.9729 - val_loss: 0.0978 - val_acc: 0.9719\n",
            "Epoch 154/250\n",
            "27/26 [==============================] - 1s 47ms/step - loss: 0.0344 - acc: 0.9873 - val_loss: 0.1618 - val_acc: 0.9754\n",
            "Epoch 155/250\n",
            "27/26 [==============================] - 1s 46ms/step - loss: 0.0441 - acc: 0.9884 - val_loss: 0.2037 - val_acc: 0.9754\n",
            "Epoch 156/250\n",
            "27/26 [==============================] - 1s 47ms/step - loss: 0.0725 - acc: 0.9845 - val_loss: 0.1357 - val_acc: 0.9684\n",
            "Epoch 157/250\n",
            "27/26 [==============================] - 1s 46ms/step - loss: 0.1236 - acc: 0.9690 - val_loss: 0.1379 - val_acc: 0.9754\n",
            "Epoch 158/250\n",
            "27/26 [==============================] - 1s 47ms/step - loss: 0.1286 - acc: 0.9674 - val_loss: 0.0622 - val_acc: 0.9789\n",
            "Epoch 159/250\n",
            "27/26 [==============================] - 1s 47ms/step - loss: 0.1811 - acc: 0.9433 - val_loss: 0.1640 - val_acc: 0.9649\n",
            "Epoch 160/250\n",
            "27/26 [==============================] - 1s 46ms/step - loss: 0.2088 - acc: 0.9556 - val_loss: 0.1726 - val_acc: 0.9789\n",
            "Epoch 161/250\n",
            "27/26 [==============================] - 1s 46ms/step - loss: 0.1772 - acc: 0.9548 - val_loss: 0.0993 - val_acc: 0.9789\n",
            "Epoch 162/250\n",
            "19/26 [====================>.........] - ETA: 0s - loss: 0.0900 - acc: 0.9714"
          ],
          "name": "stdout"
        },
        {
          "output_type": "stream",
          "text": [
            "27/26 [==============================] - 1s 45ms/step - loss: 0.0898 - acc: 0.9706 - val_loss: 0.1656 - val_acc: 0.9754\n",
            "Epoch 163/250\n",
            "27/26 [==============================] - 1s 47ms/step - loss: 0.2946 - acc: 0.9405 - val_loss: 0.1436 - val_acc: 0.9754\n",
            "Epoch 164/250\n",
            "27/26 [==============================] - 1s 47ms/step - loss: 0.1311 - acc: 0.9664 - val_loss: 0.1621 - val_acc: 0.9754\n",
            "Epoch 165/250\n",
            "27/26 [==============================] - 1s 46ms/step - loss: 0.2016 - acc: 0.9491 - val_loss: 0.0861 - val_acc: 0.9719\n",
            "Epoch 166/250\n",
            "27/26 [==============================] - 1s 46ms/step - loss: 0.0757 - acc: 0.9706 - val_loss: 0.1602 - val_acc: 0.9719\n",
            "Epoch 167/250\n",
            "27/26 [==============================] - 1s 48ms/step - loss: 0.2093 - acc: 0.9644 - val_loss: 0.1544 - val_acc: 0.9719\n",
            "Epoch 168/250\n",
            "27/26 [==============================] - 1s 46ms/step - loss: 0.1383 - acc: 0.9572 - val_loss: 0.1068 - val_acc: 0.9754\n",
            "Epoch 169/250\n",
            "27/26 [==============================] - 1s 47ms/step - loss: 0.0909 - acc: 0.9741 - val_loss: 0.1597 - val_acc: 0.9684\n",
            "Epoch 170/250\n",
            "27/26 [==============================] - 1s 46ms/step - loss: 0.0741 - acc: 0.9718 - val_loss: 0.3660 - val_acc: 0.9544\n",
            "Epoch 171/250\n",
            "19/26 [====================>.........] - ETA: 0s - loss: 0.1695 - acc: 0.9605"
          ],
          "name": "stdout"
        },
        {
          "output_type": "stream",
          "text": [
            "27/26 [==============================] - 1s 46ms/step - loss: 0.1343 - acc: 0.9664 - val_loss: 0.2711 - val_acc: 0.9684\n",
            "Epoch 172/250\n",
            "27/26 [==============================] - 1s 46ms/step - loss: 0.1169 - acc: 0.9725 - val_loss: 0.1981 - val_acc: 0.9649\n",
            "Epoch 173/250\n",
            "27/26 [==============================] - 1s 47ms/step - loss: 0.0692 - acc: 0.9729 - val_loss: 0.2350 - val_acc: 0.9649\n",
            "Epoch 174/250\n",
            "27/26 [==============================] - 1s 46ms/step - loss: 0.0625 - acc: 0.9787 - val_loss: 0.0744 - val_acc: 0.9825\n",
            "Epoch 175/250\n",
            "27/26 [==============================] - 1s 47ms/step - loss: 0.0620 - acc: 0.9845 - val_loss: 0.1474 - val_acc: 0.9825\n",
            "Epoch 176/250\n",
            "27/26 [==============================] - 1s 46ms/step - loss: 0.0414 - acc: 0.9873 - val_loss: 0.1655 - val_acc: 0.9719\n",
            "Epoch 177/250\n",
            "27/26 [==============================] - 1s 45ms/step - loss: 0.0780 - acc: 0.9873 - val_loss: 0.3275 - val_acc: 0.9544\n",
            "Epoch 178/250\n",
            "27/26 [==============================] - 1s 45ms/step - loss: 0.0984 - acc: 0.9768 - val_loss: 0.0284 - val_acc: 0.9895\n",
            "Epoch 179/250\n",
            "27/26 [==============================] - 1s 45ms/step - loss: 0.0933 - acc: 0.9780 - val_loss: 0.0766 - val_acc: 0.9789\n",
            "Epoch 180/250\n",
            "22/26 [=======================>......] - ETA: 0s - loss: 0.0945 - acc: 0.9716"
          ],
          "name": "stdout"
        },
        {
          "output_type": "stream",
          "text": [
            "27/26 [==============================] - 1s 47ms/step - loss: 0.0922 - acc: 0.9734 - val_loss: 0.1445 - val_acc: 0.9789\n",
            "Epoch 181/250\n",
            "27/26 [==============================] - 1s 46ms/step - loss: 0.0833 - acc: 0.9768 - val_loss: 0.1597 - val_acc: 0.9719\n",
            "Epoch 182/250\n",
            "27/26 [==============================] - 1s 45ms/step - loss: 0.0650 - acc: 0.9826 - val_loss: 0.1513 - val_acc: 0.9754\n",
            "Epoch 183/250\n",
            "27/26 [==============================] - 1s 46ms/step - loss: 0.0661 - acc: 0.9834 - val_loss: 0.2705 - val_acc: 0.9649\n",
            "Epoch 184/250\n",
            "27/26 [==============================] - 1s 47ms/step - loss: 0.0510 - acc: 0.9884 - val_loss: 0.1651 - val_acc: 0.9754\n",
            "Epoch 185/250\n",
            "27/26 [==============================] - 1s 47ms/step - loss: 0.1786 - acc: 0.9641 - val_loss: 0.1773 - val_acc: 0.9719\n",
            "Epoch 186/250\n",
            "27/26 [==============================] - 1s 46ms/step - loss: 0.0997 - acc: 0.9780 - val_loss: 0.1019 - val_acc: 0.9860\n",
            "Epoch 187/250\n",
            "27/26 [==============================] - 1s 47ms/step - loss: 0.0528 - acc: 0.9834 - val_loss: 0.0852 - val_acc: 0.9754\n",
            "Epoch 188/250\n",
            "27/26 [==============================] - 1s 47ms/step - loss: 0.1947 - acc: 0.9586 - val_loss: 0.1361 - val_acc: 0.9614\n",
            "Epoch 189/250\n",
            "21/26 [======================>.......] - ETA: 0s - loss: 0.2146 - acc: 0.9348"
          ],
          "name": "stdout"
        },
        {
          "output_type": "stream",
          "text": [
            "27/26 [==============================] - 1s 47ms/step - loss: 0.2056 - acc: 0.9412 - val_loss: 0.2113 - val_acc: 0.9614\n",
            "Epoch 190/250\n",
            "27/26 [==============================] - 1s 47ms/step - loss: 0.2401 - acc: 0.9498 - val_loss: 0.0829 - val_acc: 0.9719\n",
            "Epoch 191/250\n",
            "27/26 [==============================] - 1s 47ms/step - loss: 0.1640 - acc: 0.9595 - val_loss: 0.2107 - val_acc: 0.9649\n",
            "Epoch 192/250\n",
            "27/26 [==============================] - 1s 46ms/step - loss: 0.0836 - acc: 0.9722 - val_loss: 0.0641 - val_acc: 0.9825\n",
            "Epoch 193/250\n",
            "27/26 [==============================] - 1s 46ms/step - loss: 0.1040 - acc: 0.9745 - val_loss: 0.0658 - val_acc: 0.9895\n",
            "Epoch 194/250\n",
            "27/26 [==============================] - 1s 46ms/step - loss: 0.0649 - acc: 0.9803 - val_loss: 0.1267 - val_acc: 0.9789\n",
            "Epoch 195/250\n",
            "27/26 [==============================] - 1s 47ms/step - loss: 0.0867 - acc: 0.9815 - val_loss: 0.0824 - val_acc: 0.9860\n",
            "Epoch 196/250\n",
            "27/26 [==============================] - 1s 46ms/step - loss: 0.1822 - acc: 0.9671 - val_loss: 0.0990 - val_acc: 0.9719\n",
            "Epoch 197/250\n",
            "27/26 [==============================] - 1s 46ms/step - loss: 0.0759 - acc: 0.9799 - val_loss: 0.0626 - val_acc: 0.9965\n",
            "Epoch 198/250\n",
            "22/26 [=======================>......] - ETA: 0s - loss: 0.0576 - acc: 0.9762"
          ],
          "name": "stdout"
        },
        {
          "output_type": "stream",
          "text": [
            "27/26 [==============================] - 1s 46ms/step - loss: 0.0536 - acc: 0.9771 - val_loss: 0.1330 - val_acc: 0.9860\n",
            "Epoch 199/250\n",
            "27/26 [==============================] - 1s 47ms/step - loss: 0.1203 - acc: 0.9799 - val_loss: 0.0919 - val_acc: 0.9860\n",
            "Epoch 200/250\n",
            "27/26 [==============================] - 1s 46ms/step - loss: 0.1254 - acc: 0.9683 - val_loss: 0.0503 - val_acc: 0.9860\n",
            "Epoch 201/250\n",
            "27/26 [==============================] - 1s 47ms/step - loss: 0.0685 - acc: 0.9787 - val_loss: 0.0446 - val_acc: 0.9825\n",
            "Epoch 202/250\n",
            "27/26 [==============================] - 1s 47ms/step - loss: 0.0440 - acc: 0.9849 - val_loss: 0.0940 - val_acc: 0.9860\n",
            "Epoch 203/250\n",
            "27/26 [==============================] - 1s 47ms/step - loss: 0.0591 - acc: 0.9826 - val_loss: 0.0678 - val_acc: 0.9930\n",
            "Epoch 204/250\n",
            "27/26 [==============================] - 1s 48ms/step - loss: 0.0420 - acc: 0.9926 - val_loss: 0.0371 - val_acc: 0.9895\n",
            "Epoch 205/250\n",
            "27/26 [==============================] - 1s 45ms/step - loss: 0.0560 - acc: 0.9861 - val_loss: 0.0270 - val_acc: 0.9895\n",
            "Epoch 206/250\n",
            "27/26 [==============================] - 1s 47ms/step - loss: 0.0770 - acc: 0.9792 - val_loss: 0.1163 - val_acc: 0.9825\n",
            "Epoch 207/250\n",
            "17/26 [==================>...........] - ETA: 0s - loss: 0.0657 - acc: 0.9761"
          ],
          "name": "stdout"
        },
        {
          "output_type": "stream",
          "text": [
            "27/26 [==============================] - 1s 46ms/step - loss: 0.0566 - acc: 0.9803 - val_loss: 0.1480 - val_acc: 0.9719\n",
            "Epoch 208/250\n",
            "27/26 [==============================] - 1s 47ms/step - loss: 0.0727 - acc: 0.9838 - val_loss: 0.0804 - val_acc: 0.9860\n",
            "Epoch 209/250\n",
            "27/26 [==============================] - 1s 46ms/step - loss: 0.0564 - acc: 0.9803 - val_loss: 0.1038 - val_acc: 0.9789\n",
            "Epoch 210/250\n",
            "27/26 [==============================] - 1s 45ms/step - loss: 0.0371 - acc: 0.9907 - val_loss: 0.0745 - val_acc: 0.9860\n",
            "Epoch 211/250\n",
            "27/26 [==============================] - 1s 46ms/step - loss: 0.0453 - acc: 0.9861 - val_loss: 0.1203 - val_acc: 0.9754\n",
            "Epoch 212/250\n",
            "27/26 [==============================] - 1s 48ms/step - loss: 0.0481 - acc: 0.9873 - val_loss: 0.1121 - val_acc: 0.9825\n",
            "Epoch 213/250\n",
            "27/26 [==============================] - 1s 47ms/step - loss: 0.0207 - acc: 0.9907 - val_loss: 0.1234 - val_acc: 0.9789\n",
            "Epoch 214/250\n",
            "27/26 [==============================] - 1s 46ms/step - loss: 0.1482 - acc: 0.9792 - val_loss: 0.1903 - val_acc: 0.9649\n",
            "Epoch 215/250\n",
            "27/26 [==============================] - 1s 44ms/step - loss: 0.0872 - acc: 0.9752 - val_loss: 0.0557 - val_acc: 0.9860\n",
            "Epoch 216/250\n",
            "20/26 [=====================>........] - ETA: 0s - loss: 0.0303 - acc: 0.9922"
          ],
          "name": "stdout"
        },
        {
          "output_type": "stream",
          "text": [
            "27/26 [==============================] - 1s 47ms/step - loss: 0.0291 - acc: 0.9919 - val_loss: 0.0927 - val_acc: 0.9860\n",
            "Epoch 217/250\n",
            "27/26 [==============================] - 1s 46ms/step - loss: 0.0422 - acc: 0.9884 - val_loss: 0.1279 - val_acc: 0.9754\n",
            "Epoch 218/250\n",
            "27/26 [==============================] - 1s 47ms/step - loss: 0.0250 - acc: 0.9926 - val_loss: 0.1489 - val_acc: 0.9789\n",
            "Epoch 219/250\n",
            "27/26 [==============================] - 1s 46ms/step - loss: 0.0386 - acc: 0.9891 - val_loss: 0.1018 - val_acc: 0.9860\n",
            "Epoch 220/250\n",
            "27/26 [==============================] - 1s 46ms/step - loss: 0.0321 - acc: 0.9884 - val_loss: 0.0968 - val_acc: 0.9825\n",
            "Epoch 221/250\n",
            "27/26 [==============================] - 1s 46ms/step - loss: 0.0371 - acc: 0.9919 - val_loss: 0.0730 - val_acc: 0.9825\n",
            "Epoch 222/250\n",
            "27/26 [==============================] - 1s 46ms/step - loss: 0.0380 - acc: 0.9903 - val_loss: 0.1189 - val_acc: 0.9754\n",
            "Epoch 223/250\n",
            "27/26 [==============================] - 1s 46ms/step - loss: 0.0491 - acc: 0.9896 - val_loss: 0.0460 - val_acc: 0.9860\n",
            "Epoch 224/250\n",
            "27/26 [==============================] - 1s 46ms/step - loss: 0.0170 - acc: 0.9931 - val_loss: 0.1603 - val_acc: 0.9789\n",
            "Epoch 225/250\n",
            "23/26 [========================>.....] - ETA: 0s - loss: 0.0379 - acc: 0.9905"
          ],
          "name": "stdout"
        },
        {
          "output_type": "stream",
          "text": [
            "27/26 [==============================] - 1s 45ms/step - loss: 0.0351 - acc: 0.9919 - val_loss: 0.0868 - val_acc: 0.9860\n",
            "Epoch 226/250\n",
            "27/26 [==============================] - 1s 46ms/step - loss: 0.0562 - acc: 0.9873 - val_loss: 0.1397 - val_acc: 0.9754\n",
            "Epoch 227/250\n",
            "27/26 [==============================] - 1s 46ms/step - loss: 0.1173 - acc: 0.9702 - val_loss: 0.2966 - val_acc: 0.9684\n",
            "Epoch 228/250\n",
            "27/26 [==============================] - 1s 45ms/step - loss: 0.1333 - acc: 0.9699 - val_loss: 0.2853 - val_acc: 0.9509\n",
            "Epoch 229/250\n",
            "27/26 [==============================] - 1s 46ms/step - loss: 0.2222 - acc: 0.9508 - val_loss: 0.1005 - val_acc: 0.9860\n",
            "Epoch 230/250\n",
            "27/26 [==============================] - 1s 47ms/step - loss: 0.1945 - acc: 0.9551 - val_loss: 0.1767 - val_acc: 0.9649\n",
            "Epoch 231/250\n",
            "27/26 [==============================] - 1s 46ms/step - loss: 0.0990 - acc: 0.9722 - val_loss: 0.1223 - val_acc: 0.9719\n",
            "Epoch 232/250\n",
            "27/26 [==============================] - 1s 48ms/step - loss: 0.0498 - acc: 0.9780 - val_loss: 0.3371 - val_acc: 0.9614\n",
            "Epoch 233/250\n",
            "27/26 [==============================] - 1s 45ms/step - loss: 0.0422 - acc: 0.9884 - val_loss: 0.1704 - val_acc: 0.9789\n",
            "Epoch 234/250\n",
            "21/26 [======================>.......] - ETA: 0s - loss: 0.0691 - acc: 0.9926"
          ],
          "name": "stdout"
        },
        {
          "output_type": "stream",
          "text": [
            "27/26 [==============================] - 1s 45ms/step - loss: 0.0603 - acc: 0.9919 - val_loss: 0.0901 - val_acc: 0.9825\n",
            "Epoch 235/250\n",
            "27/26 [==============================] - 1s 45ms/step - loss: 0.0478 - acc: 0.9861 - val_loss: 0.0962 - val_acc: 0.9825\n",
            "Epoch 236/250\n",
            "27/26 [==============================] - 1s 45ms/step - loss: 0.1751 - acc: 0.9687 - val_loss: 0.1321 - val_acc: 0.9825\n",
            "Epoch 237/250\n",
            "27/26 [==============================] - 1s 46ms/step - loss: 0.1212 - acc: 0.9702 - val_loss: 0.1604 - val_acc: 0.9789\n",
            "Epoch 238/250\n",
            "27/26 [==============================] - 1s 46ms/step - loss: 0.0778 - acc: 0.9787 - val_loss: 0.1842 - val_acc: 0.9754\n",
            "Epoch 239/250\n",
            "27/26 [==============================] - 1s 46ms/step - loss: 0.0529 - acc: 0.9838 - val_loss: 0.1187 - val_acc: 0.9825\n",
            "Epoch 240/250\n",
            "27/26 [==============================] - 1s 45ms/step - loss: 0.0549 - acc: 0.9861 - val_loss: 0.1406 - val_acc: 0.9789\n",
            "Epoch 241/250\n",
            "27/26 [==============================] - 1s 46ms/step - loss: 0.2099 - acc: 0.9648 - val_loss: 0.5025 - val_acc: 0.8982\n",
            "Epoch 242/250\n",
            "27/26 [==============================] - 1s 47ms/step - loss: 0.1707 - acc: 0.9501 - val_loss: 0.0778 - val_acc: 0.9860\n",
            "Epoch 243/250\n",
            "21/26 [======================>.......] - ETA: 0s - loss: 0.1489 - acc: 0.9688"
          ],
          "name": "stdout"
        },
        {
          "output_type": "stream",
          "text": [
            "27/26 [==============================] - 1s 47ms/step - loss: 0.1416 - acc: 0.9679 - val_loss: 0.3678 - val_acc: 0.9579\n",
            "Epoch 244/250\n",
            "27/26 [==============================] - 1s 46ms/step - loss: 0.2597 - acc: 0.9451 - val_loss: 0.0534 - val_acc: 0.9825\n",
            "Epoch 245/250\n",
            "27/26 [==============================] - 1s 46ms/step - loss: 0.1296 - acc: 0.9625 - val_loss: 0.0613 - val_acc: 0.9860\n",
            "Epoch 246/250\n",
            "27/26 [==============================] - 1s 47ms/step - loss: 0.1330 - acc: 0.9745 - val_loss: 0.1074 - val_acc: 0.9825\n",
            "Epoch 247/250\n",
            "27/26 [==============================] - 1s 47ms/step - loss: 0.2415 - acc: 0.9551 - val_loss: 0.1391 - val_acc: 0.9789\n",
            "Epoch 248/250\n",
            "27/26 [==============================] - 1s 45ms/step - loss: 0.1532 - acc: 0.9679 - val_loss: 0.1379 - val_acc: 0.9825\n",
            "Epoch 249/250\n",
            "27/26 [==============================] - 1s 46ms/step - loss: 0.0928 - acc: 0.9768 - val_loss: 0.1511 - val_acc: 0.9719\n",
            "Epoch 250/250\n",
            "27/26 [==============================] - 1s 47ms/step - loss: 0.1160 - acc: 0.9767 - val_loss: 0.1687 - val_acc: 0.9649\n"
          ],
          "name": "stdout"
        }
      ]
    },
    {
      "metadata": {
        "id": "1CwnTKFrj5af",
        "colab_type": "code",
        "colab": {
          "autoexec": {
            "startup": false,
            "wait_interval": 0
          },
          "base_uri": "https://localhost:8080/",
          "height": 1044
        },
        "outputId": "e41aeffd-7604-476b-dc2d-0a69a7a67f13",
        "executionInfo": {
          "status": "ok",
          "timestamp": 1531520694601,
          "user_tz": -180,
          "elapsed": 1421,
          "user": {
            "displayName": "Ömer Yalçın",
            "photoUrl": "//lh6.googleusercontent.com/-KYS0k8F_jss/AAAAAAAAAAI/AAAAAAAABGM/XoQZ3tR-BuA/s50-c-k-no/photo.jpg",
            "userId": "107209192184149810541"
          }
        }
      },
      "cell_type": "code",
      "source": [
        "plt.figure(figsize=(20,18))\n",
        "plt.plot(aug_history.history[\"acc\"])\n",
        "plt.plot(aug_history.history[\"val_acc\"])"
      ],
      "execution_count": 0,
      "outputs": [
        {
          "output_type": "execute_result",
          "data": {
            "text/plain": [
              "[<matplotlib.lines.Line2D at 0x7f1efb459978>]"
            ]
          },
          "metadata": {
            "tags": []
          },
          "execution_count": 115
        },
        {
          "output_type": "display_data",
          "data": {
            "image/png": "[encoded data removed]",
            "text/plain": [
              "<matplotlib.figure.Figure at 0x7f1efb459710>"
            ]
          },
          "metadata": {
            "tags": []
          }
        }
      ]
    },
    {
      "metadata": {
        "id": "uqT1I9acpmOd",
        "colab_type": "code",
        "colab": {
          "autoexec": {
            "startup": false,
            "wait_interval": 0
          },
          "base_uri": "https://localhost:8080/",
          "height": 53
        },
        "outputId": "a7096a2a-8ceb-4c2b-db70-2f030927a279",
        "executionInfo": {
          "status": "ok",
          "timestamp": 1531520707927,
          "user_tz": -180,
          "elapsed": 1040,
          "user": {
            "displayName": "Ömer Yalçın",
            "photoUrl": "//lh6.googleusercontent.com/-KYS0k8F_jss/AAAAAAAAAAI/AAAAAAAABGM/XoQZ3tR-BuA/s50-c-k-no/photo.jpg",
            "userId": "107209192184149810541"
          }
        }
      },
      "cell_type": "code",
      "source": [
        "model.evaluate(x_ts/255,y_ts)"
      ],
      "execution_count": 0,
      "outputs": [
        {
          "output_type": "stream",
          "text": [
            "285/285 [==============================] - 0s 426us/step\n"
          ],
          "name": "stdout"
        },
        {
          "output_type": "execute_result",
          "data": {
            "text/plain": [
              "[0.1686965919377511, 0.9649122830022845]"
            ]
          },
          "metadata": {
            "tags": []
          },
          "execution_count": 116
        }
      ]
    },
    {
      "metadata": {
        "id": "CpEomwemnDlQ",
        "colab_type": "code",
        "colab": {
          "autoexec": {
            "startup": false,
            "wait_interval": 0
          },
          "base_uri": "https://localhost:8080/",
          "height": 89
        },
        "outputId": "60352d85-859a-4e9a-f71d-22d6bb54f9f3",
        "executionInfo": {
          "status": "ok",
          "timestamp": 1531520710311,
          "user_tz": -180,
          "elapsed": 1392,
          "user": {
            "displayName": "Ömer Yalçın",
            "photoUrl": "//lh6.googleusercontent.com/-KYS0k8F_jss/AAAAAAAAAAI/AAAAAAAABGM/XoQZ3tR-BuA/s50-c-k-no/photo.jpg",
            "userId": "107209192184149810541"
          }
        }
      },
      "cell_type": "code",
      "source": [
        "print(\"val accuracy average last 15 results :\",np.array(aug_history.history[\"val_acc\"][-15:]).mean())\n",
        "print(\"val standard deviation last 15 results :\",np.array(aug_history.history[\"val_acc\"][-15:]).std())\n",
        "print(\"train accuracy average last 15 results :\",np.array(aug_history.history[\"acc\"][-15:]).mean())\n",
        "print(\"train standard deviation last 15 results :\",np.array(aug_history.history[\"acc\"][-15:]).std())"
      ],
      "execution_count": 0,
      "outputs": [
        {
          "output_type": "stream",
          "text": [
            "val accuracy average last 15 results : 0.9726315776925337\n",
            "val standard deviation last 15 results : 0.02125439405742769\n",
            "train accuracy average last 15 results : 0.9688109163001731\n",
            "train standard deviation last 15 results : 0.011280471143743937\n"
          ],
          "name": "stdout"
        }
      ]
    },
    {
      "metadata": {
        "id": "4g9RUl4wotoE",
        "colab_type": "code",
        "colab": {
          "autoexec": {
            "startup": false,
            "wait_interval": 0
          },
          "base_uri": "https://localhost:8080/",
          "height": 35
        },
        "outputId": "7820d181-96ec-4879-fa79-4feae7dc143b",
        "executionInfo": {
          "status": "ok",
          "timestamp": 1531531284261,
          "user_tz": -180,
          "elapsed": 1790,
          "user": {
            "displayName": "Ömer Yalçın",
            "photoUrl": "//lh6.googleusercontent.com/-KYS0k8F_jss/AAAAAAAAAAI/AAAAAAAABGM/XoQZ3tR-BuA/s50-c-k-no/photo.jpg",
            "userId": "107209192184149810541"
          }
        }
      },
      "cell_type": "code",
      "source": [
        "!ls"
      ],
      "execution_count": 0,
      "outputs": [
        {
          "output_type": "stream",
          "text": [
            "datalab\r\n"
          ],
          "name": "stdout"
        }
      ]
    },
    {
      "metadata": {
        "id": "vzVcTU0yfzsD",
        "colab_type": "text"
      },
      "cell_type": "markdown",
      "source": [
        "## Advanced Models\n"
      ]
    },
    {
      "metadata": {
        "id": "fxli1PadGcwq",
        "colab_type": "text"
      },
      "cell_type": "markdown",
      "source": [
        "###  SimpleNet "
      ]
    },
    {
      "metadata": {
        "id": "LyLZ6qYcf71z",
        "colab_type": "text"
      },
      "cell_type": "markdown",
      "source": [
        "**Reference:**\n",
        "  - Lets keep it simple, Using simple architectures to outperform deeper and more complex architectures:https://arxiv.org/abs/1608.06037\n",
        "  - https://github.com/EricAlcaide/SimpleNet-Keras\n",
        "  - https://github.com/Coderx7/SimpleNet"
      ]
    },
    {
      "metadata": {
        "id": "3u0poRI6GcTL",
        "colab_type": "code",
        "colab": {
          "autoexec": {
            "startup": false,
            "wait_interval": 0
          }
        }
      },
      "cell_type": "code",
      "source": [
        "import keras \n",
        "import numpy as np\n",
        "import keras.backend as K\n",
        "from keras.utils import np_utils\n",
        "from keras.datasets import cifar10\n",
        "from keras.models import Sequential\n",
        "from keras.models import load_model \n",
        "from keras import regularizers,optimizers\n",
        "from keras.layers import Conv2D,MaxPooling2D\n",
        "from keras.initializers import glorot_normal,RandomNormal,Zeros\n",
        "from keras.preprocessing.image import ImageDataGenerator\n",
        "from keras.layers import Dense,Flatten,Activation,Dropout,BatchNormalization"
      ],
      "execution_count": 0,
      "outputs": []
    },
    {
      "metadata": {
        "id": "0OO-Xj6Eav-J",
        "colab_type": "code",
        "colab": {
          "autoexec": {
            "startup": false,
            "wait_interval": 0
          }
        }
      },
      "cell_type": "code",
      "source": [
        ""
      ],
      "execution_count": 0,
      "outputs": []
    },
    {
      "metadata": {
        "id": "LZpBtcmUo4CF",
        "colab_type": "code",
        "colab": {
          "autoexec": {
            "startup": false,
            "wait_interval": 0
          }
        }
      },
      "cell_type": "code",
      "source": [
        "def create_model(s = 2, weight_decay = 1e-2,act=\"relu\",num_classes=5):\n",
        "    model = Sequential()\n",
        "\n",
        "    # Block 1\n",
        "    model.add(Conv2D(64, (3,3), padding='same', kernel_initializer=glorot_normal(), input_shape=x_tr.shape[1:]))\n",
        "    model.add(BatchNormalization())\n",
        "    model.add(Activation(act))\n",
        "    model.add(Dropout(0.3))\n",
        "    \n",
        "    # Block 2\n",
        "    model.add(Conv2D(128, (3,3), padding='same', kernel_initializer=glorot_normal()))\n",
        "    model.add(BatchNormalization())\n",
        "    model.add(Activation(act))\n",
        "    model.add(Dropout(0.25))\n",
        "    \n",
        "    # Block 3\n",
        "    model.add(Conv2D(128, (3,3), padding='same', kernel_initializer=RandomNormal(stddev=0.01)))\n",
        "    model.add(BatchNormalization())\n",
        "    model.add(Activation(act))\n",
        "    model.add(Dropout(0.3))\n",
        "    \n",
        "    # Block 4\n",
        "    model.add(Conv2D(128, (3,3), padding='same', kernel_initializer=RandomNormal(stddev=0.01)))\n",
        "    model.add(BatchNormalization())\n",
        "    model.add(Activation(act))\n",
        "    # First Maxpooling\n",
        "    model.add(MaxPooling2D(pool_size=(2,2), strides=s))\n",
        "    model.add(Dropout(0.2))\n",
        "    \n",
        "    \n",
        "    # Block 5\n",
        "    model.add(Conv2D(128, (3,3), padding='same', kernel_initializer=RandomNormal(stddev=0.01)))\n",
        "    model.add(BatchNormalization())\n",
        "    model.add(Activation(act))\n",
        "    model.add(Dropout(0.3))\n",
        "    \n",
        "    # Block 6\n",
        "    model.add(Conv2D(128, (3,3), padding='same', kernel_initializer=glorot_normal()))\n",
        "    model.add(BatchNormalization())\n",
        "    model.add(Activation(act))\n",
        "    model.add(Dropout(0.25))\n",
        "    \n",
        "    # Block 7\n",
        "    model.add(Conv2D(256, (3,3), padding='same', kernel_initializer=glorot_normal()))\n",
        "    # Second Maxpooling\n",
        "    model.add(MaxPooling2D(pool_size=(2,2), strides=s))\n",
        "    model.add(BatchNormalization())\n",
        "    model.add(Activation(act))\n",
        "    model.add(Dropout(0.25))\n",
        "    \n",
        "    \n",
        "    # Block 8\n",
        "    model.add(Conv2D(256, (3,3), padding='same', kernel_initializer=glorot_normal()))\n",
        "    model.add(BatchNormalization())\n",
        "    model.add(Activation(act))\n",
        "    model.add(Dropout(0.3))\n",
        "    \n",
        "    # Block 9\n",
        "    model.add(Conv2D(256, (3,3), padding='same', kernel_initializer=glorot_normal()))\n",
        "    model.add(BatchNormalization())\n",
        "    model.add(Activation(act))\n",
        "    model.add(Dropout(0.25))\n",
        "    # Third Maxpooling\n",
        "    model.add(MaxPooling2D(pool_size=(2,2), strides=s))\n",
        "    \n",
        "    \n",
        "    # Block 10\n",
        "    model.add(Conv2D(512, (3,3), padding='same', kernel_initializer=glorot_normal()))\n",
        "    model.add(BatchNormalization())\n",
        "    model.add(Activation(act))\n",
        "    model.add(Dropout(0.3))\n",
        "\n",
        "    # Block 11  \n",
        "    model.add(Conv2D(2048, (1,1), padding='same', kernel_initializer=glorot_normal()))\n",
        "    model.add(Activation(act))\n",
        "    model.add(Dropout(0.25))\n",
        "    \n",
        "    # Block 12  \n",
        "    model.add(Conv2D(256, (1,1), padding='same', kernel_initializer=glorot_normal()))\n",
        "    model.add(Activation(act))\n",
        "    # Fourth Maxpooling\n",
        "    model.add(MaxPooling2D(pool_size=(2,2), strides=s))\n",
        "    model.add(Dropout(0.3))\n",
        "\n",
        "\n",
        "    # Block 13\n",
        "    model.add(Conv2D(256, (3,3), padding='same', kernel_initializer=glorot_normal()))\n",
        "    model.add(Activation(act))\n",
        "    # Fifth Maxpooling\n",
        "    model.add(MaxPooling2D(pool_size=(2,2), strides=s))\n",
        "\n",
        "    # Final Classifier\n",
        "    model.add(Flatten())\n",
        "    model.add(Dense(num_classes, activation='softmax'))\n",
        "    \n",
        "    #print(model.summary())\n",
        "\n",
        "    return model"
      ],
      "execution_count": 0,
      "outputs": []
    },
    {
      "metadata": {
        "id": "pD34VGzVhrgO",
        "colab_type": "code",
        "colab": {
          "autoexec": {
            "startup": false,
            "wait_interval": 0
          },
          "base_uri": "https://localhost:8080/",
          "height": 2123
        },
        "outputId": "613948c8-793f-44e5-ace8-d0bb93122cc7",
        "executionInfo": {
          "status": "ok",
          "timestamp": 1531666103697,
          "user_tz": -180,
          "elapsed": 2820,
          "user": {
            "displayName": "Ömer Yalçın",
            "photoUrl": "//lh6.googleusercontent.com/-KYS0k8F_jss/AAAAAAAAAAI/AAAAAAAABGM/XoQZ3tR-BuA/s50-c-k-no/photo.jpg",
            "userId": "107209192184149810541"
          }
        }
      },
      "cell_type": "code",
      "source": [
        "model=create_model()\n",
        "model.summary()"
      ],
      "execution_count": 104,
      "outputs": [
        {
          "output_type": "stream",
          "text": [
            "_________________________________________________________________\n",
            "Layer (type)                 Output Shape              Param #   \n",
            "=================================================================\n",
            "conv2d_40 (Conv2D)           (None, 62, 47, 64)        640       \n",
            "_________________________________________________________________\n",
            "batch_normalization_31 (Batc (None, 62, 47, 64)        256       \n",
            "_________________________________________________________________\n",
            "activation_40 (Activation)   (None, 62, 47, 64)        0         \n",
            "_________________________________________________________________\n",
            "dropout_37 (Dropout)         (None, 62, 47, 64)        0         \n",
            "_________________________________________________________________\n",
            "conv2d_41 (Conv2D)           (None, 62, 47, 128)       73856     \n",
            "_________________________________________________________________\n",
            "batch_normalization_32 (Batc (None, 62, 47, 128)       512       \n",
            "_________________________________________________________________\n",
            "activation_41 (Activation)   (None, 62, 47, 128)       0         \n",
            "_________________________________________________________________\n",
            "dropout_38 (Dropout)         (None, 62, 47, 128)       0         \n",
            "_________________________________________________________________\n",
            "conv2d_42 (Conv2D)           (None, 62, 47, 128)       147584    \n",
            "_________________________________________________________________\n",
            "batch_normalization_33 (Batc (None, 62, 47, 128)       512       \n",
            "_________________________________________________________________\n",
            "activation_42 (Activation)   (None, 62, 47, 128)       0         \n",
            "_________________________________________________________________\n",
            "dropout_39 (Dropout)         (None, 62, 47, 128)       0         \n",
            "_________________________________________________________________\n",
            "conv2d_43 (Conv2D)           (None, 62, 47, 128)       147584    \n",
            "_________________________________________________________________\n",
            "batch_normalization_34 (Batc (None, 62, 47, 128)       512       \n",
            "_________________________________________________________________\n",
            "activation_43 (Activation)   (None, 62, 47, 128)       0         \n",
            "_________________________________________________________________\n",
            "max_pooling2d_16 (MaxPooling (None, 31, 23, 128)       0         \n",
            "_________________________________________________________________\n",
            "dropout_40 (Dropout)         (None, 31, 23, 128)       0         \n",
            "_________________________________________________________________\n",
            "conv2d_44 (Conv2D)           (None, 31, 23, 128)       147584    \n",
            "_________________________________________________________________\n",
            "batch_normalization_35 (Batc (None, 31, 23, 128)       512       \n",
            "_________________________________________________________________\n",
            "activation_44 (Activation)   (None, 31, 23, 128)       0         \n",
            "_________________________________________________________________\n",
            "dropout_41 (Dropout)         (None, 31, 23, 128)       0         \n",
            "_________________________________________________________________\n",
            "conv2d_45 (Conv2D)           (None, 31, 23, 128)       147584    \n",
            "_________________________________________________________________\n",
            "batch_normalization_36 (Batc (None, 31, 23, 128)       512       \n",
            "_________________________________________________________________\n",
            "activation_45 (Activation)   (None, 31, 23, 128)       0         \n",
            "_________________________________________________________________\n",
            "dropout_42 (Dropout)         (None, 31, 23, 128)       0         \n",
            "_________________________________________________________________\n",
            "conv2d_46 (Conv2D)           (None, 31, 23, 256)       295168    \n",
            "_________________________________________________________________\n",
            "max_pooling2d_17 (MaxPooling (None, 15, 11, 256)       0         \n",
            "_________________________________________________________________\n",
            "batch_normalization_37 (Batc (None, 15, 11, 256)       1024      \n",
            "_________________________________________________________________\n",
            "activation_46 (Activation)   (None, 15, 11, 256)       0         \n",
            "_________________________________________________________________\n",
            "dropout_43 (Dropout)         (None, 15, 11, 256)       0         \n",
            "_________________________________________________________________\n",
            "conv2d_47 (Conv2D)           (None, 15, 11, 256)       590080    \n",
            "_________________________________________________________________\n",
            "batch_normalization_38 (Batc (None, 15, 11, 256)       1024      \n",
            "_________________________________________________________________\n",
            "activation_47 (Activation)   (None, 15, 11, 256)       0         \n",
            "_________________________________________________________________\n",
            "dropout_44 (Dropout)         (None, 15, 11, 256)       0         \n",
            "_________________________________________________________________\n",
            "conv2d_48 (Conv2D)           (None, 15, 11, 256)       590080    \n",
            "_________________________________________________________________\n",
            "batch_normalization_39 (Batc (None, 15, 11, 256)       1024      \n",
            "_________________________________________________________________\n",
            "activation_48 (Activation)   (None, 15, 11, 256)       0         \n",
            "_________________________________________________________________\n",
            "dropout_45 (Dropout)         (None, 15, 11, 256)       0         \n",
            "_________________________________________________________________\n",
            "max_pooling2d_18 (MaxPooling (None, 7, 5, 256)         0         \n",
            "_________________________________________________________________\n",
            "conv2d_49 (Conv2D)           (None, 7, 5, 512)         1180160   \n",
            "_________________________________________________________________\n",
            "batch_normalization_40 (Batc (None, 7, 5, 512)         2048      \n",
            "_________________________________________________________________\n",
            "activation_49 (Activation)   (None, 7, 5, 512)         0         \n",
            "_________________________________________________________________\n",
            "dropout_46 (Dropout)         (None, 7, 5, 512)         0         \n",
            "_________________________________________________________________\n",
            "conv2d_50 (Conv2D)           (None, 7, 5, 2048)        1050624   \n",
            "_________________________________________________________________\n",
            "activation_50 (Activation)   (None, 7, 5, 2048)        0         \n",
            "_________________________________________________________________\n",
            "dropout_47 (Dropout)         (None, 7, 5, 2048)        0         \n",
            "_________________________________________________________________\n",
            "conv2d_51 (Conv2D)           (None, 7, 5, 256)         524544    \n",
            "_________________________________________________________________\n",
            "activation_51 (Activation)   (None, 7, 5, 256)         0         \n",
            "_________________________________________________________________\n",
            "max_pooling2d_19 (MaxPooling (None, 3, 2, 256)         0         \n",
            "_________________________________________________________________\n",
            "dropout_48 (Dropout)         (None, 3, 2, 256)         0         \n",
            "_________________________________________________________________\n",
            "conv2d_52 (Conv2D)           (None, 3, 2, 256)         590080    \n",
            "_________________________________________________________________\n",
            "activation_52 (Activation)   (None, 3, 2, 256)         0         \n",
            "_________________________________________________________________\n",
            "max_pooling2d_20 (MaxPooling (None, 1, 1, 256)         0         \n",
            "_________________________________________________________________\n",
            "flatten_4 (Flatten)          (None, 256)               0         \n",
            "_________________________________________________________________\n",
            "dense_4 (Dense)              (None, 5)                 1285      \n",
            "=================================================================\n",
            "Total params: 5,494,789\n",
            "Trainable params: 5,490,821\n",
            "Non-trainable params: 3,968\n",
            "_________________________________________________________________\n"
          ],
          "name": "stdout"
        }
      ]
    },
    {
      "metadata": {
        "id": "_gHpNhCaF5fM",
        "colab_type": "code",
        "colab": {
          "autoexec": {
            "startup": false,
            "wait_interval": 0
          },
          "base_uri": "https://localhost:8080/",
          "height": 1817
        },
        "outputId": "808c5931-0f86-4d49-f678-c981aa2e536d",
        "executionInfo": {
          "status": "ok",
          "timestamp": 1531666483329,
          "user_tz": -180,
          "elapsed": 379522,
          "user": {
            "displayName": "Ömer Yalçın",
            "photoUrl": "//lh6.googleusercontent.com/-KYS0k8F_jss/AAAAAAAAAAI/AAAAAAAABGM/XoQZ3tR-BuA/s50-c-k-no/photo.jpg",
            "userId": "107209192184149810541"
          }
        }
      },
      "cell_type": "code",
      "source": [
        "print(\"Starting first epochs ...\")\n",
        "\n",
        "\n",
        "# first 50 epochs (0-50)\n",
        "num_classes=5\n",
        "batch_size=32\n",
        "epoch=50\n",
        "opt_add=keras.optimizers.Adadelta()\n",
        "model.compile(optimizer=opt_add,loss=\"categorical_crossentropy\",\n",
        "              metrics=[\"accuracy\"])\n",
        "SimpleNet_1 = model.fit_generator(\n",
        "      train_datagen.flow(x_tr,y_tr,batch_size=32),\n",
        "      steps_per_epoch=len(x_tr)/32,\n",
        "      epochs=50,\n",
        "      validation_data=test_datagen.flow(x_ts,y_ts,batch_size=128),\n",
        "      validation_steps=len(x_ts)/128)\n",
        "\n",
        "\n",
        "print(\"Starting second epochs ...\")\n",
        "\n",
        "\n",
        "# Second 25 epochs (50-75)\n",
        "opt_add=keras.optimizers.Adadelta(lr=0.7,rho=0.9)\n",
        "model.compile(optimizer=opt_add,loss=\"categorical_crossentropy\",\n",
        "              metrics=[\"accuracy\"])\n",
        "SimpleNet_2 = model.fit_generator(\n",
        "      train_datagen.flow(x_tr,y_tr,batch_size=32),\n",
        "      steps_per_epoch=len(x_tr)/32,\n",
        "      epochs=25,\n",
        "      validation_data=test_datagen.flow(x_ts,y_ts,batch_size=128),\n",
        "      validation_steps=len(x_ts)/128)\n",
        "\n",
        "\n",
        "print(\"Starting third epochs ...\")\n",
        "\n",
        "\n",
        "# Third 25 epochs (75-100)\n",
        "opt_add=keras.optimizers.Adadelta(lr=0.5,rho=0.85)\n",
        "model.compile(optimizer=opt_add,loss=\"categorical_crossentropy\",\n",
        "              metrics=[\"accuracy\"])\n",
        "SimpleNet_3 = model.fit_generator(\n",
        "      train_datagen.flow(x_tr,y_tr,batch_size=12),\n",
        "      steps_per_epoch=len(x_tr)/12,\n",
        "      epochs=25,\n",
        "      validation_data=test_datagen.flow(x_ts,y_ts,batch_size=128),\n",
        "      validation_steps=len(x_ts)/128)\n",
        "\n",
        "\n",
        "print(\"Starting fourth epochs ...\")\n",
        "\n",
        "\n",
        "# Fourth 25 epochs (100-125)\n",
        "opt_add=keras.optimizers.Adadelta(lr=0.3,rho=0.75)\n",
        "model.compile(optimizer=opt_add,loss=\"categorical_crossentropy\",\n",
        "              metrics=[\"accuracy\"])\n",
        "SimpleNet_4 = model.fit_generator(\n",
        "      train_datagen.flow(x_tr,y_tr,batch_size=32),\n",
        "      steps_per_epoch=len(x_tr)/32,\n",
        "      epochs=25,\n",
        "      validation_data=test_datagen.flow(x_ts,y_ts,batch_size=128),\n",
        "      validation_steps=len(x_ts)/128)\n",
        "\n",
        "\n",
        "print(\"Starting fifth epochs ...\")\n",
        "\n",
        "\n",
        "# Fifth 25 epoch (125-150)\n",
        "opt_add=keras.optimizers.Adadelta(lr=0.1,rho=0.60)\n",
        "model.compile(optimizer=opt_add,loss=\"categorical_crossentropy\",\n",
        "              metrics=[\"accuracy\"])\n",
        "SimpleNet_5 = model.fit_generator(\n",
        "      train_datagen.flow(x_tr,y_tr,batch_size=32),\n",
        "      steps_per_epoch=len(x_tr)/32,\n",
        "      epochs=25,\n",
        "      validation_data=test_datagen.flow(x_ts,y_ts,batch_size=128),\n",
        "      validation_steps=len(x_ts)/128)\n",
        "\n",
        "\n",
        "print(\"Starting sixth epochs ...\")\n",
        "\n",
        "\n",
        "# Sixth 25 epoch (140-155)\n",
        "opt_add=keras.optimizers.Adadelta(lr=0.05,rho=0.40)\n",
        "model.compile(optimizer=opt_add,loss=\"categorical_crossentropy\",\n",
        "              metrics=[\"accuracy\"])\n",
        "SimpleNet_6 = model.fit_generator(\n",
        "      train_datagen.flow(x_tr,y_tr,batch_size=32),\n",
        "      steps_per_epoch=len(x_tr)/32,\n",
        "      epochs=25,\n",
        "      validation_data=test_datagen.flow(x_ts,y_ts,batch_size=128),\n",
        "      validation_steps=len(x_ts)/128)"
      ],
      "execution_count": 105,
      "outputs": [
        {
          "output_type": "stream",
          "text": [
            "Epoch 1/50\n",
            "27/26 [==============================] - 17s 632ms/step - loss: 1.6047 - acc: 0.4205 - val_loss: 1.4547 - val_acc: 0.4281\n",
            "Epoch 2/50\n",
            "27/26 [==============================] - 7s 270ms/step - loss: 1.4644 - acc: 0.4688 - val_loss: 1.4536 - val_acc: 0.4281\n",
            "Epoch 3/50\n",
            "27/26 [==============================] - 7s 270ms/step - loss: 1.4520 - acc: 0.4776 - val_loss: 1.4376 - val_acc: 0.4281\n",
            "Epoch 4/50\n",
            "27/26 [==============================] - 7s 271ms/step - loss: 1.4139 - acc: 0.4734 - val_loss: 1.4488 - val_acc: 0.4281\n",
            "Epoch 5/50\n",
            "27/26 [==============================] - 7s 271ms/step - loss: 1.3769 - acc: 0.4714 - val_loss: 1.5504 - val_acc: 0.3263\n",
            "Epoch 6/50\n",
            "27/26 [==============================] - 7s 270ms/step - loss: 1.3558 - acc: 0.4821 - val_loss: 2.3926 - val_acc: 0.2526\n",
            "Epoch 7/50\n",
            "27/26 [==============================] - 7s 271ms/step - loss: 1.2864 - acc: 0.5141 - val_loss: 1.9555 - val_acc: 0.2947\n",
            "Epoch 8/50\n",
            " 4/26 [===>..........................] - ETA: 5s - loss: 1.2886 - acc: 0.5234"
          ],
          "name": "stdout"
        },
        {
          "output_type": "stream",
          "text": [
            "27/26 [==============================] - 7s 270ms/step - loss: 1.1988 - acc: 0.5791 - val_loss: 2.4437 - val_acc: 0.3053\n",
            "Epoch 9/50\n",
            "27/26 [==============================] - 7s 271ms/step - loss: 1.1162 - acc: 0.6157 - val_loss: 2.5001 - val_acc: 0.4526\n",
            "Epoch 10/50\n",
            "27/26 [==============================] - 7s 271ms/step - loss: 1.0214 - acc: 0.6128 - val_loss: 1.2496 - val_acc: 0.5579\n",
            "Epoch 11/50\n",
            "27/26 [==============================] - 7s 270ms/step - loss: 0.9863 - acc: 0.6432 - val_loss: 2.3122 - val_acc: 0.4281\n",
            "Epoch 12/50\n",
            "27/26 [==============================] - 7s 274ms/step - loss: 0.9446 - acc: 0.6693 - val_loss: 1.0396 - val_acc: 0.6561\n",
            "Epoch 13/50\n",
            "27/26 [==============================] - 7s 271ms/step - loss: 0.9874 - acc: 0.6542 - val_loss: 2.3483 - val_acc: 0.3544\n",
            "Epoch 14/50\n",
            "27/26 [==============================] - 7s 271ms/step - loss: 0.8742 - acc: 0.6921 - val_loss: 0.7192 - val_acc: 0.7053\n",
            "Epoch 15/50\n",
            " 6/26 [=====>........................] - ETA: 5s - loss: 0.8509 - acc: 0.6875"
          ],
          "name": "stdout"
        },
        {
          "output_type": "stream",
          "text": [
            "27/26 [==============================] - 7s 271ms/step - loss: 0.7972 - acc: 0.7114 - val_loss: 1.1152 - val_acc: 0.5895\n",
            "Epoch 16/50\n",
            "27/26 [==============================] - 7s 270ms/step - loss: 0.7084 - acc: 0.7442 - val_loss: 1.1704 - val_acc: 0.6912\n",
            "Epoch 17/50\n",
            "27/26 [==============================] - 7s 270ms/step - loss: 0.6937 - acc: 0.7697 - val_loss: 0.5519 - val_acc: 0.8211\n",
            "Epoch 18/50\n",
            "27/26 [==============================] - 7s 270ms/step - loss: 0.6667 - acc: 0.7596 - val_loss: 0.4714 - val_acc: 0.8596\n",
            "Epoch 19/50\n",
            "27/26 [==============================] - 7s 272ms/step - loss: 0.6162 - acc: 0.7890 - val_loss: 0.4067 - val_acc: 0.8456\n",
            "Epoch 20/50\n",
            "27/26 [==============================] - 7s 272ms/step - loss: 0.5536 - acc: 0.7991 - val_loss: 1.0585 - val_acc: 0.6772\n",
            "Epoch 21/50\n",
            "27/26 [==============================] - 7s 271ms/step - loss: 0.5677 - acc: 0.7998 - val_loss: 1.3684 - val_acc: 0.5649\n",
            "Epoch 22/50\n",
            " 6/26 [=====>........................] - ETA: 5s - loss: 0.5393 - acc: 0.7939"
          ],
          "name": "stdout"
        },
        {
          "output_type": "stream",
          "text": [
            "27/26 [==============================] - 7s 271ms/step - loss: 0.5225 - acc: 0.8026 - val_loss: 0.3090 - val_acc: 0.9018\n",
            "Epoch 23/50\n",
            "27/26 [==============================] - 7s 271ms/step - loss: 0.5165 - acc: 0.8257 - val_loss: 0.5640 - val_acc: 0.8175\n",
            "Epoch 24/50\n",
            "27/26 [==============================] - 7s 271ms/step - loss: 0.4688 - acc: 0.8266 - val_loss: 0.3668 - val_acc: 0.8772\n",
            "Epoch 25/50\n",
            "27/26 [==============================] - 7s 271ms/step - loss: 0.3763 - acc: 0.8632 - val_loss: 1.0377 - val_acc: 0.6877\n",
            "Epoch 26/50\n",
            "27/26 [==============================] - 7s 272ms/step - loss: 0.4411 - acc: 0.8583 - val_loss: 0.5335 - val_acc: 0.8281\n",
            "Epoch 27/50\n",
            "27/26 [==============================] - 7s 272ms/step - loss: 0.3748 - acc: 0.8589 - val_loss: 1.3197 - val_acc: 0.6070\n",
            "Epoch 28/50\n",
            "27/26 [==============================] - 7s 271ms/step - loss: 0.3726 - acc: 0.8667 - val_loss: 0.3825 - val_acc: 0.8842\n",
            "Epoch 29/50\n",
            " 6/26 [=====>........................] - ETA: 5s - loss: 0.3081 - acc: 0.9062"
          ],
          "name": "stdout"
        },
        {
          "output_type": "stream",
          "text": [
            "27/26 [==============================] - 7s 271ms/step - loss: 0.3697 - acc: 0.8710 - val_loss: 0.5155 - val_acc: 0.8175\n",
            "Epoch 30/50\n",
            "27/26 [==============================] - 7s 270ms/step - loss: 0.3255 - acc: 0.8822 - val_loss: 0.6235 - val_acc: 0.7649\n",
            "Epoch 31/50\n",
            "27/26 [==============================] - 7s 270ms/step - loss: 0.2987 - acc: 0.8852 - val_loss: 0.4625 - val_acc: 0.8456\n",
            "Epoch 32/50\n",
            "27/26 [==============================] - 7s 271ms/step - loss: 0.3606 - acc: 0.8764 - val_loss: 0.3948 - val_acc: 0.8596\n",
            "Epoch 33/50\n",
            "27/26 [==============================] - 7s 272ms/step - loss: 0.2813 - acc: 0.9081 - val_loss: 0.4498 - val_acc: 0.8246\n",
            "Epoch 34/50\n",
            "27/26 [==============================] - 7s 271ms/step - loss: 0.2999 - acc: 0.8894 - val_loss: 0.2033 - val_acc: 0.9228\n",
            "Epoch 35/50\n",
            "27/26 [==============================] - 7s 274ms/step - loss: 0.2315 - acc: 0.9249 - val_loss: 0.3438 - val_acc: 0.8772\n",
            "Epoch 36/50\n",
            " 6/26 [=====>........................] - ETA: 5s - loss: 0.1066 - acc: 0.9531"
          ],
          "name": "stdout"
        },
        {
          "output_type": "stream",
          "text": [
            "27/26 [==============================] - 7s 272ms/step - loss: 0.2462 - acc: 0.9146 - val_loss: 0.2356 - val_acc: 0.9228\n",
            "Epoch 37/50\n",
            "27/26 [==============================] - 7s 270ms/step - loss: 0.2144 - acc: 0.9285 - val_loss: 0.2222 - val_acc: 0.9193\n",
            "Epoch 38/50\n",
            "27/26 [==============================] - 7s 271ms/step - loss: 0.2713 - acc: 0.9107 - val_loss: 0.4549 - val_acc: 0.8667\n",
            "Epoch 39/50\n",
            "27/26 [==============================] - 7s 271ms/step - loss: 0.2131 - acc: 0.9297 - val_loss: 0.2093 - val_acc: 0.9228\n",
            "Epoch 40/50\n",
            "27/26 [==============================] - 7s 272ms/step - loss: 0.1908 - acc: 0.9336 - val_loss: 0.2398 - val_acc: 0.9123\n",
            "Epoch 41/50\n",
            "27/26 [==============================] - 7s 271ms/step - loss: 0.1729 - acc: 0.9447 - val_loss: 0.4558 - val_acc: 0.8561\n",
            "Epoch 42/50\n",
            "27/26 [==============================] - 7s 276ms/step - loss: 0.2403 - acc: 0.9255 - val_loss: 0.3333 - val_acc: 0.8982\n",
            "Epoch 43/50\n",
            " 6/26 [=====>........................] - ETA: 5s - loss: 0.1479 - acc: 0.9479"
          ],
          "name": "stdout"
        },
        {
          "output_type": "stream",
          "text": [
            "27/26 [==============================] - 7s 275ms/step - loss: 0.1515 - acc: 0.9479 - val_loss: 0.3445 - val_acc: 0.8702\n",
            "Epoch 44/50\n",
            "27/26 [==============================] - 7s 271ms/step - loss: 0.1853 - acc: 0.9331 - val_loss: 0.3828 - val_acc: 0.8807\n",
            "Epoch 45/50\n",
            "27/26 [==============================] - 7s 273ms/step - loss: 0.1539 - acc: 0.9420 - val_loss: 0.5119 - val_acc: 0.8140\n",
            "Epoch 46/50\n",
            "27/26 [==============================] - 7s 271ms/step - loss: 0.1803 - acc: 0.9463 - val_loss: 0.7850 - val_acc: 0.7825\n",
            "Epoch 47/50\n",
            "27/26 [==============================] - 7s 271ms/step - loss: 0.1239 - acc: 0.9482 - val_loss: 0.2748 - val_acc: 0.9263\n",
            "Epoch 48/50\n",
            "27/26 [==============================] - 7s 272ms/step - loss: 0.1267 - acc: 0.9583 - val_loss: 0.3516 - val_acc: 0.9018\n",
            "Epoch 49/50\n",
            "27/26 [==============================] - 7s 272ms/step - loss: 0.1479 - acc: 0.9475 - val_loss: 0.1934 - val_acc: 0.9474\n",
            "Epoch 50/50\n",
            " 6/26 [=====>........................] - ETA: 5s - loss: 0.0300 - acc: 0.9948"
          ],
          "name": "stdout"
        },
        {
          "output_type": "stream",
          "text": [
            "27/26 [==============================] - 7s 273ms/step - loss: 0.1269 - acc: 0.9567 - val_loss: 0.3406 - val_acc: 0.8947\n"
          ],
          "name": "stdout"
        }
      ]
    },
    {
      "metadata": {
        "id": "7wRtSzhZh-lw",
        "colab_type": "code",
        "colab": {
          "autoexec": {
            "startup": false,
            "wait_interval": 0
          }
        }
      },
      "cell_type": "code",
      "source": [
        ""
      ],
      "execution_count": 0,
      "outputs": []
    },
    {
      "metadata": {
        "id": "jRWV1CriGuP2",
        "colab_type": "code",
        "colab": {
          "autoexec": {
            "startup": false,
            "wait_interval": 0
          }
        }
      },
      "cell_type": "code",
      "source": [
        ""
      ],
      "execution_count": 0,
      "outputs": []
    },
    {
      "metadata": {
        "id": "WAobNRqVGWwB",
        "colab_type": "code",
        "colab": {
          "autoexec": {
            "startup": false,
            "wait_interval": 0
          }
        }
      },
      "cell_type": "code",
      "source": [
        ""
      ],
      "execution_count": 0,
      "outputs": []
    },
    {
      "metadata": {
        "id": "h8UpxcXFjiMx",
        "colab_type": "code",
        "colab": {
          "autoexec": {
            "startup": false,
            "wait_interval": 0
          },
          "base_uri": "https://localhost:8080/",
          "height": 917
        },
        "outputId": "d610a5dc-684a-4fa4-e097-afd29b1dae1c",
        "executionInfo": {
          "status": "ok",
          "timestamp": 1531667363785,
          "user_tz": -180,
          "elapsed": 197693,
          "user": {
            "displayName": "Ömer Yalçın",
            "photoUrl": "//lh6.googleusercontent.com/-KYS0k8F_jss/AAAAAAAAAAI/AAAAAAAABGM/XoQZ3tR-BuA/s50-c-k-no/photo.jpg",
            "userId": "107209192184149810541"
          }
        }
      },
      "cell_type": "code",
      "source": [
        ""
      ],
      "execution_count": 109,
      "outputs": [
        {
          "output_type": "stream",
          "text": [
            "Epoch 1/25\n",
            "27/26 [==============================] - 18s 661ms/step - loss: 0.0162 - acc: 0.9954 - val_loss: 0.0741 - val_acc: 0.9754\n",
            "Epoch 2/25\n",
            "27/26 [==============================] - 7s 271ms/step - loss: 0.0164 - acc: 0.9972 - val_loss: 0.0676 - val_acc: 0.9754\n",
            "Epoch 3/25\n",
            "27/26 [==============================] - 7s 273ms/step - loss: 0.0115 - acc: 0.9954 - val_loss: 0.0590 - val_acc: 0.9754\n",
            "Epoch 4/25\n",
            "27/26 [==============================] - 7s 271ms/step - loss: 0.0087 - acc: 0.9954 - val_loss: 0.0481 - val_acc: 0.9860\n",
            "Epoch 5/25\n",
            "27/26 [==============================] - 7s 271ms/step - loss: 0.0239 - acc: 0.9954 - val_loss: 0.0485 - val_acc: 0.9825\n",
            "Epoch 6/25\n",
            "27/26 [==============================] - 7s 272ms/step - loss: 0.0114 - acc: 0.9977 - val_loss: 0.0490 - val_acc: 0.9895\n",
            "Epoch 7/25\n",
            "27/26 [==============================] - 7s 271ms/step - loss: 0.0086 - acc: 0.9988 - val_loss: 0.0496 - val_acc: 0.9860\n",
            "Epoch 8/25\n",
            " 4/26 [===>..........................] - ETA: 5s - loss: 8.0104e-04 - acc: 1.0000"
          ],
          "name": "stdout"
        },
        {
          "output_type": "stream",
          "text": [
            "27/26 [==============================] - 7s 272ms/step - loss: 0.0045 - acc: 0.9977 - val_loss: 0.0552 - val_acc: 0.9789\n",
            "Epoch 9/25\n",
            "27/26 [==============================] - 7s 272ms/step - loss: 0.0078 - acc: 0.9965 - val_loss: 0.0601 - val_acc: 0.9789\n",
            "Epoch 10/25\n",
            "27/26 [==============================] - 7s 271ms/step - loss: 0.0054 - acc: 0.9977 - val_loss: 0.0618 - val_acc: 0.9825\n",
            "Epoch 11/25\n",
            "27/26 [==============================] - 7s 271ms/step - loss: 0.0174 - acc: 0.9942 - val_loss: 0.0612 - val_acc: 0.9789\n",
            "Epoch 12/25\n",
            "27/26 [==============================] - 7s 271ms/step - loss: 0.0078 - acc: 0.9961 - val_loss: 0.0557 - val_acc: 0.9860\n",
            "Epoch 13/25\n",
            "27/26 [==============================] - 7s 271ms/step - loss: 0.0012 - acc: 1.0000 - val_loss: 0.0529 - val_acc: 0.9860\n",
            "Epoch 14/25\n",
            "27/26 [==============================] - 7s 272ms/step - loss: 0.0014 - acc: 1.0000 - val_loss: 0.0611 - val_acc: 0.9860\n",
            "Epoch 15/25\n",
            " 6/26 [=====>........................] - ETA: 5s - loss: 0.0092 - acc: 0.9948"
          ],
          "name": "stdout"
        },
        {
          "output_type": "stream",
          "text": [
            "27/26 [==============================] - 7s 273ms/step - loss: 0.0100 - acc: 0.9965 - val_loss: 0.0511 - val_acc: 0.9825\n",
            "Epoch 16/25\n",
            "27/26 [==============================] - 7s 271ms/step - loss: 0.0176 - acc: 0.9977 - val_loss: 0.0744 - val_acc: 0.9754\n",
            "Epoch 17/25\n",
            "27/26 [==============================] - 7s 275ms/step - loss: 0.0074 - acc: 0.9965 - val_loss: 0.0519 - val_acc: 0.9860\n",
            "Epoch 18/25\n",
            "27/26 [==============================] - 7s 271ms/step - loss: 6.4556e-04 - acc: 1.0000 - val_loss: 0.0580 - val_acc: 0.9860\n",
            "Epoch 19/25\n",
            "27/26 [==============================] - 7s 274ms/step - loss: 0.0153 - acc: 0.9954 - val_loss: 0.0441 - val_acc: 0.9860\n",
            "Epoch 20/25\n",
            "27/26 [==============================] - 7s 271ms/step - loss: 0.0065 - acc: 0.9965 - val_loss: 0.0438 - val_acc: 0.9825\n",
            "Epoch 21/25\n",
            "27/26 [==============================] - 7s 273ms/step - loss: 0.0154 - acc: 0.9965 - val_loss: 0.0398 - val_acc: 0.9930\n",
            "Epoch 22/25\n",
            " 5/26 [====>.........................] - ETA: 5s - loss: 0.0056 - acc: 0.9938"
          ],
          "name": "stdout"
        },
        {
          "output_type": "stream",
          "text": [
            "27/26 [==============================] - 7s 271ms/step - loss: 0.0026 - acc: 0.9988 - val_loss: 0.0375 - val_acc: 0.9930\n",
            "Epoch 23/25\n",
            "27/26 [==============================] - 7s 272ms/step - loss: 0.0127 - acc: 0.9954 - val_loss: 0.0453 - val_acc: 0.9895\n",
            "Epoch 24/25\n",
            "27/26 [==============================] - 7s 272ms/step - loss: 0.0054 - acc: 0.9965 - val_loss: 0.0457 - val_acc: 0.9895\n",
            "Epoch 25/25\n",
            "27/26 [==============================] - 7s 271ms/step - loss: 0.0121 - acc: 0.9954 - val_loss: 0.0360 - val_acc: 0.9930\n"
          ],
          "name": "stdout"
        }
      ]
    },
    {
      "metadata": {
        "id": "mr1XQHaWewU3",
        "colab_type": "code",
        "colab": {
          "autoexec": {
            "startup": false,
            "wait_interval": 0
          }
        }
      },
      "cell_type": "code",
      "source": [
        ""
      ],
      "execution_count": 0,
      "outputs": []
    },
    {
      "metadata": {
        "id": "DqdeJqiCjhMW",
        "colab_type": "code",
        "colab": {
          "autoexec": {
            "startup": false,
            "wait_interval": 0
          }
        }
      },
      "cell_type": "code",
      "source": [
        "model.save(\"simplenet_relu.h5\")"
      ],
      "execution_count": 0,
      "outputs": []
    },
    {
      "metadata": {
        "id": "e7VcHMJ_a03m",
        "colab_type": "code",
        "colab": {
          "autoexec": {
            "startup": false,
            "wait_interval": 0
          }
        }
      },
      "cell_type": "code",
      "source": [
        "simple=keras .models.load_model(\"simplenet_relu.h5\")"
      ],
      "execution_count": 0,
      "outputs": []
    },
    {
      "metadata": {
        "id": "-nQTTUWObmn4",
        "colab_type": "code",
        "colab": {
          "autoexec": {
            "startup": false,
            "wait_interval": 0
          },
          "base_uri": "https://localhost:8080/",
          "height": 53
        },
        "outputId": "4e1ff554-44bc-4296-b5d9-89f36b6fea94",
        "executionInfo": {
          "status": "ok",
          "timestamp": 1531667664514,
          "user_tz": -180,
          "elapsed": 4269,
          "user": {
            "displayName": "Ömer Yalçın",
            "photoUrl": "//lh6.googleusercontent.com/-KYS0k8F_jss/AAAAAAAAAAI/AAAAAAAABGM/XoQZ3tR-BuA/s50-c-k-no/photo.jpg",
            "userId": "107209192184149810541"
          }
        }
      },
      "cell_type": "code",
      "source": [
        "simple.evaluate(x_ts[:100]/255,y_ts[:100])"
      ],
      "execution_count": 113,
      "outputs": [
        {
          "output_type": "stream",
          "text": [
            "100/100 [==============================] - 4s 39ms/step\n"
          ],
          "name": "stdout"
        },
        {
          "output_type": "execute_result",
          "data": {
            "text/plain": [
              "[0.047399588098851385, 0.98]"
            ]
          },
          "metadata": {
            "tags": []
          },
          "execution_count": 113
        }
      ]
    },
    {
      "metadata": {
        "id": "e0FI9yazbNiC",
        "colab_type": "code",
        "colab": {
          "autoexec": {
            "startup": false,
            "wait_interval": 0
          },
          "base_uri": "https://localhost:8080/",
          "height": 53
        },
        "outputId": "d6a7f311-a387-42b0-a876-8257443744c4",
        "executionInfo": {
          "status": "ok",
          "timestamp": 1531667668150,
          "user_tz": -180,
          "elapsed": 675,
          "user": {
            "displayName": "Ömer Yalçın",
            "photoUrl": "//lh6.googleusercontent.com/-KYS0k8F_jss/AAAAAAAAAAI/AAAAAAAABGM/XoQZ3tR-BuA/s50-c-k-no/photo.jpg",
            "userId": "107209192184149810541"
          }
        }
      },
      "cell_type": "code",
      "source": [
        "acc_list=np.array([SimpleNet_1.history[\"acc\"],SimpleNet_2.history[\"acc\"],SimpleNet_3.history[\"acc\"],SimpleNet_4.history[\"acc\"],SimpleNet_5.history[\"acc\"],SimpleNet_6.history[\"acc\"]])\n",
        "val_acc_list=np.array([SimpleNet_1.history[\"val_acc\"],SimpleNet_2.history[\"acc\"],SimpleNet_3.history[\"val_acc\"],SimpleNet_4.history[\"val_acc\"],SimpleNet_5.history[\"val_acc\"],SimpleNet_6.history[\"val_acc\"]])\n",
        "val_acc=np.array(val_acc_list[0])\n",
        "acc=np.array(acc_list[0])\n",
        "print(acc.shape)\n",
        "for i in range(5):\n",
        "  acc=np.append(acc,acc_list[i+1])\n",
        "  val_acc=np.append(val_acc,val_acc_list[i+1])\n",
        "\n",
        "  \n",
        "print(acc.shape)"
      ],
      "execution_count": 114,
      "outputs": [
        {
          "output_type": "stream",
          "text": [
            "(50,)\n",
            "(175,)\n"
          ],
          "name": "stdout"
        }
      ]
    },
    {
      "metadata": {
        "id": "kUY6IbDtJy0e",
        "colab_type": "code",
        "colab": {
          "autoexec": {
            "startup": false,
            "wait_interval": 0
          },
          "base_uri": "https://localhost:8080/",
          "height": 718
        },
        "outputId": "c19c55a5-691e-4255-d4ae-07f38fdef528",
        "executionInfo": {
          "status": "ok",
          "timestamp": 1531667728658,
          "user_tz": -180,
          "elapsed": 984,
          "user": {
            "displayName": "Ömer Yalçın",
            "photoUrl": "//lh6.googleusercontent.com/-KYS0k8F_jss/AAAAAAAAAAI/AAAAAAAABGM/XoQZ3tR-BuA/s50-c-k-no/photo.jpg",
            "userId": "107209192184149810541"
          }
        }
      },
      "cell_type": "code",
      "source": [
        "plt.figure(figsize=(15,12))\n",
        "plt.plot(acc)\n",
        "plt.plot(val_acc)\n",
        "acc[-10:].mean()\n",
        "val_acc[-10:].mean()\n",
        "\n",
        "#plt.plot(SimpleNet_history.history[\"acc\"])\n",
        "#plt.plot(SimpleNet_history.history[\"val_acc\"])"
      ],
      "execution_count": 116,
      "outputs": [
        {
          "output_type": "execute_result",
          "data": {
            "text/plain": [
              "0.9863157889090086"
            ]
          },
          "metadata": {
            "tags": []
          },
          "execution_count": 116
        },
        {
          "output_type": "display_data",
          "data": {
            "image/png": "[encoded data removed]",
            "text/plain": [
              "<matplotlib.figure.Figure at 0x7f4052cac390>"
            ]
          },
          "metadata": {
            "tags": []
          }
        }
      ]
    },
    {
      "metadata": {
        "id": "g0k0OcaLSfx8",
        "colab_type": "code",
        "colab": {
          "autoexec": {
            "startup": false,
            "wait_interval": 0
          },
          "base_uri": "https://localhost:8080/",
          "height": 53
        },
        "outputId": "f3b1043d-e332-443b-ec6c-a3e51197b3e2",
        "executionInfo": {
          "status": "ok",
          "timestamp": 1531656742510,
          "user_tz": -180,
          "elapsed": 625,
          "user": {
            "displayName": "Ömer Yalçın",
            "photoUrl": "//lh6.googleusercontent.com/-KYS0k8F_jss/AAAAAAAAAAI/AAAAAAAABGM/XoQZ3tR-BuA/s50-c-k-no/photo.jpg",
            "userId": "107209192184149810541"
          }
        }
      },
      "cell_type": "code",
      "source": [
        "print(\"train accuracy average last 15 results :\",acc[-15:].mean())\n",
        "print(\"train standard deviation last 15 results :\",acc[-15:].std())\n",
        "#print(\"train accuracy average last 15 results :\",np.array(SimpleNet_history.history[\"acc\"][-15:]).mean())\n",
        "#print(\"train standard deviation last 15 results :\",np.array(SimpleNet_history.history[\"acc\"][-15:]).std())"
      ],
      "execution_count": 82,
      "outputs": [
        {
          "output_type": "stream",
          "text": [
            "train accuracy average last 15 results : 0.9975048732943469\n",
            "train standard deviation last 15 results : 0.0017539527297001233\n"
          ],
          "name": "stdout"
        }
      ]
    },
    {
      "metadata": {
        "id": "UuZPgeczgwoL",
        "colab_type": "text"
      },
      "cell_type": "markdown",
      "source": [
        "**Parameters Search**"
      ]
    },
    {
      "metadata": {
        "id": "FMFuXH0ZS5bc",
        "colab_type": "code",
        "colab": {
          "autoexec": {
            "startup": false,
            "wait_interval": 0
          },
          "base_uri": "https://localhost:8080/",
          "height": 3378
        },
        "outputId": "b34cc7a7-43ce-46a9-9c6e-d2ba5fd9fbb2",
        "executionInfo": {
          "status": "error",
          "timestamp": 1531668294191,
          "user_tz": -180,
          "elapsed": 4698,
          "user": {
            "displayName": "Ömer Yalçın",
            "photoUrl": "//lh6.googleusercontent.com/-KYS0k8F_jss/AAAAAAAAAAI/AAAAAAAABGM/XoQZ3tR-BuA/s50-c-k-no/photo.jpg",
            "userId": "107209192184149810541"
          }
        }
      },
      "cell_type": "code",
      "source": [
        "# for batch size\n",
        "a={}\n",
        "\n",
        "for i in[16,32,64,128]:\n",
        "  num_classes=5\n",
        "  model=create_model()\n",
        "  opt_add=keras.optimizers.Adadelta()\n",
        "  model.compile(optimizer=opt_add,loss=\"categorical_crossentropy\",\n",
        "                metrics=[\"accuracy\"])\n",
        "  print(\"batch size:\",i,\"start...\")\n",
        "\n",
        "  SimpleNet_history = model.fit_generator(\n",
        "        train_datagen.flow(x_tr,y_tr,batch_size=i),\n",
        "        steps_per_epoch=len(x_tr)/i,\n",
        "        epochs=200,\n",
        "        validation_data=test_datagen.flow(x_ts,y_ts,batch_size=128),\n",
        "        validation_steps=len(x_ts)/128,verbose=0)\n",
        "  a[\"{}\".format(i)]=SimpleNet_history.history\n",
        "  print(\"end i batch size model\")\n",
        "  "
      ],
      "execution_count": 117,
      "outputs": [
        {
          "output_type": "stream",
          "text": [
            "batch size: 16 start...\n"
          ],
          "name": "stdout"
        },
        {
          "output_type": "error",
          "ename": "KeyboardInterrupt",
          "evalue": "ignored",
          "traceback": [
            "\u001b[0;31m---------------------------------------------------------------------------\u001b[0m",
            "\u001b[0;31mInvalidArgumentError\u001b[0m                      Traceback (most recent call last)",
            "\u001b[0;32m/usr/local/lib/python3.6/dist-packages/tensorflow/python/framework/ops.py\u001b[0m in \u001b[0;36mget_attr\u001b[0;34m(self, name)\u001b[0m\n\u001b[1;32m   2348\u001b[0m         \u001b[0;32mwith\u001b[0m \u001b[0mc_api_util\u001b[0m\u001b[0;34m.\u001b[0m\u001b[0mtf_buffer\u001b[0m\u001b[0;34m(\u001b[0m\u001b[0;34m)\u001b[0m \u001b[0;32mas\u001b[0m \u001b[0mbuf\u001b[0m\u001b[0;34m:\u001b[0m\u001b[0;34m\u001b[0m\u001b[0m\n\u001b[0;32m-> 2349\u001b[0;31m           \u001b[0mc_api\u001b[0m\u001b[0;34m.\u001b[0m\u001b[0mTF_OperationGetAttrValueProto\u001b[0m\u001b[0;34m(\u001b[0m\u001b[0mself\u001b[0m\u001b[0;34m.\u001b[0m\u001b[0m_c_op\u001b[0m\u001b[0;34m,\u001b[0m \u001b[0mname\u001b[0m\u001b[0;34m,\u001b[0m \u001b[0mbuf\u001b[0m\u001b[0;34m)\u001b[0m\u001b[0;34m\u001b[0m\u001b[0m\n\u001b[0m\u001b[1;32m   2350\u001b[0m           \u001b[0mdata\u001b[0m \u001b[0;34m=\u001b[0m \u001b[0mc_api\u001b[0m\u001b[0;34m.\u001b[0m\u001b[0mTF_GetBuffer\u001b[0m\u001b[0;34m(\u001b[0m\u001b[0mbuf\u001b[0m\u001b[0;34m)\u001b[0m\u001b[0;34m\u001b[0m\u001b[0m\n",
            "\u001b[0;31mInvalidArgumentError\u001b[0m: Operation 'dropout_52/cond/dropout/mul' has no attr named '_XlaCompile'.",
            "\nDuring handling of the above exception, another exception occurred:\n",
            "\u001b[0;31mValueError\u001b[0m                                Traceback (most recent call last)",
            "\u001b[0;32m/usr/local/lib/python3.6/dist-packages/tensorflow/python/ops/gradients_impl.py\u001b[0m in \u001b[0;36m_MaybeCompile\u001b[0;34m(scope, op, func, grad_fn)\u001b[0m\n\u001b[1;32m    390\u001b[0m     \u001b[0;32mtry\u001b[0m\u001b[0;34m:\u001b[0m\u001b[0;34m\u001b[0m\u001b[0m\n\u001b[0;32m--> 391\u001b[0;31m       \u001b[0mxla_compile\u001b[0m \u001b[0;34m=\u001b[0m \u001b[0mop\u001b[0m\u001b[0;34m.\u001b[0m\u001b[0mget_attr\u001b[0m\u001b[0;34m(\u001b[0m\u001b[0;34m\"_XlaCompile\"\u001b[0m\u001b[0;34m)\u001b[0m\u001b[0;34m\u001b[0m\u001b[0m\n\u001b[0m\u001b[1;32m    392\u001b[0m       xla_separate_compiled_gradients = op.get_attr(\n",
            "\u001b[0;32m/usr/local/lib/python3.6/dist-packages/tensorflow/python/framework/ops.py\u001b[0m in \u001b[0;36mget_attr\u001b[0;34m(self, name)\u001b[0m\n\u001b[1;32m   2352\u001b[0m         \u001b[0;31m# Convert to ValueError for backwards compatibility.\u001b[0m\u001b[0;34m\u001b[0m\u001b[0;34m\u001b[0m\u001b[0m\n\u001b[0;32m-> 2353\u001b[0;31m         \u001b[0;32mraise\u001b[0m \u001b[0mValueError\u001b[0m\u001b[0;34m(\u001b[0m\u001b[0mstr\u001b[0m\u001b[0;34m(\u001b[0m\u001b[0me\u001b[0m\u001b[0;34m)\u001b[0m\u001b[0;34m)\u001b[0m\u001b[0;34m\u001b[0m\u001b[0m\n\u001b[0m\u001b[1;32m   2354\u001b[0m       \u001b[0mx\u001b[0m \u001b[0;34m=\u001b[0m \u001b[0mattr_value_pb2\u001b[0m\u001b[0;34m.\u001b[0m\u001b[0mAttrValue\u001b[0m\u001b[0;34m(\u001b[0m\u001b[0;34m)\u001b[0m\u001b[0;34m\u001b[0m\u001b[0m\n",
            "\u001b[0;31mValueError\u001b[0m: Operation 'dropout_52/cond/dropout/mul' has no attr named '_XlaCompile'.",
            "\nDuring handling of the above exception, another exception occurred:\n",
            "\u001b[0;31mKeyboardInterrupt\u001b[0m                         Traceback (most recent call last)",
            "\u001b[0;32m<ipython-input-117-b77a4a43bb23>\u001b[0m in \u001b[0;36m<module>\u001b[0;34m()\u001b[0m\n\u001b[1;32m     14\u001b[0m         \u001b[0mepochs\u001b[0m\u001b[0;34m=\u001b[0m\u001b[0;36m200\u001b[0m\u001b[0;34m,\u001b[0m\u001b[0;34m\u001b[0m\u001b[0m\n\u001b[1;32m     15\u001b[0m         \u001b[0mvalidation_data\u001b[0m\u001b[0;34m=\u001b[0m\u001b[0mtest_datagen\u001b[0m\u001b[0;34m.\u001b[0m\u001b[0mflow\u001b[0m\u001b[0;34m(\u001b[0m\u001b[0mx_ts\u001b[0m\u001b[0;34m,\u001b[0m\u001b[0my_ts\u001b[0m\u001b[0;34m,\u001b[0m\u001b[0mbatch_size\u001b[0m\u001b[0;34m=\u001b[0m\u001b[0;36m128\u001b[0m\u001b[0;34m)\u001b[0m\u001b[0;34m,\u001b[0m\u001b[0;34m\u001b[0m\u001b[0m\n\u001b[0;32m---> 16\u001b[0;31m         validation_steps=len(x_ts)/128,verbose=0)\n\u001b[0m\u001b[1;32m     17\u001b[0m   \u001b[0ma\u001b[0m\u001b[0;34m[\u001b[0m\u001b[0;34m\"{}\"\u001b[0m\u001b[0;34m.\u001b[0m\u001b[0mformat\u001b[0m\u001b[0;34m(\u001b[0m\u001b[0mi\u001b[0m\u001b[0;34m)\u001b[0m\u001b[0;34m]\u001b[0m\u001b[0;34m=\u001b[0m\u001b[0mSimpleNet_history\u001b[0m\u001b[0;34m.\u001b[0m\u001b[0mhistory\u001b[0m\u001b[0;34m\u001b[0m\u001b[0m\n\u001b[1;32m     18\u001b[0m   \u001b[0mprint\u001b[0m\u001b[0;34m(\u001b[0m\u001b[0;34m\"end i batch size model\"\u001b[0m\u001b[0;34m)\u001b[0m\u001b[0;34m\u001b[0m\u001b[0m\n",
            "\u001b[0;32m/usr/local/lib/python3.6/dist-packages/keras/legacy/interfaces.py\u001b[0m in \u001b[0;36mwrapper\u001b[0;34m(*args, **kwargs)\u001b[0m\n\u001b[1;32m     89\u001b[0m                 warnings.warn('Update your `' + object_name +\n\u001b[1;32m     90\u001b[0m                               '` call to the Keras 2 API: ' + signature, stacklevel=2)\n\u001b[0;32m---> 91\u001b[0;31m             \u001b[0;32mreturn\u001b[0m \u001b[0mfunc\u001b[0m\u001b[0;34m(\u001b[0m\u001b[0;34m*\u001b[0m\u001b[0margs\u001b[0m\u001b[0;34m,\u001b[0m \u001b[0;34m**\u001b[0m\u001b[0mkwargs\u001b[0m\u001b[0;34m)\u001b[0m\u001b[0;34m\u001b[0m\u001b[0m\n\u001b[0m\u001b[1;32m     92\u001b[0m         \u001b[0mwrapper\u001b[0m\u001b[0;34m.\u001b[0m\u001b[0m_original_function\u001b[0m \u001b[0;34m=\u001b[0m \u001b[0mfunc\u001b[0m\u001b[0;34m\u001b[0m\u001b[0m\n\u001b[1;32m     93\u001b[0m         \u001b[0;32mreturn\u001b[0m \u001b[0mwrapper\u001b[0m\u001b[0;34m\u001b[0m\u001b[0m\n",
            "\u001b[0;32m/usr/local/lib/python3.6/dist-packages/keras/models.py\u001b[0m in \u001b[0;36mfit_generator\u001b[0;34m(self, generator, steps_per_epoch, epochs, verbose, callbacks, validation_data, validation_steps, class_weight, max_queue_size, workers, use_multiprocessing, shuffle, initial_epoch)\u001b[0m\n\u001b[1;32m   1313\u001b[0m                                         \u001b[0muse_multiprocessing\u001b[0m\u001b[0;34m=\u001b[0m\u001b[0muse_multiprocessing\u001b[0m\u001b[0;34m,\u001b[0m\u001b[0;34m\u001b[0m\u001b[0m\n\u001b[1;32m   1314\u001b[0m                                         \u001b[0mshuffle\u001b[0m\u001b[0;34m=\u001b[0m\u001b[0mshuffle\u001b[0m\u001b[0;34m,\u001b[0m\u001b[0;34m\u001b[0m\u001b[0m\n\u001b[0;32m-> 1315\u001b[0;31m                                         initial_epoch=initial_epoch)\n\u001b[0m\u001b[1;32m   1316\u001b[0m \u001b[0;34m\u001b[0m\u001b[0m\n\u001b[1;32m   1317\u001b[0m     \u001b[0;34m@\u001b[0m\u001b[0minterfaces\u001b[0m\u001b[0;34m.\u001b[0m\u001b[0mlegacy_generator_methods_support\u001b[0m\u001b[0;34m\u001b[0m\u001b[0m\n",
            "\u001b[0;32m/usr/local/lib/python3.6/dist-packages/keras/legacy/interfaces.py\u001b[0m in \u001b[0;36mwrapper\u001b[0;34m(*args, **kwargs)\u001b[0m\n\u001b[1;32m     89\u001b[0m                 warnings.warn('Update your `' + object_name +\n\u001b[1;32m     90\u001b[0m                               '` call to the Keras 2 API: ' + signature, stacklevel=2)\n\u001b[0;32m---> 91\u001b[0;31m             \u001b[0;32mreturn\u001b[0m \u001b[0mfunc\u001b[0m\u001b[0;34m(\u001b[0m\u001b[0;34m*\u001b[0m\u001b[0margs\u001b[0m\u001b[0;34m,\u001b[0m \u001b[0;34m**\u001b[0m\u001b[0mkwargs\u001b[0m\u001b[0;34m)\u001b[0m\u001b[0;34m\u001b[0m\u001b[0m\n\u001b[0m\u001b[1;32m     92\u001b[0m         \u001b[0mwrapper\u001b[0m\u001b[0;34m.\u001b[0m\u001b[0m_original_function\u001b[0m \u001b[0;34m=\u001b[0m \u001b[0mfunc\u001b[0m\u001b[0;34m\u001b[0m\u001b[0m\n\u001b[1;32m     93\u001b[0m         \u001b[0;32mreturn\u001b[0m \u001b[0mwrapper\u001b[0m\u001b[0;34m\u001b[0m\u001b[0m\n",
            "\u001b[0;32m/usr/local/lib/python3.6/dist-packages/keras/engine/training.py\u001b[0m in \u001b[0;36mfit_generator\u001b[0;34m(self, generator, steps_per_epoch, epochs, verbose, callbacks, validation_data, validation_steps, class_weight, max_queue_size, workers, use_multiprocessing, shuffle, initial_epoch)\u001b[0m\n\u001b[1;32m   2078\u001b[0m \u001b[0;34m\u001b[0m\u001b[0m\n\u001b[1;32m   2079\u001b[0m         \u001b[0mdo_validation\u001b[0m \u001b[0;34m=\u001b[0m \u001b[0mbool\u001b[0m\u001b[0;34m(\u001b[0m\u001b[0mvalidation_data\u001b[0m\u001b[0;34m)\u001b[0m\u001b[0;34m\u001b[0m\u001b[0m\n\u001b[0;32m-> 2080\u001b[0;31m         \u001b[0mself\u001b[0m\u001b[0;34m.\u001b[0m\u001b[0m_make_train_function\u001b[0m\u001b[0;34m(\u001b[0m\u001b[0;34m)\u001b[0m\u001b[0;34m\u001b[0m\u001b[0m\n\u001b[0m\u001b[1;32m   2081\u001b[0m         \u001b[0;32mif\u001b[0m \u001b[0mdo_validation\u001b[0m\u001b[0;34m:\u001b[0m\u001b[0;34m\u001b[0m\u001b[0m\n\u001b[1;32m   2082\u001b[0m             \u001b[0mself\u001b[0m\u001b[0;34m.\u001b[0m\u001b[0m_make_test_function\u001b[0m\u001b[0;34m(\u001b[0m\u001b[0;34m)\u001b[0m\u001b[0;34m\u001b[0m\u001b[0m\n",
            "\u001b[0;32m/usr/local/lib/python3.6/dist-packages/keras/engine/training.py\u001b[0m in \u001b[0;36m_make_train_function\u001b[0;34m(self)\u001b[0m\n\u001b[1;32m    990\u001b[0m                     training_updates = self.optimizer.get_updates(\n\u001b[1;32m    991\u001b[0m                         \u001b[0mparams\u001b[0m\u001b[0;34m=\u001b[0m\u001b[0mself\u001b[0m\u001b[0;34m.\u001b[0m\u001b[0m_collected_trainable_weights\u001b[0m\u001b[0;34m,\u001b[0m\u001b[0;34m\u001b[0m\u001b[0m\n\u001b[0;32m--> 992\u001b[0;31m                         loss=self.total_loss)\n\u001b[0m\u001b[1;32m    993\u001b[0m                 \u001b[0mupdates\u001b[0m \u001b[0;34m=\u001b[0m \u001b[0mself\u001b[0m\u001b[0;34m.\u001b[0m\u001b[0mupdates\u001b[0m \u001b[0;34m+\u001b[0m \u001b[0mtraining_updates\u001b[0m \u001b[0;34m+\u001b[0m \u001b[0mself\u001b[0m\u001b[0;34m.\u001b[0m\u001b[0mmetrics_updates\u001b[0m\u001b[0;34m\u001b[0m\u001b[0m\n\u001b[1;32m    994\u001b[0m                 \u001b[0;31m# Gets loss and metrics. Updates weights at each call.\u001b[0m\u001b[0;34m\u001b[0m\u001b[0;34m\u001b[0m\u001b[0m\n",
            "\u001b[0;32m/usr/local/lib/python3.6/dist-packages/keras/legacy/interfaces.py\u001b[0m in \u001b[0;36mwrapper\u001b[0;34m(*args, **kwargs)\u001b[0m\n\u001b[1;32m     89\u001b[0m                 warnings.warn('Update your `' + object_name +\n\u001b[1;32m     90\u001b[0m                               '` call to the Keras 2 API: ' + signature, stacklevel=2)\n\u001b[0;32m---> 91\u001b[0;31m             \u001b[0;32mreturn\u001b[0m \u001b[0mfunc\u001b[0m\u001b[0;34m(\u001b[0m\u001b[0;34m*\u001b[0m\u001b[0margs\u001b[0m\u001b[0;34m,\u001b[0m \u001b[0;34m**\u001b[0m\u001b[0mkwargs\u001b[0m\u001b[0;34m)\u001b[0m\u001b[0;34m\u001b[0m\u001b[0m\n\u001b[0m\u001b[1;32m     92\u001b[0m         \u001b[0mwrapper\u001b[0m\u001b[0;34m.\u001b[0m\u001b[0m_original_function\u001b[0m \u001b[0;34m=\u001b[0m \u001b[0mfunc\u001b[0m\u001b[0;34m\u001b[0m\u001b[0m\n\u001b[1;32m     93\u001b[0m         \u001b[0;32mreturn\u001b[0m \u001b[0mwrapper\u001b[0m\u001b[0;34m\u001b[0m\u001b[0m\n",
            "\u001b[0;32m/usr/local/lib/python3.6/dist-packages/keras/optimizers.py\u001b[0m in \u001b[0;36mget_updates\u001b[0;34m(self, loss, params)\u001b[0m\n\u001b[1;32m    365\u001b[0m     \u001b[0;34m@\u001b[0m\u001b[0minterfaces\u001b[0m\u001b[0;34m.\u001b[0m\u001b[0mlegacy_get_updates_support\u001b[0m\u001b[0;34m\u001b[0m\u001b[0m\n\u001b[1;32m    366\u001b[0m     \u001b[0;32mdef\u001b[0m \u001b[0mget_updates\u001b[0m\u001b[0;34m(\u001b[0m\u001b[0mself\u001b[0m\u001b[0;34m,\u001b[0m \u001b[0mloss\u001b[0m\u001b[0;34m,\u001b[0m \u001b[0mparams\u001b[0m\u001b[0;34m)\u001b[0m\u001b[0;34m:\u001b[0m\u001b[0;34m\u001b[0m\u001b[0m\n\u001b[0;32m--> 367\u001b[0;31m         \u001b[0mgrads\u001b[0m \u001b[0;34m=\u001b[0m \u001b[0mself\u001b[0m\u001b[0;34m.\u001b[0m\u001b[0mget_gradients\u001b[0m\u001b[0;34m(\u001b[0m\u001b[0mloss\u001b[0m\u001b[0;34m,\u001b[0m \u001b[0mparams\u001b[0m\u001b[0;34m)\u001b[0m\u001b[0;34m\u001b[0m\u001b[0m\n\u001b[0m\u001b[1;32m    368\u001b[0m         \u001b[0mshapes\u001b[0m \u001b[0;34m=\u001b[0m \u001b[0;34m[\u001b[0m\u001b[0mK\u001b[0m\u001b[0;34m.\u001b[0m\u001b[0mint_shape\u001b[0m\u001b[0;34m(\u001b[0m\u001b[0mp\u001b[0m\u001b[0;34m)\u001b[0m \u001b[0;32mfor\u001b[0m \u001b[0mp\u001b[0m \u001b[0;32min\u001b[0m \u001b[0mparams\u001b[0m\u001b[0;34m]\u001b[0m\u001b[0;34m\u001b[0m\u001b[0m\n\u001b[1;32m    369\u001b[0m         \u001b[0maccumulators\u001b[0m \u001b[0;34m=\u001b[0m \u001b[0;34m[\u001b[0m\u001b[0mK\u001b[0m\u001b[0;34m.\u001b[0m\u001b[0mzeros\u001b[0m\u001b[0;34m(\u001b[0m\u001b[0mshape\u001b[0m\u001b[0;34m)\u001b[0m \u001b[0;32mfor\u001b[0m \u001b[0mshape\u001b[0m \u001b[0;32min\u001b[0m \u001b[0mshapes\u001b[0m\u001b[0;34m]\u001b[0m\u001b[0;34m\u001b[0m\u001b[0m\n",
            "\u001b[0;32m/usr/local/lib/python3.6/dist-packages/keras/optimizers.py\u001b[0m in \u001b[0;36mget_gradients\u001b[0;34m(self, loss, params)\u001b[0m\n\u001b[1;32m     76\u001b[0m \u001b[0;34m\u001b[0m\u001b[0m\n\u001b[1;32m     77\u001b[0m     \u001b[0;32mdef\u001b[0m \u001b[0mget_gradients\u001b[0m\u001b[0;34m(\u001b[0m\u001b[0mself\u001b[0m\u001b[0;34m,\u001b[0m \u001b[0mloss\u001b[0m\u001b[0;34m,\u001b[0m \u001b[0mparams\u001b[0m\u001b[0;34m)\u001b[0m\u001b[0;34m:\u001b[0m\u001b[0;34m\u001b[0m\u001b[0m\n\u001b[0;32m---> 78\u001b[0;31m         \u001b[0mgrads\u001b[0m \u001b[0;34m=\u001b[0m \u001b[0mK\u001b[0m\u001b[0;34m.\u001b[0m\u001b[0mgradients\u001b[0m\u001b[0;34m(\u001b[0m\u001b[0mloss\u001b[0m\u001b[0;34m,\u001b[0m \u001b[0mparams\u001b[0m\u001b[0;34m)\u001b[0m\u001b[0;34m\u001b[0m\u001b[0m\n\u001b[0m\u001b[1;32m     79\u001b[0m         \u001b[0;32mif\u001b[0m \u001b[0;32mNone\u001b[0m \u001b[0;32min\u001b[0m \u001b[0mgrads\u001b[0m\u001b[0;34m:\u001b[0m\u001b[0;34m\u001b[0m\u001b[0m\n\u001b[1;32m     80\u001b[0m             raise ValueError('An operation has `None` for gradient. '\n",
            "\u001b[0;32m/usr/local/lib/python3.6/dist-packages/keras/backend/tensorflow_backend.py\u001b[0m in \u001b[0;36mgradients\u001b[0;34m(loss, variables)\u001b[0m\n\u001b[1;32m   2517\u001b[0m         \u001b[0mA\u001b[0m \u001b[0mgradients\u001b[0m \u001b[0mtensor\u001b[0m\u001b[0;34m.\u001b[0m\u001b[0;34m\u001b[0m\u001b[0m\n\u001b[1;32m   2518\u001b[0m     \"\"\"\n\u001b[0;32m-> 2519\u001b[0;31m     \u001b[0;32mreturn\u001b[0m \u001b[0mtf\u001b[0m\u001b[0;34m.\u001b[0m\u001b[0mgradients\u001b[0m\u001b[0;34m(\u001b[0m\u001b[0mloss\u001b[0m\u001b[0;34m,\u001b[0m \u001b[0mvariables\u001b[0m\u001b[0;34m,\u001b[0m \u001b[0mcolocate_gradients_with_ops\u001b[0m\u001b[0;34m=\u001b[0m\u001b[0;32mTrue\u001b[0m\u001b[0;34m)\u001b[0m\u001b[0;34m\u001b[0m\u001b[0m\n\u001b[0m\u001b[1;32m   2520\u001b[0m \u001b[0;34m\u001b[0m\u001b[0m\n\u001b[1;32m   2521\u001b[0m \u001b[0;34m\u001b[0m\u001b[0m\n",
            "\u001b[0;32m/usr/local/lib/python3.6/dist-packages/tensorflow/python/ops/gradients_impl.py\u001b[0m in \u001b[0;36mgradients\u001b[0;34m(ys, xs, grad_ys, name, colocate_gradients_with_ops, gate_gradients, aggregation_method, stop_gradients)\u001b[0m\n\u001b[1;32m    530\u001b[0m   \u001b[0;32mwith\u001b[0m \u001b[0mops\u001b[0m\u001b[0;34m.\u001b[0m\u001b[0mget_default_graph\u001b[0m\u001b[0;34m(\u001b[0m\u001b[0;34m)\u001b[0m\u001b[0;34m.\u001b[0m\u001b[0m_lock\u001b[0m\u001b[0;34m:\u001b[0m  \u001b[0;31m# pylint: disable=protected-access\u001b[0m\u001b[0;34m\u001b[0m\u001b[0m\n\u001b[1;32m    531\u001b[0m     return _GradientsHelper(ys, xs, grad_ys, name, colocate_gradients_with_ops,\n\u001b[0;32m--> 532\u001b[0;31m                             gate_gradients, aggregation_method, stop_gradients)\n\u001b[0m\u001b[1;32m    533\u001b[0m \u001b[0;34m\u001b[0m\u001b[0m\n\u001b[1;32m    534\u001b[0m \u001b[0;34m\u001b[0m\u001b[0m\n",
            "\u001b[0;32m/usr/local/lib/python3.6/dist-packages/tensorflow/python/ops/gradients_impl.py\u001b[0m in \u001b[0;36m_GradientsHelper\u001b[0;34m(ys, xs, grad_ys, name, colocate_gradients_with_ops, gate_gradients, aggregation_method, stop_gradients, src_graph)\u001b[0m\n\u001b[1;32m    699\u001b[0m                 \u001b[0;31m# functions.\u001b[0m\u001b[0;34m\u001b[0m\u001b[0;34m\u001b[0m\u001b[0m\n\u001b[1;32m    700\u001b[0m                 in_grads = _MaybeCompile(grad_scope, op, func_call,\n\u001b[0;32m--> 701\u001b[0;31m                                          lambda: grad_fn(op, *out_grads))\n\u001b[0m\u001b[1;32m    702\u001b[0m               \u001b[0;32melse\u001b[0m\u001b[0;34m:\u001b[0m\u001b[0;34m\u001b[0m\u001b[0m\n\u001b[1;32m    703\u001b[0m                 \u001b[0;31m# For function call ops, we add a 'SymbolicGradient'\u001b[0m\u001b[0;34m\u001b[0m\u001b[0;34m\u001b[0m\u001b[0m\n",
            "\u001b[0;32m/usr/local/lib/python3.6/dist-packages/tensorflow/python/ops/gradients_impl.py\u001b[0m in \u001b[0;36m_MaybeCompile\u001b[0;34m(scope, op, func, grad_fn)\u001b[0m\n\u001b[1;32m    394\u001b[0m       \u001b[0mxla_scope\u001b[0m \u001b[0;34m=\u001b[0m \u001b[0mop\u001b[0m\u001b[0;34m.\u001b[0m\u001b[0mget_attr\u001b[0m\u001b[0;34m(\u001b[0m\u001b[0;34m\"_XlaScope\"\u001b[0m\u001b[0;34m)\u001b[0m\u001b[0;34m.\u001b[0m\u001b[0mdecode\u001b[0m\u001b[0;34m(\u001b[0m\u001b[0;34m)\u001b[0m\u001b[0;34m\u001b[0m\u001b[0m\n\u001b[1;32m    395\u001b[0m     \u001b[0;32mexcept\u001b[0m \u001b[0mValueError\u001b[0m\u001b[0;34m:\u001b[0m\u001b[0;34m\u001b[0m\u001b[0m\n\u001b[0;32m--> 396\u001b[0;31m       \u001b[0;32mreturn\u001b[0m \u001b[0mgrad_fn\u001b[0m\u001b[0;34m(\u001b[0m\u001b[0;34m)\u001b[0m  \u001b[0;31m# Exit early\u001b[0m\u001b[0;34m\u001b[0m\u001b[0m\n\u001b[0m\u001b[1;32m    397\u001b[0m \u001b[0;34m\u001b[0m\u001b[0m\n\u001b[1;32m    398\u001b[0m   \u001b[0;32mif\u001b[0m \u001b[0;32mnot\u001b[0m \u001b[0mxla_compile\u001b[0m\u001b[0;34m:\u001b[0m\u001b[0;34m\u001b[0m\u001b[0m\n",
            "\u001b[0;32m/usr/local/lib/python3.6/dist-packages/tensorflow/python/ops/gradients_impl.py\u001b[0m in \u001b[0;36m<lambda>\u001b[0;34m()\u001b[0m\n\u001b[1;32m    699\u001b[0m                 \u001b[0;31m# functions.\u001b[0m\u001b[0;34m\u001b[0m\u001b[0;34m\u001b[0m\u001b[0m\n\u001b[1;32m    700\u001b[0m                 in_grads = _MaybeCompile(grad_scope, op, func_call,\n\u001b[0;32m--> 701\u001b[0;31m                                          lambda: grad_fn(op, *out_grads))\n\u001b[0m\u001b[1;32m    702\u001b[0m               \u001b[0;32melse\u001b[0m\u001b[0;34m:\u001b[0m\u001b[0;34m\u001b[0m\u001b[0m\n\u001b[1;32m    703\u001b[0m                 \u001b[0;31m# For function call ops, we add a 'SymbolicGradient'\u001b[0m\u001b[0;34m\u001b[0m\u001b[0;34m\u001b[0m\u001b[0m\n",
            "\u001b[0;32m/usr/local/lib/python3.6/dist-packages/tensorflow/python/ops/math_grad.py\u001b[0m in \u001b[0;36m_MulGrad\u001b[0;34m(op, grad)\u001b[0m\n\u001b[1;32m    878\u001b[0m   \u001b[0my\u001b[0m \u001b[0;34m=\u001b[0m \u001b[0mmath_ops\u001b[0m\u001b[0;34m.\u001b[0m\u001b[0mconj\u001b[0m\u001b[0;34m(\u001b[0m\u001b[0my\u001b[0m\u001b[0;34m)\u001b[0m\u001b[0;34m\u001b[0m\u001b[0m\n\u001b[1;32m    879\u001b[0m   return (array_ops.reshape(\n\u001b[0;32m--> 880\u001b[0;31m       math_ops.reduce_sum(gen_math_ops.mul(grad, y), rx), sx),\n\u001b[0m\u001b[1;32m    881\u001b[0m           array_ops.reshape(\n\u001b[1;32m    882\u001b[0m               math_ops.reduce_sum(gen_math_ops.mul(x, grad), ry), sy))\n",
            "\u001b[0;32m/usr/local/lib/python3.6/dist-packages/tensorflow/python/util/deprecation.py\u001b[0m in \u001b[0;36mnew_func\u001b[0;34m(*args, **kwargs)\u001b[0m\n\u001b[1;32m    430\u001b[0m                 \u001b[0;34m'in a future version'\u001b[0m \u001b[0;32mif\u001b[0m \u001b[0mdate\u001b[0m \u001b[0;32mis\u001b[0m \u001b[0;32mNone\u001b[0m \u001b[0;32melse\u001b[0m \u001b[0;34m(\u001b[0m\u001b[0;34m'after %s'\u001b[0m \u001b[0;34m%\u001b[0m \u001b[0mdate\u001b[0m\u001b[0;34m)\u001b[0m\u001b[0;34m,\u001b[0m\u001b[0;34m\u001b[0m\u001b[0m\n\u001b[1;32m    431\u001b[0m                 instructions)\n\u001b[0;32m--> 432\u001b[0;31m       \u001b[0;32mreturn\u001b[0m \u001b[0mfunc\u001b[0m\u001b[0;34m(\u001b[0m\u001b[0;34m*\u001b[0m\u001b[0margs\u001b[0m\u001b[0;34m,\u001b[0m \u001b[0;34m**\u001b[0m\u001b[0mkwargs\u001b[0m\u001b[0;34m)\u001b[0m\u001b[0;34m\u001b[0m\u001b[0m\n\u001b[0m\u001b[1;32m    433\u001b[0m     return tf_decorator.make_decorator(func, new_func, 'deprecated',\n\u001b[1;32m    434\u001b[0m                                        _add_deprecated_arg_notice_to_docstring(\n",
            "\u001b[0;32m/usr/local/lib/python3.6/dist-packages/tensorflow/python/ops/math_ops.py\u001b[0m in \u001b[0;36mreduce_sum\u001b[0;34m(input_tensor, axis, keepdims, name, reduction_indices, keep_dims)\u001b[0m\n\u001b[1;32m   1301\u001b[0m                                                   reduction_indices),\n\u001b[1;32m   1302\u001b[0m                                    \u001b[0mkeepdims\u001b[0m\u001b[0;34m,\u001b[0m\u001b[0;34m\u001b[0m\u001b[0m\n\u001b[0;32m-> 1303\u001b[0;31m                                    name=name))\n\u001b[0m\u001b[1;32m   1304\u001b[0m \u001b[0;34m\u001b[0m\u001b[0m\n\u001b[1;32m   1305\u001b[0m \u001b[0;34m\u001b[0m\u001b[0m\n",
            "\u001b[0;32m/usr/local/lib/python3.6/dist-packages/tensorflow/python/ops/gen_math_ops.py\u001b[0m in \u001b[0;36m_sum\u001b[0;34m(input, axis, keep_dims, name)\u001b[0m\n\u001b[1;32m   8078\u001b[0m     _, _, _op = _op_def_lib._apply_op_helper(\n\u001b[1;32m   8079\u001b[0m         \u001b[0;34m\"Sum\"\u001b[0m\u001b[0;34m,\u001b[0m \u001b[0minput\u001b[0m\u001b[0;34m=\u001b[0m\u001b[0minput\u001b[0m\u001b[0;34m,\u001b[0m \u001b[0mreduction_indices\u001b[0m\u001b[0;34m=\u001b[0m\u001b[0maxis\u001b[0m\u001b[0;34m,\u001b[0m \u001b[0mkeep_dims\u001b[0m\u001b[0;34m=\u001b[0m\u001b[0mkeep_dims\u001b[0m\u001b[0;34m,\u001b[0m\u001b[0;34m\u001b[0m\u001b[0m\n\u001b[0;32m-> 8080\u001b[0;31m         name=name)\n\u001b[0m\u001b[1;32m   8081\u001b[0m     \u001b[0m_result\u001b[0m \u001b[0;34m=\u001b[0m \u001b[0m_op\u001b[0m\u001b[0;34m.\u001b[0m\u001b[0moutputs\u001b[0m\u001b[0;34m[\u001b[0m\u001b[0;34m:\u001b[0m\u001b[0;34m]\u001b[0m\u001b[0;34m\u001b[0m\u001b[0m\n\u001b[1;32m   8082\u001b[0m     \u001b[0m_inputs_flat\u001b[0m \u001b[0;34m=\u001b[0m \u001b[0m_op\u001b[0m\u001b[0;34m.\u001b[0m\u001b[0minputs\u001b[0m\u001b[0;34m\u001b[0m\u001b[0m\n",
            "\u001b[0;32m/usr/local/lib/python3.6/dist-packages/tensorflow/python/framework/op_def_library.py\u001b[0m in \u001b[0;36m_apply_op_helper\u001b[0;34m(self, op_type_name, name, **keywords)\u001b[0m\n\u001b[1;32m    785\u001b[0m         op = g.create_op(op_type_name, inputs, output_types, name=scope,\n\u001b[1;32m    786\u001b[0m                          \u001b[0minput_types\u001b[0m\u001b[0;34m=\u001b[0m\u001b[0minput_types\u001b[0m\u001b[0;34m,\u001b[0m \u001b[0mattrs\u001b[0m\u001b[0;34m=\u001b[0m\u001b[0mattr_protos\u001b[0m\u001b[0;34m,\u001b[0m\u001b[0;34m\u001b[0m\u001b[0m\n\u001b[0;32m--> 787\u001b[0;31m                          op_def=op_def)\n\u001b[0m\u001b[1;32m    788\u001b[0m       \u001b[0;32mreturn\u001b[0m \u001b[0moutput_structure\u001b[0m\u001b[0;34m,\u001b[0m \u001b[0mop_def\u001b[0m\u001b[0;34m.\u001b[0m\u001b[0mis_stateful\u001b[0m\u001b[0;34m,\u001b[0m \u001b[0mop\u001b[0m\u001b[0;34m\u001b[0m\u001b[0m\n\u001b[1;32m    789\u001b[0m \u001b[0;34m\u001b[0m\u001b[0m\n",
            "\u001b[0;32m/usr/local/lib/python3.6/dist-packages/tensorflow/python/framework/ops.py\u001b[0m in \u001b[0;36mcreate_op\u001b[0;34m(self, op_type, inputs, dtypes, input_types, name, attrs, op_def, compute_shapes, compute_device)\u001b[0m\n\u001b[1;32m   3412\u001b[0m           \u001b[0minput_types\u001b[0m\u001b[0;34m=\u001b[0m\u001b[0minput_types\u001b[0m\u001b[0;34m,\u001b[0m\u001b[0;34m\u001b[0m\u001b[0m\n\u001b[1;32m   3413\u001b[0m           \u001b[0moriginal_op\u001b[0m\u001b[0;34m=\u001b[0m\u001b[0mself\u001b[0m\u001b[0;34m.\u001b[0m\u001b[0m_default_original_op\u001b[0m\u001b[0;34m,\u001b[0m\u001b[0;34m\u001b[0m\u001b[0m\n\u001b[0;32m-> 3414\u001b[0;31m           op_def=op_def)\n\u001b[0m\u001b[1;32m   3415\u001b[0m \u001b[0;34m\u001b[0m\u001b[0m\n\u001b[1;32m   3416\u001b[0m       \u001b[0;31m# Note: shapes are lazily computed with the C API enabled.\u001b[0m\u001b[0;34m\u001b[0m\u001b[0;34m\u001b[0m\u001b[0m\n",
            "\u001b[0;32m/usr/local/lib/python3.6/dist-packages/tensorflow/python/framework/ops.py\u001b[0m in \u001b[0;36m__init__\u001b[0;34m(self, node_def, g, inputs, output_types, control_inputs, input_types, original_op, op_def)\u001b[0m\n\u001b[1;32m   1754\u001b[0m           op_def, inputs, node_def.attr)\n\u001b[1;32m   1755\u001b[0m       self._c_op = _create_c_op(self._graph, node_def, grouped_inputs,\n\u001b[0;32m-> 1756\u001b[0;31m                                 control_input_ops)\n\u001b[0m\u001b[1;32m   1757\u001b[0m     \u001b[0;32melse\u001b[0m\u001b[0;34m:\u001b[0m\u001b[0;34m\u001b[0m\u001b[0m\n\u001b[1;32m   1758\u001b[0m       \u001b[0mself\u001b[0m\u001b[0;34m.\u001b[0m\u001b[0m_c_op\u001b[0m \u001b[0;34m=\u001b[0m \u001b[0;32mNone\u001b[0m\u001b[0;34m\u001b[0m\u001b[0m\n",
            "\u001b[0;32m/usr/local/lib/python3.6/dist-packages/tensorflow/python/framework/ops.py\u001b[0m in \u001b[0;36m_create_c_op\u001b[0;34m(graph, node_def, inputs, control_inputs)\u001b[0m\n\u001b[1;32m   1584\u001b[0m     \u001b[0;31m# TODO(skyewm): this creates and deletes a new TF_Status for every attr.\u001b[0m\u001b[0;34m\u001b[0m\u001b[0;34m\u001b[0m\u001b[0m\n\u001b[1;32m   1585\u001b[0m     \u001b[0;31m# It might be worth creating a convenient way to re-use the same status.\u001b[0m\u001b[0;34m\u001b[0m\u001b[0;34m\u001b[0m\u001b[0m\n\u001b[0;32m-> 1586\u001b[0;31m     \u001b[0mc_api\u001b[0m\u001b[0;34m.\u001b[0m\u001b[0mTF_SetAttrValueProto\u001b[0m\u001b[0;34m(\u001b[0m\u001b[0mop_desc\u001b[0m\u001b[0;34m,\u001b[0m \u001b[0mcompat\u001b[0m\u001b[0;34m.\u001b[0m\u001b[0mas_str\u001b[0m\u001b[0;34m(\u001b[0m\u001b[0mname\u001b[0m\u001b[0;34m)\u001b[0m\u001b[0;34m,\u001b[0m \u001b[0mserialized\u001b[0m\u001b[0;34m)\u001b[0m\u001b[0;34m\u001b[0m\u001b[0m\n\u001b[0m\u001b[1;32m   1587\u001b[0m \u001b[0;34m\u001b[0m\u001b[0m\n\u001b[1;32m   1588\u001b[0m   \u001b[0;32mtry\u001b[0m\u001b[0;34m:\u001b[0m\u001b[0;34m\u001b[0m\u001b[0m\n",
            "\u001b[0;31mKeyboardInterrupt\u001b[0m: "
          ]
        }
      ]
    },
    {
      "metadata": {
        "id": "-6_XSnBfi1c2",
        "colab_type": "code",
        "colab": {
          "autoexec": {
            "startup": false,
            "wait_interval": 0
          }
        }
      },
      "cell_type": "code",
      "source": [
        ""
      ],
      "execution_count": 0,
      "outputs": []
    }
  ]
}